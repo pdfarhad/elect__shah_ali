{
 "cells": [
  {
   "cell_type": "code",
   "execution_count": 1,
   "metadata": {
    "collapsed": false
   },
   "outputs": [
    {
     "name": "stdout",
     "output_type": "stream",
     "text": [
      "3.5.2 |Anaconda 4.2.0 (x86_64)| (default, Jul  2 2016, 17:52:12) \n",
      "[GCC 4.2.1 Compatible Apple LLVM 4.2 (clang-425.0.28)]\n"
     ]
    }
   ],
   "source": [
    "import sys\n",
    "print(sys.version)\n",
    "import pandas as pd \n",
    "import numpy as np\n",
    "import matplotlib.pyplot as plt\n",
    "\n"
   ]
  },
  {
   "cell_type": "code",
   "execution_count": 13,
   "metadata": {
    "collapsed": false
   },
   "outputs": [
    {
     "data": {
      "text/html": [
       "<div>\n",
       "<table border=\"1\" class=\"dataframe\">\n",
       "  <thead>\n",
       "    <tr style=\"text-align: right;\">\n",
       "      <th></th>\n",
       "      <th>ACCOUNT_NO</th>\n",
       "      <th>METER_NO</th>\n",
       "      <th>BILLING_ZONE</th>\n",
       "      <th>BLOCK_BILL</th>\n",
       "      <th>ROUTE_NUMBER</th>\n",
       "      <th>NAME</th>\n",
       "      <th>ADDRESS</th>\n",
       "      <th>LOAD</th>\n",
       "      <th>SANCTION_TARIFF</th>\n",
       "      <th>UNIT_JAN2010</th>\n",
       "      <th>...</th>\n",
       "      <th>UNIT_MAY2016</th>\n",
       "      <th>READING_DATE_MAY2016</th>\n",
       "      <th>UNIT_JUN2016</th>\n",
       "      <th>READING_DATE_JUN2016</th>\n",
       "      <th>UNIT_JULY2016</th>\n",
       "      <th>READING_DATE_JULY2016</th>\n",
       "      <th>UNIT_AUG2016</th>\n",
       "      <th>READING_DATE_AUG2016</th>\n",
       "      <th>UNIT_SEPT2016</th>\n",
       "      <th>READING_DATE_SEPT2016</th>\n",
       "    </tr>\n",
       "  </thead>\n",
       "  <tbody>\n",
       "    <tr>\n",
       "      <th>0</th>\n",
       "      <td>23211011</td>\n",
       "      <td>12659411/12</td>\n",
       "      <td>EA</td>\n",
       "      <td>A01</td>\n",
       "      <td>20.0</td>\n",
       "      <td>MANAGER GTPS 80 MW  TONGI MALOTI GR</td>\n",
       "      <td>GTPS 80 MW TONGI,</td>\n",
       "      <td>2</td>\n",
       "      <td>A</td>\n",
       "      <td>113.0</td>\n",
       "      <td>...</td>\n",
       "      <td>227.0</td>\n",
       "      <td>05/05/2016</td>\n",
       "      <td>198.0</td>\n",
       "      <td>04/06/2016</td>\n",
       "      <td>403.0</td>\n",
       "      <td>01/07/2016</td>\n",
       "      <td>506.0</td>\n",
       "      <td>05/08/2016</td>\n",
       "      <td>628</td>\n",
       "      <td>04/09/2016</td>\n",
       "    </tr>\n",
       "    <tr>\n",
       "      <th>1</th>\n",
       "      <td>23211551</td>\n",
       "      <td>12659211/12</td>\n",
       "      <td>EA</td>\n",
       "      <td>A01</td>\n",
       "      <td>30.0</td>\n",
       "      <td>P.D-80 MW GTPS</td>\n",
       "      <td>800,SFT MALOTI GR FLOOR WEST TONGI,</td>\n",
       "      <td>2</td>\n",
       "      <td>A</td>\n",
       "      <td>218.0</td>\n",
       "      <td>...</td>\n",
       "      <td>145.0</td>\n",
       "      <td>05/05/2016</td>\n",
       "      <td>118.0</td>\n",
       "      <td>04/06/2016</td>\n",
       "      <td>137.0</td>\n",
       "      <td>01/07/2016</td>\n",
       "      <td>195.0</td>\n",
       "      <td>05/08/2016</td>\n",
       "      <td>134</td>\n",
       "      <td>04/09/2016</td>\n",
       "    </tr>\n",
       "    <tr>\n",
       "      <th>2</th>\n",
       "      <td>23211541</td>\n",
       "      <td>10654706/12</td>\n",
       "      <td>EA</td>\n",
       "      <td>A01</td>\n",
       "      <td>40.0</td>\n",
       "      <td>P.D-80 MW GTPS</td>\n",
       "      <td>800,SFT MALOTI FIRST FLOOR EAST, TO</td>\n",
       "      <td>2</td>\n",
       "      <td>A</td>\n",
       "      <td>22.0</td>\n",
       "      <td>...</td>\n",
       "      <td>155.0</td>\n",
       "      <td>05/05/2016</td>\n",
       "      <td>146.0</td>\n",
       "      <td>04/06/2016</td>\n",
       "      <td>125.0</td>\n",
       "      <td>01/07/2016</td>\n",
       "      <td>176.0</td>\n",
       "      <td>05/08/2016</td>\n",
       "      <td>131</td>\n",
       "      <td>04/09/2016</td>\n",
       "    </tr>\n",
       "    <tr>\n",
       "      <th>3</th>\n",
       "      <td>23211001</td>\n",
       "      <td>12660011/12</td>\n",
       "      <td>EA</td>\n",
       "      <td>A01</td>\n",
       "      <td>50.0</td>\n",
       "      <td>MANAGER GTPS 80 MW  TONGI MALOTI FI</td>\n",
       "      <td>GTPS 80 MW TONGI,</td>\n",
       "      <td>2</td>\n",
       "      <td>A</td>\n",
       "      <td>96.0</td>\n",
       "      <td>...</td>\n",
       "      <td>170.0</td>\n",
       "      <td>05/05/2016</td>\n",
       "      <td>208.0</td>\n",
       "      <td>04/06/2016</td>\n",
       "      <td>214.0</td>\n",
       "      <td>01/07/2016</td>\n",
       "      <td>305.0</td>\n",
       "      <td>05/08/2016</td>\n",
       "      <td>249</td>\n",
       "      <td>04/09/2016</td>\n",
       "    </tr>\n",
       "    <tr>\n",
       "      <th>4</th>\n",
       "      <td>23211481</td>\n",
       "      <td>111857</td>\n",
       "      <td>EA</td>\n",
       "      <td>A01</td>\n",
       "      <td>60.0</td>\n",
       "      <td>MANAGER GTPS 80 MW  TONGI BELLY GR</td>\n",
       "      <td>GTPS 80 MW TONGI,</td>\n",
       "      <td>2</td>\n",
       "      <td>A</td>\n",
       "      <td>0.0</td>\n",
       "      <td>...</td>\n",
       "      <td>26.0</td>\n",
       "      <td>05/05/2016</td>\n",
       "      <td>111.0</td>\n",
       "      <td>04/06/2016</td>\n",
       "      <td>84.0</td>\n",
       "      <td>01/07/2016</td>\n",
       "      <td>115.0</td>\n",
       "      <td>05/08/2016</td>\n",
       "      <td>99</td>\n",
       "      <td>04/09/2016</td>\n",
       "    </tr>\n",
       "  </tbody>\n",
       "</table>\n",
       "<p>5 rows × 171 columns</p>\n",
       "</div>"
      ],
      "text/plain": [
       "   ACCOUNT_NO     METER_NO BILLING_ZONE BLOCK_BILL  ROUTE_NUMBER  \\\n",
       "0    23211011  12659411/12           EA        A01          20.0   \n",
       "1    23211551  12659211/12           EA        A01          30.0   \n",
       "2    23211541  10654706/12           EA        A01          40.0   \n",
       "3    23211001  12660011/12           EA        A01          50.0   \n",
       "4    23211481       111857           EA        A01          60.0   \n",
       "\n",
       "                                  NAME                              ADDRESS  \\\n",
       "0  MANAGER GTPS 80 MW  TONGI MALOTI GR                    GTPS 80 MW TONGI,   \n",
       "1                       P.D-80 MW GTPS  800,SFT MALOTI GR FLOOR WEST TONGI,   \n",
       "2                       P.D-80 MW GTPS  800,SFT MALOTI FIRST FLOOR EAST, TO   \n",
       "3  MANAGER GTPS 80 MW  TONGI MALOTI FI                    GTPS 80 MW TONGI,   \n",
       "4   MANAGER GTPS 80 MW  TONGI BELLY GR                    GTPS 80 MW TONGI,   \n",
       "\n",
       "   LOAD SANCTION_TARIFF  UNIT_JAN2010          ...           UNIT_MAY2016  \\\n",
       "0     2               A         113.0          ...                  227.0   \n",
       "1     2               A         218.0          ...                  145.0   \n",
       "2     2               A          22.0          ...                  155.0   \n",
       "3     2               A          96.0          ...                  170.0   \n",
       "4     2               A           0.0          ...                   26.0   \n",
       "\n",
       "   READING_DATE_MAY2016 UNIT_JUN2016  READING_DATE_JUN2016 UNIT_JULY2016  \\\n",
       "0            05/05/2016        198.0            04/06/2016         403.0   \n",
       "1            05/05/2016        118.0            04/06/2016         137.0   \n",
       "2            05/05/2016        146.0            04/06/2016         125.0   \n",
       "3            05/05/2016        208.0            04/06/2016         214.0   \n",
       "4            05/05/2016        111.0            04/06/2016          84.0   \n",
       "\n",
       "   READING_DATE_JULY2016 UNIT_AUG2016  READING_DATE_AUG2016 UNIT_SEPT2016  \\\n",
       "0             01/07/2016        506.0            05/08/2016           628   \n",
       "1             01/07/2016        195.0            05/08/2016           134   \n",
       "2             01/07/2016        176.0            05/08/2016           131   \n",
       "3             01/07/2016        305.0            05/08/2016           249   \n",
       "4             01/07/2016        115.0            05/08/2016            99   \n",
       "\n",
       "   READING_DATE_SEPT2016  \n",
       "0             04/09/2016  \n",
       "1             04/09/2016  \n",
       "2             04/09/2016  \n",
       "3             04/09/2016  \n",
       "4             04/09/2016  \n",
       "\n",
       "[5 rows x 171 columns]"
      ]
     },
     "execution_count": 13,
     "metadata": {},
     "output_type": "execute_result"
    }
   ],
   "source": [
    "df = pd.read_excel('../tongi_east_Account_wise_consumer.xls')\n",
    "df.head()"
   ]
  },
  {
   "cell_type": "code",
   "execution_count": 14,
   "metadata": {
    "collapsed": true
   },
   "outputs": [],
   "source": [
    "df_multi = df.set_index(['ACCOUNT_NO','METER_NO','BILLING_ZONE','BLOCK_BILL','ROUTE_NUMBER','NAME','ADDRESS','LOAD','SANCTION_TARIFF'])"
   ]
  },
  {
   "cell_type": "code",
   "execution_count": 15,
   "metadata": {
    "collapsed": false
   },
   "outputs": [
    {
     "data": {
      "text/html": [
       "<div>\n",
       "<table border=\"1\" class=\"dataframe\">\n",
       "  <thead>\n",
       "    <tr style=\"text-align: right;\">\n",
       "      <th></th>\n",
       "      <th></th>\n",
       "      <th></th>\n",
       "      <th></th>\n",
       "      <th></th>\n",
       "      <th></th>\n",
       "      <th></th>\n",
       "      <th></th>\n",
       "      <th></th>\n",
       "      <th>UNIT_JAN2010</th>\n",
       "      <th>READING_DATE_JAN2010</th>\n",
       "      <th>UNIT_FEB2010</th>\n",
       "      <th>READING_DATE_FEB2010</th>\n",
       "      <th>UNIT_MAR2010</th>\n",
       "      <th>READING_DATE_MAR2010</th>\n",
       "      <th>UNIT_APRIL2010</th>\n",
       "      <th>READING_DATE_APRIL2010</th>\n",
       "      <th>UNIT_MAY2010</th>\n",
       "      <th>READING_DATE_MAY2010</th>\n",
       "      <th>...</th>\n",
       "      <th>UNIT_MAY2016</th>\n",
       "      <th>READING_DATE_MAY2016</th>\n",
       "      <th>UNIT_JUN2016</th>\n",
       "      <th>READING_DATE_JUN2016</th>\n",
       "      <th>UNIT_JULY2016</th>\n",
       "      <th>READING_DATE_JULY2016</th>\n",
       "      <th>UNIT_AUG2016</th>\n",
       "      <th>READING_DATE_AUG2016</th>\n",
       "      <th>UNIT_SEPT2016</th>\n",
       "      <th>READING_DATE_SEPT2016</th>\n",
       "    </tr>\n",
       "    <tr>\n",
       "      <th>ACCOUNT_NO</th>\n",
       "      <th>METER_NO</th>\n",
       "      <th>BILLING_ZONE</th>\n",
       "      <th>BLOCK_BILL</th>\n",
       "      <th>ROUTE_NUMBER</th>\n",
       "      <th>NAME</th>\n",
       "      <th>ADDRESS</th>\n",
       "      <th>LOAD</th>\n",
       "      <th>SANCTION_TARIFF</th>\n",
       "      <th></th>\n",
       "      <th></th>\n",
       "      <th></th>\n",
       "      <th></th>\n",
       "      <th></th>\n",
       "      <th></th>\n",
       "      <th></th>\n",
       "      <th></th>\n",
       "      <th></th>\n",
       "      <th></th>\n",
       "      <th></th>\n",
       "      <th></th>\n",
       "      <th></th>\n",
       "      <th></th>\n",
       "      <th></th>\n",
       "      <th></th>\n",
       "      <th></th>\n",
       "      <th></th>\n",
       "      <th></th>\n",
       "      <th></th>\n",
       "      <th></th>\n",
       "    </tr>\n",
       "  </thead>\n",
       "  <tbody>\n",
       "    <tr>\n",
       "      <th>23211011</th>\n",
       "      <th>12659411/12</th>\n",
       "      <th>EA</th>\n",
       "      <th>A01</th>\n",
       "      <th>20.0</th>\n",
       "      <th>MANAGER GTPS 80 MW  TONGI MALOTI GR</th>\n",
       "      <th>GTPS 80 MW TONGI,</th>\n",
       "      <th>2</th>\n",
       "      <th>A</th>\n",
       "      <td>113.0</td>\n",
       "      <td>06/01/2010</td>\n",
       "      <td>129.0</td>\n",
       "      <td>06/02/2010</td>\n",
       "      <td>143.0</td>\n",
       "      <td>06/03/2010</td>\n",
       "      <td>209.0</td>\n",
       "      <td>05/04/2010</td>\n",
       "      <td>215.0</td>\n",
       "      <td>05/05/2010</td>\n",
       "      <td>...</td>\n",
       "      <td>227.0</td>\n",
       "      <td>05/05/2016</td>\n",
       "      <td>198.0</td>\n",
       "      <td>04/06/2016</td>\n",
       "      <td>403.0</td>\n",
       "      <td>01/07/2016</td>\n",
       "      <td>506.0</td>\n",
       "      <td>05/08/2016</td>\n",
       "      <td>628</td>\n",
       "      <td>04/09/2016</td>\n",
       "    </tr>\n",
       "    <tr>\n",
       "      <th>23211551</th>\n",
       "      <th>12659211/12</th>\n",
       "      <th>EA</th>\n",
       "      <th>A01</th>\n",
       "      <th>30.0</th>\n",
       "      <th>P.D-80 MW GTPS</th>\n",
       "      <th>800,SFT MALOTI GR FLOOR WEST TONGI,</th>\n",
       "      <th>2</th>\n",
       "      <th>A</th>\n",
       "      <td>218.0</td>\n",
       "      <td>06/01/2010</td>\n",
       "      <td>211.0</td>\n",
       "      <td>06/02/2010</td>\n",
       "      <td>244.0</td>\n",
       "      <td>06/03/2010</td>\n",
       "      <td>348.0</td>\n",
       "      <td>05/04/2010</td>\n",
       "      <td>338.0</td>\n",
       "      <td>05/05/2010</td>\n",
       "      <td>...</td>\n",
       "      <td>145.0</td>\n",
       "      <td>05/05/2016</td>\n",
       "      <td>118.0</td>\n",
       "      <td>04/06/2016</td>\n",
       "      <td>137.0</td>\n",
       "      <td>01/07/2016</td>\n",
       "      <td>195.0</td>\n",
       "      <td>05/08/2016</td>\n",
       "      <td>134</td>\n",
       "      <td>04/09/2016</td>\n",
       "    </tr>\n",
       "    <tr>\n",
       "      <th>23211541</th>\n",
       "      <th>10654706/12</th>\n",
       "      <th>EA</th>\n",
       "      <th>A01</th>\n",
       "      <th>40.0</th>\n",
       "      <th>P.D-80 MW GTPS</th>\n",
       "      <th>800,SFT MALOTI FIRST FLOOR EAST, TO</th>\n",
       "      <th>2</th>\n",
       "      <th>A</th>\n",
       "      <td>22.0</td>\n",
       "      <td>06/01/2010</td>\n",
       "      <td>114.0</td>\n",
       "      <td>06/02/2010</td>\n",
       "      <td>100.0</td>\n",
       "      <td>06/03/2010</td>\n",
       "      <td>151.0</td>\n",
       "      <td>05/04/2010</td>\n",
       "      <td>199.0</td>\n",
       "      <td>05/05/2010</td>\n",
       "      <td>...</td>\n",
       "      <td>155.0</td>\n",
       "      <td>05/05/2016</td>\n",
       "      <td>146.0</td>\n",
       "      <td>04/06/2016</td>\n",
       "      <td>125.0</td>\n",
       "      <td>01/07/2016</td>\n",
       "      <td>176.0</td>\n",
       "      <td>05/08/2016</td>\n",
       "      <td>131</td>\n",
       "      <td>04/09/2016</td>\n",
       "    </tr>\n",
       "    <tr>\n",
       "      <th>23211001</th>\n",
       "      <th>12660011/12</th>\n",
       "      <th>EA</th>\n",
       "      <th>A01</th>\n",
       "      <th>50.0</th>\n",
       "      <th>MANAGER GTPS 80 MW  TONGI MALOTI FI</th>\n",
       "      <th>GTPS 80 MW TONGI,</th>\n",
       "      <th>2</th>\n",
       "      <th>A</th>\n",
       "      <td>96.0</td>\n",
       "      <td>06/01/2010</td>\n",
       "      <td>104.0</td>\n",
       "      <td>06/02/2010</td>\n",
       "      <td>109.0</td>\n",
       "      <td>06/03/2010</td>\n",
       "      <td>180.0</td>\n",
       "      <td>05/04/2010</td>\n",
       "      <td>192.0</td>\n",
       "      <td>05/05/2010</td>\n",
       "      <td>...</td>\n",
       "      <td>170.0</td>\n",
       "      <td>05/05/2016</td>\n",
       "      <td>208.0</td>\n",
       "      <td>04/06/2016</td>\n",
       "      <td>214.0</td>\n",
       "      <td>01/07/2016</td>\n",
       "      <td>305.0</td>\n",
       "      <td>05/08/2016</td>\n",
       "      <td>249</td>\n",
       "      <td>04/09/2016</td>\n",
       "    </tr>\n",
       "    <tr>\n",
       "      <th>23211481</th>\n",
       "      <th>111857</th>\n",
       "      <th>EA</th>\n",
       "      <th>A01</th>\n",
       "      <th>60.0</th>\n",
       "      <th>MANAGER GTPS 80 MW  TONGI BELLY GR</th>\n",
       "      <th>GTPS 80 MW TONGI,</th>\n",
       "      <th>2</th>\n",
       "      <th>A</th>\n",
       "      <td>0.0</td>\n",
       "      <td>06/01/2010</td>\n",
       "      <td>0.0</td>\n",
       "      <td>06/02/2010</td>\n",
       "      <td>0.0</td>\n",
       "      <td>06/03/2010</td>\n",
       "      <td>0.0</td>\n",
       "      <td>05/04/2010</td>\n",
       "      <td>8.0</td>\n",
       "      <td>05/05/2010</td>\n",
       "      <td>...</td>\n",
       "      <td>26.0</td>\n",
       "      <td>05/05/2016</td>\n",
       "      <td>111.0</td>\n",
       "      <td>04/06/2016</td>\n",
       "      <td>84.0</td>\n",
       "      <td>01/07/2016</td>\n",
       "      <td>115.0</td>\n",
       "      <td>05/08/2016</td>\n",
       "      <td>99</td>\n",
       "      <td>04/09/2016</td>\n",
       "    </tr>\n",
       "  </tbody>\n",
       "</table>\n",
       "<p>5 rows × 162 columns</p>\n",
       "</div>"
      ],
      "text/plain": [
       "                                                                                                                                                          UNIT_JAN2010  \\\n",
       "ACCOUNT_NO METER_NO    BILLING_ZONE BLOCK_BILL ROUTE_NUMBER NAME                                ADDRESS                             LOAD SANCTION_TARIFF                 \n",
       "23211011   12659411/12 EA           A01        20.0         MANAGER GTPS 80 MW  TONGI MALOTI GR GTPS 80 MW TONGI,                   2    A                       113.0   \n",
       "23211551   12659211/12 EA           A01        30.0         P.D-80 MW GTPS                      800,SFT MALOTI GR FLOOR WEST TONGI, 2    A                       218.0   \n",
       "23211541   10654706/12 EA           A01        40.0         P.D-80 MW GTPS                      800,SFT MALOTI FIRST FLOOR EAST, TO 2    A                        22.0   \n",
       "23211001   12660011/12 EA           A01        50.0         MANAGER GTPS 80 MW  TONGI MALOTI FI GTPS 80 MW TONGI,                   2    A                        96.0   \n",
       "23211481   111857      EA           A01        60.0         MANAGER GTPS 80 MW  TONGI BELLY GR  GTPS 80 MW TONGI,                   2    A                         0.0   \n",
       "\n",
       "                                                                                                                                                         READING_DATE_JAN2010  \\\n",
       "ACCOUNT_NO METER_NO    BILLING_ZONE BLOCK_BILL ROUTE_NUMBER NAME                                ADDRESS                             LOAD SANCTION_TARIFF                        \n",
       "23211011   12659411/12 EA           A01        20.0         MANAGER GTPS 80 MW  TONGI MALOTI GR GTPS 80 MW TONGI,                   2    A                         06/01/2010   \n",
       "23211551   12659211/12 EA           A01        30.0         P.D-80 MW GTPS                      800,SFT MALOTI GR FLOOR WEST TONGI, 2    A                         06/01/2010   \n",
       "23211541   10654706/12 EA           A01        40.0         P.D-80 MW GTPS                      800,SFT MALOTI FIRST FLOOR EAST, TO 2    A                         06/01/2010   \n",
       "23211001   12660011/12 EA           A01        50.0         MANAGER GTPS 80 MW  TONGI MALOTI FI GTPS 80 MW TONGI,                   2    A                         06/01/2010   \n",
       "23211481   111857      EA           A01        60.0         MANAGER GTPS 80 MW  TONGI BELLY GR  GTPS 80 MW TONGI,                   2    A                         06/01/2010   \n",
       "\n",
       "                                                                                                                                                          UNIT_FEB2010  \\\n",
       "ACCOUNT_NO METER_NO    BILLING_ZONE BLOCK_BILL ROUTE_NUMBER NAME                                ADDRESS                             LOAD SANCTION_TARIFF                 \n",
       "23211011   12659411/12 EA           A01        20.0         MANAGER GTPS 80 MW  TONGI MALOTI GR GTPS 80 MW TONGI,                   2    A                       129.0   \n",
       "23211551   12659211/12 EA           A01        30.0         P.D-80 MW GTPS                      800,SFT MALOTI GR FLOOR WEST TONGI, 2    A                       211.0   \n",
       "23211541   10654706/12 EA           A01        40.0         P.D-80 MW GTPS                      800,SFT MALOTI FIRST FLOOR EAST, TO 2    A                       114.0   \n",
       "23211001   12660011/12 EA           A01        50.0         MANAGER GTPS 80 MW  TONGI MALOTI FI GTPS 80 MW TONGI,                   2    A                       104.0   \n",
       "23211481   111857      EA           A01        60.0         MANAGER GTPS 80 MW  TONGI BELLY GR  GTPS 80 MW TONGI,                   2    A                         0.0   \n",
       "\n",
       "                                                                                                                                                         READING_DATE_FEB2010  \\\n",
       "ACCOUNT_NO METER_NO    BILLING_ZONE BLOCK_BILL ROUTE_NUMBER NAME                                ADDRESS                             LOAD SANCTION_TARIFF                        \n",
       "23211011   12659411/12 EA           A01        20.0         MANAGER GTPS 80 MW  TONGI MALOTI GR GTPS 80 MW TONGI,                   2    A                         06/02/2010   \n",
       "23211551   12659211/12 EA           A01        30.0         P.D-80 MW GTPS                      800,SFT MALOTI GR FLOOR WEST TONGI, 2    A                         06/02/2010   \n",
       "23211541   10654706/12 EA           A01        40.0         P.D-80 MW GTPS                      800,SFT MALOTI FIRST FLOOR EAST, TO 2    A                         06/02/2010   \n",
       "23211001   12660011/12 EA           A01        50.0         MANAGER GTPS 80 MW  TONGI MALOTI FI GTPS 80 MW TONGI,                   2    A                         06/02/2010   \n",
       "23211481   111857      EA           A01        60.0         MANAGER GTPS 80 MW  TONGI BELLY GR  GTPS 80 MW TONGI,                   2    A                         06/02/2010   \n",
       "\n",
       "                                                                                                                                                          UNIT_MAR2010  \\\n",
       "ACCOUNT_NO METER_NO    BILLING_ZONE BLOCK_BILL ROUTE_NUMBER NAME                                ADDRESS                             LOAD SANCTION_TARIFF                 \n",
       "23211011   12659411/12 EA           A01        20.0         MANAGER GTPS 80 MW  TONGI MALOTI GR GTPS 80 MW TONGI,                   2    A                       143.0   \n",
       "23211551   12659211/12 EA           A01        30.0         P.D-80 MW GTPS                      800,SFT MALOTI GR FLOOR WEST TONGI, 2    A                       244.0   \n",
       "23211541   10654706/12 EA           A01        40.0         P.D-80 MW GTPS                      800,SFT MALOTI FIRST FLOOR EAST, TO 2    A                       100.0   \n",
       "23211001   12660011/12 EA           A01        50.0         MANAGER GTPS 80 MW  TONGI MALOTI FI GTPS 80 MW TONGI,                   2    A                       109.0   \n",
       "23211481   111857      EA           A01        60.0         MANAGER GTPS 80 MW  TONGI BELLY GR  GTPS 80 MW TONGI,                   2    A                         0.0   \n",
       "\n",
       "                                                                                                                                                         READING_DATE_MAR2010  \\\n",
       "ACCOUNT_NO METER_NO    BILLING_ZONE BLOCK_BILL ROUTE_NUMBER NAME                                ADDRESS                             LOAD SANCTION_TARIFF                        \n",
       "23211011   12659411/12 EA           A01        20.0         MANAGER GTPS 80 MW  TONGI MALOTI GR GTPS 80 MW TONGI,                   2    A                         06/03/2010   \n",
       "23211551   12659211/12 EA           A01        30.0         P.D-80 MW GTPS                      800,SFT MALOTI GR FLOOR WEST TONGI, 2    A                         06/03/2010   \n",
       "23211541   10654706/12 EA           A01        40.0         P.D-80 MW GTPS                      800,SFT MALOTI FIRST FLOOR EAST, TO 2    A                         06/03/2010   \n",
       "23211001   12660011/12 EA           A01        50.0         MANAGER GTPS 80 MW  TONGI MALOTI FI GTPS 80 MW TONGI,                   2    A                         06/03/2010   \n",
       "23211481   111857      EA           A01        60.0         MANAGER GTPS 80 MW  TONGI BELLY GR  GTPS 80 MW TONGI,                   2    A                         06/03/2010   \n",
       "\n",
       "                                                                                                                                                          UNIT_APRIL2010  \\\n",
       "ACCOUNT_NO METER_NO    BILLING_ZONE BLOCK_BILL ROUTE_NUMBER NAME                                ADDRESS                             LOAD SANCTION_TARIFF                   \n",
       "23211011   12659411/12 EA           A01        20.0         MANAGER GTPS 80 MW  TONGI MALOTI GR GTPS 80 MW TONGI,                   2    A                         209.0   \n",
       "23211551   12659211/12 EA           A01        30.0         P.D-80 MW GTPS                      800,SFT MALOTI GR FLOOR WEST TONGI, 2    A                         348.0   \n",
       "23211541   10654706/12 EA           A01        40.0         P.D-80 MW GTPS                      800,SFT MALOTI FIRST FLOOR EAST, TO 2    A                         151.0   \n",
       "23211001   12660011/12 EA           A01        50.0         MANAGER GTPS 80 MW  TONGI MALOTI FI GTPS 80 MW TONGI,                   2    A                         180.0   \n",
       "23211481   111857      EA           A01        60.0         MANAGER GTPS 80 MW  TONGI BELLY GR  GTPS 80 MW TONGI,                   2    A                           0.0   \n",
       "\n",
       "                                                                                                                                                         READING_DATE_APRIL2010  \\\n",
       "ACCOUNT_NO METER_NO    BILLING_ZONE BLOCK_BILL ROUTE_NUMBER NAME                                ADDRESS                             LOAD SANCTION_TARIFF                          \n",
       "23211011   12659411/12 EA           A01        20.0         MANAGER GTPS 80 MW  TONGI MALOTI GR GTPS 80 MW TONGI,                   2    A                           05/04/2010   \n",
       "23211551   12659211/12 EA           A01        30.0         P.D-80 MW GTPS                      800,SFT MALOTI GR FLOOR WEST TONGI, 2    A                           05/04/2010   \n",
       "23211541   10654706/12 EA           A01        40.0         P.D-80 MW GTPS                      800,SFT MALOTI FIRST FLOOR EAST, TO 2    A                           05/04/2010   \n",
       "23211001   12660011/12 EA           A01        50.0         MANAGER GTPS 80 MW  TONGI MALOTI FI GTPS 80 MW TONGI,                   2    A                           05/04/2010   \n",
       "23211481   111857      EA           A01        60.0         MANAGER GTPS 80 MW  TONGI BELLY GR  GTPS 80 MW TONGI,                   2    A                           05/04/2010   \n",
       "\n",
       "                                                                                                                                                          UNIT_MAY2010  \\\n",
       "ACCOUNT_NO METER_NO    BILLING_ZONE BLOCK_BILL ROUTE_NUMBER NAME                                ADDRESS                             LOAD SANCTION_TARIFF                 \n",
       "23211011   12659411/12 EA           A01        20.0         MANAGER GTPS 80 MW  TONGI MALOTI GR GTPS 80 MW TONGI,                   2    A                       215.0   \n",
       "23211551   12659211/12 EA           A01        30.0         P.D-80 MW GTPS                      800,SFT MALOTI GR FLOOR WEST TONGI, 2    A                       338.0   \n",
       "23211541   10654706/12 EA           A01        40.0         P.D-80 MW GTPS                      800,SFT MALOTI FIRST FLOOR EAST, TO 2    A                       199.0   \n",
       "23211001   12660011/12 EA           A01        50.0         MANAGER GTPS 80 MW  TONGI MALOTI FI GTPS 80 MW TONGI,                   2    A                       192.0   \n",
       "23211481   111857      EA           A01        60.0         MANAGER GTPS 80 MW  TONGI BELLY GR  GTPS 80 MW TONGI,                   2    A                         8.0   \n",
       "\n",
       "                                                                                                                                                         READING_DATE_MAY2010  \\\n",
       "ACCOUNT_NO METER_NO    BILLING_ZONE BLOCK_BILL ROUTE_NUMBER NAME                                ADDRESS                             LOAD SANCTION_TARIFF                        \n",
       "23211011   12659411/12 EA           A01        20.0         MANAGER GTPS 80 MW  TONGI MALOTI GR GTPS 80 MW TONGI,                   2    A                         05/05/2010   \n",
       "23211551   12659211/12 EA           A01        30.0         P.D-80 MW GTPS                      800,SFT MALOTI GR FLOOR WEST TONGI, 2    A                         05/05/2010   \n",
       "23211541   10654706/12 EA           A01        40.0         P.D-80 MW GTPS                      800,SFT MALOTI FIRST FLOOR EAST, TO 2    A                         05/05/2010   \n",
       "23211001   12660011/12 EA           A01        50.0         MANAGER GTPS 80 MW  TONGI MALOTI FI GTPS 80 MW TONGI,                   2    A                         05/05/2010   \n",
       "23211481   111857      EA           A01        60.0         MANAGER GTPS 80 MW  TONGI BELLY GR  GTPS 80 MW TONGI,                   2    A                         05/05/2010   \n",
       "\n",
       "                                                                                                                                                                  ...           \\\n",
       "ACCOUNT_NO METER_NO    BILLING_ZONE BLOCK_BILL ROUTE_NUMBER NAME                                ADDRESS                             LOAD SANCTION_TARIFF          ...            \n",
       "23211011   12659411/12 EA           A01        20.0         MANAGER GTPS 80 MW  TONGI MALOTI GR GTPS 80 MW TONGI,                   2    A                        ...            \n",
       "23211551   12659211/12 EA           A01        30.0         P.D-80 MW GTPS                      800,SFT MALOTI GR FLOOR WEST TONGI, 2    A                        ...            \n",
       "23211541   10654706/12 EA           A01        40.0         P.D-80 MW GTPS                      800,SFT MALOTI FIRST FLOOR EAST, TO 2    A                        ...            \n",
       "23211001   12660011/12 EA           A01        50.0         MANAGER GTPS 80 MW  TONGI MALOTI FI GTPS 80 MW TONGI,                   2    A                        ...            \n",
       "23211481   111857      EA           A01        60.0         MANAGER GTPS 80 MW  TONGI BELLY GR  GTPS 80 MW TONGI,                   2    A                        ...            \n",
       "\n",
       "                                                                                                                                                          UNIT_MAY2016  \\\n",
       "ACCOUNT_NO METER_NO    BILLING_ZONE BLOCK_BILL ROUTE_NUMBER NAME                                ADDRESS                             LOAD SANCTION_TARIFF                 \n",
       "23211011   12659411/12 EA           A01        20.0         MANAGER GTPS 80 MW  TONGI MALOTI GR GTPS 80 MW TONGI,                   2    A                       227.0   \n",
       "23211551   12659211/12 EA           A01        30.0         P.D-80 MW GTPS                      800,SFT MALOTI GR FLOOR WEST TONGI, 2    A                       145.0   \n",
       "23211541   10654706/12 EA           A01        40.0         P.D-80 MW GTPS                      800,SFT MALOTI FIRST FLOOR EAST, TO 2    A                       155.0   \n",
       "23211001   12660011/12 EA           A01        50.0         MANAGER GTPS 80 MW  TONGI MALOTI FI GTPS 80 MW TONGI,                   2    A                       170.0   \n",
       "23211481   111857      EA           A01        60.0         MANAGER GTPS 80 MW  TONGI BELLY GR  GTPS 80 MW TONGI,                   2    A                        26.0   \n",
       "\n",
       "                                                                                                                                                         READING_DATE_MAY2016  \\\n",
       "ACCOUNT_NO METER_NO    BILLING_ZONE BLOCK_BILL ROUTE_NUMBER NAME                                ADDRESS                             LOAD SANCTION_TARIFF                        \n",
       "23211011   12659411/12 EA           A01        20.0         MANAGER GTPS 80 MW  TONGI MALOTI GR GTPS 80 MW TONGI,                   2    A                         05/05/2016   \n",
       "23211551   12659211/12 EA           A01        30.0         P.D-80 MW GTPS                      800,SFT MALOTI GR FLOOR WEST TONGI, 2    A                         05/05/2016   \n",
       "23211541   10654706/12 EA           A01        40.0         P.D-80 MW GTPS                      800,SFT MALOTI FIRST FLOOR EAST, TO 2    A                         05/05/2016   \n",
       "23211001   12660011/12 EA           A01        50.0         MANAGER GTPS 80 MW  TONGI MALOTI FI GTPS 80 MW TONGI,                   2    A                         05/05/2016   \n",
       "23211481   111857      EA           A01        60.0         MANAGER GTPS 80 MW  TONGI BELLY GR  GTPS 80 MW TONGI,                   2    A                         05/05/2016   \n",
       "\n",
       "                                                                                                                                                          UNIT_JUN2016  \\\n",
       "ACCOUNT_NO METER_NO    BILLING_ZONE BLOCK_BILL ROUTE_NUMBER NAME                                ADDRESS                             LOAD SANCTION_TARIFF                 \n",
       "23211011   12659411/12 EA           A01        20.0         MANAGER GTPS 80 MW  TONGI MALOTI GR GTPS 80 MW TONGI,                   2    A                       198.0   \n",
       "23211551   12659211/12 EA           A01        30.0         P.D-80 MW GTPS                      800,SFT MALOTI GR FLOOR WEST TONGI, 2    A                       118.0   \n",
       "23211541   10654706/12 EA           A01        40.0         P.D-80 MW GTPS                      800,SFT MALOTI FIRST FLOOR EAST, TO 2    A                       146.0   \n",
       "23211001   12660011/12 EA           A01        50.0         MANAGER GTPS 80 MW  TONGI MALOTI FI GTPS 80 MW TONGI,                   2    A                       208.0   \n",
       "23211481   111857      EA           A01        60.0         MANAGER GTPS 80 MW  TONGI BELLY GR  GTPS 80 MW TONGI,                   2    A                       111.0   \n",
       "\n",
       "                                                                                                                                                         READING_DATE_JUN2016  \\\n",
       "ACCOUNT_NO METER_NO    BILLING_ZONE BLOCK_BILL ROUTE_NUMBER NAME                                ADDRESS                             LOAD SANCTION_TARIFF                        \n",
       "23211011   12659411/12 EA           A01        20.0         MANAGER GTPS 80 MW  TONGI MALOTI GR GTPS 80 MW TONGI,                   2    A                         04/06/2016   \n",
       "23211551   12659211/12 EA           A01        30.0         P.D-80 MW GTPS                      800,SFT MALOTI GR FLOOR WEST TONGI, 2    A                         04/06/2016   \n",
       "23211541   10654706/12 EA           A01        40.0         P.D-80 MW GTPS                      800,SFT MALOTI FIRST FLOOR EAST, TO 2    A                         04/06/2016   \n",
       "23211001   12660011/12 EA           A01        50.0         MANAGER GTPS 80 MW  TONGI MALOTI FI GTPS 80 MW TONGI,                   2    A                         04/06/2016   \n",
       "23211481   111857      EA           A01        60.0         MANAGER GTPS 80 MW  TONGI BELLY GR  GTPS 80 MW TONGI,                   2    A                         04/06/2016   \n",
       "\n",
       "                                                                                                                                                          UNIT_JULY2016  \\\n",
       "ACCOUNT_NO METER_NO    BILLING_ZONE BLOCK_BILL ROUTE_NUMBER NAME                                ADDRESS                             LOAD SANCTION_TARIFF                  \n",
       "23211011   12659411/12 EA           A01        20.0         MANAGER GTPS 80 MW  TONGI MALOTI GR GTPS 80 MW TONGI,                   2    A                        403.0   \n",
       "23211551   12659211/12 EA           A01        30.0         P.D-80 MW GTPS                      800,SFT MALOTI GR FLOOR WEST TONGI, 2    A                        137.0   \n",
       "23211541   10654706/12 EA           A01        40.0         P.D-80 MW GTPS                      800,SFT MALOTI FIRST FLOOR EAST, TO 2    A                        125.0   \n",
       "23211001   12660011/12 EA           A01        50.0         MANAGER GTPS 80 MW  TONGI MALOTI FI GTPS 80 MW TONGI,                   2    A                        214.0   \n",
       "23211481   111857      EA           A01        60.0         MANAGER GTPS 80 MW  TONGI BELLY GR  GTPS 80 MW TONGI,                   2    A                         84.0   \n",
       "\n",
       "                                                                                                                                                         READING_DATE_JULY2016  \\\n",
       "ACCOUNT_NO METER_NO    BILLING_ZONE BLOCK_BILL ROUTE_NUMBER NAME                                ADDRESS                             LOAD SANCTION_TARIFF                         \n",
       "23211011   12659411/12 EA           A01        20.0         MANAGER GTPS 80 MW  TONGI MALOTI GR GTPS 80 MW TONGI,                   2    A                          01/07/2016   \n",
       "23211551   12659211/12 EA           A01        30.0         P.D-80 MW GTPS                      800,SFT MALOTI GR FLOOR WEST TONGI, 2    A                          01/07/2016   \n",
       "23211541   10654706/12 EA           A01        40.0         P.D-80 MW GTPS                      800,SFT MALOTI FIRST FLOOR EAST, TO 2    A                          01/07/2016   \n",
       "23211001   12660011/12 EA           A01        50.0         MANAGER GTPS 80 MW  TONGI MALOTI FI GTPS 80 MW TONGI,                   2    A                          01/07/2016   \n",
       "23211481   111857      EA           A01        60.0         MANAGER GTPS 80 MW  TONGI BELLY GR  GTPS 80 MW TONGI,                   2    A                          01/07/2016   \n",
       "\n",
       "                                                                                                                                                          UNIT_AUG2016  \\\n",
       "ACCOUNT_NO METER_NO    BILLING_ZONE BLOCK_BILL ROUTE_NUMBER NAME                                ADDRESS                             LOAD SANCTION_TARIFF                 \n",
       "23211011   12659411/12 EA           A01        20.0         MANAGER GTPS 80 MW  TONGI MALOTI GR GTPS 80 MW TONGI,                   2    A                       506.0   \n",
       "23211551   12659211/12 EA           A01        30.0         P.D-80 MW GTPS                      800,SFT MALOTI GR FLOOR WEST TONGI, 2    A                       195.0   \n",
       "23211541   10654706/12 EA           A01        40.0         P.D-80 MW GTPS                      800,SFT MALOTI FIRST FLOOR EAST, TO 2    A                       176.0   \n",
       "23211001   12660011/12 EA           A01        50.0         MANAGER GTPS 80 MW  TONGI MALOTI FI GTPS 80 MW TONGI,                   2    A                       305.0   \n",
       "23211481   111857      EA           A01        60.0         MANAGER GTPS 80 MW  TONGI BELLY GR  GTPS 80 MW TONGI,                   2    A                       115.0   \n",
       "\n",
       "                                                                                                                                                         READING_DATE_AUG2016  \\\n",
       "ACCOUNT_NO METER_NO    BILLING_ZONE BLOCK_BILL ROUTE_NUMBER NAME                                ADDRESS                             LOAD SANCTION_TARIFF                        \n",
       "23211011   12659411/12 EA           A01        20.0         MANAGER GTPS 80 MW  TONGI MALOTI GR GTPS 80 MW TONGI,                   2    A                         05/08/2016   \n",
       "23211551   12659211/12 EA           A01        30.0         P.D-80 MW GTPS                      800,SFT MALOTI GR FLOOR WEST TONGI, 2    A                         05/08/2016   \n",
       "23211541   10654706/12 EA           A01        40.0         P.D-80 MW GTPS                      800,SFT MALOTI FIRST FLOOR EAST, TO 2    A                         05/08/2016   \n",
       "23211001   12660011/12 EA           A01        50.0         MANAGER GTPS 80 MW  TONGI MALOTI FI GTPS 80 MW TONGI,                   2    A                         05/08/2016   \n",
       "23211481   111857      EA           A01        60.0         MANAGER GTPS 80 MW  TONGI BELLY GR  GTPS 80 MW TONGI,                   2    A                         05/08/2016   \n",
       "\n",
       "                                                                                                                                                          UNIT_SEPT2016  \\\n",
       "ACCOUNT_NO METER_NO    BILLING_ZONE BLOCK_BILL ROUTE_NUMBER NAME                                ADDRESS                             LOAD SANCTION_TARIFF                  \n",
       "23211011   12659411/12 EA           A01        20.0         MANAGER GTPS 80 MW  TONGI MALOTI GR GTPS 80 MW TONGI,                   2    A                          628   \n",
       "23211551   12659211/12 EA           A01        30.0         P.D-80 MW GTPS                      800,SFT MALOTI GR FLOOR WEST TONGI, 2    A                          134   \n",
       "23211541   10654706/12 EA           A01        40.0         P.D-80 MW GTPS                      800,SFT MALOTI FIRST FLOOR EAST, TO 2    A                          131   \n",
       "23211001   12660011/12 EA           A01        50.0         MANAGER GTPS 80 MW  TONGI MALOTI FI GTPS 80 MW TONGI,                   2    A                          249   \n",
       "23211481   111857      EA           A01        60.0         MANAGER GTPS 80 MW  TONGI BELLY GR  GTPS 80 MW TONGI,                   2    A                           99   \n",
       "\n",
       "                                                                                                                                                         READING_DATE_SEPT2016  \n",
       "ACCOUNT_NO METER_NO    BILLING_ZONE BLOCK_BILL ROUTE_NUMBER NAME                                ADDRESS                             LOAD SANCTION_TARIFF                        \n",
       "23211011   12659411/12 EA           A01        20.0         MANAGER GTPS 80 MW  TONGI MALOTI GR GTPS 80 MW TONGI,                   2    A                          04/09/2016  \n",
       "23211551   12659211/12 EA           A01        30.0         P.D-80 MW GTPS                      800,SFT MALOTI GR FLOOR WEST TONGI, 2    A                          04/09/2016  \n",
       "23211541   10654706/12 EA           A01        40.0         P.D-80 MW GTPS                      800,SFT MALOTI FIRST FLOOR EAST, TO 2    A                          04/09/2016  \n",
       "23211001   12660011/12 EA           A01        50.0         MANAGER GTPS 80 MW  TONGI MALOTI FI GTPS 80 MW TONGI,                   2    A                          04/09/2016  \n",
       "23211481   111857      EA           A01        60.0         MANAGER GTPS 80 MW  TONGI BELLY GR  GTPS 80 MW TONGI,                   2    A                          04/09/2016  \n",
       "\n",
       "[5 rows x 162 columns]"
      ]
     },
     "execution_count": 15,
     "metadata": {},
     "output_type": "execute_result"
    }
   ],
   "source": [
    "df_multi.head()"
   ]
  },
  {
   "cell_type": "code",
   "execution_count": 16,
   "metadata": {
    "collapsed": false
   },
   "outputs": [
    {
     "data": {
      "text/plain": [
       "ACCOUNT_NO  METER_NO     BILLING_ZONE  BLOCK_BILL  ROUTE_NUMBER  NAME                                 ADDRESS            LOAD  SANCTION_TARIFF                      \n",
       "23211011    12659411/12  EA            A01         20.0          MANAGER GTPS 80 MW  TONGI MALOTI GR  GTPS 80 MW TONGI,  2     A                UNIT_JAN2010                   113\n",
       "                                                                                                                                                READING_DATE_JAN2010    06/01/2010\n",
       "                                                                                                                                                UNIT_FEB2010                   129\n",
       "                                                                                                                                                READING_DATE_FEB2010    06/02/2010\n",
       "                                                                                                                                                UNIT_MAR2010                   143\n",
       "dtype: object"
      ]
     },
     "execution_count": 16,
     "metadata": {},
     "output_type": "execute_result"
    }
   ],
   "source": [
    "stacked = df_multi.stack()\n",
    "stacked.head()"
   ]
  },
  {
   "cell_type": "code",
   "execution_count": 17,
   "metadata": {
    "collapsed": false
   },
   "outputs": [],
   "source": [
    "stacked.to_csv('../tongi_values.csv',index= False)\n",
    "df_multi.to_csv('../tongi.csv',index= False)"
   ]
  },
  {
   "cell_type": "code",
   "execution_count": 18,
   "metadata": {
    "collapsed": false
   },
   "outputs": [
    {
     "data": {
      "text/plain": [
       "4891426"
      ]
     },
     "execution_count": 18,
     "metadata": {},
     "output_type": "execute_result"
    }
   ],
   "source": [
    "stacked.count()"
   ]
  },
  {
   "cell_type": "code",
   "execution_count": 22,
   "metadata": {
    "collapsed": false
   },
   "outputs": [
    {
     "data": {
      "text/html": [
       "<div>\n",
       "<table border=\"1\" class=\"dataframe\">\n",
       "  <thead>\n",
       "    <tr style=\"text-align: right;\">\n",
       "      <th></th>\n",
       "      <th>0</th>\n",
       "    </tr>\n",
       "  </thead>\n",
       "  <tbody>\n",
       "    <tr>\n",
       "      <th>0</th>\n",
       "      <td>113.0</td>\n",
       "    </tr>\n",
       "    <tr>\n",
       "      <th>1</th>\n",
       "      <td>06/01/2010</td>\n",
       "    </tr>\n",
       "    <tr>\n",
       "      <th>2</th>\n",
       "      <td>129.0</td>\n",
       "    </tr>\n",
       "    <tr>\n",
       "      <th>3</th>\n",
       "      <td>06/02/2010</td>\n",
       "    </tr>\n",
       "    <tr>\n",
       "      <th>4</th>\n",
       "      <td>143.0</td>\n",
       "    </tr>\n",
       "  </tbody>\n",
       "</table>\n",
       "</div>"
      ],
      "text/plain": [
       "            0\n",
       "0       113.0\n",
       "1  06/01/2010\n",
       "2       129.0\n",
       "3  06/02/2010\n",
       "4       143.0"
      ]
     },
     "execution_count": 22,
     "metadata": {},
     "output_type": "execute_result"
    }
   ],
   "source": [
    "st = pd.read_csv('../tongi_values.csv',header=None)\n",
    "st.head()"
   ]
  },
  {
   "cell_type": "code",
   "execution_count": 23,
   "metadata": {
    "collapsed": false
   },
   "outputs": [
    {
     "data": {
      "text/html": [
       "<div>\n",
       "<table border=\"1\" class=\"dataframe\">\n",
       "  <thead>\n",
       "    <tr style=\"text-align: right;\">\n",
       "      <th></th>\n",
       "      <th>0</th>\n",
       "    </tr>\n",
       "  </thead>\n",
       "  <tbody>\n",
       "    <tr>\n",
       "      <th>4891421</th>\n",
       "      <td>13/07/2016</td>\n",
       "    </tr>\n",
       "    <tr>\n",
       "      <th>4891422</th>\n",
       "      <td>0.0</td>\n",
       "    </tr>\n",
       "    <tr>\n",
       "      <th>4891423</th>\n",
       "      <td>15/08/2016</td>\n",
       "    </tr>\n",
       "    <tr>\n",
       "      <th>4891424</th>\n",
       "      <td>0</td>\n",
       "    </tr>\n",
       "    <tr>\n",
       "      <th>4891425</th>\n",
       "      <td>07/09/2016</td>\n",
       "    </tr>\n",
       "  </tbody>\n",
       "</table>\n",
       "</div>"
      ],
      "text/plain": [
       "                  0\n",
       "4891421  13/07/2016\n",
       "4891422         0.0\n",
       "4891423  15/08/2016\n",
       "4891424           0\n",
       "4891425  07/09/2016"
      ]
     },
     "execution_count": 23,
     "metadata": {},
     "output_type": "execute_result"
    }
   ],
   "source": [
    "st.tail()"
   ]
  },
  {
   "cell_type": "code",
   "execution_count": 68,
   "metadata": {
    "collapsed": false
   },
   "outputs": [
    {
     "data": {
      "text/plain": [
       "'113.0'"
      ]
     },
     "execution_count": 68,
     "metadata": {},
     "output_type": "execute_result"
    }
   ],
   "source": [
    "st.iloc[0][0]"
   ]
  },
  {
   "cell_type": "code",
   "execution_count": 26,
   "metadata": {
    "collapsed": false
   },
   "outputs": [
    {
     "data": {
      "text/plain": [
       "4891426"
      ]
     },
     "execution_count": 26,
     "metadata": {},
     "output_type": "execute_result"
    }
   ],
   "source": [
    "len(st)"
   ]
  },
  {
   "cell_type": "code",
   "execution_count": 69,
   "metadata": {
    "collapsed": false
   },
   "outputs": [],
   "source": [
    "\n",
    "st_list = []"
   ]
  },
  {
   "cell_type": "code",
   "execution_count": 70,
   "metadata": {
    "collapsed": false,
    "scrolled": true
   },
   "outputs": [],
   "source": [
    "l = len(st)\n",
    "for i in range(0,l,2):\n",
    "    a = st.iloc[i][0]\n",
    "    b = st.iloc[i+1][0]\n",
    "    st_list.append([a,b])\n",
    "    st_list.append([a,b])"
   ]
  },
  {
   "cell_type": "code",
   "execution_count": 71,
   "metadata": {
    "collapsed": false
   },
   "outputs": [
    {
     "data": {
      "text/plain": [
       "4891426"
      ]
     },
     "execution_count": 71,
     "metadata": {},
     "output_type": "execute_result"
    }
   ],
   "source": [
    "len(st_list)"
   ]
  },
  {
   "cell_type": "code",
   "execution_count": 72,
   "metadata": {
    "collapsed": true
   },
   "outputs": [],
   "source": [
    "unit_year_df  = pd.DataFrame(st_list,columns=['UNIT','DATE'])"
   ]
  },
  {
   "cell_type": "code",
   "execution_count": 73,
   "metadata": {
    "collapsed": false
   },
   "outputs": [
    {
     "data": {
      "text/html": [
       "<div>\n",
       "<table border=\"1\" class=\"dataframe\">\n",
       "  <thead>\n",
       "    <tr style=\"text-align: right;\">\n",
       "      <th></th>\n",
       "      <th>UNIT</th>\n",
       "      <th>DATE</th>\n",
       "    </tr>\n",
       "  </thead>\n",
       "  <tbody>\n",
       "    <tr>\n",
       "      <th>0</th>\n",
       "      <td>113.0</td>\n",
       "      <td>06/01/2010</td>\n",
       "    </tr>\n",
       "    <tr>\n",
       "      <th>1</th>\n",
       "      <td>113.0</td>\n",
       "      <td>06/01/2010</td>\n",
       "    </tr>\n",
       "    <tr>\n",
       "      <th>2</th>\n",
       "      <td>129.0</td>\n",
       "      <td>06/02/2010</td>\n",
       "    </tr>\n",
       "    <tr>\n",
       "      <th>3</th>\n",
       "      <td>129.0</td>\n",
       "      <td>06/02/2010</td>\n",
       "    </tr>\n",
       "    <tr>\n",
       "      <th>4</th>\n",
       "      <td>143.0</td>\n",
       "      <td>06/03/2010</td>\n",
       "    </tr>\n",
       "  </tbody>\n",
       "</table>\n",
       "</div>"
      ],
      "text/plain": [
       "    UNIT        DATE\n",
       "0  113.0  06/01/2010\n",
       "1  113.0  06/01/2010\n",
       "2  129.0  06/02/2010\n",
       "3  129.0  06/02/2010\n",
       "4  143.0  06/03/2010"
      ]
     },
     "execution_count": 73,
     "metadata": {},
     "output_type": "execute_result"
    }
   ],
   "source": [
    "unit_year_df.head()"
   ]
  },
  {
   "cell_type": "code",
   "execution_count": 74,
   "metadata": {
    "collapsed": false
   },
   "outputs": [
    {
     "data": {
      "text/plain": [
       "4891426"
      ]
     },
     "execution_count": 74,
     "metadata": {},
     "output_type": "execute_result"
    }
   ],
   "source": [
    "len(stacked)"
   ]
  },
  {
   "cell_type": "code",
   "execution_count": 75,
   "metadata": {
    "collapsed": true
   },
   "outputs": [],
   "source": [
    "stacked_copy = stacked\n"
   ]
  },
  {
   "cell_type": "code",
   "execution_count": 76,
   "metadata": {
    "collapsed": false
   },
   "outputs": [
    {
     "data": {
      "text/plain": [
       "ACCOUNT_NO  METER_NO     BILLING_ZONE  BLOCK_BILL  ROUTE_NUMBER  NAME                                 ADDRESS            LOAD  SANCTION_TARIFF                      \n",
       "23211011    12659411/12  EA            A01         20.0          MANAGER GTPS 80 MW  TONGI MALOTI GR  GTPS 80 MW TONGI,  2     A                UNIT_JAN2010                   113\n",
       "                                                                                                                                                READING_DATE_JAN2010    06/01/2010\n",
       "                                                                                                                                                UNIT_FEB2010                   129\n",
       "                                                                                                                                                READING_DATE_FEB2010    06/02/2010\n",
       "                                                                                                                                                UNIT_MAR2010                   143\n",
       "dtype: object"
      ]
     },
     "execution_count": 76,
     "metadata": {},
     "output_type": "execute_result"
    }
   ],
   "source": [
    "stacked_copy.head()"
   ]
  },
  {
   "cell_type": "code",
   "execution_count": 77,
   "metadata": {
    "collapsed": true
   },
   "outputs": [],
   "source": [
    "stacked_copy['UNIT'] = unit_year_df['UNIT']"
   ]
  },
  {
   "cell_type": "code",
   "execution_count": 78,
   "metadata": {
    "collapsed": false
   },
   "outputs": [
    {
     "data": {
      "text/plain": [
       "4891427"
      ]
     },
     "execution_count": 78,
     "metadata": {},
     "output_type": "execute_result"
    }
   ],
   "source": [
    "len(stacked_copy)"
   ]
  },
  {
   "cell_type": "code",
   "execution_count": 79,
   "metadata": {
    "collapsed": false
   },
   "outputs": [
    {
     "data": {
      "text/plain": [
       "ACCOUNT_NO  METER_NO     BILLING_ZONE  BLOCK_BILL  ROUTE_NUMBER  NAME                                 ADDRESS            LOAD  SANCTION_TARIFF                      \n",
       "23211011    12659411/12  EA            A01         20.0          MANAGER GTPS 80 MW  TONGI MALOTI GR  GTPS 80 MW TONGI,  2     A                UNIT_JAN2010                   113\n",
       "                                                                                                                                                READING_DATE_JAN2010    06/01/2010\n",
       "                                                                                                                                                UNIT_FEB2010                   129\n",
       "                                                                                                                                                READING_DATE_FEB2010    06/02/2010\n",
       "                                                                                                                                                UNIT_MAR2010                   143\n",
       "dtype: object"
      ]
     },
     "execution_count": 79,
     "metadata": {},
     "output_type": "execute_result"
    }
   ],
   "source": [
    "stacked_copy.head()"
   ]
  },
  {
   "cell_type": "code",
   "execution_count": 80,
   "metadata": {
    "collapsed": false
   },
   "outputs": [
    {
     "data": {
      "text/plain": [
       "METER_NO  BILLING_ZONE  BLOCK_BILL  ROUTE_NUMBER  NAME  ADDRESS  LOAD  SANCTION_TARIFF  \n",
       "                                                                                            0           113.0\n",
       "1           113.0\n",
       "2         ...\n",
       "dtype: object"
      ]
     },
     "execution_count": 80,
     "metadata": {},
     "output_type": "execute_result"
    }
   ],
   "source": [
    "stacked_copy.UNIT"
   ]
  },
  {
   "cell_type": "code",
   "execution_count": 81,
   "metadata": {
    "collapsed": false
   },
   "outputs": [
    {
     "data": {
      "text/plain": [
       "ACCOUNT_NO  METER_NO  BILLING_ZONE  BLOCK_BILL  ROUTE_NUMBER  NAME              ADDRESS                 LOAD  SANCTION_TARIFF                       \n",
       "23181741    1015055   EW            XV4         1401.0        MD.HOSSAIN MAZED  DAG-72,VATULIAH TURAG,  2     A                UNIT_AUG2016                                                             0\n",
       "                                                                                                                               READING_DATE_AUG2016                                            15/08/2016\n",
       "                                                                                                                               UNIT_SEPT2016                                                            0\n",
       "                                                                                                                               READING_DATE_SEPT2016                                           07/09/2016\n",
       "UNIT                                                                                                                                                    0           113.0\n",
       "1           113.0\n",
       "2         ...\n",
       "dtype: object"
      ]
     },
     "execution_count": 81,
     "metadata": {},
     "output_type": "execute_result"
    }
   ],
   "source": [
    "stacked_copy.tail()"
   ]
  },
  {
   "cell_type": "code",
   "execution_count": 82,
   "metadata": {
    "collapsed": true
   },
   "outputs": [],
   "source": [
    "stacked_copy['DATE'] = unit_year_df['DATE']"
   ]
  },
  {
   "cell_type": "code",
   "execution_count": 84,
   "metadata": {
    "collapsed": false
   },
   "outputs": [
    {
     "data": {
      "text/plain": [
       "1"
      ]
     },
     "execution_count": 84,
     "metadata": {},
     "output_type": "execute_result"
    }
   ],
   "source": [
    "stacked_copy.DATE.count()"
   ]
  },
  {
   "cell_type": "code",
   "execution_count": 88,
   "metadata": {
    "collapsed": false
   },
   "outputs": [
    {
     "data": {
      "text/plain": [
       "108.0"
      ]
     },
     "execution_count": 88,
     "metadata": {},
     "output_type": "execute_result"
    }
   ],
   "source": [
    "stacked_copy.iloc[100]"
   ]
  },
  {
   "cell_type": "code",
   "execution_count": 91,
   "metadata": {
    "collapsed": true
   },
   "outputs": [],
   "source": [
    "stacked.to_csv('../tongi_merged_data.csv')"
   ]
  },
  {
   "cell_type": "code",
   "execution_count": 93,
   "metadata": {
    "collapsed": false
   },
   "outputs": [
    {
     "name": "stderr",
     "output_type": "stream",
     "text": [
      "/Users/pd/anaconda/lib/python3.5/site-packages/IPython/core/interactiveshell.py:2717: DtypeWarning: Columns (0,3) have mixed types. Specify dtype option on import or set low_memory=False.\n",
      "  interactivity=interactivity, compiler=compiler, result=result)\n"
     ]
    },
    {
     "data": {
      "text/html": [
       "<div>\n",
       "<table border=\"1\" class=\"dataframe\">\n",
       "  <thead>\n",
       "    <tr style=\"text-align: right;\">\n",
       "      <th></th>\n",
       "      <th>ACCOUNT_NO</th>\n",
       "      <th>METER_NO</th>\n",
       "      <th>BILLING_ZONE</th>\n",
       "      <th>BLOCK_BILL</th>\n",
       "      <th>ROUTE_NUMBER</th>\n",
       "      <th>NAME</th>\n",
       "      <th>ADDRESS</th>\n",
       "      <th>LOAD</th>\n",
       "      <th>SANCTION_TARIFF</th>\n",
       "      <th>A</th>\n",
       "      <th>B</th>\n",
       "    </tr>\n",
       "  </thead>\n",
       "  <tbody>\n",
       "    <tr>\n",
       "      <th>0</th>\n",
       "      <td>23211011</td>\n",
       "      <td>12659411/12</td>\n",
       "      <td>EA</td>\n",
       "      <td>A01</td>\n",
       "      <td>20.0</td>\n",
       "      <td>MANAGER GTPS 80 MW  TONGI MALOTI GR</td>\n",
       "      <td>GTPS 80 MW TONGI,</td>\n",
       "      <td>2.0</td>\n",
       "      <td>A</td>\n",
       "      <td>UNIT_JAN2010</td>\n",
       "      <td>113.0</td>\n",
       "    </tr>\n",
       "    <tr>\n",
       "      <th>1</th>\n",
       "      <td>23211011</td>\n",
       "      <td>12659411/12</td>\n",
       "      <td>EA</td>\n",
       "      <td>A01</td>\n",
       "      <td>20.0</td>\n",
       "      <td>MANAGER GTPS 80 MW  TONGI MALOTI GR</td>\n",
       "      <td>GTPS 80 MW TONGI,</td>\n",
       "      <td>2.0</td>\n",
       "      <td>A</td>\n",
       "      <td>READING_DATE_JAN2010</td>\n",
       "      <td>06/01/2010</td>\n",
       "    </tr>\n",
       "    <tr>\n",
       "      <th>2</th>\n",
       "      <td>23211011</td>\n",
       "      <td>12659411/12</td>\n",
       "      <td>EA</td>\n",
       "      <td>A01</td>\n",
       "      <td>20.0</td>\n",
       "      <td>MANAGER GTPS 80 MW  TONGI MALOTI GR</td>\n",
       "      <td>GTPS 80 MW TONGI,</td>\n",
       "      <td>2.0</td>\n",
       "      <td>A</td>\n",
       "      <td>UNIT_FEB2010</td>\n",
       "      <td>129.0</td>\n",
       "    </tr>\n",
       "    <tr>\n",
       "      <th>3</th>\n",
       "      <td>23211011</td>\n",
       "      <td>12659411/12</td>\n",
       "      <td>EA</td>\n",
       "      <td>A01</td>\n",
       "      <td>20.0</td>\n",
       "      <td>MANAGER GTPS 80 MW  TONGI MALOTI GR</td>\n",
       "      <td>GTPS 80 MW TONGI,</td>\n",
       "      <td>2.0</td>\n",
       "      <td>A</td>\n",
       "      <td>READING_DATE_FEB2010</td>\n",
       "      <td>06/02/2010</td>\n",
       "    </tr>\n",
       "    <tr>\n",
       "      <th>4</th>\n",
       "      <td>23211011</td>\n",
       "      <td>12659411/12</td>\n",
       "      <td>EA</td>\n",
       "      <td>A01</td>\n",
       "      <td>20.0</td>\n",
       "      <td>MANAGER GTPS 80 MW  TONGI MALOTI GR</td>\n",
       "      <td>GTPS 80 MW TONGI,</td>\n",
       "      <td>2.0</td>\n",
       "      <td>A</td>\n",
       "      <td>UNIT_MAR2010</td>\n",
       "      <td>143.0</td>\n",
       "    </tr>\n",
       "  </tbody>\n",
       "</table>\n",
       "</div>"
      ],
      "text/plain": [
       "  ACCOUNT_NO     METER_NO BILLING_ZONE BLOCK_BILL  ROUTE_NUMBER  \\\n",
       "0   23211011  12659411/12           EA        A01          20.0   \n",
       "1   23211011  12659411/12           EA        A01          20.0   \n",
       "2   23211011  12659411/12           EA        A01          20.0   \n",
       "3   23211011  12659411/12           EA        A01          20.0   \n",
       "4   23211011  12659411/12           EA        A01          20.0   \n",
       "\n",
       "                                  NAME            ADDRESS  LOAD  \\\n",
       "0  MANAGER GTPS 80 MW  TONGI MALOTI GR  GTPS 80 MW TONGI,   2.0   \n",
       "1  MANAGER GTPS 80 MW  TONGI MALOTI GR  GTPS 80 MW TONGI,   2.0   \n",
       "2  MANAGER GTPS 80 MW  TONGI MALOTI GR  GTPS 80 MW TONGI,   2.0   \n",
       "3  MANAGER GTPS 80 MW  TONGI MALOTI GR  GTPS 80 MW TONGI,   2.0   \n",
       "4  MANAGER GTPS 80 MW  TONGI MALOTI GR  GTPS 80 MW TONGI,   2.0   \n",
       "\n",
       "  SANCTION_TARIFF                     A           B  \n",
       "0               A          UNIT_JAN2010       113.0  \n",
       "1               A  READING_DATE_JAN2010  06/01/2010  \n",
       "2               A          UNIT_FEB2010       129.0  \n",
       "3               A  READING_DATE_FEB2010  06/02/2010  \n",
       "4               A          UNIT_MAR2010       143.0  "
      ]
     },
     "execution_count": 93,
     "metadata": {},
     "output_type": "execute_result"
    }
   ],
   "source": [
    "df_tongi = pd.read_csv('../tongi_merged_data.csv')\n",
    "df_tongi.head()"
   ]
  },
  {
   "cell_type": "code",
   "execution_count": 94,
   "metadata": {
    "collapsed": true
   },
   "outputs": [],
   "source": [
    "df_tongi_copy = df_tongi"
   ]
  },
  {
   "cell_type": "code",
   "execution_count": 95,
   "metadata": {
    "collapsed": true
   },
   "outputs": [],
   "source": [
    "df_tongi_copy['UNIT'] = unit_year_df['UNIT']"
   ]
  },
  {
   "cell_type": "code",
   "execution_count": 96,
   "metadata": {
    "collapsed": false
   },
   "outputs": [
    {
     "data": {
      "text/html": [
       "<div>\n",
       "<table border=\"1\" class=\"dataframe\">\n",
       "  <thead>\n",
       "    <tr style=\"text-align: right;\">\n",
       "      <th></th>\n",
       "      <th>ACCOUNT_NO</th>\n",
       "      <th>METER_NO</th>\n",
       "      <th>BILLING_ZONE</th>\n",
       "      <th>BLOCK_BILL</th>\n",
       "      <th>ROUTE_NUMBER</th>\n",
       "      <th>NAME</th>\n",
       "      <th>ADDRESS</th>\n",
       "      <th>LOAD</th>\n",
       "      <th>SANCTION_TARIFF</th>\n",
       "      <th>A</th>\n",
       "      <th>B</th>\n",
       "      <th>UNIT</th>\n",
       "    </tr>\n",
       "  </thead>\n",
       "  <tbody>\n",
       "    <tr>\n",
       "      <th>0</th>\n",
       "      <td>23211011</td>\n",
       "      <td>12659411/12</td>\n",
       "      <td>EA</td>\n",
       "      <td>A01</td>\n",
       "      <td>20.0</td>\n",
       "      <td>MANAGER GTPS 80 MW  TONGI MALOTI GR</td>\n",
       "      <td>GTPS 80 MW TONGI,</td>\n",
       "      <td>2.0</td>\n",
       "      <td>A</td>\n",
       "      <td>UNIT_JAN2010</td>\n",
       "      <td>113.0</td>\n",
       "      <td>113.0</td>\n",
       "    </tr>\n",
       "    <tr>\n",
       "      <th>1</th>\n",
       "      <td>23211011</td>\n",
       "      <td>12659411/12</td>\n",
       "      <td>EA</td>\n",
       "      <td>A01</td>\n",
       "      <td>20.0</td>\n",
       "      <td>MANAGER GTPS 80 MW  TONGI MALOTI GR</td>\n",
       "      <td>GTPS 80 MW TONGI,</td>\n",
       "      <td>2.0</td>\n",
       "      <td>A</td>\n",
       "      <td>READING_DATE_JAN2010</td>\n",
       "      <td>06/01/2010</td>\n",
       "      <td>113.0</td>\n",
       "    </tr>\n",
       "    <tr>\n",
       "      <th>2</th>\n",
       "      <td>23211011</td>\n",
       "      <td>12659411/12</td>\n",
       "      <td>EA</td>\n",
       "      <td>A01</td>\n",
       "      <td>20.0</td>\n",
       "      <td>MANAGER GTPS 80 MW  TONGI MALOTI GR</td>\n",
       "      <td>GTPS 80 MW TONGI,</td>\n",
       "      <td>2.0</td>\n",
       "      <td>A</td>\n",
       "      <td>UNIT_FEB2010</td>\n",
       "      <td>129.0</td>\n",
       "      <td>129.0</td>\n",
       "    </tr>\n",
       "    <tr>\n",
       "      <th>3</th>\n",
       "      <td>23211011</td>\n",
       "      <td>12659411/12</td>\n",
       "      <td>EA</td>\n",
       "      <td>A01</td>\n",
       "      <td>20.0</td>\n",
       "      <td>MANAGER GTPS 80 MW  TONGI MALOTI GR</td>\n",
       "      <td>GTPS 80 MW TONGI,</td>\n",
       "      <td>2.0</td>\n",
       "      <td>A</td>\n",
       "      <td>READING_DATE_FEB2010</td>\n",
       "      <td>06/02/2010</td>\n",
       "      <td>129.0</td>\n",
       "    </tr>\n",
       "    <tr>\n",
       "      <th>4</th>\n",
       "      <td>23211011</td>\n",
       "      <td>12659411/12</td>\n",
       "      <td>EA</td>\n",
       "      <td>A01</td>\n",
       "      <td>20.0</td>\n",
       "      <td>MANAGER GTPS 80 MW  TONGI MALOTI GR</td>\n",
       "      <td>GTPS 80 MW TONGI,</td>\n",
       "      <td>2.0</td>\n",
       "      <td>A</td>\n",
       "      <td>UNIT_MAR2010</td>\n",
       "      <td>143.0</td>\n",
       "      <td>143.0</td>\n",
       "    </tr>\n",
       "  </tbody>\n",
       "</table>\n",
       "</div>"
      ],
      "text/plain": [
       "  ACCOUNT_NO     METER_NO BILLING_ZONE BLOCK_BILL  ROUTE_NUMBER  \\\n",
       "0   23211011  12659411/12           EA        A01          20.0   \n",
       "1   23211011  12659411/12           EA        A01          20.0   \n",
       "2   23211011  12659411/12           EA        A01          20.0   \n",
       "3   23211011  12659411/12           EA        A01          20.0   \n",
       "4   23211011  12659411/12           EA        A01          20.0   \n",
       "\n",
       "                                  NAME            ADDRESS  LOAD  \\\n",
       "0  MANAGER GTPS 80 MW  TONGI MALOTI GR  GTPS 80 MW TONGI,   2.0   \n",
       "1  MANAGER GTPS 80 MW  TONGI MALOTI GR  GTPS 80 MW TONGI,   2.0   \n",
       "2  MANAGER GTPS 80 MW  TONGI MALOTI GR  GTPS 80 MW TONGI,   2.0   \n",
       "3  MANAGER GTPS 80 MW  TONGI MALOTI GR  GTPS 80 MW TONGI,   2.0   \n",
       "4  MANAGER GTPS 80 MW  TONGI MALOTI GR  GTPS 80 MW TONGI,   2.0   \n",
       "\n",
       "  SANCTION_TARIFF                     A           B   UNIT  \n",
       "0               A          UNIT_JAN2010       113.0  113.0  \n",
       "1               A  READING_DATE_JAN2010  06/01/2010  113.0  \n",
       "2               A          UNIT_FEB2010       129.0  129.0  \n",
       "3               A  READING_DATE_FEB2010  06/02/2010  129.0  \n",
       "4               A          UNIT_MAR2010       143.0  143.0  "
      ]
     },
     "execution_count": 96,
     "metadata": {},
     "output_type": "execute_result"
    }
   ],
   "source": [
    "df_tongi_copy.head()"
   ]
  },
  {
   "cell_type": "code",
   "execution_count": 97,
   "metadata": {
    "collapsed": false
   },
   "outputs": [
    {
     "data": {
      "text/html": [
       "<div>\n",
       "<table border=\"1\" class=\"dataframe\">\n",
       "  <thead>\n",
       "    <tr style=\"text-align: right;\">\n",
       "      <th></th>\n",
       "      <th>ACCOUNT_NO</th>\n",
       "      <th>METER_NO</th>\n",
       "      <th>BILLING_ZONE</th>\n",
       "      <th>BLOCK_BILL</th>\n",
       "      <th>ROUTE_NUMBER</th>\n",
       "      <th>NAME</th>\n",
       "      <th>ADDRESS</th>\n",
       "      <th>LOAD</th>\n",
       "      <th>SANCTION_TARIFF</th>\n",
       "      <th>A</th>\n",
       "      <th>B</th>\n",
       "      <th>UNIT</th>\n",
       "      <th>DATE</th>\n",
       "    </tr>\n",
       "  </thead>\n",
       "  <tbody>\n",
       "    <tr>\n",
       "      <th>0</th>\n",
       "      <td>23211011</td>\n",
       "      <td>12659411/12</td>\n",
       "      <td>EA</td>\n",
       "      <td>A01</td>\n",
       "      <td>20.0</td>\n",
       "      <td>MANAGER GTPS 80 MW  TONGI MALOTI GR</td>\n",
       "      <td>GTPS 80 MW TONGI,</td>\n",
       "      <td>2.0</td>\n",
       "      <td>A</td>\n",
       "      <td>UNIT_JAN2010</td>\n",
       "      <td>113.0</td>\n",
       "      <td>113.0</td>\n",
       "      <td>06/01/2010</td>\n",
       "    </tr>\n",
       "    <tr>\n",
       "      <th>1</th>\n",
       "      <td>23211011</td>\n",
       "      <td>12659411/12</td>\n",
       "      <td>EA</td>\n",
       "      <td>A01</td>\n",
       "      <td>20.0</td>\n",
       "      <td>MANAGER GTPS 80 MW  TONGI MALOTI GR</td>\n",
       "      <td>GTPS 80 MW TONGI,</td>\n",
       "      <td>2.0</td>\n",
       "      <td>A</td>\n",
       "      <td>READING_DATE_JAN2010</td>\n",
       "      <td>06/01/2010</td>\n",
       "      <td>113.0</td>\n",
       "      <td>06/01/2010</td>\n",
       "    </tr>\n",
       "    <tr>\n",
       "      <th>2</th>\n",
       "      <td>23211011</td>\n",
       "      <td>12659411/12</td>\n",
       "      <td>EA</td>\n",
       "      <td>A01</td>\n",
       "      <td>20.0</td>\n",
       "      <td>MANAGER GTPS 80 MW  TONGI MALOTI GR</td>\n",
       "      <td>GTPS 80 MW TONGI,</td>\n",
       "      <td>2.0</td>\n",
       "      <td>A</td>\n",
       "      <td>UNIT_FEB2010</td>\n",
       "      <td>129.0</td>\n",
       "      <td>129.0</td>\n",
       "      <td>06/02/2010</td>\n",
       "    </tr>\n",
       "    <tr>\n",
       "      <th>3</th>\n",
       "      <td>23211011</td>\n",
       "      <td>12659411/12</td>\n",
       "      <td>EA</td>\n",
       "      <td>A01</td>\n",
       "      <td>20.0</td>\n",
       "      <td>MANAGER GTPS 80 MW  TONGI MALOTI GR</td>\n",
       "      <td>GTPS 80 MW TONGI,</td>\n",
       "      <td>2.0</td>\n",
       "      <td>A</td>\n",
       "      <td>READING_DATE_FEB2010</td>\n",
       "      <td>06/02/2010</td>\n",
       "      <td>129.0</td>\n",
       "      <td>06/02/2010</td>\n",
       "    </tr>\n",
       "    <tr>\n",
       "      <th>4</th>\n",
       "      <td>23211011</td>\n",
       "      <td>12659411/12</td>\n",
       "      <td>EA</td>\n",
       "      <td>A01</td>\n",
       "      <td>20.0</td>\n",
       "      <td>MANAGER GTPS 80 MW  TONGI MALOTI GR</td>\n",
       "      <td>GTPS 80 MW TONGI,</td>\n",
       "      <td>2.0</td>\n",
       "      <td>A</td>\n",
       "      <td>UNIT_MAR2010</td>\n",
       "      <td>143.0</td>\n",
       "      <td>143.0</td>\n",
       "      <td>06/03/2010</td>\n",
       "    </tr>\n",
       "  </tbody>\n",
       "</table>\n",
       "</div>"
      ],
      "text/plain": [
       "  ACCOUNT_NO     METER_NO BILLING_ZONE BLOCK_BILL  ROUTE_NUMBER  \\\n",
       "0   23211011  12659411/12           EA        A01          20.0   \n",
       "1   23211011  12659411/12           EA        A01          20.0   \n",
       "2   23211011  12659411/12           EA        A01          20.0   \n",
       "3   23211011  12659411/12           EA        A01          20.0   \n",
       "4   23211011  12659411/12           EA        A01          20.0   \n",
       "\n",
       "                                  NAME            ADDRESS  LOAD  \\\n",
       "0  MANAGER GTPS 80 MW  TONGI MALOTI GR  GTPS 80 MW TONGI,   2.0   \n",
       "1  MANAGER GTPS 80 MW  TONGI MALOTI GR  GTPS 80 MW TONGI,   2.0   \n",
       "2  MANAGER GTPS 80 MW  TONGI MALOTI GR  GTPS 80 MW TONGI,   2.0   \n",
       "3  MANAGER GTPS 80 MW  TONGI MALOTI GR  GTPS 80 MW TONGI,   2.0   \n",
       "4  MANAGER GTPS 80 MW  TONGI MALOTI GR  GTPS 80 MW TONGI,   2.0   \n",
       "\n",
       "  SANCTION_TARIFF                     A           B   UNIT        DATE  \n",
       "0               A          UNIT_JAN2010       113.0  113.0  06/01/2010  \n",
       "1               A  READING_DATE_JAN2010  06/01/2010  113.0  06/01/2010  \n",
       "2               A          UNIT_FEB2010       129.0  129.0  06/02/2010  \n",
       "3               A  READING_DATE_FEB2010  06/02/2010  129.0  06/02/2010  \n",
       "4               A          UNIT_MAR2010       143.0  143.0  06/03/2010  "
      ]
     },
     "execution_count": 97,
     "metadata": {},
     "output_type": "execute_result"
    }
   ],
   "source": [
    "df_tongi['UNIT'] = unit_year_df['UNIT']\n",
    "df_tongi['DATE'] = unit_year_df['DATE']\n",
    "df_tongi.head()"
   ]
  },
  {
   "cell_type": "code",
   "execution_count": 98,
   "metadata": {
    "collapsed": true
   },
   "outputs": [],
   "source": [
    "df_tongi = df_tongi.drop('A', 1)"
   ]
  },
  {
   "cell_type": "code",
   "execution_count": 99,
   "metadata": {
    "collapsed": true
   },
   "outputs": [],
   "source": [
    "df_tongi = df_tongi.drop('B', 1)"
   ]
  },
  {
   "cell_type": "code",
   "execution_count": 100,
   "metadata": {
    "collapsed": false
   },
   "outputs": [
    {
     "data": {
      "text/html": [
       "<div>\n",
       "<table border=\"1\" class=\"dataframe\">\n",
       "  <thead>\n",
       "    <tr style=\"text-align: right;\">\n",
       "      <th></th>\n",
       "      <th>ACCOUNT_NO</th>\n",
       "      <th>METER_NO</th>\n",
       "      <th>BILLING_ZONE</th>\n",
       "      <th>BLOCK_BILL</th>\n",
       "      <th>ROUTE_NUMBER</th>\n",
       "      <th>NAME</th>\n",
       "      <th>ADDRESS</th>\n",
       "      <th>LOAD</th>\n",
       "      <th>SANCTION_TARIFF</th>\n",
       "      <th>UNIT</th>\n",
       "      <th>DATE</th>\n",
       "    </tr>\n",
       "  </thead>\n",
       "  <tbody>\n",
       "    <tr>\n",
       "      <th>0</th>\n",
       "      <td>23211011</td>\n",
       "      <td>12659411/12</td>\n",
       "      <td>EA</td>\n",
       "      <td>A01</td>\n",
       "      <td>20.0</td>\n",
       "      <td>MANAGER GTPS 80 MW  TONGI MALOTI GR</td>\n",
       "      <td>GTPS 80 MW TONGI,</td>\n",
       "      <td>2.0</td>\n",
       "      <td>A</td>\n",
       "      <td>113.0</td>\n",
       "      <td>06/01/2010</td>\n",
       "    </tr>\n",
       "    <tr>\n",
       "      <th>1</th>\n",
       "      <td>23211011</td>\n",
       "      <td>12659411/12</td>\n",
       "      <td>EA</td>\n",
       "      <td>A01</td>\n",
       "      <td>20.0</td>\n",
       "      <td>MANAGER GTPS 80 MW  TONGI MALOTI GR</td>\n",
       "      <td>GTPS 80 MW TONGI,</td>\n",
       "      <td>2.0</td>\n",
       "      <td>A</td>\n",
       "      <td>113.0</td>\n",
       "      <td>06/01/2010</td>\n",
       "    </tr>\n",
       "    <tr>\n",
       "      <th>2</th>\n",
       "      <td>23211011</td>\n",
       "      <td>12659411/12</td>\n",
       "      <td>EA</td>\n",
       "      <td>A01</td>\n",
       "      <td>20.0</td>\n",
       "      <td>MANAGER GTPS 80 MW  TONGI MALOTI GR</td>\n",
       "      <td>GTPS 80 MW TONGI,</td>\n",
       "      <td>2.0</td>\n",
       "      <td>A</td>\n",
       "      <td>129.0</td>\n",
       "      <td>06/02/2010</td>\n",
       "    </tr>\n",
       "    <tr>\n",
       "      <th>3</th>\n",
       "      <td>23211011</td>\n",
       "      <td>12659411/12</td>\n",
       "      <td>EA</td>\n",
       "      <td>A01</td>\n",
       "      <td>20.0</td>\n",
       "      <td>MANAGER GTPS 80 MW  TONGI MALOTI GR</td>\n",
       "      <td>GTPS 80 MW TONGI,</td>\n",
       "      <td>2.0</td>\n",
       "      <td>A</td>\n",
       "      <td>129.0</td>\n",
       "      <td>06/02/2010</td>\n",
       "    </tr>\n",
       "    <tr>\n",
       "      <th>4</th>\n",
       "      <td>23211011</td>\n",
       "      <td>12659411/12</td>\n",
       "      <td>EA</td>\n",
       "      <td>A01</td>\n",
       "      <td>20.0</td>\n",
       "      <td>MANAGER GTPS 80 MW  TONGI MALOTI GR</td>\n",
       "      <td>GTPS 80 MW TONGI,</td>\n",
       "      <td>2.0</td>\n",
       "      <td>A</td>\n",
       "      <td>143.0</td>\n",
       "      <td>06/03/2010</td>\n",
       "    </tr>\n",
       "  </tbody>\n",
       "</table>\n",
       "</div>"
      ],
      "text/plain": [
       "  ACCOUNT_NO     METER_NO BILLING_ZONE BLOCK_BILL  ROUTE_NUMBER  \\\n",
       "0   23211011  12659411/12           EA        A01          20.0   \n",
       "1   23211011  12659411/12           EA        A01          20.0   \n",
       "2   23211011  12659411/12           EA        A01          20.0   \n",
       "3   23211011  12659411/12           EA        A01          20.0   \n",
       "4   23211011  12659411/12           EA        A01          20.0   \n",
       "\n",
       "                                  NAME            ADDRESS  LOAD  \\\n",
       "0  MANAGER GTPS 80 MW  TONGI MALOTI GR  GTPS 80 MW TONGI,   2.0   \n",
       "1  MANAGER GTPS 80 MW  TONGI MALOTI GR  GTPS 80 MW TONGI,   2.0   \n",
       "2  MANAGER GTPS 80 MW  TONGI MALOTI GR  GTPS 80 MW TONGI,   2.0   \n",
       "3  MANAGER GTPS 80 MW  TONGI MALOTI GR  GTPS 80 MW TONGI,   2.0   \n",
       "4  MANAGER GTPS 80 MW  TONGI MALOTI GR  GTPS 80 MW TONGI,   2.0   \n",
       "\n",
       "  SANCTION_TARIFF   UNIT        DATE  \n",
       "0               A  113.0  06/01/2010  \n",
       "1               A  113.0  06/01/2010  \n",
       "2               A  129.0  06/02/2010  \n",
       "3               A  129.0  06/02/2010  \n",
       "4               A  143.0  06/03/2010  "
      ]
     },
     "execution_count": 100,
     "metadata": {},
     "output_type": "execute_result"
    }
   ],
   "source": [
    "df_tongi.head()\n"
   ]
  },
  {
   "cell_type": "code",
   "execution_count": 101,
   "metadata": {
    "collapsed": false
   },
   "outputs": [
    {
     "data": {
      "text/html": [
       "<div>\n",
       "<table border=\"1\" class=\"dataframe\">\n",
       "  <thead>\n",
       "    <tr style=\"text-align: right;\">\n",
       "      <th></th>\n",
       "      <th>ACCOUNT_NO</th>\n",
       "      <th>METER_NO</th>\n",
       "      <th>BILLING_ZONE</th>\n",
       "      <th>BLOCK_BILL</th>\n",
       "      <th>ROUTE_NUMBER</th>\n",
       "      <th>NAME</th>\n",
       "      <th>ADDRESS</th>\n",
       "      <th>LOAD</th>\n",
       "      <th>SANCTION_TARIFF</th>\n",
       "      <th>UNIT</th>\n",
       "      <th>DATE</th>\n",
       "    </tr>\n",
       "  </thead>\n",
       "  <tbody>\n",
       "    <tr>\n",
       "      <th>4891423</th>\n",
       "      <td>23181741</td>\n",
       "      <td>1015055</td>\n",
       "      <td>EW</td>\n",
       "      <td>XV4</td>\n",
       "      <td>1401.0</td>\n",
       "      <td>MD.HOSSAIN MAZED</td>\n",
       "      <td>DAG-72,VATULIAH TURAG,</td>\n",
       "      <td>2.0</td>\n",
       "      <td>A</td>\n",
       "      <td>0.0</td>\n",
       "      <td>15/08/2016</td>\n",
       "    </tr>\n",
       "    <tr>\n",
       "      <th>4891424</th>\n",
       "      <td>23181741</td>\n",
       "      <td>1015055</td>\n",
       "      <td>EW</td>\n",
       "      <td>XV4</td>\n",
       "      <td>1401.0</td>\n",
       "      <td>MD.HOSSAIN MAZED</td>\n",
       "      <td>DAG-72,VATULIAH TURAG,</td>\n",
       "      <td>2.0</td>\n",
       "      <td>A</td>\n",
       "      <td>0</td>\n",
       "      <td>07/09/2016</td>\n",
       "    </tr>\n",
       "    <tr>\n",
       "      <th>4891425</th>\n",
       "      <td>23181741</td>\n",
       "      <td>1015055</td>\n",
       "      <td>EW</td>\n",
       "      <td>XV4</td>\n",
       "      <td>1401.0</td>\n",
       "      <td>MD.HOSSAIN MAZED</td>\n",
       "      <td>DAG-72,VATULIAH TURAG,</td>\n",
       "      <td>2.0</td>\n",
       "      <td>A</td>\n",
       "      <td>0</td>\n",
       "      <td>07/09/2016</td>\n",
       "    </tr>\n",
       "    <tr>\n",
       "      <th>4891426</th>\n",
       "      <td>UNIT</td>\n",
       "      <td>NaN</td>\n",
       "      <td>NaN</td>\n",
       "      <td>NaN</td>\n",
       "      <td>NaN</td>\n",
       "      <td>NaN</td>\n",
       "      <td>NaN</td>\n",
       "      <td>NaN</td>\n",
       "      <td>NaN</td>\n",
       "      <td>NaN</td>\n",
       "      <td>NaN</td>\n",
       "    </tr>\n",
       "    <tr>\n",
       "      <th>4891427</th>\n",
       "      <td>DATE</td>\n",
       "      <td>NaN</td>\n",
       "      <td>NaN</td>\n",
       "      <td>NaN</td>\n",
       "      <td>NaN</td>\n",
       "      <td>NaN</td>\n",
       "      <td>NaN</td>\n",
       "      <td>NaN</td>\n",
       "      <td>NaN</td>\n",
       "      <td>NaN</td>\n",
       "      <td>NaN</td>\n",
       "    </tr>\n",
       "  </tbody>\n",
       "</table>\n",
       "</div>"
      ],
      "text/plain": [
       "        ACCOUNT_NO METER_NO BILLING_ZONE BLOCK_BILL  ROUTE_NUMBER  \\\n",
       "4891423   23181741  1015055           EW        XV4        1401.0   \n",
       "4891424   23181741  1015055           EW        XV4        1401.0   \n",
       "4891425   23181741  1015055           EW        XV4        1401.0   \n",
       "4891426       UNIT      NaN          NaN        NaN           NaN   \n",
       "4891427       DATE      NaN          NaN        NaN           NaN   \n",
       "\n",
       "                     NAME                 ADDRESS  LOAD SANCTION_TARIFF UNIT  \\\n",
       "4891423  MD.HOSSAIN MAZED  DAG-72,VATULIAH TURAG,   2.0               A  0.0   \n",
       "4891424  MD.HOSSAIN MAZED  DAG-72,VATULIAH TURAG,   2.0               A    0   \n",
       "4891425  MD.HOSSAIN MAZED  DAG-72,VATULIAH TURAG,   2.0               A    0   \n",
       "4891426               NaN                     NaN   NaN             NaN  NaN   \n",
       "4891427               NaN                     NaN   NaN             NaN  NaN   \n",
       "\n",
       "               DATE  \n",
       "4891423  15/08/2016  \n",
       "4891424  07/09/2016  \n",
       "4891425  07/09/2016  \n",
       "4891426         NaN  \n",
       "4891427         NaN  "
      ]
     },
     "execution_count": 101,
     "metadata": {},
     "output_type": "execute_result"
    }
   ],
   "source": [
    "df_tongi.tail()"
   ]
  },
  {
   "cell_type": "code",
   "execution_count": 105,
   "metadata": {
    "collapsed": true
   },
   "outputs": [],
   "source": [
    "df_tongi_copy = df_tongi"
   ]
  },
  {
   "cell_type": "code",
   "execution_count": 106,
   "metadata": {
    "collapsed": false
   },
   "outputs": [],
   "source": [
    "df_tongi_copy.drop_duplicates(inplace=True)"
   ]
  },
  {
   "cell_type": "code",
   "execution_count": 107,
   "metadata": {
    "collapsed": false
   },
   "outputs": [
    {
     "data": {
      "text/html": [
       "<div>\n",
       "<table border=\"1\" class=\"dataframe\">\n",
       "  <thead>\n",
       "    <tr style=\"text-align: right;\">\n",
       "      <th></th>\n",
       "      <th>ACCOUNT_NO</th>\n",
       "      <th>METER_NO</th>\n",
       "      <th>BILLING_ZONE</th>\n",
       "      <th>BLOCK_BILL</th>\n",
       "      <th>ROUTE_NUMBER</th>\n",
       "      <th>NAME</th>\n",
       "      <th>ADDRESS</th>\n",
       "      <th>LOAD</th>\n",
       "      <th>SANCTION_TARIFF</th>\n",
       "      <th>UNIT</th>\n",
       "      <th>DATE</th>\n",
       "    </tr>\n",
       "  </thead>\n",
       "  <tbody>\n",
       "    <tr>\n",
       "      <th>0</th>\n",
       "      <td>23211011</td>\n",
       "      <td>12659411/12</td>\n",
       "      <td>EA</td>\n",
       "      <td>A01</td>\n",
       "      <td>20.0</td>\n",
       "      <td>MANAGER GTPS 80 MW  TONGI MALOTI GR</td>\n",
       "      <td>GTPS 80 MW TONGI,</td>\n",
       "      <td>2.0</td>\n",
       "      <td>A</td>\n",
       "      <td>113.0</td>\n",
       "      <td>06/01/2010</td>\n",
       "    </tr>\n",
       "    <tr>\n",
       "      <th>2</th>\n",
       "      <td>23211011</td>\n",
       "      <td>12659411/12</td>\n",
       "      <td>EA</td>\n",
       "      <td>A01</td>\n",
       "      <td>20.0</td>\n",
       "      <td>MANAGER GTPS 80 MW  TONGI MALOTI GR</td>\n",
       "      <td>GTPS 80 MW TONGI,</td>\n",
       "      <td>2.0</td>\n",
       "      <td>A</td>\n",
       "      <td>129.0</td>\n",
       "      <td>06/02/2010</td>\n",
       "    </tr>\n",
       "    <tr>\n",
       "      <th>4</th>\n",
       "      <td>23211011</td>\n",
       "      <td>12659411/12</td>\n",
       "      <td>EA</td>\n",
       "      <td>A01</td>\n",
       "      <td>20.0</td>\n",
       "      <td>MANAGER GTPS 80 MW  TONGI MALOTI GR</td>\n",
       "      <td>GTPS 80 MW TONGI,</td>\n",
       "      <td>2.0</td>\n",
       "      <td>A</td>\n",
       "      <td>143.0</td>\n",
       "      <td>06/03/2010</td>\n",
       "    </tr>\n",
       "    <tr>\n",
       "      <th>6</th>\n",
       "      <td>23211011</td>\n",
       "      <td>12659411/12</td>\n",
       "      <td>EA</td>\n",
       "      <td>A01</td>\n",
       "      <td>20.0</td>\n",
       "      <td>MANAGER GTPS 80 MW  TONGI MALOTI GR</td>\n",
       "      <td>GTPS 80 MW TONGI,</td>\n",
       "      <td>2.0</td>\n",
       "      <td>A</td>\n",
       "      <td>209.0</td>\n",
       "      <td>05/04/2010</td>\n",
       "    </tr>\n",
       "    <tr>\n",
       "      <th>8</th>\n",
       "      <td>23211011</td>\n",
       "      <td>12659411/12</td>\n",
       "      <td>EA</td>\n",
       "      <td>A01</td>\n",
       "      <td>20.0</td>\n",
       "      <td>MANAGER GTPS 80 MW  TONGI MALOTI GR</td>\n",
       "      <td>GTPS 80 MW TONGI,</td>\n",
       "      <td>2.0</td>\n",
       "      <td>A</td>\n",
       "      <td>215.0</td>\n",
       "      <td>05/05/2010</td>\n",
       "    </tr>\n",
       "  </tbody>\n",
       "</table>\n",
       "</div>"
      ],
      "text/plain": [
       "  ACCOUNT_NO     METER_NO BILLING_ZONE BLOCK_BILL  ROUTE_NUMBER  \\\n",
       "0   23211011  12659411/12           EA        A01          20.0   \n",
       "2   23211011  12659411/12           EA        A01          20.0   \n",
       "4   23211011  12659411/12           EA        A01          20.0   \n",
       "6   23211011  12659411/12           EA        A01          20.0   \n",
       "8   23211011  12659411/12           EA        A01          20.0   \n",
       "\n",
       "                                  NAME            ADDRESS  LOAD  \\\n",
       "0  MANAGER GTPS 80 MW  TONGI MALOTI GR  GTPS 80 MW TONGI,   2.0   \n",
       "2  MANAGER GTPS 80 MW  TONGI MALOTI GR  GTPS 80 MW TONGI,   2.0   \n",
       "4  MANAGER GTPS 80 MW  TONGI MALOTI GR  GTPS 80 MW TONGI,   2.0   \n",
       "6  MANAGER GTPS 80 MW  TONGI MALOTI GR  GTPS 80 MW TONGI,   2.0   \n",
       "8  MANAGER GTPS 80 MW  TONGI MALOTI GR  GTPS 80 MW TONGI,   2.0   \n",
       "\n",
       "  SANCTION_TARIFF   UNIT        DATE  \n",
       "0               A  113.0  06/01/2010  \n",
       "2               A  129.0  06/02/2010  \n",
       "4               A  143.0  06/03/2010  \n",
       "6               A  209.0  05/04/2010  \n",
       "8               A  215.0  05/05/2010  "
      ]
     },
     "execution_count": 107,
     "metadata": {},
     "output_type": "execute_result"
    }
   ],
   "source": [
    "df_tongi_copy.head()"
   ]
  },
  {
   "cell_type": "code",
   "execution_count": 111,
   "metadata": {
    "collapsed": true
   },
   "outputs": [],
   "source": [
    "df_tongi_copy.UNIT = df_tongi_copy.UNIT.apply(pd.to_numeric)"
   ]
  },
  {
   "cell_type": "code",
   "execution_count": 115,
   "metadata": {
    "collapsed": false
   },
   "outputs": [
    {
     "data": {
      "text/plain": [
       "'2010'"
      ]
     },
     "execution_count": 115,
     "metadata": {},
     "output_type": "execute_result"
    }
   ],
   "source": [
    "df_tongi_copy.DATE[0].split('/')[2]"
   ]
  },
  {
   "cell_type": "code",
   "execution_count": 121,
   "metadata": {
    "collapsed": false
   },
   "outputs": [
    {
     "ename": "OutOfBoundsDatetime",
     "evalue": "Out of bounds nanosecond timestamp: 13-09-23 00:00:00",
     "output_type": "error",
     "traceback": [
      "\u001b[0;31m---------------------------------------------------------------------------\u001b[0m",
      "\u001b[0;31mTypeError\u001b[0m                                 Traceback (most recent call last)",
      "\u001b[0;32m/Users/pd/anaconda/lib/python3.5/site-packages/pandas/tseries/tools.py\u001b[0m in \u001b[0;36m_convert_listlike\u001b[0;34m(arg, box, format, name)\u001b[0m\n\u001b[1;32m    408\u001b[0m             \u001b[0;32mtry\u001b[0m\u001b[0;34m:\u001b[0m\u001b[0;34m\u001b[0m\u001b[0m\n\u001b[0;32m--> 409\u001b[0;31m                 \u001b[0mvalues\u001b[0m\u001b[0;34m,\u001b[0m \u001b[0mtz\u001b[0m \u001b[0;34m=\u001b[0m \u001b[0mtslib\u001b[0m\u001b[0;34m.\u001b[0m\u001b[0mdatetime_to_datetime64\u001b[0m\u001b[0;34m(\u001b[0m\u001b[0marg\u001b[0m\u001b[0;34m)\u001b[0m\u001b[0;34m\u001b[0m\u001b[0m\n\u001b[0m\u001b[1;32m    410\u001b[0m                 \u001b[0;32mreturn\u001b[0m \u001b[0mDatetimeIndex\u001b[0m\u001b[0;34m.\u001b[0m\u001b[0m_simple_new\u001b[0m\u001b[0;34m(\u001b[0m\u001b[0mvalues\u001b[0m\u001b[0;34m,\u001b[0m \u001b[0mname\u001b[0m\u001b[0;34m=\u001b[0m\u001b[0mname\u001b[0m\u001b[0;34m,\u001b[0m \u001b[0mtz\u001b[0m\u001b[0;34m=\u001b[0m\u001b[0mtz\u001b[0m\u001b[0;34m)\u001b[0m\u001b[0;34m\u001b[0m\u001b[0m\n",
      "\u001b[0;32mpandas/tslib.pyx\u001b[0m in \u001b[0;36mpandas.tslib.datetime_to_datetime64 (pandas/tslib.c:29768)\u001b[0;34m()\u001b[0m\n",
      "\u001b[0;31mTypeError\u001b[0m: Unrecognized value type: <class 'str'>",
      "\nDuring handling of the above exception, another exception occurred:\n",
      "\u001b[0;31mOutOfBoundsDatetime\u001b[0m                       Traceback (most recent call last)",
      "\u001b[0;32m<ipython-input-121-aaddb44e37da>\u001b[0m in \u001b[0;36m<module>\u001b[0;34m()\u001b[0m\n\u001b[0;32m----> 1\u001b[0;31m \u001b[0mdf_tongi_copy\u001b[0m\u001b[0;34m.\u001b[0m\u001b[0mDATE\u001b[0m \u001b[0;34m=\u001b[0m \u001b[0mpd\u001b[0m\u001b[0;34m.\u001b[0m\u001b[0mto_datetime\u001b[0m\u001b[0;34m(\u001b[0m\u001b[0mdf_tongi_copy\u001b[0m\u001b[0;34m.\u001b[0m\u001b[0mDATE\u001b[0m\u001b[0;34m,\u001b[0m\u001b[0mdayfirst\u001b[0m\u001b[0;34m=\u001b[0m\u001b[0;32mTrue\u001b[0m\u001b[0;34m)\u001b[0m\u001b[0;34m\u001b[0m\u001b[0m\n\u001b[0m",
      "\u001b[0;32m/Users/pd/anaconda/lib/python3.5/site-packages/pandas/util/decorators.py\u001b[0m in \u001b[0;36mwrapper\u001b[0;34m(*args, **kwargs)\u001b[0m\n\u001b[1;32m     89\u001b[0m                 \u001b[0;32melse\u001b[0m\u001b[0;34m:\u001b[0m\u001b[0;34m\u001b[0m\u001b[0m\n\u001b[1;32m     90\u001b[0m                     \u001b[0mkwargs\u001b[0m\u001b[0;34m[\u001b[0m\u001b[0mnew_arg_name\u001b[0m\u001b[0;34m]\u001b[0m \u001b[0;34m=\u001b[0m \u001b[0mnew_arg_value\u001b[0m\u001b[0;34m\u001b[0m\u001b[0m\n\u001b[0;32m---> 91\u001b[0;31m             \u001b[0;32mreturn\u001b[0m \u001b[0mfunc\u001b[0m\u001b[0;34m(\u001b[0m\u001b[0;34m*\u001b[0m\u001b[0margs\u001b[0m\u001b[0;34m,\u001b[0m \u001b[0;34m**\u001b[0m\u001b[0mkwargs\u001b[0m\u001b[0;34m)\u001b[0m\u001b[0;34m\u001b[0m\u001b[0m\n\u001b[0m\u001b[1;32m     92\u001b[0m         \u001b[0;32mreturn\u001b[0m \u001b[0mwrapper\u001b[0m\u001b[0;34m\u001b[0m\u001b[0m\n\u001b[1;32m     93\u001b[0m     \u001b[0;32mreturn\u001b[0m \u001b[0m_deprecate_kwarg\u001b[0m\u001b[0;34m\u001b[0m\u001b[0m\n",
      "\u001b[0;32m/Users/pd/anaconda/lib/python3.5/site-packages/pandas/tseries/tools.py\u001b[0m in \u001b[0;36mto_datetime\u001b[0;34m(arg, errors, dayfirst, yearfirst, utc, box, format, exact, coerce, unit, infer_datetime_format)\u001b[0m\n\u001b[1;32m    289\u001b[0m                         \u001b[0myearfirst\u001b[0m\u001b[0;34m=\u001b[0m\u001b[0myearfirst\u001b[0m\u001b[0;34m,\u001b[0m\u001b[0;34m\u001b[0m\u001b[0m\n\u001b[1;32m    290\u001b[0m                         \u001b[0mutc\u001b[0m\u001b[0;34m=\u001b[0m\u001b[0mutc\u001b[0m\u001b[0;34m,\u001b[0m \u001b[0mbox\u001b[0m\u001b[0;34m=\u001b[0m\u001b[0mbox\u001b[0m\u001b[0;34m,\u001b[0m \u001b[0mformat\u001b[0m\u001b[0;34m=\u001b[0m\u001b[0mformat\u001b[0m\u001b[0;34m,\u001b[0m \u001b[0mexact\u001b[0m\u001b[0;34m=\u001b[0m\u001b[0mexact\u001b[0m\u001b[0;34m,\u001b[0m\u001b[0;34m\u001b[0m\u001b[0m\n\u001b[0;32m--> 291\u001b[0;31m                         unit=unit, infer_datetime_format=infer_datetime_format)\n\u001b[0m\u001b[1;32m    292\u001b[0m \u001b[0;34m\u001b[0m\u001b[0m\n\u001b[1;32m    293\u001b[0m \u001b[0;34m\u001b[0m\u001b[0m\n",
      "\u001b[0;32m/Users/pd/anaconda/lib/python3.5/site-packages/pandas/tseries/tools.py\u001b[0m in \u001b[0;36m_to_datetime\u001b[0;34m(arg, errors, dayfirst, yearfirst, utc, box, format, exact, unit, freq, infer_datetime_format)\u001b[0m\n\u001b[1;32m    418\u001b[0m     \u001b[0;32melif\u001b[0m \u001b[0misinstance\u001b[0m\u001b[0;34m(\u001b[0m\u001b[0marg\u001b[0m\u001b[0;34m,\u001b[0m \u001b[0mABCSeries\u001b[0m\u001b[0;34m)\u001b[0m\u001b[0;34m:\u001b[0m\u001b[0;34m\u001b[0m\u001b[0m\n\u001b[1;32m    419\u001b[0m         \u001b[0;32mfrom\u001b[0m \u001b[0mpandas\u001b[0m \u001b[0;32mimport\u001b[0m \u001b[0mSeries\u001b[0m\u001b[0;34m\u001b[0m\u001b[0m\n\u001b[0;32m--> 420\u001b[0;31m         \u001b[0mvalues\u001b[0m \u001b[0;34m=\u001b[0m \u001b[0m_convert_listlike\u001b[0m\u001b[0;34m(\u001b[0m\u001b[0marg\u001b[0m\u001b[0;34m.\u001b[0m\u001b[0m_values\u001b[0m\u001b[0;34m,\u001b[0m \u001b[0;32mFalse\u001b[0m\u001b[0;34m,\u001b[0m \u001b[0mformat\u001b[0m\u001b[0;34m)\u001b[0m\u001b[0;34m\u001b[0m\u001b[0m\n\u001b[0m\u001b[1;32m    421\u001b[0m         \u001b[0;32mreturn\u001b[0m \u001b[0mSeries\u001b[0m\u001b[0;34m(\u001b[0m\u001b[0mvalues\u001b[0m\u001b[0;34m,\u001b[0m \u001b[0mindex\u001b[0m\u001b[0;34m=\u001b[0m\u001b[0marg\u001b[0m\u001b[0;34m.\u001b[0m\u001b[0mindex\u001b[0m\u001b[0;34m,\u001b[0m \u001b[0mname\u001b[0m\u001b[0;34m=\u001b[0m\u001b[0marg\u001b[0m\u001b[0;34m.\u001b[0m\u001b[0mname\u001b[0m\u001b[0;34m)\u001b[0m\u001b[0;34m\u001b[0m\u001b[0m\n\u001b[1;32m    422\u001b[0m     \u001b[0;32melif\u001b[0m \u001b[0misinstance\u001b[0m\u001b[0;34m(\u001b[0m\u001b[0marg\u001b[0m\u001b[0;34m,\u001b[0m \u001b[0;34m(\u001b[0m\u001b[0mABCDataFrame\u001b[0m\u001b[0;34m,\u001b[0m \u001b[0mMutableMapping\u001b[0m\u001b[0;34m)\u001b[0m\u001b[0;34m)\u001b[0m\u001b[0;34m:\u001b[0m\u001b[0;34m\u001b[0m\u001b[0m\n",
      "\u001b[0;32m/Users/pd/anaconda/lib/python3.5/site-packages/pandas/tseries/tools.py\u001b[0m in \u001b[0;36m_convert_listlike\u001b[0;34m(arg, box, format, name)\u001b[0m\n\u001b[1;32m    410\u001b[0m                 \u001b[0;32mreturn\u001b[0m \u001b[0mDatetimeIndex\u001b[0m\u001b[0;34m.\u001b[0m\u001b[0m_simple_new\u001b[0m\u001b[0;34m(\u001b[0m\u001b[0mvalues\u001b[0m\u001b[0;34m,\u001b[0m \u001b[0mname\u001b[0m\u001b[0;34m=\u001b[0m\u001b[0mname\u001b[0m\u001b[0;34m,\u001b[0m \u001b[0mtz\u001b[0m\u001b[0;34m=\u001b[0m\u001b[0mtz\u001b[0m\u001b[0;34m)\u001b[0m\u001b[0;34m\u001b[0m\u001b[0m\n\u001b[1;32m    411\u001b[0m             \u001b[0;32mexcept\u001b[0m \u001b[0;34m(\u001b[0m\u001b[0mValueError\u001b[0m\u001b[0;34m,\u001b[0m \u001b[0mTypeError\u001b[0m\u001b[0;34m)\u001b[0m\u001b[0;34m:\u001b[0m\u001b[0;34m\u001b[0m\u001b[0m\n\u001b[0;32m--> 412\u001b[0;31m                 \u001b[0;32mraise\u001b[0m \u001b[0me\u001b[0m\u001b[0;34m\u001b[0m\u001b[0m\n\u001b[0m\u001b[1;32m    413\u001b[0m \u001b[0;34m\u001b[0m\u001b[0m\n\u001b[1;32m    414\u001b[0m     \u001b[0;32mif\u001b[0m \u001b[0marg\u001b[0m \u001b[0;32mis\u001b[0m \u001b[0;32mNone\u001b[0m\u001b[0;34m:\u001b[0m\u001b[0;34m\u001b[0m\u001b[0m\n",
      "\u001b[0;32m/Users/pd/anaconda/lib/python3.5/site-packages/pandas/tseries/tools.py\u001b[0m in \u001b[0;36m_convert_listlike\u001b[0;34m(arg, box, format, name)\u001b[0m\n\u001b[1;32m    396\u001b[0m                     \u001b[0myearfirst\u001b[0m\u001b[0;34m=\u001b[0m\u001b[0myearfirst\u001b[0m\u001b[0;34m,\u001b[0m\u001b[0;34m\u001b[0m\u001b[0m\n\u001b[1;32m    397\u001b[0m                     \u001b[0mfreq\u001b[0m\u001b[0;34m=\u001b[0m\u001b[0mfreq\u001b[0m\u001b[0;34m,\u001b[0m\u001b[0;34m\u001b[0m\u001b[0m\n\u001b[0;32m--> 398\u001b[0;31m                     \u001b[0mrequire_iso8601\u001b[0m\u001b[0;34m=\u001b[0m\u001b[0mrequire_iso8601\u001b[0m\u001b[0;34m\u001b[0m\u001b[0m\n\u001b[0m\u001b[1;32m    399\u001b[0m                 )\n\u001b[1;32m    400\u001b[0m \u001b[0;34m\u001b[0m\u001b[0m\n",
      "\u001b[0;32mpandas/tslib.pyx\u001b[0m in \u001b[0;36mpandas.tslib.array_to_datetime (pandas/tslib.c:41972)\u001b[0;34m()\u001b[0m\n",
      "\u001b[0;32mpandas/tslib.pyx\u001b[0m in \u001b[0;36mpandas.tslib.array_to_datetime (pandas/tslib.c:40843)\u001b[0;34m()\u001b[0m\n",
      "\u001b[0;32mpandas/tslib.pyx\u001b[0m in \u001b[0;36mpandas.tslib.array_to_datetime (pandas/tslib.c:40568)\u001b[0;34m()\u001b[0m\n",
      "\u001b[0;32mpandas/tslib.pyx\u001b[0m in \u001b[0;36mpandas.tslib.array_to_datetime (pandas/tslib.c:40449)\u001b[0;34m()\u001b[0m\n",
      "\u001b[0;32mpandas/tslib.pyx\u001b[0m in \u001b[0;36mpandas.tslib.convert_to_tsobject (pandas/tslib.c:25690)\u001b[0;34m()\u001b[0m\n",
      "\u001b[0;32mpandas/tslib.pyx\u001b[0m in \u001b[0;36mpandas.tslib._check_dts_bounds (pandas/tslib.c:29245)\u001b[0;34m()\u001b[0m\n",
      "\u001b[0;31mOutOfBoundsDatetime\u001b[0m: Out of bounds nanosecond timestamp: 13-09-23 00:00:00"
     ]
    }
   ],
   "source": [
    "df_tongi_copy.DATE = pd.to_datetime(df_tongi_copy.DATE,dayfirst=True)"
   ]
  },
  {
   "cell_type": "code",
   "execution_count": 122,
   "metadata": {
    "collapsed": false
   },
   "outputs": [
    {
     "name": "stdout",
     "output_type": "stream",
     "text": [
      "<class 'pandas.core.frame.DataFrame'>\n",
      "Int64Index: 2445706 entries, 0 to 4891427\n",
      "Data columns (total 11 columns):\n",
      "ACCOUNT_NO         object\n",
      "METER_NO           object\n",
      "BILLING_ZONE       object\n",
      "BLOCK_BILL         object\n",
      "ROUTE_NUMBER       float64\n",
      "NAME               object\n",
      "ADDRESS            object\n",
      "LOAD               float64\n",
      "SANCTION_TARIFF    object\n",
      "UNIT               float64\n",
      "DATE               object\n",
      "dtypes: float64(3), object(8)\n",
      "memory usage: 223.9+ MB\n"
     ]
    }
   ],
   "source": [
    "df_tongi.info()"
   ]
  },
  {
   "cell_type": "code",
   "execution_count": 124,
   "metadata": {
    "collapsed": false
   },
   "outputs": [
    {
     "data": {
      "text/plain": [
       "2497"
      ]
     },
     "execution_count": 124,
     "metadata": {},
     "output_type": "execute_result"
    }
   ],
   "source": [
    "df_tongi_copy.UNIT.lt(0).sum()"
   ]
  },
  {
   "cell_type": "code",
   "execution_count": 125,
   "metadata": {
    "collapsed": false
   },
   "outputs": [
    {
     "data": {
      "text/plain": [
       "ACCOUNT_NO          0\n",
       "METER_NO            2\n",
       "BILLING_ZONE        2\n",
       "BLOCK_BILL          2\n",
       "ROUTE_NUMBER        2\n",
       "NAME                2\n",
       "ADDRESS            83\n",
       "LOAD                2\n",
       "SANCTION_TARIFF     2\n",
       "UNIT                2\n",
       "DATE                2\n",
       "dtype: int64"
      ]
     },
     "execution_count": 125,
     "metadata": {},
     "output_type": "execute_result"
    }
   ],
   "source": [
    "df_tongi_copy.isnull().sum()"
   ]
  },
  {
   "cell_type": "code",
   "execution_count": 126,
   "metadata": {
    "collapsed": true
   },
   "outputs": [],
   "source": [
    "df_tongi_copy.dropna(inplace=True)"
   ]
  },
  {
   "cell_type": "code",
   "execution_count": 127,
   "metadata": {
    "collapsed": true
   },
   "outputs": [],
   "source": [
    "df_tongi_copy.to_csv('../tongi_merged_data.csv',index=False)"
   ]
  },
  {
   "cell_type": "code",
   "execution_count": null,
   "metadata": {
    "collapsed": true
   },
   "outputs": [],
   "source": []
  },
  {
   "cell_type": "code",
   "execution_count": null,
   "metadata": {
    "collapsed": true
   },
   "outputs": [],
   "source": []
  },
  {
   "cell_type": "code",
   "execution_count": null,
   "metadata": {
    "collapsed": true
   },
   "outputs": [],
   "source": []
  }
 ],
 "metadata": {
  "kernelspec": {
   "display_name": "Python [conda root]",
   "language": "python",
   "name": "conda-root-py"
  },
  "language_info": {
   "codemirror_mode": {
    "name": "ipython",
    "version": 3
   },
   "file_extension": ".py",
   "mimetype": "text/x-python",
   "name": "python",
   "nbconvert_exporter": "python",
   "pygments_lexer": "ipython3",
   "version": "3.5.2"
  }
 },
 "nbformat": 4,
 "nbformat_minor": 2
}
