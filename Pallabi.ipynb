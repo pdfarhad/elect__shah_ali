{
 "cells": [
  {
   "cell_type": "code",
   "execution_count": 1,
   "metadata": {
    "collapsed": false
   },
   "outputs": [
    {
     "name": "stdout",
     "output_type": "stream",
     "text": [
      "3.5.2 |Anaconda 4.2.0 (64-bit)| (default, Jul  5 2016, 11:41:13) [MSC v.1900 64 bit (AMD64)]\n"
     ]
    }
   ],
   "source": [
    "import sys \n",
    "print(sys.version)"
   ]
  },
  {
   "cell_type": "code",
   "execution_count": 3,
   "metadata": {
    "collapsed": true
   },
   "outputs": [],
   "source": [
    "import pandas as pd \n",
    "import numpy as np\n",
    "import gmaps"
   ]
  },
  {
   "cell_type": "code",
   "execution_count": 4,
   "metadata": {
    "collapsed": false
   },
   "outputs": [
    {
     "name": "stderr",
     "output_type": "stream",
     "text": [
      "C:\\Program Files\\Anaconda3\\lib\\site-packages\\IPython\\core\\interactiveshell.py:2717: DtypeWarning: Columns (5) have mixed types. Specify dtype option on import or set low_memory=False.\n",
      "  interactivity=interactivity, compiler=compiler, result=result)\n"
     ]
    },
    {
     "data": {
      "text/html": [
       "<div>\n",
       "<table border=\"1\" class=\"dataframe\">\n",
       "  <thead>\n",
       "    <tr style=\"text-align: right;\">\n",
       "      <th></th>\n",
       "      <th>NAME</th>\n",
       "      <th>ACCOUNT_NO</th>\n",
       "      <th>METER_NO</th>\n",
       "      <th>ADDRESS</th>\n",
       "      <th>ZONE</th>\n",
       "      <th>BLOCK</th>\n",
       "      <th>ROUTE</th>\n",
       "      <th>LOAD</th>\n",
       "      <th>TARIFF</th>\n",
       "      <th>METER_STATUS</th>\n",
       "      <th>MONTH</th>\n",
       "      <th>YEAR</th>\n",
       "      <th>UNIT</th>\n",
       "    </tr>\n",
       "  </thead>\n",
       "  <tbody>\n",
       "    <tr>\n",
       "      <th>0</th>\n",
       "      <td>HEAD MASTER KALSHI HIGH S</td>\n",
       "      <td>11313911</td>\n",
       "      <td>0000830099</td>\n",
       "      <td>11 E/DAG NO 3170 MIRPUR DHAKA</td>\n",
       "      <td>PLAF</td>\n",
       "      <td>110</td>\n",
       "      <td>10.0</td>\n",
       "      <td>2.0</td>\n",
       "      <td>D</td>\n",
       "      <td>Single</td>\n",
       "      <td>5</td>\n",
       "      <td>1999</td>\n",
       "      <td>1755.0</td>\n",
       "    </tr>\n",
       "    <tr>\n",
       "      <th>1</th>\n",
       "      <td>HEAD MASTER KALSHI HIGH S</td>\n",
       "      <td>11313911</td>\n",
       "      <td>0000830099</td>\n",
       "      <td>11 E/DAG NO 3170 MIRPUR DHAKA</td>\n",
       "      <td>PLAF</td>\n",
       "      <td>110</td>\n",
       "      <td>10.0</td>\n",
       "      <td>2.0</td>\n",
       "      <td>D</td>\n",
       "      <td>Single</td>\n",
       "      <td>6</td>\n",
       "      <td>1999</td>\n",
       "      <td>1615.0</td>\n",
       "    </tr>\n",
       "    <tr>\n",
       "      <th>2</th>\n",
       "      <td>HEAD MASTER KALSHI HIGH S</td>\n",
       "      <td>11313911</td>\n",
       "      <td>0000830099</td>\n",
       "      <td>11 E/DAG NO 3170 MIRPUR DHAKA</td>\n",
       "      <td>PLAF</td>\n",
       "      <td>110</td>\n",
       "      <td>10.0</td>\n",
       "      <td>2.0</td>\n",
       "      <td>D</td>\n",
       "      <td>Single</td>\n",
       "      <td>7</td>\n",
       "      <td>1999</td>\n",
       "      <td>375.0</td>\n",
       "    </tr>\n",
       "    <tr>\n",
       "      <th>3</th>\n",
       "      <td>HEAD MASTER KALSHI HIGH S</td>\n",
       "      <td>11313911</td>\n",
       "      <td>0000830099</td>\n",
       "      <td>11 E/DAG NO 3170 MIRPUR DHAKA</td>\n",
       "      <td>PLAF</td>\n",
       "      <td>110</td>\n",
       "      <td>10.0</td>\n",
       "      <td>2.0</td>\n",
       "      <td>D</td>\n",
       "      <td>Single</td>\n",
       "      <td>8</td>\n",
       "      <td>1999</td>\n",
       "      <td>375.0</td>\n",
       "    </tr>\n",
       "    <tr>\n",
       "      <th>4</th>\n",
       "      <td>HEAD MASTER KALSHI HIGH S</td>\n",
       "      <td>11313911</td>\n",
       "      <td>0000830099</td>\n",
       "      <td>11 E/DAG NO 3170 MIRPUR DHAKA</td>\n",
       "      <td>PLAF</td>\n",
       "      <td>110</td>\n",
       "      <td>10.0</td>\n",
       "      <td>2.0</td>\n",
       "      <td>D</td>\n",
       "      <td>Single</td>\n",
       "      <td>9</td>\n",
       "      <td>1999</td>\n",
       "      <td>350.0</td>\n",
       "    </tr>\n",
       "  </tbody>\n",
       "</table>\n",
       "</div>"
      ],
      "text/plain": [
       "                        NAME  ACCOUNT_NO    METER_NO  \\\n",
       "0  HEAD MASTER KALSHI HIGH S    11313911  0000830099   \n",
       "1  HEAD MASTER KALSHI HIGH S    11313911  0000830099   \n",
       "2  HEAD MASTER KALSHI HIGH S    11313911  0000830099   \n",
       "3  HEAD MASTER KALSHI HIGH S    11313911  0000830099   \n",
       "4  HEAD MASTER KALSHI HIGH S    11313911  0000830099   \n",
       "\n",
       "                         ADDRESS  ZONE BLOCK  ROUTE  LOAD TARIFF METER_STATUS  \\\n",
       "0  11 E/DAG NO 3170 MIRPUR DHAKA  PLAF   110   10.0   2.0      D       Single   \n",
       "1  11 E/DAG NO 3170 MIRPUR DHAKA  PLAF   110   10.0   2.0      D       Single   \n",
       "2  11 E/DAG NO 3170 MIRPUR DHAKA  PLAF   110   10.0   2.0      D       Single   \n",
       "3  11 E/DAG NO 3170 MIRPUR DHAKA  PLAF   110   10.0   2.0      D       Single   \n",
       "4  11 E/DAG NO 3170 MIRPUR DHAKA  PLAF   110   10.0   2.0      D       Single   \n",
       "\n",
       "   MONTH  YEAR    UNIT  \n",
       "0      5  1999  1755.0  \n",
       "1      6  1999  1615.0  \n",
       "2      7  1999   375.0  \n",
       "3      8  1999   375.0  \n",
       "4      9  1999   350.0  "
      ]
     },
     "execution_count": 4,
     "metadata": {},
     "output_type": "execute_result"
    }
   ],
   "source": [
    "input_file = pd.read_csv(\"../pallabi.csv\")\n",
    "input_file.head()"
   ]
  },
  {
   "cell_type": "code",
   "execution_count": 5,
   "metadata": {
    "collapsed": false
   },
   "outputs": [
    {
     "name": "stdout",
     "output_type": "stream",
     "text": [
      "<class 'pandas.core.frame.DataFrame'>\n",
      "RangeIndex: 4343235 entries, 0 to 4343234\n",
      "Data columns (total 13 columns):\n",
      "NAME            object\n",
      "ACCOUNT_NO      int64\n",
      "METER_NO        object\n",
      "ADDRESS         object\n",
      "ZONE            object\n",
      "BLOCK           object\n",
      "ROUTE           float64\n",
      "LOAD            float64\n",
      "TARIFF          object\n",
      "METER_STATUS    object\n",
      "MONTH           int64\n",
      "YEAR            int64\n",
      "UNIT            float64\n",
      "dtypes: float64(3), int64(3), object(7)\n",
      "memory usage: 430.8+ MB\n"
     ]
    }
   ],
   "source": [
    "input_file.info()"
   ]
  },
  {
   "cell_type": "code",
   "execution_count": 6,
   "metadata": {
    "collapsed": false
   },
   "outputs": [
    {
     "data": {
      "text/plain": [
       "NAME              0\n",
       "ACCOUNT_NO        0\n",
       "METER_NO        591\n",
       "ADDRESS           0\n",
       "ZONE              0\n",
       "BLOCK             0\n",
       "ROUTE             0\n",
       "LOAD              0\n",
       "TARIFF            0\n",
       "METER_STATUS      0\n",
       "MONTH             0\n",
       "YEAR              0\n",
       "UNIT              0\n",
       "dtype: int64"
      ]
     },
     "execution_count": 6,
     "metadata": {},
     "output_type": "execute_result"
    }
   ],
   "source": [
    "input_file.isnull().sum()"
   ]
  },
  {
   "cell_type": "code",
   "execution_count": 7,
   "metadata": {
    "collapsed": true
   },
   "outputs": [],
   "source": [
    "input_file=input_file.dropna()"
   ]
  },
  {
   "cell_type": "code",
   "execution_count": 8,
   "metadata": {
    "collapsed": false
   },
   "outputs": [
    {
     "data": {
      "text/plain": [
       "NAME            0\n",
       "ACCOUNT_NO      0\n",
       "METER_NO        0\n",
       "ADDRESS         0\n",
       "ZONE            0\n",
       "BLOCK           0\n",
       "ROUTE           0\n",
       "LOAD            0\n",
       "TARIFF          0\n",
       "METER_STATUS    0\n",
       "MONTH           0\n",
       "YEAR            0\n",
       "UNIT            0\n",
       "dtype: int64"
      ]
     },
     "execution_count": 8,
     "metadata": {},
     "output_type": "execute_result"
    }
   ],
   "source": [
    "input_file.isnull().sum()"
   ]
  },
  {
   "cell_type": "code",
   "execution_count": 9,
   "metadata": {
    "collapsed": true
   },
   "outputs": [],
   "source": [
    "input_file.to_csv('../Pallabi_cleaned_without_nan_values.csv',index=False)"
   ]
  },
  {
   "cell_type": "code",
   "execution_count": 10,
   "metadata": {
    "collapsed": true
   },
   "outputs": [],
   "source": [
    "address = input_file.ADDRESS"
   ]
  },
  {
   "cell_type": "code",
   "execution_count": 11,
   "metadata": {
    "collapsed": false
   },
   "outputs": [
    {
     "data": {
      "text/plain": [
       "0                              11 E/DAG NO 3170 MIRPUR DHAKA\n",
       "1                              11 E/DAG NO 3170 MIRPUR DHAKA\n",
       "2                              11 E/DAG NO 3170 MIRPUR DHAKA\n",
       "3                              11 E/DAG NO 3170 MIRPUR DHAKA\n",
       "4                              11 E/DAG NO 3170 MIRPUR DHAKA\n",
       "5                              11 E/DAG NO 3170 MIRPUR DHAKA\n",
       "6                              11 E/DAG NO 3170 MIRPUR DHAKA\n",
       "7                              11 E/DAG NO 3170 MIRPUR DHAKA\n",
       "8                              11 E/DAG NO 3170 MIRPUR DHAKA\n",
       "9                              11 E/DAG NO 3170 MIRPUR DHAKA\n",
       "10                             11 E/DAG NO 3170 MIRPUR DHAKA\n",
       "11                             11 E/DAG NO 3170 MIRPUR DHAKA\n",
       "12                             11 E/DAG NO 3170 MIRPUR DHAKA\n",
       "13                             11 E/DAG NO 3170 MIRPUR DHAKA\n",
       "14                             11 E/DAG NO 3170 MIRPUR DHAKA\n",
       "15                             11 E/DAG NO 3170 MIRPUR DHAKA\n",
       "16                             11 E/DAG NO 3170 MIRPUR DHAKA\n",
       "17                             11 E/DAG NO 3170 MIRPUR DHAKA\n",
       "18                             11 E/DAG NO 3170 MIRPUR DHAKA\n",
       "19                             11 E/DAG NO 3170 MIRPUR DHAKA\n",
       "20                             11 E/DAG NO 3170 MIRPUR DHAKA\n",
       "21                             11 E/DAG NO 3170 MIRPUR DHAKA\n",
       "22                             11 E/DAG NO 3170 MIRPUR DHAKA\n",
       "23                             11 E/DAG NO 3170 MIRPUR DHAKA\n",
       "24                             11 E/DAG NO 3170 MIRPUR DHAKA\n",
       "25                             11 E/DAG NO 3170 MIRPUR DHAKA\n",
       "26                             11 E/DAG NO 3170 MIRPUR DHAKA\n",
       "27                             11 E/DAG NO 3170 MIRPUR DHAKA\n",
       "28                             11 E/DAG NO 3170 MIRPUR DHAKA\n",
       "29                             11 E/DAG NO 3170 MIRPUR DHAKA\n",
       "                                 ...                        \n",
       "4343205    House/Flat # 25, Road # 3, Block # E, Section ...\n",
       "4343206    House/Flat # 25, Road # 3, Block # E, Section ...\n",
       "4343207    House/Flat # 25, Road # 3, Block # E, Section ...\n",
       "4343208    House/Flat # 25, Road # 3, Block # E, Section ...\n",
       "4343209    House/Flat # 25, Road # 3, Block # E, Section ...\n",
       "4343210    House/Flat # 25, Road # 3, Block # E, Section ...\n",
       "4343211    House/Flat # 25, Road # 3, Block # E, Section ...\n",
       "4343212    House/Flat # 25, Road # 3, Block # E, Section ...\n",
       "4343213    House/Flat # 25, Road # 3, Block # E, Section ...\n",
       "4343214    House/Flat # 25, Road # 3, Block # E, Section ...\n",
       "4343215    House/Flat # 25, Road # 3, Block # E, Section ...\n",
       "4343216    House/Flat # 25, Road # 3, Block # E, Section ...\n",
       "4343217    House/Flat # 25, Road # 3, Block # E, Section ...\n",
       "4343218    House/Flat # 25, Road # 3, Block # E, Section ...\n",
       "4343219    House/Flat # 25, Road # 3, Block # E, Section ...\n",
       "4343220    House/Flat # 25, Road # 3, Block # E, Section ...\n",
       "4343221    House/Flat # 25, Road # 3, Block # E, Section ...\n",
       "4343222    House/Flat # 25, Road # 3, Block # E, Section ...\n",
       "4343223    House/Flat # 25, Road # 3, Block # E, Section ...\n",
       "4343224    House/Flat # 25, Road # 3, Block # E, Section ...\n",
       "4343225    House/Flat # 25, Road # 3, Block # E, Section ...\n",
       "4343226    House/Flat # 25, Road # 3, Block # E, Section ...\n",
       "4343227    House/Flat # 25, Road # 3, Block # E, Section ...\n",
       "4343228    House/Flat # 25, Road # 3, Block # E, Section ...\n",
       "4343229    House/Flat # 25, Road # 3, Block # E, Section ...\n",
       "4343230    House/Flat # 25, Road # 3, Block # E, Section ...\n",
       "4343231    House/Flat # 25, Road # 3, Block # E, Section ...\n",
       "4343232    House/Flat # 25, Road # 3, Block # E, Section ...\n",
       "4343233    House/Flat # 25, Road # 3, Block # E, Section ...\n",
       "4343234    House/Flat # 25, Road # 3, Block # E, Section ...\n",
       "Name: ADDRESS, dtype: object"
      ]
     },
     "execution_count": 11,
     "metadata": {},
     "output_type": "execute_result"
    }
   ],
   "source": [
    "address"
   ]
  },
  {
   "cell_type": "code",
   "execution_count": 12,
   "metadata": {
    "collapsed": true
   },
   "outputs": [],
   "source": [
    "pd.DataFrame(input_file.ADDRESS.unique()).to_csv(\"../address_pallabi.csv\")"
   ]
  },
  {
   "cell_type": "code",
   "execution_count": 13,
   "metadata": {
    "collapsed": false
   },
   "outputs": [
    {
     "data": {
      "text/plain": [
       "50.00      24284\n",
       "60.00      23703\n",
       "10.00      23014\n",
       "120.00     22812\n",
       "80.00      22766\n",
       "150.00     22694\n",
       "40.00      22413\n",
       "90.00      22385\n",
       "30.00      22201\n",
       "130.00     22162\n",
       "100.00     22140\n",
       "170.00     21901\n",
       "70.00      21863\n",
       "140.00     21747\n",
       "180.00     21606\n",
       "200.00     21301\n",
       "160.00     21110\n",
       "20.00      20953\n",
       "110.00     20778\n",
       "210.00     20766\n",
       "330.00     20296\n",
       "190.00     20248\n",
       "350.00     20127\n",
       "340.00     20039\n",
       "380.00     20021\n",
       "440.00     19856\n",
       "240.00     19848\n",
       "250.00     19683\n",
       "300.00     19620\n",
       "400.00     19586\n",
       "           ...  \n",
       "10.35          1\n",
       "10.28          1\n",
       "645.10         1\n",
       "10.24          1\n",
       "2380.12        1\n",
       "10.29          1\n",
       "645.08         1\n",
       "42.04          1\n",
       "1371.01        1\n",
       "645.06         1\n",
       "1371.05        1\n",
       "645.04         1\n",
       "1600.14        1\n",
       "42.05          1\n",
       "1600.13        1\n",
       "10.27          1\n",
       "42.06          1\n",
       "10.21          1\n",
       "645.01         1\n",
       "2380.06        1\n",
       "10.32          1\n",
       "10.25          1\n",
       "526.03         1\n",
       "1371.02        1\n",
       "645.03         1\n",
       "725.03         1\n",
       "725.02         1\n",
       "645.02         1\n",
       "725.06         1\n",
       "1371.03        1\n",
       "Name: ROUTE, dtype: int64"
      ]
     },
     "execution_count": 13,
     "metadata": {},
     "output_type": "execute_result"
    }
   ],
   "source": [
    "input_file.ROUTE.value_counts()"
   ]
  },
  {
   "cell_type": "code",
   "execution_count": 14,
   "metadata": {
    "collapsed": false
   },
   "outputs": [
    {
     "data": {
      "text/plain": [
       "10    378478\n",
       "9     375554\n",
       "8     372755\n",
       "7     369174\n",
       "11    368805\n",
       "6     366587\n",
       "5     362951\n",
       "4     358685\n",
       "3     355480\n",
       "2     347403\n",
       "1     344251\n",
       "12    342521\n",
       "Name: MONTH, dtype: int64"
      ]
     },
     "execution_count": 14,
     "metadata": {},
     "output_type": "execute_result"
    }
   ],
   "source": [
    "input_file.MONTH.value_counts()"
   ]
  },
  {
   "cell_type": "code",
   "execution_count": 15,
   "metadata": {
    "collapsed": false
   },
   "outputs": [
    {
     "data": {
      "text/plain": [
       "2015    443013\n",
       "2016    440217\n",
       "2014    387940\n",
       "2013    342434\n",
       "2012    306819\n",
       "2011    276255\n",
       "2010    270677\n",
       "2009    257539\n",
       "2008    238039\n",
       "2007    218982\n",
       "2006    199597\n",
       "2005    185450\n",
       "2004    172413\n",
       "2003    155157\n",
       "2002    138420\n",
       "2001    122788\n",
       "2000    111060\n",
       "1999     75407\n",
       "1998       422\n",
       "201         12\n",
       "216          2\n",
       "212          1\n",
       "Name: YEAR, dtype: int64"
      ]
     },
     "execution_count": 15,
     "metadata": {},
     "output_type": "execute_result"
    }
   ],
   "source": [
    "input_file.YEAR.value_counts()"
   ]
  },
  {
   "cell_type": "code",
   "execution_count": 16,
   "metadata": {
    "collapsed": false
   },
   "outputs": [
    {
     "data": {
      "text/plain": [
       "Child     2095236\n",
       "Single    1518639\n",
       "child      467636\n",
       "check      137240\n",
       "Check      123893\n",
       "Name: METER_STATUS, dtype: int64"
      ]
     },
     "execution_count": 16,
     "metadata": {},
     "output_type": "execute_result"
    }
   ],
   "source": [
    "input_file.METER_STATUS.value_counts()"
   ]
  },
  {
   "cell_type": "code",
   "execution_count": 17,
   "metadata": {
    "collapsed": false
   },
   "outputs": [
    {
     "data": {
      "text/plain": [
       "A     3841642\n",
       "E      457323\n",
       "C       15980\n",
       "D       14150\n",
       "F        6197\n",
       "J        4886\n",
       "A1       2160\n",
       "A2        180\n",
       "F1        126\n",
       "Name: TARIFF, dtype: int64"
      ]
     },
     "execution_count": 17,
     "metadata": {},
     "output_type": "execute_result"
    }
   ],
   "source": [
    "input_file.TARIFF.value_counts()"
   ]
  },
  {
   "cell_type": "code",
   "execution_count": 18,
   "metadata": {
    "collapsed": false
   },
   "outputs": [
    {
     "data": {
      "text/plain": [
       "PLKL    977672\n",
       "PLBD    541748\n",
       "PLKA    503264\n",
       "PLAF    476661\n",
       "PLBG    400110\n",
       "PLAH    389476\n",
       "PLCR    379444\n",
       "PLBA    249846\n",
       "PLBP    195408\n",
       "PLDE     83985\n",
       "PLDP     76693\n",
       "PLDW     68337\n",
       "Name: ZONE, dtype: int64"
      ]
     },
     "execution_count": 18,
     "metadata": {},
     "output_type": "execute_result"
    }
   ],
   "source": [
    "input_file.ZONE.value_counts()"
   ]
  },
  {
   "cell_type": "code",
   "execution_count": 19,
   "metadata": {
    "collapsed": false
   },
   "outputs": [
    {
     "data": {
      "text/plain": [
       "150     125029\n",
       "779     121265\n",
       "140     117596\n",
       "100     103179\n",
       "110     101573\n",
       "120      93880\n",
       "777      91605\n",
       "210      91259\n",
       "170      85634\n",
       "260      85171\n",
       "130      79797\n",
       "782      76034\n",
       "500      75276\n",
       "783      73015\n",
       "151      72274\n",
       "330      71458\n",
       "781      70041\n",
       "190      65410\n",
       "180      64469\n",
       "780      63313\n",
       "784      58714\n",
       "778      57065\n",
       "200      54356\n",
       "010      54339\n",
       "250      53631\n",
       "60       49232\n",
       "50       47778\n",
       "20       45203\n",
       "290      45105\n",
       "80       44126\n",
       "         ...  \n",
       "211       9656\n",
       "020       9622\n",
       "561       9099\n",
       "111       8766\n",
       "70        8349\n",
       "341       6669\n",
       "784       6651\n",
       "707       6376\n",
       "704       6367\n",
       "703       6275\n",
       "702       6241\n",
       "700       6013\n",
       "553       5850\n",
       "563       5649\n",
       "556       5519\n",
       "CITY      5076\n",
       "491       4650\n",
       "131       4144\n",
       "556       3690\n",
       "RMT       3049\n",
       "706       2843\n",
       "710       2759\n",
       "566       2635\n",
       "564       2626\n",
       "H01       2586\n",
       "567       2561\n",
       "WASA      2455\n",
       "565       2037\n",
       "CAMP      1993\n",
       "558        679\n",
       "Name: BLOCK, dtype: int64"
      ]
     },
     "execution_count": 19,
     "metadata": {},
     "output_type": "execute_result"
    }
   ],
   "source": [
    "input_file.BLOCK.value_counts()"
   ]
  },
  {
   "cell_type": "code",
   "execution_count": 20,
   "metadata": {
    "collapsed": true
   },
   "outputs": [],
   "source": [
    "import matplotlib.pyplot as plt"
   ]
  },
  {
   "cell_type": "code",
   "execution_count": 21,
   "metadata": {
    "collapsed": true
   },
   "outputs": [],
   "source": [
    "block_counts = input_file.BLOCK.value_counts()"
   ]
  },
  {
   "cell_type": "code",
   "execution_count": 22,
   "metadata": {
    "collapsed": false
   },
   "outputs": [
    {
     "data": {
      "image/png": "[encoded data removed]",
      "text/plain": [
       "<matplotlib.figure.Figure at 0x1f584a27668>"
      ]
     },
     "metadata": {},
     "output_type": "display_data"
    }
   ],
   "source": [
    "block_counts = input_file.BLOCK.value_counts()\n",
    "block_counts.plot(kind='kde')\n",
    "plt.show()"
   ]
  },
  {
   "cell_type": "code",
   "execution_count": 23,
   "metadata": {
    "collapsed": false
   },
   "outputs": [
    {
     "data": {
      "image/png": "[encoded data removed]",
      "text/plain": [
       "<matplotlib.figure.Figure at 0x1f5855be5c0>"
      ]
     },
     "metadata": {},
     "output_type": "display_data"
    }
   ],
   "source": [
    "zone_counts = input_file.ZONE.value_counts()\n",
    "zone_counts.plot(kind='bar')\n",
    "plt.show()"
   ]
  },
  {
   "cell_type": "code",
   "execution_count": 24,
   "metadata": {
    "collapsed": false
   },
   "outputs": [
    {
     "data": {
      "image/png": "[encoded data removed]",
      "text/plain": [
       "<matplotlib.figure.Figure at 0x1f585aa4240>"
      ]
     },
     "metadata": {},
     "output_type": "display_data"
    }
   ],
   "source": [
    "year_counts = input_file.YEAR.value_counts()\n",
    "year_counts.plot(kind='bar')\n",
    "plt.show()"
   ]
  },
  {
   "cell_type": "code",
   "execution_count": 25,
   "metadata": {
    "collapsed": false
   },
   "outputs": [
    {
     "data": {
      "image/png": "[encoded data removed]",
      "text/plain": [
       "<matplotlib.figure.Figure at 0x1f585b08d30>"
      ]
     },
     "metadata": {},
     "output_type": "display_data"
    }
   ],
   "source": [
    "tarif_count = input_file.TARIFF.value_counts()\n",
    "tarif_count.plot(kind='bar')\n",
    "plt.show()"
   ]
  },
  {
   "cell_type": "code",
   "execution_count": 26,
   "metadata": {
    "collapsed": false
   },
   "outputs": [
    {
     "data": {
      "text/html": [
       "<div>\n",
       "<table border=\"1\" class=\"dataframe\">\n",
       "  <thead>\n",
       "    <tr style=\"text-align: right;\">\n",
       "      <th></th>\n",
       "      <th>NAME</th>\n",
       "      <th>ACCOUNT_NO</th>\n",
       "      <th>METER_NO</th>\n",
       "      <th>ADDRESS</th>\n",
       "      <th>ZONE</th>\n",
       "      <th>BLOCK</th>\n",
       "      <th>ROUTE</th>\n",
       "      <th>LOAD</th>\n",
       "      <th>TARIFF</th>\n",
       "      <th>METER_STATUS</th>\n",
       "      <th>MONTH</th>\n",
       "      <th>YEAR</th>\n",
       "      <th>UNIT</th>\n",
       "    </tr>\n",
       "  </thead>\n",
       "  <tbody>\n",
       "    <tr>\n",
       "      <th>0</th>\n",
       "      <td>HEAD MASTER KALSHI HIGH S</td>\n",
       "      <td>11313911</td>\n",
       "      <td>0000830099</td>\n",
       "      <td>11 E/DAG NO 3170 MIRPUR DHAKA</td>\n",
       "      <td>PLAF</td>\n",
       "      <td>110</td>\n",
       "      <td>10.0</td>\n",
       "      <td>2.0</td>\n",
       "      <td>D</td>\n",
       "      <td>SINGLE</td>\n",
       "      <td>5</td>\n",
       "      <td>1999</td>\n",
       "      <td>1755.0</td>\n",
       "    </tr>\n",
       "    <tr>\n",
       "      <th>1</th>\n",
       "      <td>HEAD MASTER KALSHI HIGH S</td>\n",
       "      <td>11313911</td>\n",
       "      <td>0000830099</td>\n",
       "      <td>11 E/DAG NO 3170 MIRPUR DHAKA</td>\n",
       "      <td>PLAF</td>\n",
       "      <td>110</td>\n",
       "      <td>10.0</td>\n",
       "      <td>2.0</td>\n",
       "      <td>D</td>\n",
       "      <td>SINGLE</td>\n",
       "      <td>6</td>\n",
       "      <td>1999</td>\n",
       "      <td>1615.0</td>\n",
       "    </tr>\n",
       "    <tr>\n",
       "      <th>2</th>\n",
       "      <td>HEAD MASTER KALSHI HIGH S</td>\n",
       "      <td>11313911</td>\n",
       "      <td>0000830099</td>\n",
       "      <td>11 E/DAG NO 3170 MIRPUR DHAKA</td>\n",
       "      <td>PLAF</td>\n",
       "      <td>110</td>\n",
       "      <td>10.0</td>\n",
       "      <td>2.0</td>\n",
       "      <td>D</td>\n",
       "      <td>SINGLE</td>\n",
       "      <td>7</td>\n",
       "      <td>1999</td>\n",
       "      <td>375.0</td>\n",
       "    </tr>\n",
       "    <tr>\n",
       "      <th>3</th>\n",
       "      <td>HEAD MASTER KALSHI HIGH S</td>\n",
       "      <td>11313911</td>\n",
       "      <td>0000830099</td>\n",
       "      <td>11 E/DAG NO 3170 MIRPUR DHAKA</td>\n",
       "      <td>PLAF</td>\n",
       "      <td>110</td>\n",
       "      <td>10.0</td>\n",
       "      <td>2.0</td>\n",
       "      <td>D</td>\n",
       "      <td>SINGLE</td>\n",
       "      <td>8</td>\n",
       "      <td>1999</td>\n",
       "      <td>375.0</td>\n",
       "    </tr>\n",
       "    <tr>\n",
       "      <th>4</th>\n",
       "      <td>HEAD MASTER KALSHI HIGH S</td>\n",
       "      <td>11313911</td>\n",
       "      <td>0000830099</td>\n",
       "      <td>11 E/DAG NO 3170 MIRPUR DHAKA</td>\n",
       "      <td>PLAF</td>\n",
       "      <td>110</td>\n",
       "      <td>10.0</td>\n",
       "      <td>2.0</td>\n",
       "      <td>D</td>\n",
       "      <td>SINGLE</td>\n",
       "      <td>9</td>\n",
       "      <td>1999</td>\n",
       "      <td>350.0</td>\n",
       "    </tr>\n",
       "  </tbody>\n",
       "</table>\n",
       "</div>"
      ],
      "text/plain": [
       "                        NAME  ACCOUNT_NO    METER_NO  \\\n",
       "0  HEAD MASTER KALSHI HIGH S    11313911  0000830099   \n",
       "1  HEAD MASTER KALSHI HIGH S    11313911  0000830099   \n",
       "2  HEAD MASTER KALSHI HIGH S    11313911  0000830099   \n",
       "3  HEAD MASTER KALSHI HIGH S    11313911  0000830099   \n",
       "4  HEAD MASTER KALSHI HIGH S    11313911  0000830099   \n",
       "\n",
       "                         ADDRESS  ZONE BLOCK  ROUTE  LOAD TARIFF METER_STATUS  \\\n",
       "0  11 E/DAG NO 3170 MIRPUR DHAKA  PLAF   110   10.0   2.0      D       SINGLE   \n",
       "1  11 E/DAG NO 3170 MIRPUR DHAKA  PLAF   110   10.0   2.0      D       SINGLE   \n",
       "2  11 E/DAG NO 3170 MIRPUR DHAKA  PLAF   110   10.0   2.0      D       SINGLE   \n",
       "3  11 E/DAG NO 3170 MIRPUR DHAKA  PLAF   110   10.0   2.0      D       SINGLE   \n",
       "4  11 E/DAG NO 3170 MIRPUR DHAKA  PLAF   110   10.0   2.0      D       SINGLE   \n",
       "\n",
       "   MONTH  YEAR    UNIT  \n",
       "0      5  1999  1755.0  \n",
       "1      6  1999  1615.0  \n",
       "2      7  1999   375.0  \n",
       "3      8  1999   375.0  \n",
       "4      9  1999   350.0  "
      ]
     },
     "execution_count": 26,
     "metadata": {},
     "output_type": "execute_result"
    }
   ],
   "source": [
    "input_file['METER_STATUS'] =input_file['METER_STATUS'].apply(lambda x: x.upper() ) \n",
    "input_file.head()"
   ]
  },
  {
   "cell_type": "code",
   "execution_count": 27,
   "metadata": {
    "collapsed": false
   },
   "outputs": [
    {
     "data": {
      "text/plain": [
       "CHILD     2562872\n",
       "SINGLE    1518639\n",
       "CHECK      261133\n",
       "Name: METER_STATUS, dtype: int64"
      ]
     },
     "execution_count": 27,
     "metadata": {},
     "output_type": "execute_result"
    }
   ],
   "source": [
    "input_file.METER_STATUS.value_counts()"
   ]
  },
  {
   "cell_type": "code",
   "execution_count": 28,
   "metadata": {
    "collapsed": true
   },
   "outputs": [],
   "source": [
    "pd.DataFrame(input_file.ADDRESS.unique()).to_csv(\"../address_pallabi.csv\")"
   ]
  },
  {
   "cell_type": "code",
   "execution_count": 29,
   "metadata": {
    "collapsed": false
   },
   "outputs": [
    {
     "data": {
      "text/plain": [
       "2.00       3231448\n",
       "1.00        317985\n",
       "3.00        288079\n",
       "4.00        165190\n",
       "5.00         75834\n",
       "8.00         65317\n",
       "6.00         35231\n",
       "10.00        34886\n",
       "7.00         25997\n",
       "12.00        17650\n",
       "9.00         13782\n",
       "11.00        10309\n",
       "13.00         8791\n",
       "15.00         7344\n",
       "14.00         7105\n",
       "20.00         5773\n",
       "16.00         3927\n",
       "30.00         3161\n",
       "60.00         2250\n",
       "18.00         2093\n",
       "17.00         1963\n",
       "40.00         1829\n",
       "22.00         1657\n",
       "25.00         1442\n",
       "45.00         1404\n",
       "23.00          819\n",
       "80.00          663\n",
       "35.00          661\n",
       "32.00          616\n",
       "24.00          608\n",
       "            ...   \n",
       "1000.00        209\n",
       "56.00          203\n",
       "140.00         189\n",
       "90.00          164\n",
       "88.00          130\n",
       "130.00         125\n",
       "118.00         122\n",
       "155.00         112\n",
       "31.00          106\n",
       "200.00         103\n",
       "252.00         103\n",
       "59.00           99\n",
       "150.00          98\n",
       "51.00           93\n",
       "43.00           91\n",
       "400.00          87\n",
       "105.00          75\n",
       "34.00           70\n",
       "66.00           64\n",
       "120.00          51\n",
       "268.00          49\n",
       "170.00          45\n",
       "100.00          36\n",
       "55.00           34\n",
       "28.00           34\n",
       "38.00           20\n",
       "76.00           11\n",
       "90.11            7\n",
       "500.00           6\n",
       "47.00            1\n",
       "Name: LOAD, dtype: int64"
      ]
     },
     "execution_count": 29,
     "metadata": {},
     "output_type": "execute_result"
    }
   ],
   "source": [
    "input_file.LOAD.value_counts()"
   ]
  },
  {
   "cell_type": "code",
   "execution_count": null,
   "metadata": {
    "collapsed": true
   },
   "outputs": [],
   "source": []
  }
 ],
 "metadata": {
  "anaconda-cloud": {},
  "kernelspec": {
   "display_name": "Python [conda root]",
   "language": "python",
   "name": "conda-root-py"
  },
  "language_info": {
   "codemirror_mode": {
    "name": "ipython",
    "version": 3
   },
   "file_extension": ".py",
   "mimetype": "text/x-python",
   "name": "python",
   "nbconvert_exporter": "python",
   "pygments_lexer": "ipython3",
   "version": "3.5.2"
  }
 },
 "nbformat": 4,
 "nbformat_minor": 1
}
