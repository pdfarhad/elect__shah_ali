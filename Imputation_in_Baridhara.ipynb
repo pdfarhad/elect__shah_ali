{
 "cells": [
  {
   "cell_type": "code",
   "execution_count": 1,
   "metadata": {
    "collapsed": false
   },
   "outputs": [
    {
     "name": "stdout",
     "output_type": "stream",
     "text": [
      "3.5.2 |Anaconda 4.2.0 (64-bit)| (default, Jul  5 2016, 11:41:13) [MSC v.1900 64 bit (AMD64)]\n"
     ]
    }
   ],
   "source": [
    "import sys\n",
    "print(sys.version)\n",
    "import pandas as pd \n",
    "import numpy as np\n",
    "import matplotlib.pyplot as plt\n"
   ]
  },
  {
   "cell_type": "code",
   "execution_count": 2,
   "metadata": {
    "collapsed": false
   },
   "outputs": [
    {
     "name": "stderr",
     "output_type": "stream",
     "text": [
      "C:\\Program Files\\Anaconda3\\lib\\site-packages\\IPython\\core\\interactiveshell.py:2717: DtypeWarning: Columns (6) have mixed types. Specify dtype option on import or set low_memory=False.\n",
      "  interactivity=interactivity, compiler=compiler, result=result)\n"
     ]
    },
    {
     "data": {
      "text/html": [
       "<div>\n",
       "<table border=\"1\" class=\"dataframe\">\n",
       "  <thead>\n",
       "    <tr style=\"text-align: right;\">\n",
       "      <th></th>\n",
       "      <th>SL</th>\n",
       "      <th>NAME</th>\n",
       "      <th>ACCOUNT_NO</th>\n",
       "      <th>METER_NO</th>\n",
       "      <th>ADDRESS</th>\n",
       "      <th>ZONE</th>\n",
       "      <th>BLOCK</th>\n",
       "      <th>ROUTE</th>\n",
       "      <th>LOAD</th>\n",
       "      <th>TARIFF</th>\n",
       "      <th>METER_STATUS</th>\n",
       "      <th>MONTH</th>\n",
       "      <th>YEAR</th>\n",
       "      <th>UNIT</th>\n",
       "    </tr>\n",
       "  </thead>\n",
       "  <tbody>\n",
       "    <tr>\n",
       "      <th>0</th>\n",
       "      <td>40208</td>\n",
       "      <td>MD SHA ALAM</td>\n",
       "      <td>20000032</td>\n",
       "      <td>299778</td>\n",
       "      <td>House/Flat # 1042, KHIL BARIRTEK</td>\n",
       "      <td>JB</td>\n",
       "      <td>279</td>\n",
       "      <td>182.0</td>\n",
       "      <td>2</td>\n",
       "      <td>A</td>\n",
       "      <td>Single</td>\n",
       "      <td>10</td>\n",
       "      <td>2012</td>\n",
       "      <td>442</td>\n",
       "    </tr>\n",
       "    <tr>\n",
       "      <th>1</th>\n",
       "      <td>718500</td>\n",
       "      <td>MD SHA ALAM</td>\n",
       "      <td>20000032</td>\n",
       "      <td>299778</td>\n",
       "      <td>House/Flat # 1042, KHIL BARIRTEK</td>\n",
       "      <td>JB</td>\n",
       "      <td>279</td>\n",
       "      <td>182.0</td>\n",
       "      <td>2</td>\n",
       "      <td>A</td>\n",
       "      <td>Single</td>\n",
       "      <td>11</td>\n",
       "      <td>2012</td>\n",
       "      <td>199</td>\n",
       "    </tr>\n",
       "    <tr>\n",
       "      <th>2</th>\n",
       "      <td>725258</td>\n",
       "      <td>MD SHA ALAM</td>\n",
       "      <td>20000032</td>\n",
       "      <td>299778</td>\n",
       "      <td>House/Flat # 1042, KHIL BARIRTEK</td>\n",
       "      <td>JB</td>\n",
       "      <td>279</td>\n",
       "      <td>182.0</td>\n",
       "      <td>2</td>\n",
       "      <td>A</td>\n",
       "      <td>Single</td>\n",
       "      <td>12</td>\n",
       "      <td>2012</td>\n",
       "      <td>140</td>\n",
       "    </tr>\n",
       "    <tr>\n",
       "      <th>3</th>\n",
       "      <td>726762</td>\n",
       "      <td>MD SHA ALAM</td>\n",
       "      <td>20000032</td>\n",
       "      <td>299778</td>\n",
       "      <td>House/Flat # 1042, KHIL BARIRTEK</td>\n",
       "      <td>JB</td>\n",
       "      <td>279</td>\n",
       "      <td>182.0</td>\n",
       "      <td>2</td>\n",
       "      <td>A</td>\n",
       "      <td>Single</td>\n",
       "      <td>1</td>\n",
       "      <td>2013</td>\n",
       "      <td>101</td>\n",
       "    </tr>\n",
       "    <tr>\n",
       "      <th>4</th>\n",
       "      <td>754919</td>\n",
       "      <td>MD SHA ALAM</td>\n",
       "      <td>20000032</td>\n",
       "      <td>299778</td>\n",
       "      <td>House/Flat # 1042, KHIL BARIRTEK</td>\n",
       "      <td>JB</td>\n",
       "      <td>279</td>\n",
       "      <td>182.0</td>\n",
       "      <td>2</td>\n",
       "      <td>A</td>\n",
       "      <td>Single</td>\n",
       "      <td>2</td>\n",
       "      <td>2013</td>\n",
       "      <td>95</td>\n",
       "    </tr>\n",
       "  </tbody>\n",
       "</table>\n",
       "</div>"
      ],
      "text/plain": [
       "       SL         NAME  ACCOUNT_NO METER_NO  \\\n",
       "0   40208  MD SHA ALAM    20000032   299778   \n",
       "1  718500  MD SHA ALAM    20000032   299778   \n",
       "2  725258  MD SHA ALAM    20000032   299778   \n",
       "3  726762  MD SHA ALAM    20000032   299778   \n",
       "4  754919  MD SHA ALAM    20000032   299778   \n",
       "\n",
       "                             ADDRESS ZONE BLOCK  ROUTE  LOAD TARIFF  \\\n",
       "0  House/Flat # 1042, KHIL BARIRTEK    JB   279  182.0     2      A   \n",
       "1  House/Flat # 1042, KHIL BARIRTEK    JB   279  182.0     2      A   \n",
       "2  House/Flat # 1042, KHIL BARIRTEK    JB   279  182.0     2      A   \n",
       "3  House/Flat # 1042, KHIL BARIRTEK    JB   279  182.0     2      A   \n",
       "4  House/Flat # 1042, KHIL BARIRTEK    JB   279  182.0     2      A   \n",
       "\n",
       "  METER_STATUS  MONTH  YEAR  UNIT  \n",
       "0       Single     10  2012   442  \n",
       "1       Single     11  2012   199  \n",
       "2       Single     12  2012   140  \n",
       "3       Single      1  2013   101  \n",
       "4       Single      2  2013    95  "
      ]
     },
     "execution_count": 2,
     "metadata": {},
     "output_type": "execute_result"
    }
   ],
   "source": [
    "df = pd.read_csv('../Baridhara.csv')\n",
    "df.head()"
   ]
  },
  {
   "cell_type": "code",
   "execution_count": 3,
   "metadata": {
    "collapsed": false
   },
   "outputs": [
    {
     "name": "stdout",
     "output_type": "stream",
     "text": [
      "<class 'pandas.core.frame.DataFrame'>\n",
      "RangeIndex: 1387888 entries, 0 to 1387887\n",
      "Data columns (total 14 columns):\n",
      "SL              1387888 non-null int64\n",
      "NAME            1387888 non-null object\n",
      "ACCOUNT_NO      1387888 non-null int64\n",
      "METER_NO        1382344 non-null object\n",
      "ADDRESS         1387832 non-null object\n",
      "ZONE            1387888 non-null object\n",
      "BLOCK           1387888 non-null object\n",
      "ROUTE           1387888 non-null float64\n",
      "LOAD            1387888 non-null int64\n",
      "TARIFF          1387888 non-null object\n",
      "METER_STATUS    1387888 non-null object\n",
      "MONTH           1387888 non-null int64\n",
      "YEAR            1387888 non-null int64\n",
      "UNIT            1387888 non-null int64\n",
      "dtypes: float64(1), int64(6), object(7)\n",
      "memory usage: 148.2+ MB\n"
     ]
    }
   ],
   "source": [
    "df.info()"
   ]
  },
  {
   "cell_type": "code",
   "execution_count": 4,
   "metadata": {
    "collapsed": false
   },
   "outputs": [
    {
     "data": {
      "text/plain": [
       "SL                 0\n",
       "NAME               0\n",
       "ACCOUNT_NO         0\n",
       "METER_NO        5544\n",
       "ADDRESS           56\n",
       "ZONE               0\n",
       "BLOCK              0\n",
       "ROUTE              0\n",
       "LOAD               0\n",
       "TARIFF             0\n",
       "METER_STATUS       0\n",
       "MONTH              0\n",
       "YEAR               0\n",
       "UNIT               0\n",
       "dtype: int64"
      ]
     },
     "execution_count": 4,
     "metadata": {},
     "output_type": "execute_result"
    }
   ],
   "source": [
    "df.isnull().sum()"
   ]
  },
  {
   "cell_type": "code",
   "execution_count": 5,
   "metadata": {
    "collapsed": false
   },
   "outputs": [
    {
     "data": {
      "text/plain": [
       "SL              0\n",
       "NAME            0\n",
       "ACCOUNT_NO      0\n",
       "METER_NO        0\n",
       "ADDRESS         0\n",
       "ZONE            0\n",
       "BLOCK           0\n",
       "ROUTE           0\n",
       "LOAD            0\n",
       "TARIFF          0\n",
       "METER_STATUS    0\n",
       "MONTH           0\n",
       "YEAR            0\n",
       "UNIT            0\n",
       "dtype: int64"
      ]
     },
     "execution_count": 5,
     "metadata": {},
     "output_type": "execute_result"
    }
   ],
   "source": [
    "df = df.dropna()\n",
    "df.isnull().sum()"
   ]
  },
  {
   "cell_type": "code",
   "execution_count": 6,
   "metadata": {
    "collapsed": false
   },
   "outputs": [
    {
     "data": {
      "text/html": [
       "<div>\n",
       "<table border=\"1\" class=\"dataframe\">\n",
       "  <thead>\n",
       "    <tr style=\"text-align: right;\">\n",
       "      <th></th>\n",
       "      <th>SL</th>\n",
       "      <th>NAME</th>\n",
       "      <th>ACCOUNT_NO</th>\n",
       "      <th>METER_NO</th>\n",
       "      <th>ADDRESS</th>\n",
       "      <th>ZONE</th>\n",
       "      <th>BLOCK</th>\n",
       "      <th>ROUTE</th>\n",
       "      <th>LOAD</th>\n",
       "      <th>TARIFF</th>\n",
       "      <th>METER_STATUS</th>\n",
       "      <th>MONTH</th>\n",
       "      <th>YEAR</th>\n",
       "      <th>UNIT</th>\n",
       "    </tr>\n",
       "  </thead>\n",
       "  <tbody>\n",
       "    <tr>\n",
       "      <th>1387883</th>\n",
       "      <td>561556</td>\n",
       "      <td>MRS.MAJIRUN NESA</td>\n",
       "      <td>33027320</td>\n",
       "      <td>297545</td>\n",
       "      <td>DAG-1183, NURER CHALA</td>\n",
       "      <td>JB</td>\n",
       "      <td>1100</td>\n",
       "      <td>1190.0</td>\n",
       "      <td>3</td>\n",
       "      <td>A</td>\n",
       "      <td>Single</td>\n",
       "      <td>6</td>\n",
       "      <td>2011</td>\n",
       "      <td>737</td>\n",
       "    </tr>\n",
       "    <tr>\n",
       "      <th>1387884</th>\n",
       "      <td>572633</td>\n",
       "      <td>MRS.MAJIRUN NESA</td>\n",
       "      <td>33027320</td>\n",
       "      <td>297545</td>\n",
       "      <td>DAG-1183, NURER CHALA</td>\n",
       "      <td>JB</td>\n",
       "      <td>1100</td>\n",
       "      <td>1190.0</td>\n",
       "      <td>3</td>\n",
       "      <td>A</td>\n",
       "      <td>Single</td>\n",
       "      <td>7</td>\n",
       "      <td>2011</td>\n",
       "      <td>850</td>\n",
       "    </tr>\n",
       "    <tr>\n",
       "      <th>1387885</th>\n",
       "      <td>580786</td>\n",
       "      <td>MRS.MAJIRUN NESA</td>\n",
       "      <td>33027320</td>\n",
       "      <td>297545</td>\n",
       "      <td>DAG-1183, NURER CHALA</td>\n",
       "      <td>JB</td>\n",
       "      <td>1100</td>\n",
       "      <td>1190.0</td>\n",
       "      <td>3</td>\n",
       "      <td>A</td>\n",
       "      <td>Single</td>\n",
       "      <td>8</td>\n",
       "      <td>2011</td>\n",
       "      <td>951</td>\n",
       "    </tr>\n",
       "    <tr>\n",
       "      <th>1387886</th>\n",
       "      <td>590974</td>\n",
       "      <td>MRS.MAJIRUN NESA</td>\n",
       "      <td>33027320</td>\n",
       "      <td>297545</td>\n",
       "      <td>DAG-1183, NURER CHALA</td>\n",
       "      <td>JB</td>\n",
       "      <td>1100</td>\n",
       "      <td>1190.0</td>\n",
       "      <td>3</td>\n",
       "      <td>A</td>\n",
       "      <td>Single</td>\n",
       "      <td>9</td>\n",
       "      <td>2011</td>\n",
       "      <td>951</td>\n",
       "    </tr>\n",
       "    <tr>\n",
       "      <th>1387887</th>\n",
       "      <td>596530</td>\n",
       "      <td>MRS.MAJIRUN NESA</td>\n",
       "      <td>33027320</td>\n",
       "      <td>297545</td>\n",
       "      <td>DAG-1183, NURER CHALA</td>\n",
       "      <td>JB</td>\n",
       "      <td>1100</td>\n",
       "      <td>1190.0</td>\n",
       "      <td>3</td>\n",
       "      <td>A</td>\n",
       "      <td>Single</td>\n",
       "      <td>10</td>\n",
       "      <td>2011</td>\n",
       "      <td>896</td>\n",
       "    </tr>\n",
       "  </tbody>\n",
       "</table>\n",
       "</div>"
      ],
      "text/plain": [
       "             SL              NAME  ACCOUNT_NO METER_NO                ADDRESS  \\\n",
       "1387883  561556  MRS.MAJIRUN NESA    33027320   297545  DAG-1183, NURER CHALA   \n",
       "1387884  572633  MRS.MAJIRUN NESA    33027320   297545  DAG-1183, NURER CHALA   \n",
       "1387885  580786  MRS.MAJIRUN NESA    33027320   297545  DAG-1183, NURER CHALA   \n",
       "1387886  590974  MRS.MAJIRUN NESA    33027320   297545  DAG-1183, NURER CHALA   \n",
       "1387887  596530  MRS.MAJIRUN NESA    33027320   297545  DAG-1183, NURER CHALA   \n",
       "\n",
       "        ZONE BLOCK   ROUTE  LOAD TARIFF METER_STATUS  MONTH  YEAR  UNIT  \n",
       "1387883   JB  1100  1190.0     3      A       Single      6  2011   737  \n",
       "1387884   JB  1100  1190.0     3      A       Single      7  2011   850  \n",
       "1387885   JB  1100  1190.0     3      A       Single      8  2011   951  \n",
       "1387886   JB  1100  1190.0     3      A       Single      9  2011   951  \n",
       "1387887   JB  1100  1190.0     3      A       Single     10  2011   896  "
      ]
     },
     "execution_count": 6,
     "metadata": {},
     "output_type": "execute_result"
    }
   ],
   "source": [
    "df.to_csv('../Baridhara.csv',index=False)\n",
    "df.tail()"
   ]
  },
  {
   "cell_type": "code",
   "execution_count": 7,
   "metadata": {
    "collapsed": true
   },
   "outputs": [],
   "source": [
    "neg_unit_rows = df.loc[df['UNIT'] <0]"
   ]
  },
  {
   "cell_type": "code",
   "execution_count": 8,
   "metadata": {
    "collapsed": false
   },
   "outputs": [
    {
     "data": {
      "text/html": [
       "<div>\n",
       "<table border=\"1\" class=\"dataframe\">\n",
       "  <thead>\n",
       "    <tr style=\"text-align: right;\">\n",
       "      <th></th>\n",
       "      <th>SL</th>\n",
       "      <th>NAME</th>\n",
       "      <th>ACCOUNT_NO</th>\n",
       "      <th>METER_NO</th>\n",
       "      <th>ADDRESS</th>\n",
       "      <th>ZONE</th>\n",
       "      <th>BLOCK</th>\n",
       "      <th>ROUTE</th>\n",
       "      <th>LOAD</th>\n",
       "      <th>TARIFF</th>\n",
       "      <th>METER_STATUS</th>\n",
       "      <th>MONTH</th>\n",
       "      <th>YEAR</th>\n",
       "      <th>UNIT</th>\n",
       "    </tr>\n",
       "  </thead>\n",
       "  <tbody>\n",
       "    <tr>\n",
       "      <th>1522</th>\n",
       "      <td>707658</td>\n",
       "      <td>Md. Joynal Abedin</td>\n",
       "      <td>20000243</td>\n",
       "      <td>023729</td>\n",
       "      <td>House/Flat # 1097/1100VATARA, KHILBARIRTAK, Co...</td>\n",
       "      <td>JB</td>\n",
       "      <td>1065</td>\n",
       "      <td>548.8</td>\n",
       "      <td>2</td>\n",
       "      <td>A</td>\n",
       "      <td>check</td>\n",
       "      <td>9</td>\n",
       "      <td>2012</td>\n",
       "      <td>-283</td>\n",
       "    </tr>\n",
       "    <tr>\n",
       "      <th>2233</th>\n",
       "      <td>399863</td>\n",
       "      <td>MS.DELOARA BEGUM</td>\n",
       "      <td>20000280</td>\n",
       "      <td>11215221</td>\n",
       "      <td>House/Flat # 1183,, NURER CHALA, Contact no: 0...</td>\n",
       "      <td>JB</td>\n",
       "      <td>290</td>\n",
       "      <td>2510.0</td>\n",
       "      <td>2</td>\n",
       "      <td>A</td>\n",
       "      <td>check</td>\n",
       "      <td>10</td>\n",
       "      <td>2012</td>\n",
       "      <td>-507</td>\n",
       "    </tr>\n",
       "    <tr>\n",
       "      <th>2235</th>\n",
       "      <td>711749</td>\n",
       "      <td>MS.DELOARA BEGUM</td>\n",
       "      <td>20000280</td>\n",
       "      <td>11215221</td>\n",
       "      <td>House/Flat # 1183,, NURER CHALA, Contact no: 0...</td>\n",
       "      <td>JB</td>\n",
       "      <td>290</td>\n",
       "      <td>2510.0</td>\n",
       "      <td>2</td>\n",
       "      <td>A</td>\n",
       "      <td>check</td>\n",
       "      <td>11</td>\n",
       "      <td>2012</td>\n",
       "      <td>-90</td>\n",
       "    </tr>\n",
       "    <tr>\n",
       "      <th>2236</th>\n",
       "      <td>723154</td>\n",
       "      <td>MS.DELOARA BEGUM</td>\n",
       "      <td>20000280</td>\n",
       "      <td>11215221</td>\n",
       "      <td>House/Flat # 1183,, NURER CHALA, Contact no: 0...</td>\n",
       "      <td>JB</td>\n",
       "      <td>290</td>\n",
       "      <td>2510.0</td>\n",
       "      <td>2</td>\n",
       "      <td>A</td>\n",
       "      <td>check</td>\n",
       "      <td>12</td>\n",
       "      <td>2012</td>\n",
       "      <td>-34</td>\n",
       "    </tr>\n",
       "    <tr>\n",
       "      <th>2237</th>\n",
       "      <td>733584</td>\n",
       "      <td>MS.DELOARA BEGUM</td>\n",
       "      <td>20000280</td>\n",
       "      <td>11215221</td>\n",
       "      <td>House/Flat # 1183,, NURER CHALA, Contact no: 0...</td>\n",
       "      <td>JB</td>\n",
       "      <td>290</td>\n",
       "      <td>2510.0</td>\n",
       "      <td>2</td>\n",
       "      <td>A</td>\n",
       "      <td>check</td>\n",
       "      <td>1</td>\n",
       "      <td>2013</td>\n",
       "      <td>-33</td>\n",
       "    </tr>\n",
       "  </tbody>\n",
       "</table>\n",
       "</div>"
      ],
      "text/plain": [
       "          SL               NAME  ACCOUNT_NO  METER_NO  \\\n",
       "1522  707658  Md. Joynal Abedin    20000243    023729   \n",
       "2233  399863   MS.DELOARA BEGUM    20000280  11215221   \n",
       "2235  711749   MS.DELOARA BEGUM    20000280  11215221   \n",
       "2236  723154   MS.DELOARA BEGUM    20000280  11215221   \n",
       "2237  733584   MS.DELOARA BEGUM    20000280  11215221   \n",
       "\n",
       "                                                ADDRESS ZONE BLOCK   ROUTE  \\\n",
       "1522  House/Flat # 1097/1100VATARA, KHILBARIRTAK, Co...   JB  1065   548.8   \n",
       "2233  House/Flat # 1183,, NURER CHALA, Contact no: 0...   JB   290  2510.0   \n",
       "2235  House/Flat # 1183,, NURER CHALA, Contact no: 0...   JB   290  2510.0   \n",
       "2236  House/Flat # 1183,, NURER CHALA, Contact no: 0...   JB   290  2510.0   \n",
       "2237  House/Flat # 1183,, NURER CHALA, Contact no: 0...   JB   290  2510.0   \n",
       "\n",
       "      LOAD TARIFF METER_STATUS  MONTH  YEAR  UNIT  \n",
       "1522     2      A        check      9  2012  -283  \n",
       "2233     2      A        check     10  2012  -507  \n",
       "2235     2      A        check     11  2012   -90  \n",
       "2236     2      A        check     12  2012   -34  \n",
       "2237     2      A        check      1  2013   -33  "
      ]
     },
     "execution_count": 8,
     "metadata": {},
     "output_type": "execute_result"
    }
   ],
   "source": [
    "neg_unit_rows.head()"
   ]
  },
  {
   "cell_type": "code",
   "execution_count": 9,
   "metadata": {
    "collapsed": false
   },
   "outputs": [
    {
     "data": {
      "text/plain": [
       "SL              4846\n",
       "NAME            4846\n",
       "ACCOUNT_NO      4846\n",
       "METER_NO        4846\n",
       "ADDRESS         4846\n",
       "ZONE            4846\n",
       "BLOCK           4846\n",
       "ROUTE           4846\n",
       "LOAD            4846\n",
       "TARIFF          4846\n",
       "METER_STATUS    4846\n",
       "MONTH           4846\n",
       "YEAR            4846\n",
       "UNIT            4846\n",
       "dtype: int64"
      ]
     },
     "execution_count": 9,
     "metadata": {},
     "output_type": "execute_result"
    }
   ],
   "source": [
    "neg_unit_rows.count()"
   ]
  },
  {
   "cell_type": "code",
   "execution_count": 10,
   "metadata": {
    "collapsed": false
   },
   "outputs": [
    {
     "data": {
      "text/plain": [
       "'(ACCOUNT_NO ==12) & (YEAR ==13) & (UNIT > 0)'"
      ]
     },
     "execution_count": 10,
     "metadata": {},
     "output_type": "execute_result"
    }
   ],
   "source": [
    "def IMPUTE_UNIT(x):\n",
    "    if x.UNIT < 0:\n",
    "        return 0\n",
    "    else:\n",
    "        return x.UNIT\n",
    "def mean_calculate(acc, year):\n",
    "    return \"(ACCOUNT_NO ==\"+ str(acc)+\") & (YEAR ==\"+str(year)+\") & (UNIT > 0)\"\n",
    "\n",
    "def IMPUTE_UNIT_WITH_MEAN(x):\n",
    "    if x.UNIT < 0:\n",
    "        acc = x.ACCOUNT_NO\n",
    "        year = x.YEAR\n",
    "        mean = 0\n",
    "        mean = df.query(mean_calculate(acc,year)).UNIT.mean()\n",
    "#         try:\n",
    "\n",
    "#             mean = df.query('(ACCOUNT_NO == acc) & (YEAR == year) & (UNIT > 0)').UNIT.mean()\n",
    "#         except :\n",
    "#             print('{0} {1} {2}'.format(acc,year, mean))\n",
    "\n",
    "        return mean\n",
    "    else:\n",
    "        return x.UNIT\n",
    "mean_calculate(12,13)"
   ]
  },
  {
   "cell_type": "code",
   "execution_count": 11,
   "metadata": {
    "collapsed": true
   },
   "outputs": [],
   "source": [
    "df['IMPUTE_UNIT'] = df.apply( IMPUTE_UNIT_WITH_MEAN, axis=1)"
   ]
  },
  {
   "cell_type": "code",
   "execution_count": 12,
   "metadata": {
    "collapsed": false
   },
   "outputs": [
    {
     "data": {
      "text/plain": [
       "0"
      ]
     },
     "execution_count": 12,
     "metadata": {},
     "output_type": "execute_result"
    }
   ],
   "source": [
    "df.IMPUTE_UNIT.lt(0).sum()"
   ]
  },
  {
   "cell_type": "code",
   "execution_count": 13,
   "metadata": {
    "collapsed": false
   },
   "outputs": [
    {
     "data": {
      "text/plain": [
       "78700"
      ]
     },
     "execution_count": 13,
     "metadata": {},
     "output_type": "execute_result"
    }
   ],
   "source": [
    "df.UNIT.lt(1).sum()"
   ]
  },
  {
   "cell_type": "code",
   "execution_count": 14,
   "metadata": {
    "collapsed": false
   },
   "outputs": [
    {
     "data": {
      "text/plain": [
       "0"
      ]
     },
     "execution_count": 14,
     "metadata": {},
     "output_type": "execute_result"
    }
   ],
   "source": [
    "df.IMPUTE_UNIT.lt(-1).sum()"
   ]
  },
  {
   "cell_type": "code",
   "execution_count": 15,
   "metadata": {
    "collapsed": false
   },
   "outputs": [
    {
     "data": {
      "text/plain": [
       "4745"
      ]
     },
     "execution_count": 15,
     "metadata": {},
     "output_type": "execute_result"
    }
   ],
   "source": [
    "df.UNIT.lt(-1).sum()"
   ]
  },
  {
   "cell_type": "code",
   "execution_count": 16,
   "metadata": {
    "collapsed": true
   },
   "outputs": [],
   "source": [
    "df.to_csv('../baridhara.csv',index=False)"
   ]
  },
  {
   "cell_type": "code",
   "execution_count": null,
   "metadata": {
    "collapsed": true
   },
   "outputs": [],
   "source": []
  }
 ],
 "metadata": {
  "anaconda-cloud": {},
  "kernelspec": {
   "display_name": "Python [default]",
   "language": "python",
   "name": "python3"
  },
  "language_info": {
   "codemirror_mode": {
    "name": "ipython",
    "version": 3
   },
   "file_extension": ".py",
   "mimetype": "text/x-python",
   "name": "python",
   "nbconvert_exporter": "python",
   "pygments_lexer": "ipython3",
   "version": "3.5.2"
  }
 },
 "nbformat": 4,
 "nbformat_minor": 1
}
