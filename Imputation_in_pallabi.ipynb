{
 "cells": [
  {
   "cell_type": "code",
   "execution_count": 1,
   "metadata": {
    "collapsed": false
   },
   "outputs": [
    {
     "name": "stdout",
     "output_type": "stream",
     "text": [
      "3.5.2 |Anaconda 4.2.0 (64-bit)| (default, Jul  5 2016, 11:41:13) [MSC v.1900 64 bit (AMD64)]\n"
     ]
    }
   ],
   "source": [
    "import sys\n",
    "print(sys.version)\n",
    "import pandas as pd \n",
    "import numpy as np\n",
    "import matplotlib.pyplot as plt\n"
   ]
  },
  {
   "cell_type": "code",
   "execution_count": 2,
   "metadata": {
    "collapsed": false
   },
   "outputs": [
    {
     "name": "stderr",
     "output_type": "stream",
     "text": [
      "C:\\Program Files\\Anaconda3\\lib\\site-packages\\IPython\\core\\interactiveshell.py:2717: DtypeWarning: Columns (5) have mixed types. Specify dtype option on import or set low_memory=False.\n",
      "  interactivity=interactivity, compiler=compiler, result=result)\n"
     ]
    },
    {
     "data": {
      "text/html": [
       "<div>\n",
       "<table border=\"1\" class=\"dataframe\">\n",
       "  <thead>\n",
       "    <tr style=\"text-align: right;\">\n",
       "      <th></th>\n",
       "      <th>NAME</th>\n",
       "      <th>ACCOUNT_NO</th>\n",
       "      <th>METER_NO</th>\n",
       "      <th>ADDRESS</th>\n",
       "      <th>ZONE</th>\n",
       "      <th>BLOCK</th>\n",
       "      <th>ROUTE</th>\n",
       "      <th>LOAD</th>\n",
       "      <th>TARIFF</th>\n",
       "      <th>METER_STATUS</th>\n",
       "      <th>MONTH</th>\n",
       "      <th>YEAR</th>\n",
       "      <th>UNIT</th>\n",
       "    </tr>\n",
       "  </thead>\n",
       "  <tbody>\n",
       "    <tr>\n",
       "      <th>0</th>\n",
       "      <td>HEAD MASTER KALSHI HIGH S</td>\n",
       "      <td>11313911</td>\n",
       "      <td>0000830099</td>\n",
       "      <td>11 E/DAG NO 3170 MIRPUR DHAKA</td>\n",
       "      <td>PLAF</td>\n",
       "      <td>110</td>\n",
       "      <td>10.0</td>\n",
       "      <td>2.0</td>\n",
       "      <td>D</td>\n",
       "      <td>Single</td>\n",
       "      <td>5</td>\n",
       "      <td>1999</td>\n",
       "      <td>1755.0</td>\n",
       "    </tr>\n",
       "    <tr>\n",
       "      <th>1</th>\n",
       "      <td>HEAD MASTER KALSHI HIGH S</td>\n",
       "      <td>11313911</td>\n",
       "      <td>0000830099</td>\n",
       "      <td>11 E/DAG NO 3170 MIRPUR DHAKA</td>\n",
       "      <td>PLAF</td>\n",
       "      <td>110</td>\n",
       "      <td>10.0</td>\n",
       "      <td>2.0</td>\n",
       "      <td>D</td>\n",
       "      <td>Single</td>\n",
       "      <td>6</td>\n",
       "      <td>1999</td>\n",
       "      <td>1615.0</td>\n",
       "    </tr>\n",
       "    <tr>\n",
       "      <th>2</th>\n",
       "      <td>HEAD MASTER KALSHI HIGH S</td>\n",
       "      <td>11313911</td>\n",
       "      <td>0000830099</td>\n",
       "      <td>11 E/DAG NO 3170 MIRPUR DHAKA</td>\n",
       "      <td>PLAF</td>\n",
       "      <td>110</td>\n",
       "      <td>10.0</td>\n",
       "      <td>2.0</td>\n",
       "      <td>D</td>\n",
       "      <td>Single</td>\n",
       "      <td>7</td>\n",
       "      <td>1999</td>\n",
       "      <td>375.0</td>\n",
       "    </tr>\n",
       "    <tr>\n",
       "      <th>3</th>\n",
       "      <td>HEAD MASTER KALSHI HIGH S</td>\n",
       "      <td>11313911</td>\n",
       "      <td>0000830099</td>\n",
       "      <td>11 E/DAG NO 3170 MIRPUR DHAKA</td>\n",
       "      <td>PLAF</td>\n",
       "      <td>110</td>\n",
       "      <td>10.0</td>\n",
       "      <td>2.0</td>\n",
       "      <td>D</td>\n",
       "      <td>Single</td>\n",
       "      <td>8</td>\n",
       "      <td>1999</td>\n",
       "      <td>375.0</td>\n",
       "    </tr>\n",
       "    <tr>\n",
       "      <th>4</th>\n",
       "      <td>HEAD MASTER KALSHI HIGH S</td>\n",
       "      <td>11313911</td>\n",
       "      <td>0000830099</td>\n",
       "      <td>11 E/DAG NO 3170 MIRPUR DHAKA</td>\n",
       "      <td>PLAF</td>\n",
       "      <td>110</td>\n",
       "      <td>10.0</td>\n",
       "      <td>2.0</td>\n",
       "      <td>D</td>\n",
       "      <td>Single</td>\n",
       "      <td>9</td>\n",
       "      <td>1999</td>\n",
       "      <td>350.0</td>\n",
       "    </tr>\n",
       "  </tbody>\n",
       "</table>\n",
       "</div>"
      ],
      "text/plain": [
       "                        NAME  ACCOUNT_NO    METER_NO  \\\n",
       "0  HEAD MASTER KALSHI HIGH S    11313911  0000830099   \n",
       "1  HEAD MASTER KALSHI HIGH S    11313911  0000830099   \n",
       "2  HEAD MASTER KALSHI HIGH S    11313911  0000830099   \n",
       "3  HEAD MASTER KALSHI HIGH S    11313911  0000830099   \n",
       "4  HEAD MASTER KALSHI HIGH S    11313911  0000830099   \n",
       "\n",
       "                         ADDRESS  ZONE BLOCK  ROUTE  LOAD TARIFF METER_STATUS  \\\n",
       "0  11 E/DAG NO 3170 MIRPUR DHAKA  PLAF   110   10.0   2.0      D       Single   \n",
       "1  11 E/DAG NO 3170 MIRPUR DHAKA  PLAF   110   10.0   2.0      D       Single   \n",
       "2  11 E/DAG NO 3170 MIRPUR DHAKA  PLAF   110   10.0   2.0      D       Single   \n",
       "3  11 E/DAG NO 3170 MIRPUR DHAKA  PLAF   110   10.0   2.0      D       Single   \n",
       "4  11 E/DAG NO 3170 MIRPUR DHAKA  PLAF   110   10.0   2.0      D       Single   \n",
       "\n",
       "   MONTH  YEAR    UNIT  \n",
       "0      5  1999  1755.0  \n",
       "1      6  1999  1615.0  \n",
       "2      7  1999   375.0  \n",
       "3      8  1999   375.0  \n",
       "4      9  1999   350.0  "
      ]
     },
     "execution_count": 2,
     "metadata": {},
     "output_type": "execute_result"
    }
   ],
   "source": [
    "df = pd.read_csv('../pallabi.csv')\n",
    "df.head()"
   ]
  },
  {
   "cell_type": "code",
   "execution_count": 3,
   "metadata": {
    "collapsed": false
   },
   "outputs": [
    {
     "name": "stdout",
     "output_type": "stream",
     "text": [
      "<class 'pandas.core.frame.DataFrame'>\n",
      "RangeIndex: 4343235 entries, 0 to 4343234\n",
      "Data columns (total 13 columns):\n",
      "NAME            object\n",
      "ACCOUNT_NO      int64\n",
      "METER_NO        object\n",
      "ADDRESS         object\n",
      "ZONE            object\n",
      "BLOCK           object\n",
      "ROUTE           float64\n",
      "LOAD            float64\n",
      "TARIFF          object\n",
      "METER_STATUS    object\n",
      "MONTH           int64\n",
      "YEAR            int64\n",
      "UNIT            float64\n",
      "dtypes: float64(3), int64(3), object(7)\n",
      "memory usage: 430.8+ MB\n"
     ]
    }
   ],
   "source": [
    "df.info()"
   ]
  },
  {
   "cell_type": "code",
   "execution_count": 4,
   "metadata": {
    "collapsed": false
   },
   "outputs": [
    {
     "data": {
      "text/plain": [
       "NAME              0\n",
       "ACCOUNT_NO        0\n",
       "METER_NO        591\n",
       "ADDRESS           0\n",
       "ZONE              0\n",
       "BLOCK             0\n",
       "ROUTE             0\n",
       "LOAD              0\n",
       "TARIFF            0\n",
       "METER_STATUS      0\n",
       "MONTH             0\n",
       "YEAR              0\n",
       "UNIT              0\n",
       "dtype: int64"
      ]
     },
     "execution_count": 4,
     "metadata": {},
     "output_type": "execute_result"
    }
   ],
   "source": [
    "\n",
    "df.isnull().sum()"
   ]
  },
  {
   "cell_type": "code",
   "execution_count": 5,
   "metadata": {
    "collapsed": false
   },
   "outputs": [
    {
     "data": {
      "text/plain": [
       "NAME            0\n",
       "ACCOUNT_NO      0\n",
       "METER_NO        0\n",
       "ADDRESS         0\n",
       "ZONE            0\n",
       "BLOCK           0\n",
       "ROUTE           0\n",
       "LOAD            0\n",
       "TARIFF          0\n",
       "METER_STATUS    0\n",
       "MONTH           0\n",
       "YEAR            0\n",
       "UNIT            0\n",
       "dtype: int64"
      ]
     },
     "execution_count": 5,
     "metadata": {},
     "output_type": "execute_result"
    }
   ],
   "source": [
    "df = df.dropna()\n",
    "df.isnull().sum()"
   ]
  },
  {
   "cell_type": "code",
   "execution_count": 6,
   "metadata": {
    "collapsed": false
   },
   "outputs": [
    {
     "data": {
      "text/html": [
       "<div>\n",
       "<table border=\"1\" class=\"dataframe\">\n",
       "  <thead>\n",
       "    <tr style=\"text-align: right;\">\n",
       "      <th></th>\n",
       "      <th>NAME</th>\n",
       "      <th>ACCOUNT_NO</th>\n",
       "      <th>METER_NO</th>\n",
       "      <th>ADDRESS</th>\n",
       "      <th>ZONE</th>\n",
       "      <th>BLOCK</th>\n",
       "      <th>ROUTE</th>\n",
       "      <th>LOAD</th>\n",
       "      <th>TARIFF</th>\n",
       "      <th>METER_STATUS</th>\n",
       "      <th>MONTH</th>\n",
       "      <th>YEAR</th>\n",
       "      <th>UNIT</th>\n",
       "    </tr>\n",
       "  </thead>\n",
       "  <tbody>\n",
       "    <tr>\n",
       "      <th>4343230</th>\n",
       "      <td>MRS. KAMRUN NAHAR</td>\n",
       "      <td>31511375</td>\n",
       "      <td>66188</td>\n",
       "      <td>House/Flat # 25, Road # 3, Block # E, Section ...</td>\n",
       "      <td>PLKL</td>\n",
       "      <td>352</td>\n",
       "      <td>940.0</td>\n",
       "      <td>7.0</td>\n",
       "      <td>A</td>\n",
       "      <td>child</td>\n",
       "      <td>8</td>\n",
       "      <td>2012</td>\n",
       "      <td>223.0</td>\n",
       "    </tr>\n",
       "    <tr>\n",
       "      <th>4343231</th>\n",
       "      <td>MRS. KAMRUN NAHAR</td>\n",
       "      <td>31511375</td>\n",
       "      <td>66188</td>\n",
       "      <td>House/Flat # 25, Road # 3, Block # E, Section ...</td>\n",
       "      <td>PLKL</td>\n",
       "      <td>352</td>\n",
       "      <td>940.0</td>\n",
       "      <td>7.0</td>\n",
       "      <td>A</td>\n",
       "      <td>child</td>\n",
       "      <td>9</td>\n",
       "      <td>2012</td>\n",
       "      <td>127.0</td>\n",
       "    </tr>\n",
       "    <tr>\n",
       "      <th>4343232</th>\n",
       "      <td>MRS. KAMRUN NAHAR</td>\n",
       "      <td>31511375</td>\n",
       "      <td>66188</td>\n",
       "      <td>House/Flat # 25, Road # 3, Block # E, Section ...</td>\n",
       "      <td>PLKL</td>\n",
       "      <td>352</td>\n",
       "      <td>940.0</td>\n",
       "      <td>7.0</td>\n",
       "      <td>A</td>\n",
       "      <td>child</td>\n",
       "      <td>10</td>\n",
       "      <td>2012</td>\n",
       "      <td>121.0</td>\n",
       "    </tr>\n",
       "    <tr>\n",
       "      <th>4343233</th>\n",
       "      <td>MRS. KAMRUN NAHAR</td>\n",
       "      <td>31511375</td>\n",
       "      <td>66188</td>\n",
       "      <td>House/Flat # 25, Road # 3, Block # E, Section ...</td>\n",
       "      <td>PLKL</td>\n",
       "      <td>352</td>\n",
       "      <td>940.0</td>\n",
       "      <td>7.0</td>\n",
       "      <td>A</td>\n",
       "      <td>child</td>\n",
       "      <td>11</td>\n",
       "      <td>2012</td>\n",
       "      <td>97.0</td>\n",
       "    </tr>\n",
       "    <tr>\n",
       "      <th>4343234</th>\n",
       "      <td>MRS. KAMRUN NAHAR</td>\n",
       "      <td>31511375</td>\n",
       "      <td>66188</td>\n",
       "      <td>House/Flat # 25, Road # 3, Block # E, Section ...</td>\n",
       "      <td>PLKL</td>\n",
       "      <td>352</td>\n",
       "      <td>940.0</td>\n",
       "      <td>7.0</td>\n",
       "      <td>A</td>\n",
       "      <td>child</td>\n",
       "      <td>12</td>\n",
       "      <td>2012</td>\n",
       "      <td>90.0</td>\n",
       "    </tr>\n",
       "  </tbody>\n",
       "</table>\n",
       "</div>"
      ],
      "text/plain": [
       "                      NAME  ACCOUNT_NO METER_NO  \\\n",
       "4343230  MRS. KAMRUN NAHAR    31511375    66188   \n",
       "4343231  MRS. KAMRUN NAHAR    31511375    66188   \n",
       "4343232  MRS. KAMRUN NAHAR    31511375    66188   \n",
       "4343233  MRS. KAMRUN NAHAR    31511375    66188   \n",
       "4343234  MRS. KAMRUN NAHAR    31511375    66188   \n",
       "\n",
       "                                                   ADDRESS  ZONE BLOCK  ROUTE  \\\n",
       "4343230  House/Flat # 25, Road # 3, Block # E, Section ...  PLKL   352  940.0   \n",
       "4343231  House/Flat # 25, Road # 3, Block # E, Section ...  PLKL   352  940.0   \n",
       "4343232  House/Flat # 25, Road # 3, Block # E, Section ...  PLKL   352  940.0   \n",
       "4343233  House/Flat # 25, Road # 3, Block # E, Section ...  PLKL   352  940.0   \n",
       "4343234  House/Flat # 25, Road # 3, Block # E, Section ...  PLKL   352  940.0   \n",
       "\n",
       "         LOAD TARIFF METER_STATUS  MONTH  YEAR   UNIT  \n",
       "4343230   7.0      A        child      8  2012  223.0  \n",
       "4343231   7.0      A        child      9  2012  127.0  \n",
       "4343232   7.0      A        child     10  2012  121.0  \n",
       "4343233   7.0      A        child     11  2012   97.0  \n",
       "4343234   7.0      A        child     12  2012   90.0  "
      ]
     },
     "execution_count": 6,
     "metadata": {},
     "output_type": "execute_result"
    }
   ],
   "source": [
    "df.to_csv('../pallabi.csv',index=False)\n",
    "df.tail()"
   ]
  },
  {
   "cell_type": "code",
   "execution_count": 7,
   "metadata": {
    "collapsed": true
   },
   "outputs": [],
   "source": [
    "neg_unit_rows = df.loc[df['UNIT'] <0]"
   ]
  },
  {
   "cell_type": "code",
   "execution_count": 8,
   "metadata": {
    "collapsed": false
   },
   "outputs": [
    {
     "data": {
      "text/html": [
       "<div>\n",
       "<table border=\"1\" class=\"dataframe\">\n",
       "  <thead>\n",
       "    <tr style=\"text-align: right;\">\n",
       "      <th></th>\n",
       "      <th>NAME</th>\n",
       "      <th>ACCOUNT_NO</th>\n",
       "      <th>METER_NO</th>\n",
       "      <th>ADDRESS</th>\n",
       "      <th>ZONE</th>\n",
       "      <th>BLOCK</th>\n",
       "      <th>ROUTE</th>\n",
       "      <th>LOAD</th>\n",
       "      <th>TARIFF</th>\n",
       "      <th>METER_STATUS</th>\n",
       "      <th>MONTH</th>\n",
       "      <th>YEAR</th>\n",
       "      <th>UNIT</th>\n",
       "    </tr>\n",
       "  </thead>\n",
       "  <tbody>\n",
       "    <tr>\n",
       "      <th>211</th>\n",
       "      <td>Md. Foaz Uddin Madbar (Chaiman)</td>\n",
       "      <td>13006747</td>\n",
       "      <td>55001205</td>\n",
       "      <td>House/Flat # Jame Mosjid, Road # Kalsi Road, B...</td>\n",
       "      <td>PLAF</td>\n",
       "      <td>110</td>\n",
       "      <td>20.0</td>\n",
       "      <td>11.0</td>\n",
       "      <td>D</td>\n",
       "      <td>check</td>\n",
       "      <td>4</td>\n",
       "      <td>2013</td>\n",
       "      <td>-1.0</td>\n",
       "    </tr>\n",
       "    <tr>\n",
       "      <th>7453</th>\n",
       "      <td>MRS. TOFA AKTHER MATIN</td>\n",
       "      <td>11516230</td>\n",
       "      <td>03643</td>\n",
       "      <td>11/E, RD-01, H-01, PALLABI. DHAKA</td>\n",
       "      <td>PLAF</td>\n",
       "      <td>110</td>\n",
       "      <td>830.0</td>\n",
       "      <td>3.0</td>\n",
       "      <td>E</td>\n",
       "      <td>check</td>\n",
       "      <td>8</td>\n",
       "      <td>2008</td>\n",
       "      <td>-1199.0</td>\n",
       "    </tr>\n",
       "    <tr>\n",
       "      <th>7499</th>\n",
       "      <td>MRS. TOFA AKTHER MATIN</td>\n",
       "      <td>11516230</td>\n",
       "      <td>03643</td>\n",
       "      <td>11/E, RD-01, H-01, PALLABI. DHAKA</td>\n",
       "      <td>PLAF</td>\n",
       "      <td>110</td>\n",
       "      <td>830.0</td>\n",
       "      <td>3.0</td>\n",
       "      <td>E</td>\n",
       "      <td>check</td>\n",
       "      <td>6</td>\n",
       "      <td>2012</td>\n",
       "      <td>-179.0</td>\n",
       "    </tr>\n",
       "    <tr>\n",
       "      <th>7501</th>\n",
       "      <td>MRS. TOFA AKTHER MATIN</td>\n",
       "      <td>11516230</td>\n",
       "      <td>03643</td>\n",
       "      <td>11/E, RD-01, H-01, PALLABI. DHAKA</td>\n",
       "      <td>PLAF</td>\n",
       "      <td>110</td>\n",
       "      <td>830.0</td>\n",
       "      <td>3.0</td>\n",
       "      <td>E</td>\n",
       "      <td>check</td>\n",
       "      <td>8</td>\n",
       "      <td>2012</td>\n",
       "      <td>-95.0</td>\n",
       "    </tr>\n",
       "    <tr>\n",
       "      <th>11990</th>\n",
       "      <td>MRS. SOFIA BEGUM</td>\n",
       "      <td>11521339</td>\n",
       "      <td>8125504</td>\n",
       "      <td>11/E, RD-2, H-38, PALLABI, DHAKA</td>\n",
       "      <td>PLAF</td>\n",
       "      <td>110</td>\n",
       "      <td>1160.0</td>\n",
       "      <td>3.0</td>\n",
       "      <td>A</td>\n",
       "      <td>Check</td>\n",
       "      <td>8</td>\n",
       "      <td>2009</td>\n",
       "      <td>-507.0</td>\n",
       "    </tr>\n",
       "  </tbody>\n",
       "</table>\n",
       "</div>"
      ],
      "text/plain": [
       "                                  NAME  ACCOUNT_NO  METER_NO  \\\n",
       "211    Md. Foaz Uddin Madbar (Chaiman)    13006747  55001205   \n",
       "7453            MRS. TOFA AKTHER MATIN    11516230     03643   \n",
       "7499            MRS. TOFA AKTHER MATIN    11516230     03643   \n",
       "7501            MRS. TOFA AKTHER MATIN    11516230     03643   \n",
       "11990                 MRS. SOFIA BEGUM    11521339   8125504   \n",
       "\n",
       "                                                 ADDRESS  ZONE BLOCK   ROUTE  \\\n",
       "211    House/Flat # Jame Mosjid, Road # Kalsi Road, B...  PLAF   110    20.0   \n",
       "7453                   11/E, RD-01, H-01, PALLABI. DHAKA  PLAF   110   830.0   \n",
       "7499                   11/E, RD-01, H-01, PALLABI. DHAKA  PLAF   110   830.0   \n",
       "7501                   11/E, RD-01, H-01, PALLABI. DHAKA  PLAF   110   830.0   \n",
       "11990                   11/E, RD-2, H-38, PALLABI, DHAKA  PLAF   110  1160.0   \n",
       "\n",
       "       LOAD TARIFF METER_STATUS  MONTH  YEAR    UNIT  \n",
       "211    11.0      D        check      4  2013    -1.0  \n",
       "7453    3.0      E        check      8  2008 -1199.0  \n",
       "7499    3.0      E        check      6  2012  -179.0  \n",
       "7501    3.0      E        check      8  2012   -95.0  \n",
       "11990   3.0      A        Check      8  2009  -507.0  "
      ]
     },
     "execution_count": 8,
     "metadata": {},
     "output_type": "execute_result"
    }
   ],
   "source": [
    "neg_unit_rows.head()"
   ]
  },
  {
   "cell_type": "code",
   "execution_count": 9,
   "metadata": {
    "collapsed": false
   },
   "outputs": [
    {
     "data": {
      "text/plain": [
       "NAME            11818\n",
       "ACCOUNT_NO      11818\n",
       "METER_NO        11818\n",
       "ADDRESS         11818\n",
       "ZONE            11818\n",
       "BLOCK           11818\n",
       "ROUTE           11818\n",
       "LOAD            11818\n",
       "TARIFF          11818\n",
       "METER_STATUS    11818\n",
       "MONTH           11818\n",
       "YEAR            11818\n",
       "UNIT            11818\n",
       "dtype: int64"
      ]
     },
     "execution_count": 9,
     "metadata": {},
     "output_type": "execute_result"
    }
   ],
   "source": [
    "neg_unit_rows.count()"
   ]
  },
  {
   "cell_type": "code",
   "execution_count": 10,
   "metadata": {
    "collapsed": false
   },
   "outputs": [
    {
     "data": {
      "text/plain": [
       "'(ACCOUNT_NO ==12) & (YEAR ==13) & (UNIT > 0)'"
      ]
     },
     "execution_count": 10,
     "metadata": {},
     "output_type": "execute_result"
    }
   ],
   "source": [
    "def IMPUTE_UNIT(x):\n",
    "    if x.UNIT < 0:\n",
    "        return 0\n",
    "    else:\n",
    "        return x.UNIT\n",
    "def mean_calculate(acc, year):\n",
    "    return \"(ACCOUNT_NO ==\"+ str(acc)+\") & (YEAR ==\"+str(year)+\") & (UNIT > 0)\"\n",
    "\n",
    "def IMPUTE_UNIT_WITH_MEAN(x):\n",
    "    if x.UNIT < 0:\n",
    "        acc = x.ACCOUNT_NO\n",
    "        year = x.YEAR\n",
    "        mean = 0\n",
    "        mean = df.query(mean_calculate(acc,year)).UNIT.mean()\n",
    "#         try:\n",
    "\n",
    "#             mean = df.query('(ACCOUNT_NO == acc) & (YEAR == year) & (UNIT > 0)').UNIT.mean()\n",
    "#         except :\n",
    "#             print('{0} {1} {2}'.format(acc,year, mean))\n",
    "\n",
    "        return mean\n",
    "    else:\n",
    "        return x.UNIT\n",
    "mean_calculate(12,13)"
   ]
  },
  {
   "cell_type": "code",
   "execution_count": 11,
   "metadata": {
    "collapsed": true
   },
   "outputs": [],
   "source": [
    "df['IMPUTE_UNIT'] = df.apply( IMPUTE_UNIT_WITH_MEAN, axis=1)"
   ]
  },
  {
   "cell_type": "code",
   "execution_count": 12,
   "metadata": {
    "collapsed": false
   },
   "outputs": [
    {
     "data": {
      "text/plain": [
       "0"
      ]
     },
     "execution_count": 12,
     "metadata": {},
     "output_type": "execute_result"
    }
   ],
   "source": [
    "df.IMPUTE_UNIT.lt(0).sum()"
   ]
  },
  {
   "cell_type": "code",
   "execution_count": 13,
   "metadata": {
    "collapsed": false
   },
   "outputs": [
    {
     "data": {
      "text/plain": [
       "144719"
      ]
     },
     "execution_count": 13,
     "metadata": {},
     "output_type": "execute_result"
    }
   ],
   "source": [
    "df.UNIT.lt(1).sum()"
   ]
  },
  {
   "cell_type": "code",
   "execution_count": 14,
   "metadata": {
    "collapsed": false
   },
   "outputs": [
    {
     "data": {
      "text/plain": [
       "0"
      ]
     },
     "execution_count": 14,
     "metadata": {},
     "output_type": "execute_result"
    }
   ],
   "source": [
    "df.IMPUTE_UNIT.lt(-1).sum()"
   ]
  },
  {
   "cell_type": "code",
   "execution_count": 15,
   "metadata": {
    "collapsed": false
   },
   "outputs": [
    {
     "data": {
      "text/plain": [
       "11607"
      ]
     },
     "execution_count": 15,
     "metadata": {},
     "output_type": "execute_result"
    }
   ],
   "source": [
    "df.UNIT.lt(-1).sum()"
   ]
  },
  {
   "cell_type": "code",
   "execution_count": 16,
   "metadata": {
    "collapsed": true
   },
   "outputs": [],
   "source": [
    "df.to_csv('../pallabi.csv',index=False)"
   ]
  },
  {
   "cell_type": "code",
   "execution_count": null,
   "metadata": {
    "collapsed": true
   },
   "outputs": [],
   "source": []
  }
 ],
 "metadata": {
  "anaconda-cloud": {},
  "kernelspec": {
   "display_name": "Python [default]",
   "language": "python",
   "name": "python3"
  },
  "language_info": {
   "codemirror_mode": {
    "name": "ipython",
    "version": 3
   },
   "file_extension": ".py",
   "mimetype": "text/x-python",
   "name": "python",
   "nbconvert_exporter": "python",
   "pygments_lexer": "ipython3",
   "version": "3.5.2"
  }
 },
 "nbformat": 4,
 "nbformat_minor": 1
}
