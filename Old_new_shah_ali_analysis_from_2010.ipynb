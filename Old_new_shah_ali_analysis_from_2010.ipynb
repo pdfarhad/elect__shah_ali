{
 "cells": [
  {
   "cell_type": "code",
   "execution_count": 1,
   "metadata": {
    "collapsed": false
   },
   "outputs": [
    {
     "name": "stdout",
     "output_type": "stream",
     "text": [
      "3.5.2 |Anaconda 4.2.0 (x86_64)| (default, Jul  2 2016, 17:52:12) \n",
      "[GCC 4.2.1 Compatible Apple LLVM 4.2 (clang-425.0.28)]\n"
     ]
    }
   ],
   "source": [
    "import sys\n",
    "print(sys.version)\n",
    "import pandas as pd \n",
    "import numpy as np\n",
    "import matplotlib.pyplot as plt\n"
   ]
  },
  {
   "cell_type": "code",
   "execution_count": 2,
   "metadata": {
    "collapsed": false
   },
   "outputs": [
    {
     "data": {
      "text/html": [
       "<div>\n",
       "<table border=\"1\" class=\"dataframe\">\n",
       "  <thead>\n",
       "    <tr style=\"text-align: right;\">\n",
       "      <th></th>\n",
       "      <th>SL</th>\n",
       "      <th>NAME</th>\n",
       "      <th>ACCOUNT_NO</th>\n",
       "      <th>METER_NO</th>\n",
       "      <th>ADDRESS</th>\n",
       "      <th>ZONE</th>\n",
       "      <th>BLOCK</th>\n",
       "      <th>ROUTE</th>\n",
       "      <th>LOAD</th>\n",
       "      <th>TARIFF</th>\n",
       "      <th>METER_STATUS</th>\n",
       "      <th>MONTH</th>\n",
       "      <th>YEAR</th>\n",
       "      <th>UNIT</th>\n",
       "      <th>IMPUTE_UNIT</th>\n",
       "    </tr>\n",
       "  </thead>\n",
       "  <tbody>\n",
       "    <tr>\n",
       "      <th>0</th>\n",
       "      <td>5702.0</td>\n",
       "      <td>PAIKPARA GOVT STAFF QTR</td>\n",
       "      <td>29000041</td>\n",
       "      <td>1068554</td>\n",
       "      <td>BLD-129/10 MIRPUR, DHAKA</td>\n",
       "      <td>SAAA</td>\n",
       "      <td>100</td>\n",
       "      <td>10.0</td>\n",
       "      <td>2</td>\n",
       "      <td>A</td>\n",
       "      <td>Child</td>\n",
       "      <td>6</td>\n",
       "      <td>2001</td>\n",
       "      <td>176.0</td>\n",
       "      <td>176.0</td>\n",
       "    </tr>\n",
       "    <tr>\n",
       "      <th>1</th>\n",
       "      <td>5871.0</td>\n",
       "      <td>PAIKPARA GOVT STAFF QTR</td>\n",
       "      <td>29000041</td>\n",
       "      <td>1068554</td>\n",
       "      <td>BLD-129/10 MIRPUR, DHAKA</td>\n",
       "      <td>SAAA</td>\n",
       "      <td>100</td>\n",
       "      <td>10.0</td>\n",
       "      <td>2</td>\n",
       "      <td>A</td>\n",
       "      <td>Child</td>\n",
       "      <td>9</td>\n",
       "      <td>2001</td>\n",
       "      <td>200.0</td>\n",
       "      <td>200.0</td>\n",
       "    </tr>\n",
       "    <tr>\n",
       "      <th>2</th>\n",
       "      <td>5904.0</td>\n",
       "      <td>PAIKPARA GOVT STAFF QTR</td>\n",
       "      <td>29000041</td>\n",
       "      <td>1068554</td>\n",
       "      <td>BLD-129/10 MIRPUR, DHAKA</td>\n",
       "      <td>SAAA</td>\n",
       "      <td>100</td>\n",
       "      <td>10.0</td>\n",
       "      <td>2</td>\n",
       "      <td>A</td>\n",
       "      <td>Child</td>\n",
       "      <td>10</td>\n",
       "      <td>2001</td>\n",
       "      <td>220.0</td>\n",
       "      <td>220.0</td>\n",
       "    </tr>\n",
       "    <tr>\n",
       "      <th>3</th>\n",
       "      <td>5916.0</td>\n",
       "      <td>PAIKPARA GOVT STAFF QTR</td>\n",
       "      <td>29000041</td>\n",
       "      <td>1068554</td>\n",
       "      <td>BLD-129/10 MIRPUR, DHAKA</td>\n",
       "      <td>SAAA</td>\n",
       "      <td>100</td>\n",
       "      <td>10.0</td>\n",
       "      <td>2</td>\n",
       "      <td>A</td>\n",
       "      <td>Child</td>\n",
       "      <td>8</td>\n",
       "      <td>2001</td>\n",
       "      <td>214.0</td>\n",
       "      <td>214.0</td>\n",
       "    </tr>\n",
       "    <tr>\n",
       "      <th>4</th>\n",
       "      <td>6041.0</td>\n",
       "      <td>PAIKPARA GOVT STAFF QTR</td>\n",
       "      <td>29000041</td>\n",
       "      <td>1068554</td>\n",
       "      <td>BLD-129/10 MIRPUR, DHAKA</td>\n",
       "      <td>SAAA</td>\n",
       "      <td>100</td>\n",
       "      <td>10.0</td>\n",
       "      <td>2</td>\n",
       "      <td>A</td>\n",
       "      <td>Child</td>\n",
       "      <td>12</td>\n",
       "      <td>2001</td>\n",
       "      <td>149.0</td>\n",
       "      <td>149.0</td>\n",
       "    </tr>\n",
       "  </tbody>\n",
       "</table>\n",
       "</div>"
      ],
      "text/plain": [
       "       SL                     NAME  ACCOUNT_NO METER_NO  \\\n",
       "0  5702.0  PAIKPARA GOVT STAFF QTR    29000041  1068554   \n",
       "1  5871.0  PAIKPARA GOVT STAFF QTR    29000041  1068554   \n",
       "2  5904.0  PAIKPARA GOVT STAFF QTR    29000041  1068554   \n",
       "3  5916.0  PAIKPARA GOVT STAFF QTR    29000041  1068554   \n",
       "4  6041.0  PAIKPARA GOVT STAFF QTR    29000041  1068554   \n",
       "\n",
       "                    ADDRESS  ZONE  BLOCK  ROUTE  LOAD TARIFF METER_STATUS  \\\n",
       "0  BLD-129/10 MIRPUR, DHAKA  SAAA    100   10.0     2      A        Child   \n",
       "1  BLD-129/10 MIRPUR, DHAKA  SAAA    100   10.0     2      A        Child   \n",
       "2  BLD-129/10 MIRPUR, DHAKA  SAAA    100   10.0     2      A        Child   \n",
       "3  BLD-129/10 MIRPUR, DHAKA  SAAA    100   10.0     2      A        Child   \n",
       "4  BLD-129/10 MIRPUR, DHAKA  SAAA    100   10.0     2      A        Child   \n",
       "\n",
       "   MONTH  YEAR   UNIT  IMPUTE_UNIT  \n",
       "0      6  2001  176.0        176.0  \n",
       "1      9  2001  200.0        200.0  \n",
       "2     10  2001  220.0        220.0  \n",
       "3      8  2001  214.0        214.0  \n",
       "4     12  2001  149.0        149.0  "
      ]
     },
     "execution_count": 2,
     "metadata": {},
     "output_type": "execute_result"
    }
   ],
   "source": [
    "df = pd.read_csv('../Shahali_imputed.csv')\n",
    "df.head()"
   ]
  },
  {
   "cell_type": "code",
   "execution_count": 3,
   "metadata": {
    "collapsed": false
   },
   "outputs": [
    {
     "data": {
      "text/plain": [
       "SL              4537153\n",
       "NAME            4537153\n",
       "ACCOUNT_NO      4537153\n",
       "METER_NO        4537153\n",
       "ADDRESS         4537153\n",
       "ZONE            4537153\n",
       "BLOCK           4537153\n",
       "ROUTE           4537153\n",
       "LOAD            4537153\n",
       "TARIFF          4537153\n",
       "METER_STATUS    4537153\n",
       "MONTH           4537153\n",
       "YEAR            4537153\n",
       "UNIT            4537153\n",
       "IMPUTE_UNIT     4534705\n",
       "dtype: int64"
      ]
     },
     "execution_count": 3,
     "metadata": {},
     "output_type": "execute_result"
    }
   ],
   "source": [
    "df.count()"
   ]
  },
  {
   "cell_type": "code",
   "execution_count": 4,
   "metadata": {
    "collapsed": false
   },
   "outputs": [
    {
     "data": {
      "text/plain": [
       "SL              2479224\n",
       "NAME            2479224\n",
       "ACCOUNT_NO      2479224\n",
       "METER_NO        2479224\n",
       "ADDRESS         2479224\n",
       "ZONE            2479224\n",
       "BLOCK           2479224\n",
       "ROUTE           2479224\n",
       "LOAD            2479224\n",
       "TARIFF          2479224\n",
       "METER_STATUS    2479224\n",
       "MONTH           2479224\n",
       "YEAR            2479224\n",
       "UNIT            2479224\n",
       "IMPUTE_UNIT     2477309\n",
       "dtype: int64"
      ]
     },
     "execution_count": 4,
     "metadata": {},
     "output_type": "execute_result"
    }
   ],
   "source": [
    "df = df.drop(df[df.YEAR < 2010].index)\n",
    "df.count()"
   ]
  },
  {
   "cell_type": "code",
   "execution_count": 5,
   "metadata": {
    "collapsed": false
   },
   "outputs": [
    {
     "data": {
      "text/plain": [
       "SL                 0\n",
       "NAME               0\n",
       "ACCOUNT_NO         0\n",
       "METER_NO           0\n",
       "ADDRESS            0\n",
       "ZONE               0\n",
       "BLOCK              0\n",
       "ROUTE              0\n",
       "LOAD               0\n",
       "TARIFF             0\n",
       "METER_STATUS       0\n",
       "MONTH              0\n",
       "YEAR               0\n",
       "UNIT               0\n",
       "IMPUTE_UNIT     1915\n",
       "dtype: int64"
      ]
     },
     "execution_count": 5,
     "metadata": {},
     "output_type": "execute_result"
    }
   ],
   "source": [
    "df.isnull().sum()"
   ]
  },
  {
   "cell_type": "code",
   "execution_count": 7,
   "metadata": {
    "collapsed": false
   },
   "outputs": [],
   "source": [
    "df.dropna(inplace=True)"
   ]
  },
  {
   "cell_type": "code",
   "execution_count": 8,
   "metadata": {
    "collapsed": false
   },
   "outputs": [
    {
     "data": {
      "text/plain": [
       "<pandas.core.groupby.DataFrameGroupBy object at 0x104431320>"
      ]
     },
     "execution_count": 8,
     "metadata": {},
     "output_type": "execute_result"
    }
   ],
   "source": [
    "df.groupby('YEAR')"
   ]
  },
  {
   "cell_type": "code",
   "execution_count": 9,
   "metadata": {
    "collapsed": false
   },
   "outputs": [
    {
     "data": {
      "text/html": [
       "<div>\n",
       "<table border=\"1\" class=\"dataframe\">\n",
       "  <thead>\n",
       "    <tr style=\"text-align: right;\">\n",
       "      <th></th>\n",
       "      <th>SL</th>\n",
       "      <th>NAME</th>\n",
       "      <th>ACCOUNT_NO</th>\n",
       "      <th>METER_NO</th>\n",
       "      <th>ADDRESS</th>\n",
       "      <th>ZONE</th>\n",
       "      <th>BLOCK</th>\n",
       "      <th>ROUTE</th>\n",
       "      <th>LOAD</th>\n",
       "      <th>TARIFF</th>\n",
       "      <th>METER_STATUS</th>\n",
       "      <th>MONTH</th>\n",
       "      <th>YEAR</th>\n",
       "      <th>UNIT</th>\n",
       "      <th>IMPUTE_UNIT</th>\n",
       "    </tr>\n",
       "  </thead>\n",
       "  <tbody>\n",
       "    <tr>\n",
       "      <th>105</th>\n",
       "      <td>9854.0</td>\n",
       "      <td>PAIKPARA GOVT STAFF QTR</td>\n",
       "      <td>29000041</td>\n",
       "      <td>1068554</td>\n",
       "      <td>BLD-129/10 MIRPUR, DHAKA</td>\n",
       "      <td>SAAA</td>\n",
       "      <td>100</td>\n",
       "      <td>10.0</td>\n",
       "      <td>2</td>\n",
       "      <td>A</td>\n",
       "      <td>Child</td>\n",
       "      <td>1</td>\n",
       "      <td>2010</td>\n",
       "      <td>98.0</td>\n",
       "      <td>98.0</td>\n",
       "    </tr>\n",
       "    <tr>\n",
       "      <th>106</th>\n",
       "      <td>9926.0</td>\n",
       "      <td>PAIKPARA GOVT STAFF QTR</td>\n",
       "      <td>29000041</td>\n",
       "      <td>1068554</td>\n",
       "      <td>BLD-129/10 MIRPUR, DHAKA</td>\n",
       "      <td>SAAA</td>\n",
       "      <td>100</td>\n",
       "      <td>10.0</td>\n",
       "      <td>2</td>\n",
       "      <td>A</td>\n",
       "      <td>Child</td>\n",
       "      <td>3</td>\n",
       "      <td>2010</td>\n",
       "      <td>174.0</td>\n",
       "      <td>174.0</td>\n",
       "    </tr>\n",
       "    <tr>\n",
       "      <th>107</th>\n",
       "      <td>9956.0</td>\n",
       "      <td>PAIKPARA GOVT STAFF QTR</td>\n",
       "      <td>29000041</td>\n",
       "      <td>1068554</td>\n",
       "      <td>BLD-129/10 MIRPUR, DHAKA</td>\n",
       "      <td>SAAA</td>\n",
       "      <td>100</td>\n",
       "      <td>10.0</td>\n",
       "      <td>2</td>\n",
       "      <td>A</td>\n",
       "      <td>Child</td>\n",
       "      <td>2</td>\n",
       "      <td>2010</td>\n",
       "      <td>112.0</td>\n",
       "      <td>112.0</td>\n",
       "    </tr>\n",
       "    <tr>\n",
       "      <th>108</th>\n",
       "      <td>10112.0</td>\n",
       "      <td>PAIKPARA GOVT STAFF QTR</td>\n",
       "      <td>29000041</td>\n",
       "      <td>1068554</td>\n",
       "      <td>BLD-129/10 MIRPUR, DHAKA</td>\n",
       "      <td>SAAA</td>\n",
       "      <td>100</td>\n",
       "      <td>10.0</td>\n",
       "      <td>2</td>\n",
       "      <td>A</td>\n",
       "      <td>Child</td>\n",
       "      <td>4</td>\n",
       "      <td>2010</td>\n",
       "      <td>162.0</td>\n",
       "      <td>162.0</td>\n",
       "    </tr>\n",
       "    <tr>\n",
       "      <th>109</th>\n",
       "      <td>10208.0</td>\n",
       "      <td>PAIKPARA GOVT STAFF QTR</td>\n",
       "      <td>29000041</td>\n",
       "      <td>1068554</td>\n",
       "      <td>BLD-129/10 MIRPUR, DHAKA</td>\n",
       "      <td>SAAA</td>\n",
       "      <td>100</td>\n",
       "      <td>10.0</td>\n",
       "      <td>2</td>\n",
       "      <td>A</td>\n",
       "      <td>Child</td>\n",
       "      <td>5</td>\n",
       "      <td>2010</td>\n",
       "      <td>240.0</td>\n",
       "      <td>240.0</td>\n",
       "    </tr>\n",
       "  </tbody>\n",
       "</table>\n",
       "</div>"
      ],
      "text/plain": [
       "          SL                     NAME  ACCOUNT_NO METER_NO  \\\n",
       "105   9854.0  PAIKPARA GOVT STAFF QTR    29000041  1068554   \n",
       "106   9926.0  PAIKPARA GOVT STAFF QTR    29000041  1068554   \n",
       "107   9956.0  PAIKPARA GOVT STAFF QTR    29000041  1068554   \n",
       "108  10112.0  PAIKPARA GOVT STAFF QTR    29000041  1068554   \n",
       "109  10208.0  PAIKPARA GOVT STAFF QTR    29000041  1068554   \n",
       "\n",
       "                      ADDRESS  ZONE  BLOCK  ROUTE  LOAD TARIFF METER_STATUS  \\\n",
       "105  BLD-129/10 MIRPUR, DHAKA  SAAA    100   10.0     2      A        Child   \n",
       "106  BLD-129/10 MIRPUR, DHAKA  SAAA    100   10.0     2      A        Child   \n",
       "107  BLD-129/10 MIRPUR, DHAKA  SAAA    100   10.0     2      A        Child   \n",
       "108  BLD-129/10 MIRPUR, DHAKA  SAAA    100   10.0     2      A        Child   \n",
       "109  BLD-129/10 MIRPUR, DHAKA  SAAA    100   10.0     2      A        Child   \n",
       "\n",
       "     MONTH  YEAR   UNIT  IMPUTE_UNIT  \n",
       "105      1  2010   98.0         98.0  \n",
       "106      3  2010  174.0        174.0  \n",
       "107      2  2010  112.0        112.0  \n",
       "108      4  2010  162.0        162.0  \n",
       "109      5  2010  240.0        240.0  "
      ]
     },
     "execution_count": 9,
     "metadata": {},
     "output_type": "execute_result"
    }
   ],
   "source": [
    "df.head()"
   ]
  },
  {
   "cell_type": "code",
   "execution_count": 10,
   "metadata": {
    "collapsed": false
   },
   "outputs": [
    {
     "data": {
      "text/plain": [
       "SL              287767\n",
       "NAME            287767\n",
       "ACCOUNT_NO      287767\n",
       "METER_NO        287767\n",
       "ADDRESS         287767\n",
       "ZONE            287767\n",
       "BLOCK           287767\n",
       "ROUTE           287767\n",
       "LOAD            287767\n",
       "TARIFF          287767\n",
       "METER_STATUS    287767\n",
       "MONTH           287767\n",
       "YEAR            287767\n",
       "UNIT            287767\n",
       "IMPUTE_UNIT     287767\n",
       "dtype: int64"
      ]
     },
     "execution_count": 10,
     "metadata": {},
     "output_type": "execute_result"
    }
   ],
   "source": [
    "df_2010 = df.loc[df['YEAR'] == 2010]\n",
    "df_2010.count()"
   ]
  },
  {
   "cell_type": "code",
   "execution_count": 11,
   "metadata": {
    "collapsed": false
   },
   "outputs": [
    {
     "data": {
      "text/plain": [
       "SL              293395\n",
       "NAME            293395\n",
       "ACCOUNT_NO      293395\n",
       "METER_NO        293395\n",
       "ADDRESS         293395\n",
       "ZONE            293395\n",
       "BLOCK           293395\n",
       "ROUTE           293395\n",
       "LOAD            293395\n",
       "TARIFF          293395\n",
       "METER_STATUS    293395\n",
       "MONTH           293395\n",
       "YEAR            293395\n",
       "UNIT            293395\n",
       "IMPUTE_UNIT     293395\n",
       "dtype: int64"
      ]
     },
     "execution_count": 11,
     "metadata": {},
     "output_type": "execute_result"
    }
   ],
   "source": [
    "df_2011 = df.loc[df['YEAR'] == 2011]\n",
    "df_2011.count()"
   ]
  },
  {
   "cell_type": "code",
   "execution_count": 15,
   "metadata": {
    "collapsed": false
   },
   "outputs": [
    {
     "data": {
      "text/plain": [
       "SL              380140\n",
       "NAME            380140\n",
       "ACCOUNT_NO      380140\n",
       "METER_NO        380140\n",
       "ADDRESS         380140\n",
       "ZONE            380140\n",
       "BLOCK           380140\n",
       "ROUTE           380140\n",
       "LOAD            380140\n",
       "TARIFF          380140\n",
       "METER_STATUS    380140\n",
       "MONTH           380140\n",
       "YEAR            380140\n",
       "UNIT            380140\n",
       "IMPUTE_UNIT     380140\n",
       "dtype: int64"
      ]
     },
     "execution_count": 15,
     "metadata": {},
     "output_type": "execute_result"
    }
   ],
   "source": [
    "df_2016 = df.loc[df['YEAR'] == 2016]\n",
    "df_2015 = df.loc[df['YEAR'] == 2015]\n",
    "df_2014 = df.loc[df['YEAR'] == 2014]\n",
    "df_2013 = df.loc[df['YEAR'] == 2013]\n",
    "df_2012 = df.loc[df['YEAR'] == 2012]\n",
    "df_2016.count()"
   ]
  },
  {
   "cell_type": "code",
   "execution_count": 19,
   "metadata": {
    "collapsed": false
   },
   "outputs": [
    {
     "data": {
      "text/plain": [
       "SL              435943\n",
       "NAME            435943\n",
       "ACCOUNT_NO      435943\n",
       "METER_NO        435943\n",
       "ADDRESS         435943\n",
       "ZONE            435943\n",
       "BLOCK           435943\n",
       "ROUTE           435943\n",
       "LOAD            435943\n",
       "TARIFF          435943\n",
       "METER_STATUS    435943\n",
       "MONTH           435943\n",
       "YEAR            435943\n",
       "UNIT            435943\n",
       "IMPUTE_UNIT     435943\n",
       "dtype: int64"
      ]
     },
     "execution_count": 19,
     "metadata": {},
     "output_type": "execute_result"
    }
   ],
   "source": [
    "df_2015.count()"
   ]
  },
  {
   "cell_type": "code",
   "execution_count": 20,
   "metadata": {
    "collapsed": false
   },
   "outputs": [
    {
     "data": {
      "text/plain": [
       "SL_x              4297567\n",
       "NAME_x            4297567\n",
       "ACCOUNT_NO        4297955\n",
       "METER_NO_x        4297567\n",
       "ADDRESS_x         4297567\n",
       "ZONE_x            4297567\n",
       "BLOCK_x           4297567\n",
       "ROUTE_x           4297567\n",
       "LOAD_x            4297567\n",
       "TARIFF_x          4297567\n",
       "METER_STATUS_x    4297567\n",
       "MONTH_x           4297567\n",
       "YEAR_x            4297567\n",
       "UNIT_x            4297567\n",
       "IMPUTE_UNIT_x     4297567\n",
       "SL_y              4283669\n",
       "NAME_y            4283669\n",
       "METER_NO_y        4283669\n",
       "ADDRESS_y         4283669\n",
       "ZONE_y            4283669\n",
       "BLOCK_y           4283669\n",
       "ROUTE_y           4283669\n",
       "LOAD_y            4283669\n",
       "TARIFF_y          4283669\n",
       "METER_STATUS_y    4283669\n",
       "MONTH_y           4283669\n",
       "YEAR_y            4283669\n",
       "UNIT_y            4283669\n",
       "IMPUTE_UNIT_y     4283669\n",
       "dtype: int64"
      ]
     },
     "execution_count": 20,
     "metadata": {},
     "output_type": "execute_result"
    }
   ],
   "source": [
    "df_new_2016 = pd.merge(df_2016,df_2015,on=['ACCOUNT_NO'],how='outer')\n",
    "df_new_2016.count()"
   ]
  },
  {
   "cell_type": "code",
   "execution_count": null,
   "metadata": {
    "collapsed": true
   },
   "outputs": [],
   "source": []
  }
 ],
 "metadata": {
  "anaconda-cloud": {},
  "kernelspec": {
   "display_name": "Python [conda root]",
   "language": "python",
   "name": "conda-root-py"
  },
  "language_info": {
   "codemirror_mode": {
    "name": "ipython",
    "version": 3
   },
   "file_extension": ".py",
   "mimetype": "text/x-python",
   "name": "python",
   "nbconvert_exporter": "python",
   "pygments_lexer": "ipython3",
   "version": "3.5.2"
  }
 },
 "nbformat": 4,
 "nbformat_minor": 2
}
