{
 "cells": [
  {
   "cell_type": "code",
   "execution_count": 1,
   "metadata": {
    "collapsed": false,
    "deletable": true,
    "editable": true
   },
   "outputs": [
    {
     "name": "stdout",
     "output_type": "stream",
     "text": [
      "3.5.2 |Anaconda 4.2.0 (x86_64)| (default, Jul  2 2016, 17:52:12) \n",
      "[GCC 4.2.1 Compatible Apple LLVM 4.2 (clang-425.0.28)]\n"
     ]
    }
   ],
   "source": [
    "import sys\n",
    "print(sys.version)\n",
    "import pandas as pd \n",
    "import numpy as np\n",
    "import matplotlib.pyplot as plt\n"
   ]
  },
  {
   "cell_type": "code",
   "execution_count": 2,
   "metadata": {
    "collapsed": false,
    "deletable": true,
    "editable": true
   },
   "outputs": [
    {
     "data": {
      "text/html": [
       "<div>\n",
       "<table border=\"1\" class=\"dataframe\">\n",
       "  <thead>\n",
       "    <tr style=\"text-align: right;\">\n",
       "      <th></th>\n",
       "      <th>SL</th>\n",
       "      <th>NAME</th>\n",
       "      <th>ACCOUNT_NO</th>\n",
       "      <th>METER_NO</th>\n",
       "      <th>ADDRESS</th>\n",
       "      <th>ZONE</th>\n",
       "      <th>BLOCK</th>\n",
       "      <th>ROUTE</th>\n",
       "      <th>LOAD</th>\n",
       "      <th>TARIFF</th>\n",
       "      <th>METER_STATUS</th>\n",
       "      <th>MONTH</th>\n",
       "      <th>YEAR</th>\n",
       "      <th>UNIT</th>\n",
       "      <th>IMPUTE_UNIT</th>\n",
       "    </tr>\n",
       "  </thead>\n",
       "  <tbody>\n",
       "    <tr>\n",
       "      <th>0</th>\n",
       "      <td>5702.0</td>\n",
       "      <td>PAIKPARA GOVT STAFF QTR</td>\n",
       "      <td>29000041</td>\n",
       "      <td>1068554</td>\n",
       "      <td>BLD-129/10 MIRPUR, DHAKA</td>\n",
       "      <td>SAAA</td>\n",
       "      <td>100</td>\n",
       "      <td>10.0</td>\n",
       "      <td>2</td>\n",
       "      <td>A</td>\n",
       "      <td>Child</td>\n",
       "      <td>6</td>\n",
       "      <td>2001</td>\n",
       "      <td>176.0</td>\n",
       "      <td>176.0</td>\n",
       "    </tr>\n",
       "    <tr>\n",
       "      <th>1</th>\n",
       "      <td>5871.0</td>\n",
       "      <td>PAIKPARA GOVT STAFF QTR</td>\n",
       "      <td>29000041</td>\n",
       "      <td>1068554</td>\n",
       "      <td>BLD-129/10 MIRPUR, DHAKA</td>\n",
       "      <td>SAAA</td>\n",
       "      <td>100</td>\n",
       "      <td>10.0</td>\n",
       "      <td>2</td>\n",
       "      <td>A</td>\n",
       "      <td>Child</td>\n",
       "      <td>9</td>\n",
       "      <td>2001</td>\n",
       "      <td>200.0</td>\n",
       "      <td>200.0</td>\n",
       "    </tr>\n",
       "    <tr>\n",
       "      <th>2</th>\n",
       "      <td>5904.0</td>\n",
       "      <td>PAIKPARA GOVT STAFF QTR</td>\n",
       "      <td>29000041</td>\n",
       "      <td>1068554</td>\n",
       "      <td>BLD-129/10 MIRPUR, DHAKA</td>\n",
       "      <td>SAAA</td>\n",
       "      <td>100</td>\n",
       "      <td>10.0</td>\n",
       "      <td>2</td>\n",
       "      <td>A</td>\n",
       "      <td>Child</td>\n",
       "      <td>10</td>\n",
       "      <td>2001</td>\n",
       "      <td>220.0</td>\n",
       "      <td>220.0</td>\n",
       "    </tr>\n",
       "    <tr>\n",
       "      <th>3</th>\n",
       "      <td>5916.0</td>\n",
       "      <td>PAIKPARA GOVT STAFF QTR</td>\n",
       "      <td>29000041</td>\n",
       "      <td>1068554</td>\n",
       "      <td>BLD-129/10 MIRPUR, DHAKA</td>\n",
       "      <td>SAAA</td>\n",
       "      <td>100</td>\n",
       "      <td>10.0</td>\n",
       "      <td>2</td>\n",
       "      <td>A</td>\n",
       "      <td>Child</td>\n",
       "      <td>8</td>\n",
       "      <td>2001</td>\n",
       "      <td>214.0</td>\n",
       "      <td>214.0</td>\n",
       "    </tr>\n",
       "    <tr>\n",
       "      <th>4</th>\n",
       "      <td>6041.0</td>\n",
       "      <td>PAIKPARA GOVT STAFF QTR</td>\n",
       "      <td>29000041</td>\n",
       "      <td>1068554</td>\n",
       "      <td>BLD-129/10 MIRPUR, DHAKA</td>\n",
       "      <td>SAAA</td>\n",
       "      <td>100</td>\n",
       "      <td>10.0</td>\n",
       "      <td>2</td>\n",
       "      <td>A</td>\n",
       "      <td>Child</td>\n",
       "      <td>12</td>\n",
       "      <td>2001</td>\n",
       "      <td>149.0</td>\n",
       "      <td>149.0</td>\n",
       "    </tr>\n",
       "  </tbody>\n",
       "</table>\n",
       "</div>"
      ],
      "text/plain": [
       "       SL                     NAME  ACCOUNT_NO METER_NO  \\\n",
       "0  5702.0  PAIKPARA GOVT STAFF QTR    29000041  1068554   \n",
       "1  5871.0  PAIKPARA GOVT STAFF QTR    29000041  1068554   \n",
       "2  5904.0  PAIKPARA GOVT STAFF QTR    29000041  1068554   \n",
       "3  5916.0  PAIKPARA GOVT STAFF QTR    29000041  1068554   \n",
       "4  6041.0  PAIKPARA GOVT STAFF QTR    29000041  1068554   \n",
       "\n",
       "                    ADDRESS  ZONE  BLOCK  ROUTE  LOAD TARIFF METER_STATUS  \\\n",
       "0  BLD-129/10 MIRPUR, DHAKA  SAAA    100   10.0     2      A        Child   \n",
       "1  BLD-129/10 MIRPUR, DHAKA  SAAA    100   10.0     2      A        Child   \n",
       "2  BLD-129/10 MIRPUR, DHAKA  SAAA    100   10.0     2      A        Child   \n",
       "3  BLD-129/10 MIRPUR, DHAKA  SAAA    100   10.0     2      A        Child   \n",
       "4  BLD-129/10 MIRPUR, DHAKA  SAAA    100   10.0     2      A        Child   \n",
       "\n",
       "   MONTH  YEAR   UNIT  IMPUTE_UNIT  \n",
       "0      6  2001  176.0        176.0  \n",
       "1      9  2001  200.0        200.0  \n",
       "2     10  2001  220.0        220.0  \n",
       "3      8  2001  214.0        214.0  \n",
       "4     12  2001  149.0        149.0  "
      ]
     },
     "execution_count": 2,
     "metadata": {},
     "output_type": "execute_result"
    }
   ],
   "source": [
    "df = pd.read_csv('../Shahali_imputed.csv')\n",
    "df.head()"
   ]
  },
  {
   "cell_type": "code",
   "execution_count": 3,
   "metadata": {
    "collapsed": false,
    "deletable": true,
    "editable": true,
    "scrolled": true
   },
   "outputs": [
    {
     "name": "stdout",
     "output_type": "stream",
     "text": [
      "<class 'pandas.core.frame.DataFrame'>\n",
      "RangeIndex: 4537156 entries, 0 to 4537155\n",
      "Data columns (total 15 columns):\n",
      "SL              float64\n",
      "NAME            object\n",
      "ACCOUNT_NO      int64\n",
      "METER_NO        object\n",
      "ADDRESS         object\n",
      "ZONE            object\n",
      "BLOCK           int64\n",
      "ROUTE           float64\n",
      "LOAD            int64\n",
      "TARIFF          object\n",
      "METER_STATUS    object\n",
      "MONTH           int64\n",
      "YEAR            int64\n",
      "UNIT            float64\n",
      "IMPUTE_UNIT     float64\n",
      "dtypes: float64(4), int64(5), object(6)\n",
      "memory usage: 519.2+ MB\n"
     ]
    }
   ],
   "source": [
    "df.info()"
   ]
  },
  {
   "cell_type": "code",
   "execution_count": 8,
   "metadata": {
    "collapsed": true,
    "deletable": true,
    "editable": true
   },
   "outputs": [],
   "source": [
    "df = df.drop(df[df.YEAR < 1998].index)"
   ]
  },
  {
   "cell_type": "code",
   "execution_count": 29,
   "metadata": {
    "collapsed": false,
    "deletable": true,
    "editable": true,
    "scrolled": false
   },
   "outputs": [],
   "source": [
    "df_group_year_month = df.groupby(['YEAR','MONTH','TARIFF'])"
   ]
  },
  {
   "cell_type": "code",
   "execution_count": 45,
   "metadata": {
    "collapsed": false,
    "deletable": true,
    "editable": true
   },
   "outputs": [
    {
     "name": "stderr",
     "output_type": "stream",
     "text": [
      "/Users/pd/anaconda/lib/python3.5/site-packages/numpy/lib/function_base.py:3834: RuntimeWarning: Invalid value encountered in percentile\n",
      "  RuntimeWarning)\n"
     ]
    },
    {
     "data": {
      "text/plain": [
       "YEAR  MONTH  TARIFF       \n",
       "1998  9      A       count    167.000000\n",
       "                     mean     200.131737\n",
       "                     std      151.850654\n",
       "                     min        0.000000\n",
       "                     25%      100.500000\n",
       "Name: IMPUTE_UNIT, dtype: float64"
      ]
     },
     "execution_count": 45,
     "metadata": {},
     "output_type": "execute_result"
    }
   ],
   "source": [
    "df_describe= df_group_year_month.IMPUTE_UNIT.describe()\n",
    "df_describe.head()"
   ]
  },
  {
   "cell_type": "code",
   "execution_count": 46,
   "metadata": {
    "collapsed": false,
    "deletable": true,
    "editable": true
   },
   "outputs": [
    {
     "data": {
      "text/plain": [
       "YEAR  MONTH  TARIFF     \n",
       "2016  10     F       min       0.0\n",
       "                     25%    1598.0\n",
       "                     50%    3196.0\n",
       "                     75%    4794.0\n",
       "                     max    6392.0\n",
       "Name: IMPUTE_UNIT, dtype: float64"
      ]
     },
     "execution_count": 46,
     "metadata": {},
     "output_type": "execute_result"
    }
   ],
   "source": [
    "df_describe.tail()"
   ]
  },
  {
   "cell_type": "code",
   "execution_count": 47,
   "metadata": {
    "collapsed": false,
    "deletable": true,
    "editable": true
   },
   "outputs": [],
   "source": [
    "df_describe = df_describe.unstack()"
   ]
  },
  {
   "cell_type": "code",
   "execution_count": 48,
   "metadata": {
    "collapsed": false,
    "deletable": true,
    "editable": true
   },
   "outputs": [
    {
     "data": {
      "text/html": [
       "<div>\n",
       "<table border=\"1\" class=\"dataframe\">\n",
       "  <thead>\n",
       "    <tr style=\"text-align: right;\">\n",
       "      <th></th>\n",
       "      <th></th>\n",
       "      <th></th>\n",
       "      <th>count</th>\n",
       "      <th>mean</th>\n",
       "      <th>std</th>\n",
       "      <th>min</th>\n",
       "      <th>25%</th>\n",
       "      <th>50%</th>\n",
       "      <th>75%</th>\n",
       "      <th>max</th>\n",
       "    </tr>\n",
       "    <tr>\n",
       "      <th>YEAR</th>\n",
       "      <th>MONTH</th>\n",
       "      <th>TARIFF</th>\n",
       "      <th></th>\n",
       "      <th></th>\n",
       "      <th></th>\n",
       "      <th></th>\n",
       "      <th></th>\n",
       "      <th></th>\n",
       "      <th></th>\n",
       "      <th></th>\n",
       "    </tr>\n",
       "  </thead>\n",
       "  <tbody>\n",
       "    <tr>\n",
       "      <th rowspan=\"5\" valign=\"top\">1998</th>\n",
       "      <th rowspan=\"3\" valign=\"top\">9</th>\n",
       "      <th>A</th>\n",
       "      <td>167.0</td>\n",
       "      <td>200.131737</td>\n",
       "      <td>151.850654</td>\n",
       "      <td>0.0</td>\n",
       "      <td>100.5</td>\n",
       "      <td>180.0</td>\n",
       "      <td>297.5</td>\n",
       "      <td>880.0</td>\n",
       "    </tr>\n",
       "    <tr>\n",
       "      <th>D</th>\n",
       "      <td>1.0</td>\n",
       "      <td>500.000000</td>\n",
       "      <td>NaN</td>\n",
       "      <td>500.0</td>\n",
       "      <td>500.0</td>\n",
       "      <td>500.0</td>\n",
       "      <td>500.0</td>\n",
       "      <td>500.0</td>\n",
       "    </tr>\n",
       "    <tr>\n",
       "      <th>E</th>\n",
       "      <td>33.0</td>\n",
       "      <td>173.727273</td>\n",
       "      <td>149.203149</td>\n",
       "      <td>0.0</td>\n",
       "      <td>0.0</td>\n",
       "      <td>180.0</td>\n",
       "      <td>260.0</td>\n",
       "      <td>450.0</td>\n",
       "    </tr>\n",
       "    <tr>\n",
       "      <th rowspan=\"2\" valign=\"top\">10</th>\n",
       "      <th>A</th>\n",
       "      <td>49.0</td>\n",
       "      <td>359.612245</td>\n",
       "      <td>340.670100</td>\n",
       "      <td>0.0</td>\n",
       "      <td>0.0</td>\n",
       "      <td>360.0</td>\n",
       "      <td>550.0</td>\n",
       "      <td>1400.0</td>\n",
       "    </tr>\n",
       "    <tr>\n",
       "      <th>E</th>\n",
       "      <td>12.0</td>\n",
       "      <td>182.416667</td>\n",
       "      <td>185.651413</td>\n",
       "      <td>0.0</td>\n",
       "      <td>0.0</td>\n",
       "      <td>194.5</td>\n",
       "      <td>360.0</td>\n",
       "      <td>360.0</td>\n",
       "    </tr>\n",
       "  </tbody>\n",
       "</table>\n",
       "</div>"
      ],
      "text/plain": [
       "                   count        mean         std    min    25%    50%    75%  \\\n",
       "YEAR MONTH TARIFF                                                              \n",
       "1998 9     A       167.0  200.131737  151.850654    0.0  100.5  180.0  297.5   \n",
       "           D         1.0  500.000000         NaN  500.0  500.0  500.0  500.0   \n",
       "           E        33.0  173.727273  149.203149    0.0    0.0  180.0  260.0   \n",
       "     10    A        49.0  359.612245  340.670100    0.0    0.0  360.0  550.0   \n",
       "           E        12.0  182.416667  185.651413    0.0    0.0  194.5  360.0   \n",
       "\n",
       "                      max  \n",
       "YEAR MONTH TARIFF          \n",
       "1998 9     A        880.0  \n",
       "           D        500.0  \n",
       "           E        450.0  \n",
       "     10    A       1400.0  \n",
       "           E        360.0  "
      ]
     },
     "execution_count": 48,
     "metadata": {},
     "output_type": "execute_result"
    }
   ],
   "source": [
    "df_describe.head()"
   ]
  },
  {
   "cell_type": "code",
   "execution_count": 50,
   "metadata": {
    "collapsed": false
   },
   "outputs": [],
   "source": [
    "df_describe.to_csv('../basic_analysis_description_on_shah_ali.csv')"
   ]
  },
  {
   "cell_type": "code",
   "execution_count": null,
   "metadata": {
    "collapsed": false
   },
   "outputs": [],
   "source": [
    "df_describe.mean.plot(kind='bar')\n",
    "plt.show()"
   ]
  },
  {
   "cell_type": "code",
   "execution_count": null,
   "metadata": {
    "collapsed": true
   },
   "outputs": [],
   "source": []
  }
 ],
 "metadata": {
  "anaconda-cloud": {},
  "kernelspec": {
   "display_name": "Python [conda root]",
   "language": "python",
   "name": "conda-root-py"
  },
  "language_info": {
   "codemirror_mode": {
    "name": "ipython",
    "version": 3
   },
   "file_extension": ".py",
   "mimetype": "text/x-python",
   "name": "python",
   "nbconvert_exporter": "python",
   "pygments_lexer": "ipython3",
   "version": "3.5.2"
  }
 },
 "nbformat": 4,
 "nbformat_minor": 2
}
