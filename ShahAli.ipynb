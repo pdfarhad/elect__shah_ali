{
 "cells": [
  {
   "cell_type": "code",
   "execution_count": 1,
   "metadata": {
    "collapsed": true
   },
   "outputs": [],
   "source": [
    "import pandas as pd \n",
    "import numpy as np\n",
    "import gmaps"
   ]
  },
  {
   "cell_type": "code",
   "execution_count": 2,
   "metadata": {
    "collapsed": false
   },
   "outputs": [
    {
     "name": "stdout",
     "output_type": "stream",
     "text": [
      "<class 'pandas.core.frame.DataFrame'>\n",
      "RangeIndex: 4550018 entries, 0 to 4550017\n",
      "Data columns (total 14 columns):\n",
      "SL              float64\n",
      "NAME            object\n",
      "ACCOUNT_NO      int64\n",
      "METER_NO        object\n",
      "ADDRESS         object\n",
      "ZONE            object\n",
      "BLOCK           int64\n",
      "ROUTE           float64\n",
      "LOAD            int64\n",
      "TARIFF          object\n",
      "METER_STATUS    object\n",
      "MONTH           int64\n",
      "YEAR            int64\n",
      "UNIT            float64\n",
      "dtypes: float64(3), int64(5), object(6)\n",
      "memory usage: 486.0+ MB\n"
     ]
    }
   ],
   "source": [
    "input_file = pd.read_csv('../ShahAli.csv')\n",
    "input_file.info()"
   ]
  },
  {
   "cell_type": "code",
   "execution_count": 3,
   "metadata": {
    "collapsed": false
   },
   "outputs": [
    {
     "data": {
      "text/html": [
       "<div>\n",
       "<table border=\"1\" class=\"dataframe\">\n",
       "  <thead>\n",
       "    <tr style=\"text-align: right;\">\n",
       "      <th></th>\n",
       "      <th>SL</th>\n",
       "      <th>NAME</th>\n",
       "      <th>ACCOUNT_NO</th>\n",
       "      <th>METER_NO</th>\n",
       "      <th>ADDRESS</th>\n",
       "      <th>ZONE</th>\n",
       "      <th>BLOCK</th>\n",
       "      <th>ROUTE</th>\n",
       "      <th>LOAD</th>\n",
       "      <th>TARIFF</th>\n",
       "      <th>METER_STATUS</th>\n",
       "      <th>MONTH</th>\n",
       "      <th>YEAR</th>\n",
       "      <th>UNIT</th>\n",
       "    </tr>\n",
       "  </thead>\n",
       "  <tbody>\n",
       "    <tr>\n",
       "      <th>0</th>\n",
       "      <td>5702.0</td>\n",
       "      <td>PAIKPARA GOVT STAFF QTR</td>\n",
       "      <td>29000041</td>\n",
       "      <td>1068554</td>\n",
       "      <td>BLD-129/10 MIRPUR, DHAKA</td>\n",
       "      <td>SAAA</td>\n",
       "      <td>100</td>\n",
       "      <td>10.0</td>\n",
       "      <td>2</td>\n",
       "      <td>A</td>\n",
       "      <td>Child</td>\n",
       "      <td>6</td>\n",
       "      <td>2001</td>\n",
       "      <td>176.0</td>\n",
       "    </tr>\n",
       "    <tr>\n",
       "      <th>1</th>\n",
       "      <td>5871.0</td>\n",
       "      <td>PAIKPARA GOVT STAFF QTR</td>\n",
       "      <td>29000041</td>\n",
       "      <td>1068554</td>\n",
       "      <td>BLD-129/10 MIRPUR, DHAKA</td>\n",
       "      <td>SAAA</td>\n",
       "      <td>100</td>\n",
       "      <td>10.0</td>\n",
       "      <td>2</td>\n",
       "      <td>A</td>\n",
       "      <td>Child</td>\n",
       "      <td>9</td>\n",
       "      <td>2001</td>\n",
       "      <td>200.0</td>\n",
       "    </tr>\n",
       "    <tr>\n",
       "      <th>2</th>\n",
       "      <td>5904.0</td>\n",
       "      <td>PAIKPARA GOVT STAFF QTR</td>\n",
       "      <td>29000041</td>\n",
       "      <td>1068554</td>\n",
       "      <td>BLD-129/10 MIRPUR, DHAKA</td>\n",
       "      <td>SAAA</td>\n",
       "      <td>100</td>\n",
       "      <td>10.0</td>\n",
       "      <td>2</td>\n",
       "      <td>A</td>\n",
       "      <td>Child</td>\n",
       "      <td>10</td>\n",
       "      <td>2001</td>\n",
       "      <td>220.0</td>\n",
       "    </tr>\n",
       "    <tr>\n",
       "      <th>3</th>\n",
       "      <td>5916.0</td>\n",
       "      <td>PAIKPARA GOVT STAFF QTR</td>\n",
       "      <td>29000041</td>\n",
       "      <td>1068554</td>\n",
       "      <td>BLD-129/10 MIRPUR, DHAKA</td>\n",
       "      <td>SAAA</td>\n",
       "      <td>100</td>\n",
       "      <td>10.0</td>\n",
       "      <td>2</td>\n",
       "      <td>A</td>\n",
       "      <td>Child</td>\n",
       "      <td>8</td>\n",
       "      <td>2001</td>\n",
       "      <td>214.0</td>\n",
       "    </tr>\n",
       "    <tr>\n",
       "      <th>4</th>\n",
       "      <td>6041.0</td>\n",
       "      <td>PAIKPARA GOVT STAFF QTR</td>\n",
       "      <td>29000041</td>\n",
       "      <td>1068554</td>\n",
       "      <td>BLD-129/10 MIRPUR, DHAKA</td>\n",
       "      <td>SAAA</td>\n",
       "      <td>100</td>\n",
       "      <td>10.0</td>\n",
       "      <td>2</td>\n",
       "      <td>A</td>\n",
       "      <td>Child</td>\n",
       "      <td>12</td>\n",
       "      <td>2001</td>\n",
       "      <td>149.0</td>\n",
       "    </tr>\n",
       "  </tbody>\n",
       "</table>\n",
       "</div>"
      ],
      "text/plain": [
       "       SL                     NAME  ACCOUNT_NO METER_NO  \\\n",
       "0  5702.0  PAIKPARA GOVT STAFF QTR    29000041  1068554   \n",
       "1  5871.0  PAIKPARA GOVT STAFF QTR    29000041  1068554   \n",
       "2  5904.0  PAIKPARA GOVT STAFF QTR    29000041  1068554   \n",
       "3  5916.0  PAIKPARA GOVT STAFF QTR    29000041  1068554   \n",
       "4  6041.0  PAIKPARA GOVT STAFF QTR    29000041  1068554   \n",
       "\n",
       "                    ADDRESS  ZONE  BLOCK  ROUTE  LOAD TARIFF METER_STATUS  \\\n",
       "0  BLD-129/10 MIRPUR, DHAKA  SAAA    100   10.0     2      A        Child   \n",
       "1  BLD-129/10 MIRPUR, DHAKA  SAAA    100   10.0     2      A        Child   \n",
       "2  BLD-129/10 MIRPUR, DHAKA  SAAA    100   10.0     2      A        Child   \n",
       "3  BLD-129/10 MIRPUR, DHAKA  SAAA    100   10.0     2      A        Child   \n",
       "4  BLD-129/10 MIRPUR, DHAKA  SAAA    100   10.0     2      A        Child   \n",
       "\n",
       "   MONTH  YEAR   UNIT  \n",
       "0      6  2001  176.0  \n",
       "1      9  2001  200.0  \n",
       "2     10  2001  220.0  \n",
       "3      8  2001  214.0  \n",
       "4     12  2001  149.0  "
      ]
     },
     "execution_count": 3,
     "metadata": {},
     "output_type": "execute_result"
    }
   ],
   "source": [
    "input_file.head()"
   ]
  },
  {
   "cell_type": "code",
   "execution_count": 4,
   "metadata": {
    "collapsed": false
   },
   "outputs": [
    {
     "data": {
      "text/html": [
       "<div>\n",
       "<table border=\"1\" class=\"dataframe\">\n",
       "  <thead>\n",
       "    <tr style=\"text-align: right;\">\n",
       "      <th></th>\n",
       "      <th>SL</th>\n",
       "      <th>NAME</th>\n",
       "      <th>ACCOUNT_NO</th>\n",
       "      <th>METER_NO</th>\n",
       "      <th>ADDRESS</th>\n",
       "      <th>ZONE</th>\n",
       "      <th>BLOCK</th>\n",
       "      <th>ROUTE</th>\n",
       "      <th>LOAD</th>\n",
       "      <th>TARIFF</th>\n",
       "      <th>METER_STATUS</th>\n",
       "      <th>MONTH</th>\n",
       "      <th>YEAR</th>\n",
       "      <th>UNIT</th>\n",
       "    </tr>\n",
       "  </thead>\n",
       "  <tbody>\n",
       "    <tr>\n",
       "      <th>4550013</th>\n",
       "      <td>11034.0</td>\n",
       "      <td>MD.SHAKAWAT HOSSAIN</td>\n",
       "      <td>31518379</td>\n",
       "      <td>14391192</td>\n",
       "      <td>House/Flat # 1/D, Road # 9/1, Block # A, Secti...</td>\n",
       "      <td>SAFP</td>\n",
       "      <td>100</td>\n",
       "      <td>180.01</td>\n",
       "      <td>2</td>\n",
       "      <td>E</td>\n",
       "      <td>Single</td>\n",
       "      <td>5</td>\n",
       "      <td>2016</td>\n",
       "      <td>4271.0</td>\n",
       "    </tr>\n",
       "    <tr>\n",
       "      <th>4550014</th>\n",
       "      <td>11144.0</td>\n",
       "      <td>MD.SHAKAWAT HOSSAIN</td>\n",
       "      <td>31518379</td>\n",
       "      <td>14391192</td>\n",
       "      <td>House/Flat # 1/D, Road # 9/1, Block # A, Secti...</td>\n",
       "      <td>SAFP</td>\n",
       "      <td>100</td>\n",
       "      <td>180.01</td>\n",
       "      <td>2</td>\n",
       "      <td>E</td>\n",
       "      <td>Single</td>\n",
       "      <td>6</td>\n",
       "      <td>2016</td>\n",
       "      <td>4219.0</td>\n",
       "    </tr>\n",
       "    <tr>\n",
       "      <th>4550015</th>\n",
       "      <td>11271.0</td>\n",
       "      <td>MD.SHAKAWAT HOSSAIN</td>\n",
       "      <td>31518379</td>\n",
       "      <td>14391192</td>\n",
       "      <td>House/Flat # 1/D, Road # 9/1, Block # A, Secti...</td>\n",
       "      <td>SAFP</td>\n",
       "      <td>100</td>\n",
       "      <td>180.01</td>\n",
       "      <td>2</td>\n",
       "      <td>E</td>\n",
       "      <td>Single</td>\n",
       "      <td>7</td>\n",
       "      <td>2016</td>\n",
       "      <td>4363.0</td>\n",
       "    </tr>\n",
       "    <tr>\n",
       "      <th>4550016</th>\n",
       "      <td>11461.0</td>\n",
       "      <td>MD.SHAKAWAT HOSSAIN</td>\n",
       "      <td>31518379</td>\n",
       "      <td>14391192</td>\n",
       "      <td>House/Flat # 1/D, Road # 9/1, Block # A, Secti...</td>\n",
       "      <td>SAFP</td>\n",
       "      <td>100</td>\n",
       "      <td>180.01</td>\n",
       "      <td>2</td>\n",
       "      <td>E</td>\n",
       "      <td>Single</td>\n",
       "      <td>8</td>\n",
       "      <td>2016</td>\n",
       "      <td>4934.0</td>\n",
       "    </tr>\n",
       "    <tr>\n",
       "      <th>4550017</th>\n",
       "      <td>11506.0</td>\n",
       "      <td>MD.SHAKAWAT HOSSAIN</td>\n",
       "      <td>31518379</td>\n",
       "      <td>14391192</td>\n",
       "      <td>House/Flat # 1/D, Road # 9/1, Block # A, Secti...</td>\n",
       "      <td>SAFP</td>\n",
       "      <td>100</td>\n",
       "      <td>180.01</td>\n",
       "      <td>2</td>\n",
       "      <td>E</td>\n",
       "      <td>Single</td>\n",
       "      <td>9</td>\n",
       "      <td>2016</td>\n",
       "      <td>4555.0</td>\n",
       "    </tr>\n",
       "  </tbody>\n",
       "</table>\n",
       "</div>"
      ],
      "text/plain": [
       "              SL                 NAME  ACCOUNT_NO  METER_NO  \\\n",
       "4550013  11034.0  MD.SHAKAWAT HOSSAIN    31518379  14391192   \n",
       "4550014  11144.0  MD.SHAKAWAT HOSSAIN    31518379  14391192   \n",
       "4550015  11271.0  MD.SHAKAWAT HOSSAIN    31518379  14391192   \n",
       "4550016  11461.0  MD.SHAKAWAT HOSSAIN    31518379  14391192   \n",
       "4550017  11506.0  MD.SHAKAWAT HOSSAIN    31518379  14391192   \n",
       "\n",
       "                                                   ADDRESS  ZONE  BLOCK  \\\n",
       "4550013  House/Flat # 1/D, Road # 9/1, Block # A, Secti...  SAFP    100   \n",
       "4550014  House/Flat # 1/D, Road # 9/1, Block # A, Secti...  SAFP    100   \n",
       "4550015  House/Flat # 1/D, Road # 9/1, Block # A, Secti...  SAFP    100   \n",
       "4550016  House/Flat # 1/D, Road # 9/1, Block # A, Secti...  SAFP    100   \n",
       "4550017  House/Flat # 1/D, Road # 9/1, Block # A, Secti...  SAFP    100   \n",
       "\n",
       "          ROUTE  LOAD TARIFF METER_STATUS  MONTH  YEAR    UNIT  \n",
       "4550013  180.01     2      E       Single      5  2016  4271.0  \n",
       "4550014  180.01     2      E       Single      6  2016  4219.0  \n",
       "4550015  180.01     2      E       Single      7  2016  4363.0  \n",
       "4550016  180.01     2      E       Single      8  2016  4934.0  \n",
       "4550017  180.01     2      E       Single      9  2016  4555.0  "
      ]
     },
     "execution_count": 4,
     "metadata": {},
     "output_type": "execute_result"
    }
   ],
   "source": [
    "input_file.tail()"
   ]
  },
  {
   "cell_type": "code",
   "execution_count": 5,
   "metadata": {
    "collapsed": false
   },
   "outputs": [
    {
     "data": {
      "text/plain": [
       "SL               True\n",
       "NAME            False\n",
       "ACCOUNT_NO      False\n",
       "METER_NO         True\n",
       "ADDRESS         False\n",
       "ZONE            False\n",
       "BLOCK           False\n",
       "ROUTE           False\n",
       "LOAD            False\n",
       "TARIFF          False\n",
       "METER_STATUS     True\n",
       "MONTH           False\n",
       "YEAR            False\n",
       "UNIT            False\n",
       "dtype: bool"
      ]
     },
     "execution_count": 5,
     "metadata": {},
     "output_type": "execute_result"
    }
   ],
   "source": [
    "pd.isnull(input_file).sum()>0"
   ]
  },
  {
   "cell_type": "code",
   "execution_count": 6,
   "metadata": {
    "collapsed": false
   },
   "outputs": [
    {
     "data": {
      "text/plain": [
       "SL              11792\n",
       "NAME                0\n",
       "ACCOUNT_NO          0\n",
       "METER_NO         1023\n",
       "ADDRESS             0\n",
       "ZONE                0\n",
       "BLOCK               0\n",
       "ROUTE               0\n",
       "LOAD                0\n",
       "TARIFF              0\n",
       "METER_STATUS       47\n",
       "MONTH               0\n",
       "YEAR                0\n",
       "UNIT                0\n",
       "dtype: int64"
      ]
     },
     "execution_count": 6,
     "metadata": {},
     "output_type": "execute_result"
    }
   ],
   "source": [
    "input_file.isnull().sum()"
   ]
  },
  {
   "cell_type": "code",
   "execution_count": 7,
   "metadata": {
    "collapsed": false
   },
   "outputs": [],
   "source": [
    "input_file=input_file.dropna()"
   ]
  },
  {
   "cell_type": "code",
   "execution_count": 8,
   "metadata": {
    "collapsed": false
   },
   "outputs": [
    {
     "data": {
      "text/plain": [
       "SL              0\n",
       "NAME            0\n",
       "ACCOUNT_NO      0\n",
       "METER_NO        0\n",
       "ADDRESS         0\n",
       "ZONE            0\n",
       "BLOCK           0\n",
       "ROUTE           0\n",
       "LOAD            0\n",
       "TARIFF          0\n",
       "METER_STATUS    0\n",
       "MONTH           0\n",
       "YEAR            0\n",
       "UNIT            0\n",
       "dtype: int64"
      ]
     },
     "execution_count": 8,
     "metadata": {},
     "output_type": "execute_result"
    }
   ],
   "source": [
    "input_file.isnull().sum()"
   ]
  },
  {
   "cell_type": "code",
   "execution_count": 9,
   "metadata": {
    "collapsed": true
   },
   "outputs": [],
   "source": [
    "input_file.to_csv('../ShahAli_cleaned_without_nan_values.csv',index=False)"
   ]
  },
  {
   "cell_type": "code",
   "execution_count": 10,
   "metadata": {
    "collapsed": true
   },
   "outputs": [],
   "source": [
    "address = input_file.ADDRESS"
   ]
  },
  {
   "cell_type": "code",
   "execution_count": 11,
   "metadata": {
    "collapsed": false
   },
   "outputs": [
    {
     "data": {
      "text/plain": [
       "0                                   BLD-129/10 MIRPUR, DHAKA\n",
       "1                                   BLD-129/10 MIRPUR, DHAKA\n",
       "2                                   BLD-129/10 MIRPUR, DHAKA\n",
       "3                                   BLD-129/10 MIRPUR, DHAKA\n",
       "4                                   BLD-129/10 MIRPUR, DHAKA\n",
       "5                                   BLD-129/10 MIRPUR, DHAKA\n",
       "6                                   BLD-129/10 MIRPUR, DHAKA\n",
       "7                                   BLD-129/10 MIRPUR, DHAKA\n",
       "8                                   BLD-129/10 MIRPUR, DHAKA\n",
       "9                                   BLD-129/10 MIRPUR, DHAKA\n",
       "10                                  BLD-129/10 MIRPUR, DHAKA\n",
       "11                                  BLD-129/10 MIRPUR, DHAKA\n",
       "12                                  BLD-129/10 MIRPUR, DHAKA\n",
       "13                                  BLD-129/10 MIRPUR, DHAKA\n",
       "14                                  BLD-129/10 MIRPUR, DHAKA\n",
       "15                                  BLD-129/10 MIRPUR, DHAKA\n",
       "16                                  BLD-129/10 MIRPUR, DHAKA\n",
       "17                                  BLD-129/10 MIRPUR, DHAKA\n",
       "18                                  BLD-129/10 MIRPUR, DHAKA\n",
       "19                                  BLD-129/10 MIRPUR, DHAKA\n",
       "20                                  BLD-129/10 MIRPUR, DHAKA\n",
       "21                                  BLD-129/10 MIRPUR, DHAKA\n",
       "22                                  BLD-129/10 MIRPUR, DHAKA\n",
       "23                                  BLD-129/10 MIRPUR, DHAKA\n",
       "24                                  BLD-129/10 MIRPUR, DHAKA\n",
       "25                                  BLD-129/10 MIRPUR, DHAKA\n",
       "26                                  BLD-129/10 MIRPUR, DHAKA\n",
       "27                                  BLD-129/10 MIRPUR, DHAKA\n",
       "28                                  BLD-129/10 MIRPUR, DHAKA\n",
       "29                                  BLD-129/10 MIRPUR, DHAKA\n",
       "                                 ...                        \n",
       "4549988    House/Flat # 1/D, Road # 9/1, Block # A, Secti...\n",
       "4549989    House/Flat # 1/D, Road # 9/1, Block # A, Secti...\n",
       "4549990    House/Flat # 1/D, Road # 9/1, Block # A, Secti...\n",
       "4549991    House/Flat # 1/D, Road # 9/1, Block # A, Secti...\n",
       "4549992    House/Flat # 1/D, Road # 9/1, Block # A, Secti...\n",
       "4549993    House/Flat # 1/D, Road # 9/1, Block # A, Secti...\n",
       "4549994    House/Flat # 1/D, Road # 9/1, Block # A, Secti...\n",
       "4549995    House/Flat # 1/D, Road # 9/1, Block # A, Secti...\n",
       "4549996    House/Flat # 1/D, Road # 9/1, Block # A, Secti...\n",
       "4549997    House/Flat # 1/D, Road # 9/1, Block # A, Secti...\n",
       "4549998    House/Flat # 1/D, Road # 9/1, Block # A, Secti...\n",
       "4549999    House/Flat # 1/D, Road # 9/1, Block # A, Secti...\n",
       "4550000    House/Flat # 1/D, Road # 9/1, Block # A, Secti...\n",
       "4550001    House/Flat # 1/D, Road # 9/1, Block # A, Secti...\n",
       "4550002    House/Flat # 1/D, Road # 9/1, Block # A, Secti...\n",
       "4550003    House/Flat # 1/D, Road # 9/1, Block # A, Secti...\n",
       "4550004    House/Flat # 1/D, Road # 9/1, Block # A, Secti...\n",
       "4550005    House/Flat # 1/D, Road # 9/1, Block # A, Secti...\n",
       "4550006    House/Flat # 1/D, Road # 9/1, Block # A, Secti...\n",
       "4550007    House/Flat # 1/D, Road # 9/1, Block # A, Secti...\n",
       "4550008    House/Flat # 1/D, Road # 9/1, Block # A, Secti...\n",
       "4550009    House/Flat # 1/D, Road # 9/1, Block # A, Secti...\n",
       "4550010    House/Flat # 1/D, Road # 9/1, Block # A, Secti...\n",
       "4550011    House/Flat # 1/D, Road # 9/1, Block # A, Secti...\n",
       "4550012    House/Flat # 1/D, Road # 9/1, Block # A, Secti...\n",
       "4550013    House/Flat # 1/D, Road # 9/1, Block # A, Secti...\n",
       "4550014    House/Flat # 1/D, Road # 9/1, Block # A, Secti...\n",
       "4550015    House/Flat # 1/D, Road # 9/1, Block # A, Secti...\n",
       "4550016    House/Flat # 1/D, Road # 9/1, Block # A, Secti...\n",
       "4550017    House/Flat # 1/D, Road # 9/1, Block # A, Secti...\n",
       "Name: ADDRESS, dtype: object"
      ]
     },
     "execution_count": 11,
     "metadata": {},
     "output_type": "execute_result"
    }
   ],
   "source": [
    "address"
   ]
  },
  {
   "cell_type": "code",
   "execution_count": 12,
   "metadata": {
    "collapsed": true
   },
   "outputs": [],
   "source": [
    "pd.DataFrame(input_file.ADDRESS.unique()).to_csv(\"../address_shah_ali.csv\")"
   ]
  },
  {
   "cell_type": "code",
   "execution_count": 13,
   "metadata": {
    "collapsed": false
   },
   "outputs": [
    {
     "data": {
      "text/plain": [
       "30.000      33230\n",
       "10.000      33200\n",
       "20.000      32784\n",
       "40.000      32637\n",
       "80.000      32043\n",
       "70.000      31928\n",
       "250.000     31824\n",
       "90.000      31632\n",
       "60.000      31542\n",
       "370.000     31474\n",
       "50.000      31395\n",
       "390.000     31141\n",
       "160.000     30972\n",
       "120.000     30745\n",
       "240.000     30711\n",
       "400.000     30646\n",
       "360.000     30620\n",
       "560.000     30609\n",
       "380.000     30591\n",
       "350.000     30575\n",
       "210.000     30532\n",
       "100.000     30472\n",
       "190.000     30463\n",
       "260.000     30444\n",
       "180.000     30287\n",
       "110.000     30287\n",
       "540.000     30255\n",
       "270.000     30151\n",
       "230.000     30133\n",
       "170.000     30076\n",
       "            ...  \n",
       "511.011         2\n",
       "689.190         2\n",
       "689.230         2\n",
       "630.200         2\n",
       "689.200         2\n",
       "689.070         2\n",
       "768.100         1\n",
       "1330.030        1\n",
       "265.100         1\n",
       "265.080         1\n",
       "221.040         1\n",
       "571.011         1\n",
       "1330.040        1\n",
       "221.060         1\n",
       "571.030         1\n",
       "400.080         1\n",
       "571.040         1\n",
       "571.090         1\n",
       "265.090         1\n",
       "571.050         1\n",
       "400.090         1\n",
       "571.020         1\n",
       "571.070         1\n",
       "400.011         1\n",
       "571.080         1\n",
       "221.050         1\n",
       "1330.050        1\n",
       "768.080         1\n",
       "571.060         1\n",
       "768.090         1\n",
       "Name: ROUTE, dtype: int64"
      ]
     },
     "execution_count": 13,
     "metadata": {},
     "output_type": "execute_result"
    }
   ],
   "source": [
    "input_file.ROUTE.value_counts()"
   ]
  },
  {
   "cell_type": "code",
   "execution_count": 14,
   "metadata": {
    "collapsed": false
   },
   "outputs": [
    {
     "data": {
      "text/plain": [
       "9     394025\n",
       "8     391775\n",
       "7     388340\n",
       "10    388067\n",
       "6     386086\n",
       "5     382758\n",
       "4     378765\n",
       "3     375575\n",
       "2     366976\n",
       "1     364140\n",
       "12    361539\n",
       "11    359110\n",
       "Name: MONTH, dtype: int64"
      ]
     },
     "execution_count": 14,
     "metadata": {},
     "output_type": "execute_result"
    }
   ],
   "source": [
    "input_file.MONTH.value_counts()"
   ]
  },
  {
   "cell_type": "code",
   "execution_count": 15,
   "metadata": {
    "collapsed": false
   },
   "outputs": [
    {
     "data": {
      "text/plain": [
       "2015    436169\n",
       "2014    402186\n",
       "2016    380319\n",
       "2013    358686\n",
       "2012    320175\n",
       "2011    293707\n",
       "2010    287982\n",
       "2009    272655\n",
       "2008    255386\n",
       "2007    236925\n",
       "2006    218823\n",
       "2005    204554\n",
       "2004    190932\n",
       "2003    174909\n",
       "2002    154592\n",
       "2001    135977\n",
       "2000    122810\n",
       "1999     89894\n",
       "1998       472\n",
       "201          2\n",
       "214          1\n",
       "Name: YEAR, dtype: int64"
      ]
     },
     "execution_count": 15,
     "metadata": {},
     "output_type": "execute_result"
    }
   ],
   "source": [
    "input_file.YEAR.value_counts()"
   ]
  },
  {
   "cell_type": "code",
   "execution_count": 16,
   "metadata": {
    "collapsed": false
   },
   "outputs": [
    {
     "data": {
      "text/plain": [
       "Single    2101916\n",
       "Child     1918913\n",
       "child      315902\n",
       "check      106026\n",
       "Check       94399\n",
       "Name: METER_STATUS, dtype: int64"
      ]
     },
     "execution_count": 16,
     "metadata": {},
     "output_type": "execute_result"
    }
   ],
   "source": [
    "input_file.METER_STATUS.value_counts()"
   ]
  },
  {
   "cell_type": "code",
   "execution_count": 17,
   "metadata": {
    "collapsed": false
   },
   "outputs": [
    {
     "data": {
      "text/plain": [
       "A     4086802\n",
       "E      429507\n",
       "D       15228\n",
       "A1       3085\n",
       "C         964\n",
       "A2        824\n",
       "F         692\n",
       "J          54\n",
       "Name: TARIFF, dtype: int64"
      ]
     },
     "execution_count": 17,
     "metadata": {},
     "output_type": "execute_result"
    }
   ],
   "source": [
    "input_file.TARIFF.value_counts()"
   ]
  },
  {
   "cell_type": "code",
   "execution_count": 18,
   "metadata": {
    "collapsed": false
   },
   "outputs": [
    {
     "data": {
      "text/plain": [
       "SAAD    1153090\n",
       "SAFB     746866\n",
       "SAAC     602232\n",
       "SAFD     494904\n",
       "SAAA     476123\n",
       "SAFE     371868\n",
       "SAAB     357157\n",
       "SAAF     308603\n",
       "SAFG      12159\n",
       "SAFP      11579\n",
       "SAAP       2575\n",
       "Name: ZONE, dtype: int64"
      ]
     },
     "execution_count": 18,
     "metadata": {},
     "output_type": "execute_result"
    }
   ],
   "source": [
    "input_file.ZONE.value_counts()"
   ]
  },
  {
   "cell_type": "code",
   "execution_count": 19,
   "metadata": {
    "collapsed": false
   },
   "outputs": [
    {
     "data": {
      "text/plain": [
       "130    140299\n",
       "100    133376\n",
       "210    125991\n",
       "200    115265\n",
       "150    111623\n",
       "120    103145\n",
       "290    103114\n",
       "190    102971\n",
       "160    100633\n",
       "170     98594\n",
       "777     98553\n",
       "230     87431\n",
       "180     86947\n",
       "310     85657\n",
       "220     84980\n",
       "140     83883\n",
       "110     78669\n",
       "30      75831\n",
       "240     73849\n",
       "50      70906\n",
       "40      68169\n",
       "779     67642\n",
       "300     66798\n",
       "10      65623\n",
       "430     64889\n",
       "90      63125\n",
       "270     63062\n",
       "260     62825\n",
       "340     55822\n",
       "155     54866\n",
       "        ...  \n",
       "235     19057\n",
       "420     18976\n",
       "365     18793\n",
       "521     18745\n",
       "520     18745\n",
       "422     18596\n",
       "181     18251\n",
       "105     17711\n",
       "221     17063\n",
       "374     17034\n",
       "205     13751\n",
       "141     13720\n",
       "281     13665\n",
       "202     13639\n",
       "333     13226\n",
       "545     13087\n",
       "145     12771\n",
       "775     12749\n",
       "332     12231\n",
       "286     12091\n",
       "156     10946\n",
       "204     10850\n",
       "400     10775\n",
       "263     10490\n",
       "320     10323\n",
       "331      7256\n",
       "206      5023\n",
       "191      1290\n",
       "207       973\n",
       "192       909\n",
       "Name: BLOCK, dtype: int64"
      ]
     },
     "execution_count": 19,
     "metadata": {},
     "output_type": "execute_result"
    }
   ],
   "source": [
    "input_file.BLOCK.value_counts()"
   ]
  },
  {
   "cell_type": "code",
   "execution_count": 20,
   "metadata": {
    "collapsed": true
   },
   "outputs": [],
   "source": [
    "import matplotlib.pyplot as plt"
   ]
  },
  {
   "cell_type": "code",
   "execution_count": 21,
   "metadata": {
    "collapsed": true
   },
   "outputs": [],
   "source": [
    "block_counts = input_file.BLOCK.value_counts()"
   ]
  },
  {
   "cell_type": "code",
   "execution_count": 22,
   "metadata": {
    "collapsed": false
   },
   "outputs": [
    {
     "data": {
      "image/png": "[encoded data removed]",
      "text/plain": [
       "<matplotlib.figure.Figure at 0x13408a27780>"
      ]
     },
     "metadata": {},
     "output_type": "display_data"
    }
   ],
   "source": [
    "block_counts = input_file.BLOCK.value_counts()\n",
    "block_counts.plot(kind='kde')\n",
    "plt.show()"
   ]
  },
  {
   "cell_type": "code",
   "execution_count": 23,
   "metadata": {
    "collapsed": false
   },
   "outputs": [
    {
     "data": {
      "image/png": "[encoded data removed]",
      "text/plain": [
       "<matplotlib.figure.Figure at 0x134095dc128>"
      ]
     },
     "metadata": {},
     "output_type": "display_data"
    }
   ],
   "source": [
    "zone_counts = input_file.ZONE.value_counts()\n",
    "zone_counts.plot(kind='bar')\n",
    "plt.show()"
   ]
  },
  {
   "cell_type": "code",
   "execution_count": 24,
   "metadata": {
    "collapsed": false
   },
   "outputs": [
    {
     "data": {
      "image/png": "[encoded data removed]",
      "text/plain": [
       "<matplotlib.figure.Figure at 0x13409adde80>"
      ]
     },
     "metadata": {},
     "output_type": "display_data"
    }
   ],
   "source": [
    "year_counts = input_file.YEAR.value_counts()\n",
    "year_counts.plot(kind='bar')\n",
    "plt.show()"
   ]
  },
  {
   "cell_type": "code",
   "execution_count": 25,
   "metadata": {
    "collapsed": false
   },
   "outputs": [
    {
     "data": {
      "image/png": "[encoded data removed]",
      "text/plain": [
       "<matplotlib.figure.Figure at 0x13409b14048>"
      ]
     },
     "metadata": {},
     "output_type": "display_data"
    }
   ],
   "source": [
    "tarif_count = input_file.TARIFF.value_counts()\n",
    "tarif_count.plot(kind='bar')\n",
    "plt.show()"
   ]
  },
  {
   "cell_type": "code",
   "execution_count": 31,
   "metadata": {
    "collapsed": false
   },
   "outputs": [
    {
     "data": {
      "text/html": [
       "<div>\n",
       "<table border=\"1\" class=\"dataframe\">\n",
       "  <thead>\n",
       "    <tr style=\"text-align: right;\">\n",
       "      <th></th>\n",
       "      <th>SL</th>\n",
       "      <th>NAME</th>\n",
       "      <th>ACCOUNT_NO</th>\n",
       "      <th>METER_NO</th>\n",
       "      <th>ADDRESS</th>\n",
       "      <th>ZONE</th>\n",
       "      <th>BLOCK</th>\n",
       "      <th>ROUTE</th>\n",
       "      <th>LOAD</th>\n",
       "      <th>TARIFF</th>\n",
       "      <th>METER_STATUS</th>\n",
       "      <th>MONTH</th>\n",
       "      <th>YEAR</th>\n",
       "      <th>UNIT</th>\n",
       "    </tr>\n",
       "  </thead>\n",
       "  <tbody>\n",
       "    <tr>\n",
       "      <th>0</th>\n",
       "      <td>5702.0</td>\n",
       "      <td>PAIKPARA GOVT STAFF QTR</td>\n",
       "      <td>29000041</td>\n",
       "      <td>1068554</td>\n",
       "      <td>BLD-129/10 MIRPUR, DHAKA</td>\n",
       "      <td>SAAA</td>\n",
       "      <td>100</td>\n",
       "      <td>10.0</td>\n",
       "      <td>2</td>\n",
       "      <td>A</td>\n",
       "      <td>Child</td>\n",
       "      <td>6</td>\n",
       "      <td>2001</td>\n",
       "      <td>176.0</td>\n",
       "    </tr>\n",
       "    <tr>\n",
       "      <th>1</th>\n",
       "      <td>5871.0</td>\n",
       "      <td>PAIKPARA GOVT STAFF QTR</td>\n",
       "      <td>29000041</td>\n",
       "      <td>1068554</td>\n",
       "      <td>BLD-129/10 MIRPUR, DHAKA</td>\n",
       "      <td>SAAA</td>\n",
       "      <td>100</td>\n",
       "      <td>10.0</td>\n",
       "      <td>2</td>\n",
       "      <td>A</td>\n",
       "      <td>Child</td>\n",
       "      <td>9</td>\n",
       "      <td>2001</td>\n",
       "      <td>200.0</td>\n",
       "    </tr>\n",
       "    <tr>\n",
       "      <th>2</th>\n",
       "      <td>5904.0</td>\n",
       "      <td>PAIKPARA GOVT STAFF QTR</td>\n",
       "      <td>29000041</td>\n",
       "      <td>1068554</td>\n",
       "      <td>BLD-129/10 MIRPUR, DHAKA</td>\n",
       "      <td>SAAA</td>\n",
       "      <td>100</td>\n",
       "      <td>10.0</td>\n",
       "      <td>2</td>\n",
       "      <td>A</td>\n",
       "      <td>Child</td>\n",
       "      <td>10</td>\n",
       "      <td>2001</td>\n",
       "      <td>220.0</td>\n",
       "    </tr>\n",
       "    <tr>\n",
       "      <th>3</th>\n",
       "      <td>5916.0</td>\n",
       "      <td>PAIKPARA GOVT STAFF QTR</td>\n",
       "      <td>29000041</td>\n",
       "      <td>1068554</td>\n",
       "      <td>BLD-129/10 MIRPUR, DHAKA</td>\n",
       "      <td>SAAA</td>\n",
       "      <td>100</td>\n",
       "      <td>10.0</td>\n",
       "      <td>2</td>\n",
       "      <td>A</td>\n",
       "      <td>Child</td>\n",
       "      <td>8</td>\n",
       "      <td>2001</td>\n",
       "      <td>214.0</td>\n",
       "    </tr>\n",
       "    <tr>\n",
       "      <th>4</th>\n",
       "      <td>6041.0</td>\n",
       "      <td>PAIKPARA GOVT STAFF QTR</td>\n",
       "      <td>29000041</td>\n",
       "      <td>1068554</td>\n",
       "      <td>BLD-129/10 MIRPUR, DHAKA</td>\n",
       "      <td>SAAA</td>\n",
       "      <td>100</td>\n",
       "      <td>10.0</td>\n",
       "      <td>2</td>\n",
       "      <td>A</td>\n",
       "      <td>Child</td>\n",
       "      <td>12</td>\n",
       "      <td>2001</td>\n",
       "      <td>149.0</td>\n",
       "    </tr>\n",
       "  </tbody>\n",
       "</table>\n",
       "</div>"
      ],
      "text/plain": [
       "       SL                     NAME  ACCOUNT_NO METER_NO  \\\n",
       "0  5702.0  PAIKPARA GOVT STAFF QTR    29000041  1068554   \n",
       "1  5871.0  PAIKPARA GOVT STAFF QTR    29000041  1068554   \n",
       "2  5904.0  PAIKPARA GOVT STAFF QTR    29000041  1068554   \n",
       "3  5916.0  PAIKPARA GOVT STAFF QTR    29000041  1068554   \n",
       "4  6041.0  PAIKPARA GOVT STAFF QTR    29000041  1068554   \n",
       "\n",
       "                    ADDRESS  ZONE  BLOCK  ROUTE  LOAD TARIFF METER_STATUS  \\\n",
       "0  BLD-129/10 MIRPUR, DHAKA  SAAA    100   10.0     2      A        Child   \n",
       "1  BLD-129/10 MIRPUR, DHAKA  SAAA    100   10.0     2      A        Child   \n",
       "2  BLD-129/10 MIRPUR, DHAKA  SAAA    100   10.0     2      A        Child   \n",
       "3  BLD-129/10 MIRPUR, DHAKA  SAAA    100   10.0     2      A        Child   \n",
       "4  BLD-129/10 MIRPUR, DHAKA  SAAA    100   10.0     2      A        Child   \n",
       "\n",
       "   MONTH  YEAR   UNIT  \n",
       "0      6  2001  176.0  \n",
       "1      9  2001  200.0  \n",
       "2     10  2001  220.0  \n",
       "3      8  2001  214.0  \n",
       "4     12  2001  149.0  "
      ]
     },
     "execution_count": 31,
     "metadata": {},
     "output_type": "execute_result"
    }
   ],
   "source": [
    "input_file.head()"
   ]
  },
  {
   "cell_type": "code",
   "execution_count": 51,
   "metadata": {
    "collapsed": false
   },
   "outputs": [
    {
     "data": {
      "text/html": [
       "<div>\n",
       "<table border=\"1\" class=\"dataframe\">\n",
       "  <thead>\n",
       "    <tr style=\"text-align: right;\">\n",
       "      <th></th>\n",
       "      <th>SL</th>\n",
       "      <th>NAME</th>\n",
       "      <th>ACCOUNT_NO</th>\n",
       "      <th>METER_NO</th>\n",
       "      <th>ADDRESS</th>\n",
       "      <th>ZONE</th>\n",
       "      <th>BLOCK</th>\n",
       "      <th>ROUTE</th>\n",
       "      <th>LOAD</th>\n",
       "      <th>TARIFF</th>\n",
       "      <th>METER_STATUS</th>\n",
       "      <th>MONTH</th>\n",
       "      <th>YEAR</th>\n",
       "      <th>UNIT</th>\n",
       "    </tr>\n",
       "  </thead>\n",
       "  <tbody>\n",
       "    <tr>\n",
       "      <th>0</th>\n",
       "      <td>5702.0</td>\n",
       "      <td>PAIKPARA GOVT STAFF QTR</td>\n",
       "      <td>29000041</td>\n",
       "      <td>1068554</td>\n",
       "      <td>BLD-129/10 MIRPUR, DHAKA</td>\n",
       "      <td>SAAA</td>\n",
       "      <td>100</td>\n",
       "      <td>10.0</td>\n",
       "      <td>2</td>\n",
       "      <td>A</td>\n",
       "      <td>Child</td>\n",
       "      <td>6</td>\n",
       "      <td>2001</td>\n",
       "      <td>176.0</td>\n",
       "    </tr>\n",
       "    <tr>\n",
       "      <th>1</th>\n",
       "      <td>5871.0</td>\n",
       "      <td>PAIKPARA GOVT STAFF QTR</td>\n",
       "      <td>29000041</td>\n",
       "      <td>1068554</td>\n",
       "      <td>BLD-129/10 MIRPUR, DHAKA</td>\n",
       "      <td>SAAA</td>\n",
       "      <td>100</td>\n",
       "      <td>10.0</td>\n",
       "      <td>2</td>\n",
       "      <td>A</td>\n",
       "      <td>Child</td>\n",
       "      <td>9</td>\n",
       "      <td>2001</td>\n",
       "      <td>200.0</td>\n",
       "    </tr>\n",
       "    <tr>\n",
       "      <th>2</th>\n",
       "      <td>5904.0</td>\n",
       "      <td>PAIKPARA GOVT STAFF QTR</td>\n",
       "      <td>29000041</td>\n",
       "      <td>1068554</td>\n",
       "      <td>BLD-129/10 MIRPUR, DHAKA</td>\n",
       "      <td>SAAA</td>\n",
       "      <td>100</td>\n",
       "      <td>10.0</td>\n",
       "      <td>2</td>\n",
       "      <td>A</td>\n",
       "      <td>Child</td>\n",
       "      <td>10</td>\n",
       "      <td>2001</td>\n",
       "      <td>220.0</td>\n",
       "    </tr>\n",
       "    <tr>\n",
       "      <th>3</th>\n",
       "      <td>5916.0</td>\n",
       "      <td>PAIKPARA GOVT STAFF QTR</td>\n",
       "      <td>29000041</td>\n",
       "      <td>1068554</td>\n",
       "      <td>BLD-129/10 MIRPUR, DHAKA</td>\n",
       "      <td>SAAA</td>\n",
       "      <td>100</td>\n",
       "      <td>10.0</td>\n",
       "      <td>2</td>\n",
       "      <td>A</td>\n",
       "      <td>Child</td>\n",
       "      <td>8</td>\n",
       "      <td>2001</td>\n",
       "      <td>214.0</td>\n",
       "    </tr>\n",
       "    <tr>\n",
       "      <th>4</th>\n",
       "      <td>6041.0</td>\n",
       "      <td>PAIKPARA GOVT STAFF QTR</td>\n",
       "      <td>29000041</td>\n",
       "      <td>1068554</td>\n",
       "      <td>BLD-129/10 MIRPUR, DHAKA</td>\n",
       "      <td>SAAA</td>\n",
       "      <td>100</td>\n",
       "      <td>10.0</td>\n",
       "      <td>2</td>\n",
       "      <td>A</td>\n",
       "      <td>Child</td>\n",
       "      <td>12</td>\n",
       "      <td>2001</td>\n",
       "      <td>149.0</td>\n",
       "    </tr>\n",
       "  </tbody>\n",
       "</table>\n",
       "</div>"
      ],
      "text/plain": [
       "       SL                     NAME  ACCOUNT_NO METER_NO  \\\n",
       "0  5702.0  PAIKPARA GOVT STAFF QTR    29000041  1068554   \n",
       "1  5871.0  PAIKPARA GOVT STAFF QTR    29000041  1068554   \n",
       "2  5904.0  PAIKPARA GOVT STAFF QTR    29000041  1068554   \n",
       "3  5916.0  PAIKPARA GOVT STAFF QTR    29000041  1068554   \n",
       "4  6041.0  PAIKPARA GOVT STAFF QTR    29000041  1068554   \n",
       "\n",
       "                    ADDRESS  ZONE  BLOCK  ROUTE  LOAD TARIFF METER_STATUS  \\\n",
       "0  BLD-129/10 MIRPUR, DHAKA  SAAA    100   10.0     2      A        Child   \n",
       "1  BLD-129/10 MIRPUR, DHAKA  SAAA    100   10.0     2      A        Child   \n",
       "2  BLD-129/10 MIRPUR, DHAKA  SAAA    100   10.0     2      A        Child   \n",
       "3  BLD-129/10 MIRPUR, DHAKA  SAAA    100   10.0     2      A        Child   \n",
       "4  BLD-129/10 MIRPUR, DHAKA  SAAA    100   10.0     2      A        Child   \n",
       "\n",
       "   MONTH  YEAR   UNIT  \n",
       "0      6  2001  176.0  \n",
       "1      9  2001  200.0  \n",
       "2     10  2001  220.0  \n",
       "3      8  2001  214.0  \n",
       "4     12  2001  149.0  "
      ]
     },
     "execution_count": 51,
     "metadata": {},
     "output_type": "execute_result"
    }
   ],
   "source": [
    "cleaned_input_file = pd.read_csv('../ShahAli_cleaned_without_nan_values.csv')\n",
    "cleaned_input_file.head()"
   ]
  },
  {
   "cell_type": "code",
   "execution_count": 54,
   "metadata": {
    "collapsed": false
   },
   "outputs": [
    {
     "data": {
      "text/html": [
       "<div>\n",
       "<table border=\"1\" class=\"dataframe\">\n",
       "  <thead>\n",
       "    <tr style=\"text-align: right;\">\n",
       "      <th></th>\n",
       "      <th>SL</th>\n",
       "      <th>NAME</th>\n",
       "      <th>ACCOUNT_NO</th>\n",
       "      <th>METER_NO</th>\n",
       "      <th>ADDRESS</th>\n",
       "      <th>ZONE</th>\n",
       "      <th>BLOCK</th>\n",
       "      <th>ROUTE</th>\n",
       "      <th>LOAD</th>\n",
       "      <th>TARIFF</th>\n",
       "      <th>METER_STATUS</th>\n",
       "      <th>MONTH</th>\n",
       "      <th>YEAR</th>\n",
       "      <th>UNIT</th>\n",
       "    </tr>\n",
       "  </thead>\n",
       "  <tbody>\n",
       "    <tr>\n",
       "      <th>0</th>\n",
       "      <td>5702.0</td>\n",
       "      <td>PAIKPARA GOVT STAFF QTR</td>\n",
       "      <td>29000041</td>\n",
       "      <td>1068554</td>\n",
       "      <td>BLD-129/10 MIRPUR, DHAKA</td>\n",
       "      <td>SAAA</td>\n",
       "      <td>100</td>\n",
       "      <td>10.0</td>\n",
       "      <td>2</td>\n",
       "      <td>A</td>\n",
       "      <td>CHILD</td>\n",
       "      <td>6</td>\n",
       "      <td>2001</td>\n",
       "      <td>176.0</td>\n",
       "    </tr>\n",
       "    <tr>\n",
       "      <th>1</th>\n",
       "      <td>5871.0</td>\n",
       "      <td>PAIKPARA GOVT STAFF QTR</td>\n",
       "      <td>29000041</td>\n",
       "      <td>1068554</td>\n",
       "      <td>BLD-129/10 MIRPUR, DHAKA</td>\n",
       "      <td>SAAA</td>\n",
       "      <td>100</td>\n",
       "      <td>10.0</td>\n",
       "      <td>2</td>\n",
       "      <td>A</td>\n",
       "      <td>CHILD</td>\n",
       "      <td>9</td>\n",
       "      <td>2001</td>\n",
       "      <td>200.0</td>\n",
       "    </tr>\n",
       "    <tr>\n",
       "      <th>2</th>\n",
       "      <td>5904.0</td>\n",
       "      <td>PAIKPARA GOVT STAFF QTR</td>\n",
       "      <td>29000041</td>\n",
       "      <td>1068554</td>\n",
       "      <td>BLD-129/10 MIRPUR, DHAKA</td>\n",
       "      <td>SAAA</td>\n",
       "      <td>100</td>\n",
       "      <td>10.0</td>\n",
       "      <td>2</td>\n",
       "      <td>A</td>\n",
       "      <td>CHILD</td>\n",
       "      <td>10</td>\n",
       "      <td>2001</td>\n",
       "      <td>220.0</td>\n",
       "    </tr>\n",
       "    <tr>\n",
       "      <th>3</th>\n",
       "      <td>5916.0</td>\n",
       "      <td>PAIKPARA GOVT STAFF QTR</td>\n",
       "      <td>29000041</td>\n",
       "      <td>1068554</td>\n",
       "      <td>BLD-129/10 MIRPUR, DHAKA</td>\n",
       "      <td>SAAA</td>\n",
       "      <td>100</td>\n",
       "      <td>10.0</td>\n",
       "      <td>2</td>\n",
       "      <td>A</td>\n",
       "      <td>CHILD</td>\n",
       "      <td>8</td>\n",
       "      <td>2001</td>\n",
       "      <td>214.0</td>\n",
       "    </tr>\n",
       "    <tr>\n",
       "      <th>4</th>\n",
       "      <td>6041.0</td>\n",
       "      <td>PAIKPARA GOVT STAFF QTR</td>\n",
       "      <td>29000041</td>\n",
       "      <td>1068554</td>\n",
       "      <td>BLD-129/10 MIRPUR, DHAKA</td>\n",
       "      <td>SAAA</td>\n",
       "      <td>100</td>\n",
       "      <td>10.0</td>\n",
       "      <td>2</td>\n",
       "      <td>A</td>\n",
       "      <td>CHILD</td>\n",
       "      <td>12</td>\n",
       "      <td>2001</td>\n",
       "      <td>149.0</td>\n",
       "    </tr>\n",
       "  </tbody>\n",
       "</table>\n",
       "</div>"
      ],
      "text/plain": [
       "       SL                     NAME  ACCOUNT_NO METER_NO  \\\n",
       "0  5702.0  PAIKPARA GOVT STAFF QTR    29000041  1068554   \n",
       "1  5871.0  PAIKPARA GOVT STAFF QTR    29000041  1068554   \n",
       "2  5904.0  PAIKPARA GOVT STAFF QTR    29000041  1068554   \n",
       "3  5916.0  PAIKPARA GOVT STAFF QTR    29000041  1068554   \n",
       "4  6041.0  PAIKPARA GOVT STAFF QTR    29000041  1068554   \n",
       "\n",
       "                    ADDRESS  ZONE  BLOCK  ROUTE  LOAD TARIFF METER_STATUS  \\\n",
       "0  BLD-129/10 MIRPUR, DHAKA  SAAA    100   10.0     2      A        CHILD   \n",
       "1  BLD-129/10 MIRPUR, DHAKA  SAAA    100   10.0     2      A        CHILD   \n",
       "2  BLD-129/10 MIRPUR, DHAKA  SAAA    100   10.0     2      A        CHILD   \n",
       "3  BLD-129/10 MIRPUR, DHAKA  SAAA    100   10.0     2      A        CHILD   \n",
       "4  BLD-129/10 MIRPUR, DHAKA  SAAA    100   10.0     2      A        CHILD   \n",
       "\n",
       "   MONTH  YEAR   UNIT  \n",
       "0      6  2001  176.0  \n",
       "1      9  2001  200.0  \n",
       "2     10  2001  220.0  \n",
       "3      8  2001  214.0  \n",
       "4     12  2001  149.0  "
      ]
     },
     "execution_count": 54,
     "metadata": {},
     "output_type": "execute_result"
    }
   ],
   "source": [
    "cleaned_input_file['METER_STATUS']= cleaned_input_file['METER_STATUS'].apply(lambda x: x.upper())\n",
    "cleaned_input_file.head()"
   ]
  },
  {
   "cell_type": "code",
   "execution_count": 55,
   "metadata": {
    "collapsed": false
   },
   "outputs": [
    {
     "data": {
      "text/plain": [
       "CHILD     2234815\n",
       "SINGLE    2101916\n",
       "CHECK      200425\n",
       "Name: METER_STATUS, dtype: int64"
      ]
     },
     "execution_count": 55,
     "metadata": {},
     "output_type": "execute_result"
    }
   ],
   "source": [
    "cleaned_input_file.METER_STATUS.value_counts()"
   ]
  },
  {
   "cell_type": "code",
   "execution_count": 57,
   "metadata": {
    "collapsed": false
   },
   "outputs": [],
   "source": [
    "cleaned_input_file.to_csv('../ShahAli_cleaned_without_nan_values.csv',index=False)"
   ]
  },
  {
   "cell_type": "code",
   "execution_count": null,
   "metadata": {
    "collapsed": true
   },
   "outputs": [],
   "source": []
  }
 ],
 "metadata": {
  "anaconda-cloud": {},
  "kernelspec": {
   "display_name": "Python [conda root]",
   "language": "python",
   "name": "conda-root-py"
  },
  "language_info": {
   "codemirror_mode": {
    "name": "ipython",
    "version": 3
   },
   "file_extension": ".py",
   "mimetype": "text/x-python",
   "name": "python",
   "nbconvert_exporter": "python",
   "pygments_lexer": "ipython3",
   "version": "3.5.2"
  }
 },
 "nbformat": 4,
 "nbformat_minor": 1
}
