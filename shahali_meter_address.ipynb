{
 "cells": [
  {
   "cell_type": "code",
   "execution_count": 4,
   "metadata": {
    "collapsed": false
   },
   "outputs": [
    {
     "name": "stdout",
     "output_type": "stream",
     "text": [
      "3.5.2 |Anaconda 4.2.0 (x86_64)| (default, Jul  2 2016, 17:52:12) \n",
      "[GCC 4.2.1 Compatible Apple LLVM 4.2 (clang-425.0.28)]\n"
     ]
    }
   ],
   "source": [
    "import sys\n",
    "print(sys.version)\n",
    "from os import path\n",
    "from wordcloud import WordCloud\n",
    "import matplotlib.pyplot as plt\n",
    "import pandas as pd\n",
    "import numpy as np"
   ]
  },
  {
   "cell_type": "code",
   "execution_count": 7,
   "metadata": {
    "collapsed": false
   },
   "outputs": [
    {
     "data": {
      "text/html": [
       "<div>\n",
       "<table border=\"1\" class=\"dataframe\">\n",
       "  <thead>\n",
       "    <tr style=\"text-align: right;\">\n",
       "      <th></th>\n",
       "      <th>SL</th>\n",
       "      <th>NAME</th>\n",
       "      <th>ACCOUNT_NO</th>\n",
       "      <th>METER_NO</th>\n",
       "      <th>ADDRESS</th>\n",
       "      <th>ZONE</th>\n",
       "      <th>BLOCK</th>\n",
       "      <th>ROUTE</th>\n",
       "      <th>LOAD</th>\n",
       "      <th>TARIFF</th>\n",
       "      <th>METER_STATUS</th>\n",
       "      <th>MONTH</th>\n",
       "      <th>YEAR</th>\n",
       "      <th>UNIT</th>\n",
       "    </tr>\n",
       "  </thead>\n",
       "  <tbody>\n",
       "    <tr>\n",
       "      <th>0</th>\n",
       "      <td>5702.0</td>\n",
       "      <td>PAIKPARA GOVT STAFF QTR</td>\n",
       "      <td>29000041</td>\n",
       "      <td>1068554</td>\n",
       "      <td>BLD-129/10 MIRPUR, DHAKA</td>\n",
       "      <td>SAAA</td>\n",
       "      <td>100</td>\n",
       "      <td>10.0</td>\n",
       "      <td>2</td>\n",
       "      <td>A</td>\n",
       "      <td>Child</td>\n",
       "      <td>6</td>\n",
       "      <td>2001</td>\n",
       "      <td>176.0</td>\n",
       "    </tr>\n",
       "    <tr>\n",
       "      <th>1</th>\n",
       "      <td>5871.0</td>\n",
       "      <td>PAIKPARA GOVT STAFF QTR</td>\n",
       "      <td>29000041</td>\n",
       "      <td>1068554</td>\n",
       "      <td>BLD-129/10 MIRPUR, DHAKA</td>\n",
       "      <td>SAAA</td>\n",
       "      <td>100</td>\n",
       "      <td>10.0</td>\n",
       "      <td>2</td>\n",
       "      <td>A</td>\n",
       "      <td>Child</td>\n",
       "      <td>9</td>\n",
       "      <td>2001</td>\n",
       "      <td>200.0</td>\n",
       "    </tr>\n",
       "    <tr>\n",
       "      <th>2</th>\n",
       "      <td>5904.0</td>\n",
       "      <td>PAIKPARA GOVT STAFF QTR</td>\n",
       "      <td>29000041</td>\n",
       "      <td>1068554</td>\n",
       "      <td>BLD-129/10 MIRPUR, DHAKA</td>\n",
       "      <td>SAAA</td>\n",
       "      <td>100</td>\n",
       "      <td>10.0</td>\n",
       "      <td>2</td>\n",
       "      <td>A</td>\n",
       "      <td>Child</td>\n",
       "      <td>10</td>\n",
       "      <td>2001</td>\n",
       "      <td>220.0</td>\n",
       "    </tr>\n",
       "    <tr>\n",
       "      <th>3</th>\n",
       "      <td>5916.0</td>\n",
       "      <td>PAIKPARA GOVT STAFF QTR</td>\n",
       "      <td>29000041</td>\n",
       "      <td>1068554</td>\n",
       "      <td>BLD-129/10 MIRPUR, DHAKA</td>\n",
       "      <td>SAAA</td>\n",
       "      <td>100</td>\n",
       "      <td>10.0</td>\n",
       "      <td>2</td>\n",
       "      <td>A</td>\n",
       "      <td>Child</td>\n",
       "      <td>8</td>\n",
       "      <td>2001</td>\n",
       "      <td>214.0</td>\n",
       "    </tr>\n",
       "    <tr>\n",
       "      <th>4</th>\n",
       "      <td>6041.0</td>\n",
       "      <td>PAIKPARA GOVT STAFF QTR</td>\n",
       "      <td>29000041</td>\n",
       "      <td>1068554</td>\n",
       "      <td>BLD-129/10 MIRPUR, DHAKA</td>\n",
       "      <td>SAAA</td>\n",
       "      <td>100</td>\n",
       "      <td>10.0</td>\n",
       "      <td>2</td>\n",
       "      <td>A</td>\n",
       "      <td>Child</td>\n",
       "      <td>12</td>\n",
       "      <td>2001</td>\n",
       "      <td>149.0</td>\n",
       "    </tr>\n",
       "  </tbody>\n",
       "</table>\n",
       "</div>"
      ],
      "text/plain": [
       "       SL                     NAME  ACCOUNT_NO METER_NO  \\\n",
       "0  5702.0  PAIKPARA GOVT STAFF QTR    29000041  1068554   \n",
       "1  5871.0  PAIKPARA GOVT STAFF QTR    29000041  1068554   \n",
       "2  5904.0  PAIKPARA GOVT STAFF QTR    29000041  1068554   \n",
       "3  5916.0  PAIKPARA GOVT STAFF QTR    29000041  1068554   \n",
       "4  6041.0  PAIKPARA GOVT STAFF QTR    29000041  1068554   \n",
       "\n",
       "                    ADDRESS  ZONE  BLOCK  ROUTE  LOAD TARIFF METER_STATUS  \\\n",
       "0  BLD-129/10 MIRPUR, DHAKA  SAAA    100   10.0     2      A        Child   \n",
       "1  BLD-129/10 MIRPUR, DHAKA  SAAA    100   10.0     2      A        Child   \n",
       "2  BLD-129/10 MIRPUR, DHAKA  SAAA    100   10.0     2      A        Child   \n",
       "3  BLD-129/10 MIRPUR, DHAKA  SAAA    100   10.0     2      A        Child   \n",
       "4  BLD-129/10 MIRPUR, DHAKA  SAAA    100   10.0     2      A        Child   \n",
       "\n",
       "   MONTH  YEAR   UNIT  \n",
       "0      6  2001  176.0  \n",
       "1      9  2001  200.0  \n",
       "2     10  2001  220.0  \n",
       "3      8  2001  214.0  \n",
       "4     12  2001  149.0  "
      ]
     },
     "execution_count": 7,
     "metadata": {},
     "output_type": "execute_result"
    }
   ],
   "source": [
    "df = pd.read_csv(\"../ShahAli.csv\")\n",
    "df.head()"
   ]
  },
  {
   "cell_type": "code",
   "execution_count": 8,
   "metadata": {
    "collapsed": false
   },
   "outputs": [
    {
     "data": {
      "text/html": [
       "<div>\n",
       "<table border=\"1\" class=\"dataframe\">\n",
       "  <thead>\n",
       "    <tr style=\"text-align: right;\">\n",
       "      <th></th>\n",
       "      <th>SL</th>\n",
       "      <th>NAME</th>\n",
       "      <th>ACCOUNT_NO</th>\n",
       "      <th>METER_NO</th>\n",
       "      <th>ADDRESS</th>\n",
       "      <th>ZONE</th>\n",
       "      <th>BLOCK</th>\n",
       "      <th>ROUTE</th>\n",
       "      <th>LOAD</th>\n",
       "      <th>TARIFF</th>\n",
       "      <th>METER_STATUS</th>\n",
       "      <th>MONTH</th>\n",
       "      <th>YEAR</th>\n",
       "      <th>UNIT</th>\n",
       "    </tr>\n",
       "  </thead>\n",
       "  <tbody>\n",
       "    <tr>\n",
       "      <th>4550013</th>\n",
       "      <td>11034.0</td>\n",
       "      <td>MD.SHAKAWAT HOSSAIN</td>\n",
       "      <td>31518379</td>\n",
       "      <td>14391192</td>\n",
       "      <td>House/Flat # 1/D, Road # 9/1, Block # A, Secti...</td>\n",
       "      <td>SAFP</td>\n",
       "      <td>100</td>\n",
       "      <td>180.01</td>\n",
       "      <td>2</td>\n",
       "      <td>E</td>\n",
       "      <td>Single</td>\n",
       "      <td>5</td>\n",
       "      <td>2016</td>\n",
       "      <td>4271.0</td>\n",
       "    </tr>\n",
       "    <tr>\n",
       "      <th>4550014</th>\n",
       "      <td>11144.0</td>\n",
       "      <td>MD.SHAKAWAT HOSSAIN</td>\n",
       "      <td>31518379</td>\n",
       "      <td>14391192</td>\n",
       "      <td>House/Flat # 1/D, Road # 9/1, Block # A, Secti...</td>\n",
       "      <td>SAFP</td>\n",
       "      <td>100</td>\n",
       "      <td>180.01</td>\n",
       "      <td>2</td>\n",
       "      <td>E</td>\n",
       "      <td>Single</td>\n",
       "      <td>6</td>\n",
       "      <td>2016</td>\n",
       "      <td>4219.0</td>\n",
       "    </tr>\n",
       "    <tr>\n",
       "      <th>4550015</th>\n",
       "      <td>11271.0</td>\n",
       "      <td>MD.SHAKAWAT HOSSAIN</td>\n",
       "      <td>31518379</td>\n",
       "      <td>14391192</td>\n",
       "      <td>House/Flat # 1/D, Road # 9/1, Block # A, Secti...</td>\n",
       "      <td>SAFP</td>\n",
       "      <td>100</td>\n",
       "      <td>180.01</td>\n",
       "      <td>2</td>\n",
       "      <td>E</td>\n",
       "      <td>Single</td>\n",
       "      <td>7</td>\n",
       "      <td>2016</td>\n",
       "      <td>4363.0</td>\n",
       "    </tr>\n",
       "    <tr>\n",
       "      <th>4550016</th>\n",
       "      <td>11461.0</td>\n",
       "      <td>MD.SHAKAWAT HOSSAIN</td>\n",
       "      <td>31518379</td>\n",
       "      <td>14391192</td>\n",
       "      <td>House/Flat # 1/D, Road # 9/1, Block # A, Secti...</td>\n",
       "      <td>SAFP</td>\n",
       "      <td>100</td>\n",
       "      <td>180.01</td>\n",
       "      <td>2</td>\n",
       "      <td>E</td>\n",
       "      <td>Single</td>\n",
       "      <td>8</td>\n",
       "      <td>2016</td>\n",
       "      <td>4934.0</td>\n",
       "    </tr>\n",
       "    <tr>\n",
       "      <th>4550017</th>\n",
       "      <td>11506.0</td>\n",
       "      <td>MD.SHAKAWAT HOSSAIN</td>\n",
       "      <td>31518379</td>\n",
       "      <td>14391192</td>\n",
       "      <td>House/Flat # 1/D, Road # 9/1, Block # A, Secti...</td>\n",
       "      <td>SAFP</td>\n",
       "      <td>100</td>\n",
       "      <td>180.01</td>\n",
       "      <td>2</td>\n",
       "      <td>E</td>\n",
       "      <td>Single</td>\n",
       "      <td>9</td>\n",
       "      <td>2016</td>\n",
       "      <td>4555.0</td>\n",
       "    </tr>\n",
       "  </tbody>\n",
       "</table>\n",
       "</div>"
      ],
      "text/plain": [
       "              SL                 NAME  ACCOUNT_NO  METER_NO  \\\n",
       "4550013  11034.0  MD.SHAKAWAT HOSSAIN    31518379  14391192   \n",
       "4550014  11144.0  MD.SHAKAWAT HOSSAIN    31518379  14391192   \n",
       "4550015  11271.0  MD.SHAKAWAT HOSSAIN    31518379  14391192   \n",
       "4550016  11461.0  MD.SHAKAWAT HOSSAIN    31518379  14391192   \n",
       "4550017  11506.0  MD.SHAKAWAT HOSSAIN    31518379  14391192   \n",
       "\n",
       "                                                   ADDRESS  ZONE  BLOCK  \\\n",
       "4550013  House/Flat # 1/D, Road # 9/1, Block # A, Secti...  SAFP    100   \n",
       "4550014  House/Flat # 1/D, Road # 9/1, Block # A, Secti...  SAFP    100   \n",
       "4550015  House/Flat # 1/D, Road # 9/1, Block # A, Secti...  SAFP    100   \n",
       "4550016  House/Flat # 1/D, Road # 9/1, Block # A, Secti...  SAFP    100   \n",
       "4550017  House/Flat # 1/D, Road # 9/1, Block # A, Secti...  SAFP    100   \n",
       "\n",
       "          ROUTE  LOAD TARIFF METER_STATUS  MONTH  YEAR    UNIT  \n",
       "4550013  180.01     2      E       Single      5  2016  4271.0  \n",
       "4550014  180.01     2      E       Single      6  2016  4219.0  \n",
       "4550015  180.01     2      E       Single      7  2016  4363.0  \n",
       "4550016  180.01     2      E       Single      8  2016  4934.0  \n",
       "4550017  180.01     2      E       Single      9  2016  4555.0  "
      ]
     },
     "execution_count": 8,
     "metadata": {},
     "output_type": "execute_result"
    }
   ],
   "source": [
    "df.tail()"
   ]
  },
  {
   "cell_type": "code",
   "execution_count": 9,
   "metadata": {
    "collapsed": false
   },
   "outputs": [
    {
     "data": {
      "text/html": [
       "<div>\n",
       "<table border=\"1\" class=\"dataframe\">\n",
       "  <thead>\n",
       "    <tr style=\"text-align: right;\">\n",
       "      <th></th>\n",
       "      <th>SL</th>\n",
       "      <th>NAME</th>\n",
       "      <th>ACCOUNT_NO</th>\n",
       "      <th>METER_NO</th>\n",
       "      <th>ADDRESS</th>\n",
       "      <th>ZONE</th>\n",
       "      <th>BLOCK</th>\n",
       "      <th>ROUTE</th>\n",
       "      <th>LOAD</th>\n",
       "      <th>TARIFF</th>\n",
       "      <th>METER_STATUS</th>\n",
       "      <th>MONTH</th>\n",
       "      <th>YEAR</th>\n",
       "      <th>UNIT</th>\n",
       "    </tr>\n",
       "  </thead>\n",
       "  <tbody>\n",
       "    <tr>\n",
       "      <th>4550013</th>\n",
       "      <td>11034.0</td>\n",
       "      <td>MD.SHAKAWAT HOSSAIN</td>\n",
       "      <td>31518379</td>\n",
       "      <td>14391192</td>\n",
       "      <td>HOUSE/FLAT # 1/D, ROAD # 9/1, BLOCK # A, SECTI...</td>\n",
       "      <td>SAFP</td>\n",
       "      <td>100</td>\n",
       "      <td>180.01</td>\n",
       "      <td>2</td>\n",
       "      <td>E</td>\n",
       "      <td>Single</td>\n",
       "      <td>5</td>\n",
       "      <td>2016</td>\n",
       "      <td>4271.0</td>\n",
       "    </tr>\n",
       "    <tr>\n",
       "      <th>4550014</th>\n",
       "      <td>11144.0</td>\n",
       "      <td>MD.SHAKAWAT HOSSAIN</td>\n",
       "      <td>31518379</td>\n",
       "      <td>14391192</td>\n",
       "      <td>HOUSE/FLAT # 1/D, ROAD # 9/1, BLOCK # A, SECTI...</td>\n",
       "      <td>SAFP</td>\n",
       "      <td>100</td>\n",
       "      <td>180.01</td>\n",
       "      <td>2</td>\n",
       "      <td>E</td>\n",
       "      <td>Single</td>\n",
       "      <td>6</td>\n",
       "      <td>2016</td>\n",
       "      <td>4219.0</td>\n",
       "    </tr>\n",
       "    <tr>\n",
       "      <th>4550015</th>\n",
       "      <td>11271.0</td>\n",
       "      <td>MD.SHAKAWAT HOSSAIN</td>\n",
       "      <td>31518379</td>\n",
       "      <td>14391192</td>\n",
       "      <td>HOUSE/FLAT # 1/D, ROAD # 9/1, BLOCK # A, SECTI...</td>\n",
       "      <td>SAFP</td>\n",
       "      <td>100</td>\n",
       "      <td>180.01</td>\n",
       "      <td>2</td>\n",
       "      <td>E</td>\n",
       "      <td>Single</td>\n",
       "      <td>7</td>\n",
       "      <td>2016</td>\n",
       "      <td>4363.0</td>\n",
       "    </tr>\n",
       "    <tr>\n",
       "      <th>4550016</th>\n",
       "      <td>11461.0</td>\n",
       "      <td>MD.SHAKAWAT HOSSAIN</td>\n",
       "      <td>31518379</td>\n",
       "      <td>14391192</td>\n",
       "      <td>HOUSE/FLAT # 1/D, ROAD # 9/1, BLOCK # A, SECTI...</td>\n",
       "      <td>SAFP</td>\n",
       "      <td>100</td>\n",
       "      <td>180.01</td>\n",
       "      <td>2</td>\n",
       "      <td>E</td>\n",
       "      <td>Single</td>\n",
       "      <td>8</td>\n",
       "      <td>2016</td>\n",
       "      <td>4934.0</td>\n",
       "    </tr>\n",
       "    <tr>\n",
       "      <th>4550017</th>\n",
       "      <td>11506.0</td>\n",
       "      <td>MD.SHAKAWAT HOSSAIN</td>\n",
       "      <td>31518379</td>\n",
       "      <td>14391192</td>\n",
       "      <td>HOUSE/FLAT # 1/D, ROAD # 9/1, BLOCK # A, SECTI...</td>\n",
       "      <td>SAFP</td>\n",
       "      <td>100</td>\n",
       "      <td>180.01</td>\n",
       "      <td>2</td>\n",
       "      <td>E</td>\n",
       "      <td>Single</td>\n",
       "      <td>9</td>\n",
       "      <td>2016</td>\n",
       "      <td>4555.0</td>\n",
       "    </tr>\n",
       "  </tbody>\n",
       "</table>\n",
       "</div>"
      ],
      "text/plain": [
       "              SL                 NAME  ACCOUNT_NO  METER_NO  \\\n",
       "4550013  11034.0  MD.SHAKAWAT HOSSAIN    31518379  14391192   \n",
       "4550014  11144.0  MD.SHAKAWAT HOSSAIN    31518379  14391192   \n",
       "4550015  11271.0  MD.SHAKAWAT HOSSAIN    31518379  14391192   \n",
       "4550016  11461.0  MD.SHAKAWAT HOSSAIN    31518379  14391192   \n",
       "4550017  11506.0  MD.SHAKAWAT HOSSAIN    31518379  14391192   \n",
       "\n",
       "                                                   ADDRESS  ZONE  BLOCK  \\\n",
       "4550013  HOUSE/FLAT # 1/D, ROAD # 9/1, BLOCK # A, SECTI...  SAFP    100   \n",
       "4550014  HOUSE/FLAT # 1/D, ROAD # 9/1, BLOCK # A, SECTI...  SAFP    100   \n",
       "4550015  HOUSE/FLAT # 1/D, ROAD # 9/1, BLOCK # A, SECTI...  SAFP    100   \n",
       "4550016  HOUSE/FLAT # 1/D, ROAD # 9/1, BLOCK # A, SECTI...  SAFP    100   \n",
       "4550017  HOUSE/FLAT # 1/D, ROAD # 9/1, BLOCK # A, SECTI...  SAFP    100   \n",
       "\n",
       "          ROUTE  LOAD TARIFF METER_STATUS  MONTH  YEAR    UNIT  \n",
       "4550013  180.01     2      E       Single      5  2016  4271.0  \n",
       "4550014  180.01     2      E       Single      6  2016  4219.0  \n",
       "4550015  180.01     2      E       Single      7  2016  4363.0  \n",
       "4550016  180.01     2      E       Single      8  2016  4934.0  \n",
       "4550017  180.01     2      E       Single      9  2016  4555.0  "
      ]
     },
     "execution_count": 9,
     "metadata": {},
     "output_type": "execute_result"
    }
   ],
   "source": [
    "df.ADDRESS = df.ADDRESS.apply(lambda x: x.upper())\n",
    "df.tail()"
   ]
  },
  {
   "cell_type": "code",
   "execution_count": 10,
   "metadata": {
    "collapsed": false
   },
   "outputs": [
    {
     "data": {
      "text/plain": [
       "SL              11792\n",
       "NAME                0\n",
       "ACCOUNT_NO          0\n",
       "METER_NO         1023\n",
       "ADDRESS             0\n",
       "ZONE                0\n",
       "BLOCK               0\n",
       "ROUTE               0\n",
       "LOAD                0\n",
       "TARIFF              0\n",
       "METER_STATUS       47\n",
       "MONTH               0\n",
       "YEAR                0\n",
       "UNIT                0\n",
       "dtype: int64"
      ]
     },
     "execution_count": 10,
     "metadata": {},
     "output_type": "execute_result"
    }
   ],
   "source": [
    "df.isnull().sum()"
   ]
  },
  {
   "cell_type": "code",
   "execution_count": 12,
   "metadata": {
    "collapsed": false
   },
   "outputs": [
    {
     "data": {
      "text/plain": [
       "SL              0\n",
       "NAME            0\n",
       "ACCOUNT_NO      0\n",
       "METER_NO        0\n",
       "ADDRESS         0\n",
       "ZONE            0\n",
       "BLOCK           0\n",
       "ROUTE           0\n",
       "LOAD            0\n",
       "TARIFF          0\n",
       "METER_STATUS    0\n",
       "MONTH           0\n",
       "YEAR            0\n",
       "UNIT            0\n",
       "dtype: int64"
      ]
     },
     "execution_count": 12,
     "metadata": {},
     "output_type": "execute_result"
    }
   ],
   "source": [
    "df = df.dropna()\n",
    "df.isnull().sum()"
   ]
  },
  {
   "cell_type": "code",
   "execution_count": 22,
   "metadata": {
    "collapsed": false
   },
   "outputs": [
    {
     "data": {
      "text/plain": [
       "SL              63492\n",
       "NAME            63492\n",
       "ACCOUNT_NO      63492\n",
       "METER_NO        63492\n",
       "ADDRESS         63492\n",
       "ZONE            63492\n",
       "BLOCK           63492\n",
       "ROUTE           63492\n",
       "LOAD            63492\n",
       "TARIFF          63492\n",
       "METER_STATUS    63492\n",
       "MONTH           63492\n",
       "YEAR            63492\n",
       "UNIT            63492\n",
       "dtype: int64"
      ]
     },
     "execution_count": 22,
     "metadata": {},
     "output_type": "execute_result"
    }
   ],
   "source": [
    "columns = ['METER_NO','ADDRESS','ZONE','BLOCK','ROUTE']\n",
    "droped_duplicates_df = df.drop_duplicates(['METER_NO'])\n",
    "droped_duplicates_df.count()"
   ]
  },
  {
   "cell_type": "code",
   "execution_count": 20,
   "metadata": {
    "collapsed": true
   },
   "outputs": [],
   "source": [
    "droped_duplicates_df.to_csv(\"../shahali_dropna_only_addresses.csv\",index=False,columns=columns)"
   ]
  },
  {
   "cell_type": "code",
   "execution_count": 21,
   "metadata": {
    "collapsed": false
   },
   "outputs": [
    {
     "data": {
      "text/plain": [
       "SAAD    5311\n",
       "SAFB    3246\n",
       "SAAC    2708\n",
       "SAFE    2311\n",
       "SAFD    2204\n",
       "SAAA    1850\n",
       "SAAB    1810\n",
       "SAAF     919\n",
       "SAFG     126\n",
       "SAFP     117\n",
       "SAAP      40\n",
       "Name: ZONE, dtype: int64"
      ]
     },
     "execution_count": 21,
     "metadata": {},
     "output_type": "execute_result"
    }
   ],
   "source": [
    "droped_duplicates_df.ZONE.value_counts()"
   ]
  },
  {
   "cell_type": "code",
   "execution_count": 23,
   "metadata": {
    "collapsed": true
   },
   "outputs": [],
   "source": [
    "import re"
   ]
  },
  {
   "cell_type": "code",
   "execution_count": 24,
   "metadata": {
    "collapsed": true
   },
   "outputs": [],
   "source": [
    "import gmaps"
   ]
  },
  {
   "cell_type": "code",
   "execution_count": null,
   "metadata": {
    "collapsed": true
   },
   "outputs": [],
   "source": []
  }
 ],
 "metadata": {
  "anaconda-cloud": {},
  "kernelspec": {
   "display_name": "Python [default]",
   "language": "python",
   "name": "python3"
  },
  "language_info": {
   "codemirror_mode": {
    "name": "ipython",
    "version": 3
   },
   "file_extension": ".py",
   "mimetype": "text/x-python",
   "name": "python",
   "nbconvert_exporter": "python",
   "pygments_lexer": "ipython3",
   "version": "3.5.2"
  }
 },
 "nbformat": 4,
 "nbformat_minor": 1
}
