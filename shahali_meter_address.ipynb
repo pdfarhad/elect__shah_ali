{
 "cells": [
  {
   "cell_type": "code",
   "execution_count": 2,
   "metadata": {
    "collapsed": false,
    "deletable": true,
    "editable": true
   },
   "outputs": [
    {
     "name": "stdout",
     "output_type": "stream",
     "text": [
      "3.5.2 |Anaconda 4.2.0 (x86_64)| (default, Jul  2 2016, 17:52:12) \n",
      "[GCC 4.2.1 Compatible Apple LLVM 4.2 (clang-425.0.28)]\n"
     ]
    }
   ],
   "source": [
    "import sys\n",
    "print(sys.version)\n",
    "from os import path\n",
    "from wordcloud import WordCloud\n",
    "import matplotlib.pyplot as plt\n",
    "import pandas as pd\n",
    "import numpy as np"
   ]
  },
  {
   "cell_type": "code",
   "execution_count": 7,
   "metadata": {
    "collapsed": false,
    "deletable": true,
    "editable": true
   },
   "outputs": [
    {
     "data": {
      "text/html": [
       "<div>\n",
       "<table border=\"1\" class=\"dataframe\">\n",
       "  <thead>\n",
       "    <tr style=\"text-align: right;\">\n",
       "      <th></th>\n",
       "      <th>SL</th>\n",
       "      <th>NAME</th>\n",
       "      <th>ACCOUNT_NO</th>\n",
       "      <th>METER_NO</th>\n",
       "      <th>ADDRESS</th>\n",
       "      <th>ZONE</th>\n",
       "      <th>BLOCK</th>\n",
       "      <th>ROUTE</th>\n",
       "      <th>LOAD</th>\n",
       "      <th>TARIFF</th>\n",
       "      <th>METER_STATUS</th>\n",
       "      <th>MONTH</th>\n",
       "      <th>YEAR</th>\n",
       "      <th>UNIT</th>\n",
       "    </tr>\n",
       "  </thead>\n",
       "  <tbody>\n",
       "    <tr>\n",
       "      <th>0</th>\n",
       "      <td>5702.0</td>\n",
       "      <td>PAIKPARA GOVT STAFF QTR</td>\n",
       "      <td>29000041</td>\n",
       "      <td>1068554</td>\n",
       "      <td>BLD-129/10 MIRPUR, DHAKA</td>\n",
       "      <td>SAAA</td>\n",
       "      <td>100</td>\n",
       "      <td>10.0</td>\n",
       "      <td>2</td>\n",
       "      <td>A</td>\n",
       "      <td>Child</td>\n",
       "      <td>6</td>\n",
       "      <td>2001</td>\n",
       "      <td>176.0</td>\n",
       "    </tr>\n",
       "    <tr>\n",
       "      <th>1</th>\n",
       "      <td>5871.0</td>\n",
       "      <td>PAIKPARA GOVT STAFF QTR</td>\n",
       "      <td>29000041</td>\n",
       "      <td>1068554</td>\n",
       "      <td>BLD-129/10 MIRPUR, DHAKA</td>\n",
       "      <td>SAAA</td>\n",
       "      <td>100</td>\n",
       "      <td>10.0</td>\n",
       "      <td>2</td>\n",
       "      <td>A</td>\n",
       "      <td>Child</td>\n",
       "      <td>9</td>\n",
       "      <td>2001</td>\n",
       "      <td>200.0</td>\n",
       "    </tr>\n",
       "    <tr>\n",
       "      <th>2</th>\n",
       "      <td>5904.0</td>\n",
       "      <td>PAIKPARA GOVT STAFF QTR</td>\n",
       "      <td>29000041</td>\n",
       "      <td>1068554</td>\n",
       "      <td>BLD-129/10 MIRPUR, DHAKA</td>\n",
       "      <td>SAAA</td>\n",
       "      <td>100</td>\n",
       "      <td>10.0</td>\n",
       "      <td>2</td>\n",
       "      <td>A</td>\n",
       "      <td>Child</td>\n",
       "      <td>10</td>\n",
       "      <td>2001</td>\n",
       "      <td>220.0</td>\n",
       "    </tr>\n",
       "    <tr>\n",
       "      <th>3</th>\n",
       "      <td>5916.0</td>\n",
       "      <td>PAIKPARA GOVT STAFF QTR</td>\n",
       "      <td>29000041</td>\n",
       "      <td>1068554</td>\n",
       "      <td>BLD-129/10 MIRPUR, DHAKA</td>\n",
       "      <td>SAAA</td>\n",
       "      <td>100</td>\n",
       "      <td>10.0</td>\n",
       "      <td>2</td>\n",
       "      <td>A</td>\n",
       "      <td>Child</td>\n",
       "      <td>8</td>\n",
       "      <td>2001</td>\n",
       "      <td>214.0</td>\n",
       "    </tr>\n",
       "    <tr>\n",
       "      <th>4</th>\n",
       "      <td>6041.0</td>\n",
       "      <td>PAIKPARA GOVT STAFF QTR</td>\n",
       "      <td>29000041</td>\n",
       "      <td>1068554</td>\n",
       "      <td>BLD-129/10 MIRPUR, DHAKA</td>\n",
       "      <td>SAAA</td>\n",
       "      <td>100</td>\n",
       "      <td>10.0</td>\n",
       "      <td>2</td>\n",
       "      <td>A</td>\n",
       "      <td>Child</td>\n",
       "      <td>12</td>\n",
       "      <td>2001</td>\n",
       "      <td>149.0</td>\n",
       "    </tr>\n",
       "  </tbody>\n",
       "</table>\n",
       "</div>"
      ],
      "text/plain": [
       "       SL                     NAME  ACCOUNT_NO METER_NO  \\\n",
       "0  5702.0  PAIKPARA GOVT STAFF QTR    29000041  1068554   \n",
       "1  5871.0  PAIKPARA GOVT STAFF QTR    29000041  1068554   \n",
       "2  5904.0  PAIKPARA GOVT STAFF QTR    29000041  1068554   \n",
       "3  5916.0  PAIKPARA GOVT STAFF QTR    29000041  1068554   \n",
       "4  6041.0  PAIKPARA GOVT STAFF QTR    29000041  1068554   \n",
       "\n",
       "                    ADDRESS  ZONE  BLOCK  ROUTE  LOAD TARIFF METER_STATUS  \\\n",
       "0  BLD-129/10 MIRPUR, DHAKA  SAAA    100   10.0     2      A        Child   \n",
       "1  BLD-129/10 MIRPUR, DHAKA  SAAA    100   10.0     2      A        Child   \n",
       "2  BLD-129/10 MIRPUR, DHAKA  SAAA    100   10.0     2      A        Child   \n",
       "3  BLD-129/10 MIRPUR, DHAKA  SAAA    100   10.0     2      A        Child   \n",
       "4  BLD-129/10 MIRPUR, DHAKA  SAAA    100   10.0     2      A        Child   \n",
       "\n",
       "   MONTH  YEAR   UNIT  \n",
       "0      6  2001  176.0  \n",
       "1      9  2001  200.0  \n",
       "2     10  2001  220.0  \n",
       "3      8  2001  214.0  \n",
       "4     12  2001  149.0  "
      ]
     },
     "execution_count": 7,
     "metadata": {},
     "output_type": "execute_result"
    }
   ],
   "source": [
    "df = pd.read_csv(\"../ShahAli.csv\")\n",
    "df.head()"
   ]
  },
  {
   "cell_type": "code",
   "execution_count": 8,
   "metadata": {
    "collapsed": false,
    "deletable": true,
    "editable": true
   },
   "outputs": [
    {
     "data": {
      "text/html": [
       "<div>\n",
       "<table border=\"1\" class=\"dataframe\">\n",
       "  <thead>\n",
       "    <tr style=\"text-align: right;\">\n",
       "      <th></th>\n",
       "      <th>SL</th>\n",
       "      <th>NAME</th>\n",
       "      <th>ACCOUNT_NO</th>\n",
       "      <th>METER_NO</th>\n",
       "      <th>ADDRESS</th>\n",
       "      <th>ZONE</th>\n",
       "      <th>BLOCK</th>\n",
       "      <th>ROUTE</th>\n",
       "      <th>LOAD</th>\n",
       "      <th>TARIFF</th>\n",
       "      <th>METER_STATUS</th>\n",
       "      <th>MONTH</th>\n",
       "      <th>YEAR</th>\n",
       "      <th>UNIT</th>\n",
       "    </tr>\n",
       "  </thead>\n",
       "  <tbody>\n",
       "    <tr>\n",
       "      <th>4550013</th>\n",
       "      <td>11034.0</td>\n",
       "      <td>MD.SHAKAWAT HOSSAIN</td>\n",
       "      <td>31518379</td>\n",
       "      <td>14391192</td>\n",
       "      <td>House/Flat # 1/D, Road # 9/1, Block # A, Secti...</td>\n",
       "      <td>SAFP</td>\n",
       "      <td>100</td>\n",
       "      <td>180.01</td>\n",
       "      <td>2</td>\n",
       "      <td>E</td>\n",
       "      <td>Single</td>\n",
       "      <td>5</td>\n",
       "      <td>2016</td>\n",
       "      <td>4271.0</td>\n",
       "    </tr>\n",
       "    <tr>\n",
       "      <th>4550014</th>\n",
       "      <td>11144.0</td>\n",
       "      <td>MD.SHAKAWAT HOSSAIN</td>\n",
       "      <td>31518379</td>\n",
       "      <td>14391192</td>\n",
       "      <td>House/Flat # 1/D, Road # 9/1, Block # A, Secti...</td>\n",
       "      <td>SAFP</td>\n",
       "      <td>100</td>\n",
       "      <td>180.01</td>\n",
       "      <td>2</td>\n",
       "      <td>E</td>\n",
       "      <td>Single</td>\n",
       "      <td>6</td>\n",
       "      <td>2016</td>\n",
       "      <td>4219.0</td>\n",
       "    </tr>\n",
       "    <tr>\n",
       "      <th>4550015</th>\n",
       "      <td>11271.0</td>\n",
       "      <td>MD.SHAKAWAT HOSSAIN</td>\n",
       "      <td>31518379</td>\n",
       "      <td>14391192</td>\n",
       "      <td>House/Flat # 1/D, Road # 9/1, Block # A, Secti...</td>\n",
       "      <td>SAFP</td>\n",
       "      <td>100</td>\n",
       "      <td>180.01</td>\n",
       "      <td>2</td>\n",
       "      <td>E</td>\n",
       "      <td>Single</td>\n",
       "      <td>7</td>\n",
       "      <td>2016</td>\n",
       "      <td>4363.0</td>\n",
       "    </tr>\n",
       "    <tr>\n",
       "      <th>4550016</th>\n",
       "      <td>11461.0</td>\n",
       "      <td>MD.SHAKAWAT HOSSAIN</td>\n",
       "      <td>31518379</td>\n",
       "      <td>14391192</td>\n",
       "      <td>House/Flat # 1/D, Road # 9/1, Block # A, Secti...</td>\n",
       "      <td>SAFP</td>\n",
       "      <td>100</td>\n",
       "      <td>180.01</td>\n",
       "      <td>2</td>\n",
       "      <td>E</td>\n",
       "      <td>Single</td>\n",
       "      <td>8</td>\n",
       "      <td>2016</td>\n",
       "      <td>4934.0</td>\n",
       "    </tr>\n",
       "    <tr>\n",
       "      <th>4550017</th>\n",
       "      <td>11506.0</td>\n",
       "      <td>MD.SHAKAWAT HOSSAIN</td>\n",
       "      <td>31518379</td>\n",
       "      <td>14391192</td>\n",
       "      <td>House/Flat # 1/D, Road # 9/1, Block # A, Secti...</td>\n",
       "      <td>SAFP</td>\n",
       "      <td>100</td>\n",
       "      <td>180.01</td>\n",
       "      <td>2</td>\n",
       "      <td>E</td>\n",
       "      <td>Single</td>\n",
       "      <td>9</td>\n",
       "      <td>2016</td>\n",
       "      <td>4555.0</td>\n",
       "    </tr>\n",
       "  </tbody>\n",
       "</table>\n",
       "</div>"
      ],
      "text/plain": [
       "              SL                 NAME  ACCOUNT_NO  METER_NO  \\\n",
       "4550013  11034.0  MD.SHAKAWAT HOSSAIN    31518379  14391192   \n",
       "4550014  11144.0  MD.SHAKAWAT HOSSAIN    31518379  14391192   \n",
       "4550015  11271.0  MD.SHAKAWAT HOSSAIN    31518379  14391192   \n",
       "4550016  11461.0  MD.SHAKAWAT HOSSAIN    31518379  14391192   \n",
       "4550017  11506.0  MD.SHAKAWAT HOSSAIN    31518379  14391192   \n",
       "\n",
       "                                                   ADDRESS  ZONE  BLOCK  \\\n",
       "4550013  House/Flat # 1/D, Road # 9/1, Block # A, Secti...  SAFP    100   \n",
       "4550014  House/Flat # 1/D, Road # 9/1, Block # A, Secti...  SAFP    100   \n",
       "4550015  House/Flat # 1/D, Road # 9/1, Block # A, Secti...  SAFP    100   \n",
       "4550016  House/Flat # 1/D, Road # 9/1, Block # A, Secti...  SAFP    100   \n",
       "4550017  House/Flat # 1/D, Road # 9/1, Block # A, Secti...  SAFP    100   \n",
       "\n",
       "          ROUTE  LOAD TARIFF METER_STATUS  MONTH  YEAR    UNIT  \n",
       "4550013  180.01     2      E       Single      5  2016  4271.0  \n",
       "4550014  180.01     2      E       Single      6  2016  4219.0  \n",
       "4550015  180.01     2      E       Single      7  2016  4363.0  \n",
       "4550016  180.01     2      E       Single      8  2016  4934.0  \n",
       "4550017  180.01     2      E       Single      9  2016  4555.0  "
      ]
     },
     "execution_count": 8,
     "metadata": {},
     "output_type": "execute_result"
    }
   ],
   "source": [
    "df.tail()"
   ]
  },
  {
   "cell_type": "code",
   "execution_count": 9,
   "metadata": {
    "collapsed": false,
    "deletable": true,
    "editable": true
   },
   "outputs": [
    {
     "data": {
      "text/html": [
       "<div>\n",
       "<table border=\"1\" class=\"dataframe\">\n",
       "  <thead>\n",
       "    <tr style=\"text-align: right;\">\n",
       "      <th></th>\n",
       "      <th>SL</th>\n",
       "      <th>NAME</th>\n",
       "      <th>ACCOUNT_NO</th>\n",
       "      <th>METER_NO</th>\n",
       "      <th>ADDRESS</th>\n",
       "      <th>ZONE</th>\n",
       "      <th>BLOCK</th>\n",
       "      <th>ROUTE</th>\n",
       "      <th>LOAD</th>\n",
       "      <th>TARIFF</th>\n",
       "      <th>METER_STATUS</th>\n",
       "      <th>MONTH</th>\n",
       "      <th>YEAR</th>\n",
       "      <th>UNIT</th>\n",
       "    </tr>\n",
       "  </thead>\n",
       "  <tbody>\n",
       "    <tr>\n",
       "      <th>4550013</th>\n",
       "      <td>11034.0</td>\n",
       "      <td>MD.SHAKAWAT HOSSAIN</td>\n",
       "      <td>31518379</td>\n",
       "      <td>14391192</td>\n",
       "      <td>HOUSE/FLAT # 1/D, ROAD # 9/1, BLOCK # A, SECTI...</td>\n",
       "      <td>SAFP</td>\n",
       "      <td>100</td>\n",
       "      <td>180.01</td>\n",
       "      <td>2</td>\n",
       "      <td>E</td>\n",
       "      <td>Single</td>\n",
       "      <td>5</td>\n",
       "      <td>2016</td>\n",
       "      <td>4271.0</td>\n",
       "    </tr>\n",
       "    <tr>\n",
       "      <th>4550014</th>\n",
       "      <td>11144.0</td>\n",
       "      <td>MD.SHAKAWAT HOSSAIN</td>\n",
       "      <td>31518379</td>\n",
       "      <td>14391192</td>\n",
       "      <td>HOUSE/FLAT # 1/D, ROAD # 9/1, BLOCK # A, SECTI...</td>\n",
       "      <td>SAFP</td>\n",
       "      <td>100</td>\n",
       "      <td>180.01</td>\n",
       "      <td>2</td>\n",
       "      <td>E</td>\n",
       "      <td>Single</td>\n",
       "      <td>6</td>\n",
       "      <td>2016</td>\n",
       "      <td>4219.0</td>\n",
       "    </tr>\n",
       "    <tr>\n",
       "      <th>4550015</th>\n",
       "      <td>11271.0</td>\n",
       "      <td>MD.SHAKAWAT HOSSAIN</td>\n",
       "      <td>31518379</td>\n",
       "      <td>14391192</td>\n",
       "      <td>HOUSE/FLAT # 1/D, ROAD # 9/1, BLOCK # A, SECTI...</td>\n",
       "      <td>SAFP</td>\n",
       "      <td>100</td>\n",
       "      <td>180.01</td>\n",
       "      <td>2</td>\n",
       "      <td>E</td>\n",
       "      <td>Single</td>\n",
       "      <td>7</td>\n",
       "      <td>2016</td>\n",
       "      <td>4363.0</td>\n",
       "    </tr>\n",
       "    <tr>\n",
       "      <th>4550016</th>\n",
       "      <td>11461.0</td>\n",
       "      <td>MD.SHAKAWAT HOSSAIN</td>\n",
       "      <td>31518379</td>\n",
       "      <td>14391192</td>\n",
       "      <td>HOUSE/FLAT # 1/D, ROAD # 9/1, BLOCK # A, SECTI...</td>\n",
       "      <td>SAFP</td>\n",
       "      <td>100</td>\n",
       "      <td>180.01</td>\n",
       "      <td>2</td>\n",
       "      <td>E</td>\n",
       "      <td>Single</td>\n",
       "      <td>8</td>\n",
       "      <td>2016</td>\n",
       "      <td>4934.0</td>\n",
       "    </tr>\n",
       "    <tr>\n",
       "      <th>4550017</th>\n",
       "      <td>11506.0</td>\n",
       "      <td>MD.SHAKAWAT HOSSAIN</td>\n",
       "      <td>31518379</td>\n",
       "      <td>14391192</td>\n",
       "      <td>HOUSE/FLAT # 1/D, ROAD # 9/1, BLOCK # A, SECTI...</td>\n",
       "      <td>SAFP</td>\n",
       "      <td>100</td>\n",
       "      <td>180.01</td>\n",
       "      <td>2</td>\n",
       "      <td>E</td>\n",
       "      <td>Single</td>\n",
       "      <td>9</td>\n",
       "      <td>2016</td>\n",
       "      <td>4555.0</td>\n",
       "    </tr>\n",
       "  </tbody>\n",
       "</table>\n",
       "</div>"
      ],
      "text/plain": [
       "              SL                 NAME  ACCOUNT_NO  METER_NO  \\\n",
       "4550013  11034.0  MD.SHAKAWAT HOSSAIN    31518379  14391192   \n",
       "4550014  11144.0  MD.SHAKAWAT HOSSAIN    31518379  14391192   \n",
       "4550015  11271.0  MD.SHAKAWAT HOSSAIN    31518379  14391192   \n",
       "4550016  11461.0  MD.SHAKAWAT HOSSAIN    31518379  14391192   \n",
       "4550017  11506.0  MD.SHAKAWAT HOSSAIN    31518379  14391192   \n",
       "\n",
       "                                                   ADDRESS  ZONE  BLOCK  \\\n",
       "4550013  HOUSE/FLAT # 1/D, ROAD # 9/1, BLOCK # A, SECTI...  SAFP    100   \n",
       "4550014  HOUSE/FLAT # 1/D, ROAD # 9/1, BLOCK # A, SECTI...  SAFP    100   \n",
       "4550015  HOUSE/FLAT # 1/D, ROAD # 9/1, BLOCK # A, SECTI...  SAFP    100   \n",
       "4550016  HOUSE/FLAT # 1/D, ROAD # 9/1, BLOCK # A, SECTI...  SAFP    100   \n",
       "4550017  HOUSE/FLAT # 1/D, ROAD # 9/1, BLOCK # A, SECTI...  SAFP    100   \n",
       "\n",
       "          ROUTE  LOAD TARIFF METER_STATUS  MONTH  YEAR    UNIT  \n",
       "4550013  180.01     2      E       Single      5  2016  4271.0  \n",
       "4550014  180.01     2      E       Single      6  2016  4219.0  \n",
       "4550015  180.01     2      E       Single      7  2016  4363.0  \n",
       "4550016  180.01     2      E       Single      8  2016  4934.0  \n",
       "4550017  180.01     2      E       Single      9  2016  4555.0  "
      ]
     },
     "execution_count": 9,
     "metadata": {},
     "output_type": "execute_result"
    }
   ],
   "source": [
    "df.ADDRESS = df.ADDRESS.apply(lambda x: x.upper())\n",
    "df.tail()"
   ]
  },
  {
   "cell_type": "code",
   "execution_count": 10,
   "metadata": {
    "collapsed": false,
    "deletable": true,
    "editable": true
   },
   "outputs": [
    {
     "data": {
      "text/plain": [
       "SL              11792\n",
       "NAME                0\n",
       "ACCOUNT_NO          0\n",
       "METER_NO         1023\n",
       "ADDRESS             0\n",
       "ZONE                0\n",
       "BLOCK               0\n",
       "ROUTE               0\n",
       "LOAD                0\n",
       "TARIFF              0\n",
       "METER_STATUS       47\n",
       "MONTH               0\n",
       "YEAR                0\n",
       "UNIT                0\n",
       "dtype: int64"
      ]
     },
     "execution_count": 10,
     "metadata": {},
     "output_type": "execute_result"
    }
   ],
   "source": [
    "df.isnull().sum()"
   ]
  },
  {
   "cell_type": "code",
   "execution_count": 12,
   "metadata": {
    "collapsed": false,
    "deletable": true,
    "editable": true
   },
   "outputs": [
    {
     "data": {
      "text/plain": [
       "SL              0\n",
       "NAME            0\n",
       "ACCOUNT_NO      0\n",
       "METER_NO        0\n",
       "ADDRESS         0\n",
       "ZONE            0\n",
       "BLOCK           0\n",
       "ROUTE           0\n",
       "LOAD            0\n",
       "TARIFF          0\n",
       "METER_STATUS    0\n",
       "MONTH           0\n",
       "YEAR            0\n",
       "UNIT            0\n",
       "dtype: int64"
      ]
     },
     "execution_count": 12,
     "metadata": {},
     "output_type": "execute_result"
    }
   ],
   "source": [
    "df = df.dropna()\n",
    "df.isnull().sum()"
   ]
  },
  {
   "cell_type": "code",
   "execution_count": 22,
   "metadata": {
    "collapsed": false,
    "deletable": true,
    "editable": true
   },
   "outputs": [
    {
     "data": {
      "text/plain": [
       "SL              63492\n",
       "NAME            63492\n",
       "ACCOUNT_NO      63492\n",
       "METER_NO        63492\n",
       "ADDRESS         63492\n",
       "ZONE            63492\n",
       "BLOCK           63492\n",
       "ROUTE           63492\n",
       "LOAD            63492\n",
       "TARIFF          63492\n",
       "METER_STATUS    63492\n",
       "MONTH           63492\n",
       "YEAR            63492\n",
       "UNIT            63492\n",
       "dtype: int64"
      ]
     },
     "execution_count": 22,
     "metadata": {},
     "output_type": "execute_result"
    }
   ],
   "source": [
    "columns = ['METER_NO','ADDRESS','ZONE','BLOCK','ROUTE']\n",
    "droped_duplicates_df = df.drop_duplicates(['METER_NO'])\n",
    "droped_duplicates_df.count()"
   ]
  },
  {
   "cell_type": "code",
   "execution_count": 20,
   "metadata": {
    "collapsed": true,
    "deletable": true,
    "editable": true
   },
   "outputs": [],
   "source": [
    "droped_duplicates_df.to_csv(\"../shahali_dropna_only_addresses.csv\",index=False,columns=columns)"
   ]
  },
  {
   "cell_type": "code",
   "execution_count": 23,
   "metadata": {
    "collapsed": true,
    "deletable": true,
    "editable": true
   },
   "outputs": [],
   "source": [
    "import re"
   ]
  },
  {
   "cell_type": "code",
   "execution_count": 24,
   "metadata": {
    "collapsed": true,
    "deletable": true,
    "editable": true
   },
   "outputs": [],
   "source": [
    "import gmaps"
   ]
  },
  {
   "cell_type": "code",
   "execution_count": 3,
   "metadata": {
    "collapsed": false,
    "deletable": true,
    "editable": true
   },
   "outputs": [
    {
     "data": {
      "text/html": [
       "<div>\n",
       "<table border=\"1\" class=\"dataframe\">\n",
       "  <thead>\n",
       "    <tr style=\"text-align: right;\">\n",
       "      <th></th>\n",
       "      <th>METER_NO</th>\n",
       "      <th>ADDRESS</th>\n",
       "      <th>ZONE</th>\n",
       "      <th>BLOCK</th>\n",
       "      <th>ROUTE</th>\n",
       "    </tr>\n",
       "  </thead>\n",
       "  <tbody>\n",
       "    <tr>\n",
       "      <th>0</th>\n",
       "      <td>1068554</td>\n",
       "      <td>BLD-129/10 MIRPUR, DHAKA</td>\n",
       "      <td>SAAA</td>\n",
       "      <td>100</td>\n",
       "      <td>10.00</td>\n",
       "    </tr>\n",
       "    <tr>\n",
       "      <th>1</th>\n",
       "      <td>1068779</td>\n",
       "      <td>BLD-129/7 MIRPUR, DHAKA</td>\n",
       "      <td>SAAA</td>\n",
       "      <td>100</td>\n",
       "      <td>80.00</td>\n",
       "    </tr>\n",
       "    <tr>\n",
       "      <th>2</th>\n",
       "      <td>1068177</td>\n",
       "      <td>BLD-129/3 MIRPUR, DHAKA</td>\n",
       "      <td>SAAA</td>\n",
       "      <td>100</td>\n",
       "      <td>30.01</td>\n",
       "    </tr>\n",
       "    <tr>\n",
       "      <th>3</th>\n",
       "      <td>1155509</td>\n",
       "      <td>BLD-129/4 MIRPUR, DHAKA</td>\n",
       "      <td>SAAA</td>\n",
       "      <td>100</td>\n",
       "      <td>40.00</td>\n",
       "    </tr>\n",
       "    <tr>\n",
       "      <th>4</th>\n",
       "      <td>1068179</td>\n",
       "      <td>BLD-129/1 MIRPUR, DHAKA</td>\n",
       "      <td>SAAA</td>\n",
       "      <td>100</td>\n",
       "      <td>50.00</td>\n",
       "    </tr>\n",
       "  </tbody>\n",
       "</table>\n",
       "</div>"
      ],
      "text/plain": [
       "  METER_NO                   ADDRESS  ZONE  BLOCK  ROUTE\n",
       "0  1068554  BLD-129/10 MIRPUR, DHAKA  SAAA    100  10.00\n",
       "1  1068779   BLD-129/7 MIRPUR, DHAKA  SAAA    100  80.00\n",
       "2  1068177   BLD-129/3 MIRPUR, DHAKA  SAAA    100  30.01\n",
       "3  1155509   BLD-129/4 MIRPUR, DHAKA  SAAA    100  40.00\n",
       "4  1068179   BLD-129/1 MIRPUR, DHAKA  SAAA    100  50.00"
      ]
     },
     "execution_count": 3,
     "metadata": {},
     "output_type": "execute_result"
    }
   ],
   "source": [
    "df = pd.read_csv(\"../shahali_dropna_only_addresses.csv\")\n",
    "df.head()"
   ]
  },
  {
   "cell_type": "code",
   "execution_count": 4,
   "metadata": {
    "collapsed": false
   },
   "outputs": [
    {
     "name": "stdout",
     "output_type": "stream",
     "text": [
      "<class 'pandas.core.frame.DataFrame'>\n",
      "RangeIndex: 20642 entries, 0 to 20641\n",
      "Data columns (total 5 columns):\n",
      "METER_NO    20642 non-null object\n",
      "ADDRESS     20642 non-null object\n",
      "ZONE        20642 non-null object\n",
      "BLOCK       20642 non-null int64\n",
      "ROUTE       20642 non-null float64\n",
      "dtypes: float64(1), int64(1), object(3)\n",
      "memory usage: 806.4+ KB\n"
     ]
    }
   ],
   "source": [
    "df.info()"
   ]
  },
  {
   "cell_type": "code",
   "execution_count": 5,
   "metadata": {
    "collapsed": false
   },
   "outputs": [
    {
     "data": {
      "text/plain": [
       "100    789\n",
       "190    753\n",
       "130    635\n",
       "210    581\n",
       "200    533\n",
       "230    490\n",
       "220    468\n",
       "110    434\n",
       "180    430\n",
       "120    423\n",
       "310    420\n",
       "150    412\n",
       "240    401\n",
       "290    383\n",
       "140    381\n",
       "160    380\n",
       "50     371\n",
       "30     364\n",
       "170    353\n",
       "260    310\n",
       "40     308\n",
       "430    300\n",
       "300    296\n",
       "10     293\n",
       "270    291\n",
       "777    287\n",
       "340    266\n",
       "125    237\n",
       "90     225\n",
       "225    218\n",
       "      ... \n",
       "141     76\n",
       "196     75\n",
       "365     75\n",
       "202     72\n",
       "145     72\n",
       "360     72\n",
       "263     70\n",
       "450     69\n",
       "156     68\n",
       "333     67\n",
       "262     67\n",
       "295     66\n",
       "221     66\n",
       "332     65\n",
       "164     64\n",
       "540     60\n",
       "245     57\n",
       "206     57\n",
       "286     57\n",
       "782     57\n",
       "205     54\n",
       "192     53\n",
       "520     46\n",
       "400     43\n",
       "195     36\n",
       "331     35\n",
       "207     34\n",
       "191     31\n",
       "521     29\n",
       "545      5\n",
       "Name: BLOCK, dtype: int64"
      ]
     },
     "execution_count": 5,
     "metadata": {},
     "output_type": "execute_result"
    }
   ],
   "source": [
    "df.BLOCK.value_counts()"
   ]
  },
  {
   "cell_type": "code",
   "execution_count": 8,
   "metadata": {
    "collapsed": false
   },
   "outputs": [
    {
     "data": {
      "text/plain": [
       "113"
      ]
     },
     "execution_count": 8,
     "metadata": {},
     "output_type": "execute_result"
    }
   ],
   "source": [
    "un_block = df.BLOCK.unique()\n",
    "un_block.size\n"
   ]
  },
  {
   "cell_type": "code",
   "execution_count": 16,
   "metadata": {
    "collapsed": false
   },
   "outputs": [
    {
     "data": {
      "text/plain": [
       "11"
      ]
     },
     "execution_count": 16,
     "metadata": {},
     "output_type": "execute_result"
    }
   ],
   "source": [
    "un_zone = df.ZONE.unique()\n",
    "un_zone.size"
   ]
  },
  {
   "cell_type": "code",
   "execution_count": 17,
   "metadata": {
    "collapsed": false
   },
   "outputs": [
    {
     "data": {
      "text/plain": [
       "2775"
      ]
     },
     "execution_count": 17,
     "metadata": {},
     "output_type": "execute_result"
    }
   ],
   "source": [
    "un_route = df.ROUTE.unique()\n",
    "un_route.size"
   ]
  },
  {
   "cell_type": "code",
   "execution_count": 18,
   "metadata": {
    "collapsed": false
   },
   "outputs": [
    {
     "data": {
      "text/plain": [
       "METER_NO     object\n",
       "ADDRESS      object\n",
       "ZONE         object\n",
       "BLOCK         int64\n",
       "ROUTE       float64\n",
       "dtype: object"
      ]
     },
     "execution_count": 18,
     "metadata": {},
     "output_type": "execute_result"
    }
   ],
   "source": [
    "df.dtypes"
   ]
  },
  {
   "cell_type": "code",
   "execution_count": 19,
   "metadata": {
    "collapsed": false
   },
   "outputs": [
    {
     "data": {
      "text/plain": [
       "METER_NO      object\n",
       "ADDRESS       object\n",
       "ZONE        category\n",
       "BLOCK          int64\n",
       "ROUTE        float64\n",
       "dtype: object"
      ]
     },
     "execution_count": 19,
     "metadata": {},
     "output_type": "execute_result"
    }
   ],
   "source": [
    "df.ZONE = df.ZONE.astype('category')\n",
    "df.dtypes"
   ]
  },
  {
   "cell_type": "code",
   "execution_count": 21,
   "metadata": {
    "collapsed": false
   },
   "outputs": [
    {
     "data": {
      "text/plain": [
       "METER_NO      object\n",
       "ADDRESS       object\n",
       "ZONE        category\n",
       "BLOCK       category\n",
       "ROUTE        float64\n",
       "dtype: object"
      ]
     },
     "execution_count": 21,
     "metadata": {},
     "output_type": "execute_result"
    }
   ],
   "source": [
    "df.BLOCK = df.BLOCK.astype('category')\n",
    "df.dtypes"
   ]
  },
  {
   "cell_type": "code",
   "execution_count": null,
   "metadata": {
    "collapsed": true
   },
   "outputs": [],
   "source": []
  }
 ],
 "metadata": {
  "anaconda-cloud": {},
  "kernelspec": {
   "display_name": "Python [default]",
   "language": "python",
   "name": "python3"
  },
  "language_info": {
   "codemirror_mode": {
    "name": "ipython",
    "version": 3
   },
   "file_extension": ".py",
   "mimetype": "text/x-python",
   "name": "python",
   "nbconvert_exporter": "python",
   "pygments_lexer": "ipython3",
   "version": "3.5.2"
  }
 },
 "nbformat": 4,
 "nbformat_minor": 1
}
