{
 "cells": [
  {
   "cell_type": "code",
   "execution_count": 5,
   "metadata": {
    "collapsed": false
   },
   "outputs": [
    {
     "name": "stdout",
     "output_type": "stream",
     "text": [
      "3.5.2 |Anaconda 4.2.0 (x86_64)| (default, Jul  2 2016, 17:52:12) \n",
      "[GCC 4.2.1 Compatible Apple LLVM 4.2 (clang-425.0.28)]\n"
     ]
    }
   ],
   "source": [
    "import sys\n",
    "print(sys.version)"
   ]
  },
  {
   "cell_type": "code",
   "execution_count": 6,
   "metadata": {
    "collapsed": false
   },
   "outputs": [],
   "source": [
    "import pandas as pd \n",
    "import numpy as np \n",
    "import gmaps"
   ]
  },
  {
   "cell_type": "code",
   "execution_count": 12,
   "metadata": {
    "collapsed": false
   },
   "outputs": [
    {
     "data": {
      "text/html": [
       "<div>\n",
       "<table border=\"1\" class=\"dataframe\">\n",
       "  <thead>\n",
       "    <tr style=\"text-align: right;\">\n",
       "      <th></th>\n",
       "      <th>address</th>\n",
       "    </tr>\n",
       "  </thead>\n",
       "  <tbody>\n",
       "    <tr>\n",
       "      <th>0</th>\n",
       "      <td>BLD-129/10 MIRPUR, DHAKA</td>\n",
       "    </tr>\n",
       "    <tr>\n",
       "      <th>1</th>\n",
       "      <td>BLD-129/7 MIRPUR, DHAKA</td>\n",
       "    </tr>\n",
       "    <tr>\n",
       "      <th>2</th>\n",
       "      <td>BLD-129/3 MIRPUR, DHAKA</td>\n",
       "    </tr>\n",
       "    <tr>\n",
       "      <th>3</th>\n",
       "      <td>BLD-129/4 MIRPUR, DHAKA</td>\n",
       "    </tr>\n",
       "    <tr>\n",
       "      <th>4</th>\n",
       "      <td>BLD-129/1 MIRPUR, DHAKA</td>\n",
       "    </tr>\n",
       "  </tbody>\n",
       "</table>\n",
       "</div>"
      ],
      "text/plain": [
       "                    address\n",
       "0  BLD-129/10 MIRPUR, DHAKA\n",
       "1   BLD-129/7 MIRPUR, DHAKA\n",
       "2   BLD-129/3 MIRPUR, DHAKA\n",
       "3   BLD-129/4 MIRPUR, DHAKA\n",
       "4   BLD-129/1 MIRPUR, DHAKA"
      ]
     },
     "execution_count": 12,
     "metadata": {},
     "output_type": "execute_result"
    }
   ],
   "source": [
    "addresses = pd.read_csv(\"../addresses_shah_ali.csv\")\n",
    "addresses.head()"
   ]
  },
  {
   "cell_type": "code",
   "execution_count": 11,
   "metadata": {
    "collapsed": false
   },
   "outputs": [],
   "source": [
    "addresses.drop('index', axis=1, inplace=True)\n",
    "addresses.to_csv(\"../addresses_shah_ali.csv\", index=False)"
   ]
  },
  {
   "cell_type": "code",
   "execution_count": 13,
   "metadata": {
    "collapsed": true
   },
   "outputs": [],
   "source": [
    "import re"
   ]
  },
  {
   "cell_type": "code",
   "execution_count": 16,
   "metadata": {
    "collapsed": false
   },
   "outputs": [],
   "source": [
    "data = addresses.address.apply(lambda x: pd.value_counts(re.split('\\W+',x))).sum(axis=0)"
   ]
  },
  {
   "cell_type": "code",
   "execution_count": 17,
   "metadata": {
    "collapsed": false
   },
   "outputs": [
    {
     "data": {
      "text/plain": [
       "               3453.0\n",
       "0                 8.0\n",
       "01             1100.0\n",
       "01190002833       1.0\n",
       "01190222258       1.0\n",
       "dtype: float64"
      ]
     },
     "execution_count": 17,
     "metadata": {},
     "output_type": "execute_result"
    }
   ],
   "source": [
    "data.head()"
   ]
  },
  {
   "cell_type": "code",
   "execution_count": 19,
   "metadata": {
    "collapsed": false
   },
   "outputs": [
    {
     "data": {
      "text/plain": [
       "6844"
      ]
     },
     "execution_count": 19,
     "metadata": {},
     "output_type": "execute_result"
    }
   ],
   "source": [
    "data.count()"
   ]
  },
  {
   "cell_type": "code",
   "execution_count": 22,
   "metadata": {
    "collapsed": false
   },
   "outputs": [
    {
     "data": {
      "text/plain": [
       "House      5914.0\n",
       "Flat       6071.0\n",
       "1         10256.0\n",
       "DHAKA     10505.0\n",
       "MIRPUR    18977.0\n",
       "dtype: float64"
      ]
     },
     "execution_count": 22,
     "metadata": {},
     "output_type": "execute_result"
    }
   ],
   "source": [
    "data.sort_values(inplace=True)\n",
    "data.tail()"
   ]
  },
  {
   "cell_type": "code",
   "execution_count": 23,
   "metadata": {
    "collapsed": false
   },
   "outputs": [
    {
     "data": {
      "text/plain": [
       "MIRPUR         18977.0\n",
       "DHAKA          10505.0\n",
       "1              10256.0\n",
       "Flat            6071.0\n",
       "House           5914.0\n",
       "no              5497.0\n",
       "Contact         5491.0\n",
       "A               4583.0\n",
       "Section         3851.0\n",
       "                3453.0\n",
       "2               3450.0\n",
       "Road            3080.0\n",
       "C               2809.0\n",
       "COLONY          2796.0\n",
       "Block           2513.0\n",
       "B               2503.0\n",
       "3               2165.0\n",
       "SALAM           2089.0\n",
       "Plot            1956.0\n",
       "ALI             1753.0\n",
       "4               1739.0\n",
       "BARI            1664.0\n",
       "5               1637.0\n",
       "BAGH            1487.0\n",
       "D               1478.0\n",
       "RD              1355.0\n",
       "7               1337.0\n",
       "PL              1319.0\n",
       "SEC             1289.0\n",
       "6               1248.0\n",
       "                ...   \n",
       "01625311121        1.0\n",
       "ZAMIDER            1.0\n",
       "01627762995        1.0\n",
       "ZAMAY              1.0\n",
       "ZAHORABAD          1.0\n",
       "ZAHU               1.0\n",
       "ZAHANARABAD        1.0\n",
       "01670163203        1.0\n",
       "01670159426        1.0\n",
       "01670140805        1.0\n",
       "01670168373        1.0\n",
       "01670057468        1.0\n",
       "ZAHURABA           1.0\n",
       "01671402127        1.0\n",
       "31DARUS            1.0\n",
       "01624234298        1.0\n",
       "01623639222        1.0\n",
       "ZAMILA             1.0\n",
       "01622927776        1.0\n",
       "ZHORABED           1.0\n",
       "01622344404        1.0\n",
       "01622153260        1.0\n",
       "01621727284        1.0\n",
       "01621207331        1.0\n",
       "01620944405        1.0\n",
       "01670168340        1.0\n",
       "01670169104        1.0\n",
       "01620709650        1.0\n",
       "01671565709        1.0\n",
       "1026DARUS          1.0\n",
       "dtype: float64"
      ]
     },
     "execution_count": 23,
     "metadata": {},
     "output_type": "execute_result"
    }
   ],
   "source": [
    "data.sort_values(ascending=False,inplace=True)\n",
    "data"
   ]
  },
  {
   "cell_type": "code",
   "execution_count": null,
   "metadata": {
    "collapsed": true
   },
   "outputs": [],
   "source": []
  }
 ],
 "metadata": {
  "anaconda-cloud": {},
  "kernelspec": {
   "display_name": "Python [conda root]",
   "language": "python",
   "name": "conda-root-py"
  },
  "language_info": {
   "codemirror_mode": {
    "name": "ipython",
    "version": 3
   },
   "file_extension": ".py",
   "mimetype": "text/x-python",
   "name": "python",
   "nbconvert_exporter": "python",
   "pygments_lexer": "ipython3",
   "version": "3.5.2"
  }
 },
 "nbformat": 4,
 "nbformat_minor": 1
}
