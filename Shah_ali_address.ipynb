{
 "cells": [
  {
   "cell_type": "code",
   "execution_count": 2,
   "metadata": {
    "collapsed": false
   },
   "outputs": [
    {
     "name": "stdout",
     "output_type": "stream",
     "text": [
      "3.5.2 |Anaconda 4.2.0 (x86_64)| (default, Jul  2 2016, 17:52:12) \n",
      "[GCC 4.2.1 Compatible Apple LLVM 4.2 (clang-425.0.28)]\n"
     ]
    }
   ],
   "source": [
    "import sys\n",
    "print(sys.version)"
   ]
  },
  {
   "cell_type": "code",
   "execution_count": 3,
   "metadata": {
    "collapsed": false
   },
   "outputs": [],
   "source": [
    "import pandas as pd \n",
    "import numpy as np \n",
    "import gmaps"
   ]
  },
  {
   "cell_type": "code",
   "execution_count": 4,
   "metadata": {
    "collapsed": false
   },
   "outputs": [
    {
     "data": {
      "text/html": [
       "<div>\n",
       "<table border=\"1\" class=\"dataframe\">\n",
       "  <thead>\n",
       "    <tr style=\"text-align: right;\">\n",
       "      <th></th>\n",
       "      <th>address</th>\n",
       "    </tr>\n",
       "  </thead>\n",
       "  <tbody>\n",
       "    <tr>\n",
       "      <th>0</th>\n",
       "      <td>BLD-129/10 MIRPUR, DHAKA</td>\n",
       "    </tr>\n",
       "    <tr>\n",
       "      <th>1</th>\n",
       "      <td>BLD-129/7 MIRPUR, DHAKA</td>\n",
       "    </tr>\n",
       "    <tr>\n",
       "      <th>2</th>\n",
       "      <td>BLD-129/3 MIRPUR, DHAKA</td>\n",
       "    </tr>\n",
       "    <tr>\n",
       "      <th>3</th>\n",
       "      <td>BLD-129/4 MIRPUR, DHAKA</td>\n",
       "    </tr>\n",
       "    <tr>\n",
       "      <th>4</th>\n",
       "      <td>BLD-129/1 MIRPUR, DHAKA</td>\n",
       "    </tr>\n",
       "  </tbody>\n",
       "</table>\n",
       "</div>"
      ],
      "text/plain": [
       "                    address\n",
       "0  BLD-129/10 MIRPUR, DHAKA\n",
       "1   BLD-129/7 MIRPUR, DHAKA\n",
       "2   BLD-129/3 MIRPUR, DHAKA\n",
       "3   BLD-129/4 MIRPUR, DHAKA\n",
       "4   BLD-129/1 MIRPUR, DHAKA"
      ]
     },
     "execution_count": 4,
     "metadata": {},
     "output_type": "execute_result"
    }
   ],
   "source": [
    "addresses = pd.read_csv(\"../addresses_shah_ali.csv\")\n",
    "addresses.head()"
   ]
  },
  {
   "cell_type": "code",
   "execution_count": 8,
   "metadata": {
    "collapsed": false
   },
   "outputs": [],
   "source": [
    "# addresses.drop('index', axis=1, inplace=True)\n",
    "addresses.to_csv(\"../addresses_shah_ali.csv\")"
   ]
  },
  {
   "cell_type": "code",
   "execution_count": 24,
   "metadata": {
    "collapsed": false
   },
   "outputs": [
    {
     "data": {
      "text/html": [
       "<div>\n",
       "<table border=\"1\" class=\"dataframe\">\n",
       "  <thead>\n",
       "    <tr style=\"text-align: right;\">\n",
       "      <th></th>\n",
       "      <th>address</th>\n",
       "    </tr>\n",
       "  </thead>\n",
       "  <tbody>\n",
       "    <tr>\n",
       "      <th>0</th>\n",
       "      <td>BLD-129/10 MIRPUR, DHAKA</td>\n",
       "    </tr>\n",
       "    <tr>\n",
       "      <th>1</th>\n",
       "      <td>BLD-129/7 MIRPUR, DHAKA</td>\n",
       "    </tr>\n",
       "    <tr>\n",
       "      <th>2</th>\n",
       "      <td>BLD-129/3 MIRPUR, DHAKA</td>\n",
       "    </tr>\n",
       "    <tr>\n",
       "      <th>3</th>\n",
       "      <td>BLD-129/4 MIRPUR, DHAKA</td>\n",
       "    </tr>\n",
       "    <tr>\n",
       "      <th>4</th>\n",
       "      <td>BLD-129/1 MIRPUR, DHAKA</td>\n",
       "    </tr>\n",
       "    <tr>\n",
       "      <th>5</th>\n",
       "      <td>BLD-131/5 MIRPUR, DHAKA</td>\n",
       "    </tr>\n",
       "    <tr>\n",
       "      <th>6</th>\n",
       "      <td>BLD-131/6 MIRPUR, DHAKA</td>\n",
       "    </tr>\n",
       "    <tr>\n",
       "      <th>7</th>\n",
       "      <td>BLD - 131/7 MIRPUR, DHAKA</td>\n",
       "    </tr>\n",
       "    <tr>\n",
       "      <th>8</th>\n",
       "      <td>133/6 PAIK PARA MIRPUR, DHAKA</td>\n",
       "    </tr>\n",
       "    <tr>\n",
       "      <th>9</th>\n",
       "      <td>BLD-131/8 MIRPUR, DHAKA</td>\n",
       "    </tr>\n",
       "    <tr>\n",
       "      <th>10</th>\n",
       "      <td>BLD-131/9 MIRPUR, DHAKA</td>\n",
       "    </tr>\n",
       "    <tr>\n",
       "      <th>11</th>\n",
       "      <td>BLD-135/4 MIRPUR, DHAKA</td>\n",
       "    </tr>\n",
       "    <tr>\n",
       "      <th>12</th>\n",
       "      <td>133/7 PAIK PARA MIRPUR, DHAKA</td>\n",
       "    </tr>\n",
       "    <tr>\n",
       "      <th>13</th>\n",
       "      <td>133/1 PAIK PARA MIRPUR, DHAKA</td>\n",
       "    </tr>\n",
       "    <tr>\n",
       "      <th>14</th>\n",
       "      <td>BLD-129/8 MIRPUR, DHAKA</td>\n",
       "    </tr>\n",
       "    <tr>\n",
       "      <th>15</th>\n",
       "      <td>BLD-129/9 MIRPUR, DHAKA</td>\n",
       "    </tr>\n",
       "    <tr>\n",
       "      <th>16</th>\n",
       "      <td>BLD-129/5 MIRPUR, DHAKA</td>\n",
       "    </tr>\n",
       "    <tr>\n",
       "      <th>17</th>\n",
       "      <td>129/2 PAIK PARA MIRPUR, DHAKA</td>\n",
       "    </tr>\n",
       "    <tr>\n",
       "      <th>18</th>\n",
       "      <td>BLD-129/6 MIRPUR, DHAKA</td>\n",
       "    </tr>\n",
       "    <tr>\n",
       "      <th>19</th>\n",
       "      <td>BLD-132/2 MIRPUR, DHAKA</td>\n",
       "    </tr>\n",
       "    <tr>\n",
       "      <th>20</th>\n",
       "      <td>BLD-132/1 MIRPUR, DHAKA</td>\n",
       "    </tr>\n",
       "    <tr>\n",
       "      <th>21</th>\n",
       "      <td>BLD-132/7 MIRPUR, DHAKA</td>\n",
       "    </tr>\n",
       "    <tr>\n",
       "      <th>22</th>\n",
       "      <td>BLD-132/8 MIRPUR, DHAKA</td>\n",
       "    </tr>\n",
       "    <tr>\n",
       "      <th>23</th>\n",
       "      <td>BLD-132/5 MIRPUR, DHAKA</td>\n",
       "    </tr>\n",
       "    <tr>\n",
       "      <th>24</th>\n",
       "      <td>BLD-132/9 MIRPUR, DHAKA</td>\n",
       "    </tr>\n",
       "    <tr>\n",
       "      <th>25</th>\n",
       "      <td>BLD-132/6 MIRPUR, DHAKA</td>\n",
       "    </tr>\n",
       "    <tr>\n",
       "      <th>26</th>\n",
       "      <td>BLD-130/10 MIRPUR, DHAKA</td>\n",
       "    </tr>\n",
       "    <tr>\n",
       "      <th>27</th>\n",
       "      <td>BLD-130/1, GOVT STAFF QTR MIRPUR, DHAKA</td>\n",
       "    </tr>\n",
       "    <tr>\n",
       "      <th>28</th>\n",
       "      <td>BLD-130/8 MIRPUR, DHAKA</td>\n",
       "    </tr>\n",
       "    <tr>\n",
       "      <th>29</th>\n",
       "      <td>BLD-130/9 MIRPUR, DHAKA</td>\n",
       "    </tr>\n",
       "    <tr>\n",
       "      <th>...</th>\n",
       "      <td>...</td>\n",
       "    </tr>\n",
       "    <tr>\n",
       "      <th>20627</th>\n",
       "      <td>85 NO, ZOO ROAD, MIRPUR DHAKA</td>\n",
       "    </tr>\n",
       "    <tr>\n",
       "      <th>20628</th>\n",
       "      <td>84 ZOO ROAD SEC-2 MIRPUR</td>\n",
       "    </tr>\n",
       "    <tr>\n",
       "      <th>20629</th>\n",
       "      <td>PL-84, BL-A, SEC-02, ZOO ROAD MIRPUR, DHAKA</td>\n",
       "    </tr>\n",
       "    <tr>\n",
       "      <th>20630</th>\n",
       "      <td>PL-1/1, RD-2/1, BL-H, SEC-01 MIRPUR, DHAKA</td>\n",
       "    </tr>\n",
       "    <tr>\n",
       "      <th>20631</th>\n",
       "      <td>54 BOXNAGAR MIRPUR</td>\n",
       "    </tr>\n",
       "    <tr>\n",
       "      <th>20632</th>\n",
       "      <td>26/1, CHARAKHANA ROAD SEC-1, MIRPUR, DHAKA</td>\n",
       "    </tr>\n",
       "    <tr>\n",
       "      <th>20633</th>\n",
       "      <td>1 NO BARIBAD BOSTI, NEAR SINNIRTAK LAUNCH GHAT...</td>\n",
       "    </tr>\n",
       "    <tr>\n",
       "      <th>20634</th>\n",
       "      <td>GORAN CHAT BARI HINDU PARA BARI BAD ROAD SEC-1...</td>\n",
       "    </tr>\n",
       "    <tr>\n",
       "      <th>20635</th>\n",
       "      <td>PLOT-186/4. BARIBAD NOWBABER BAGH. SEC-01. MIR...</td>\n",
       "    </tr>\n",
       "    <tr>\n",
       "      <th>20636</th>\n",
       "      <td>NOWBABER BAGH TOLAR GHAT BARIBAD BUS STAND, SE...</td>\n",
       "    </tr>\n",
       "    <tr>\n",
       "      <th>20637</th>\n",
       "      <td>PLOT-17. ROAD-15. BLOCK-H.SEC-01. MIRPUR.DHAKA.</td>\n",
       "    </tr>\n",
       "    <tr>\n",
       "      <th>20638</th>\n",
       "      <td>1-B, KAZIPURI, MIRPUR.</td>\n",
       "    </tr>\n",
       "    <tr>\n",
       "      <th>20639</th>\n",
       "      <td>PLOT-149, BALUR MATH, NORTH BISIL SEC-1, MIRPU...</td>\n",
       "    </tr>\n",
       "    <tr>\n",
       "      <th>20640</th>\n",
       "      <td>PLOT-159/160, NORTH BISIL, NEAR TIN SHED MOSQU...</td>\n",
       "    </tr>\n",
       "    <tr>\n",
       "      <th>20641</th>\n",
       "      <td>HOUSE/FLAT # 20/01, BLOCK # H, SECTION # 01, S...</td>\n",
       "    </tr>\n",
       "    <tr>\n",
       "      <th>20642</th>\n",
       "      <td>WEST SIDE POULTRY FIRM DHAKA ZOO RD., SEC-01, ...</td>\n",
       "    </tr>\n",
       "    <tr>\n",
       "      <th>20643</th>\n",
       "      <td>, SECTION # SEC-1, STR. 53 BOX NAGAR, MIRPUR</td>\n",
       "    </tr>\n",
       "    <tr>\n",
       "      <th>20644</th>\n",
       "      <td>HOUSE/FLAT # PL-100/4, BLOCK # KA, SECTION # 1...</td>\n",
       "    </tr>\n",
       "    <tr>\n",
       "      <th>20645</th>\n",
       "      <td>HOUSE/FLAT # PL-100/3, BLOCK # KA, SECTION # 1...</td>\n",
       "    </tr>\n",
       "    <tr>\n",
       "      <th>20646</th>\n",
       "      <td>HOUSE#15, ROAD#6, BLOCK#H, SECTION#1,MIRPUR, D...</td>\n",
       "    </tr>\n",
       "    <tr>\n",
       "      <th>20647</th>\n",
       "      <td>HOUSE/FLAT # PL-511, BLOCK # H, SECTION # 01, ...</td>\n",
       "    </tr>\n",
       "    <tr>\n",
       "      <th>20648</th>\n",
       "      <td>HOUSE/FLAT # PL-511, BLOCK # H, SECTION # 01, ...</td>\n",
       "    </tr>\n",
       "    <tr>\n",
       "      <th>20649</th>\n",
       "      <td>HOUSE/FLAT # PL-4/1, 4/2, BLOCK # BL-H, SECTIO...</td>\n",
       "    </tr>\n",
       "    <tr>\n",
       "      <th>20650</th>\n",
       "      <td>HOUSE/FLAT # PL-18, BLOCK # H, SECTION # 01, S...</td>\n",
       "    </tr>\n",
       "    <tr>\n",
       "      <th>20651</th>\n",
       "      <td>HOUSE/FLAT # DAG NO-641, SECTION # 01, STR. GO...</td>\n",
       "    </tr>\n",
       "    <tr>\n",
       "      <th>20652</th>\n",
       "      <td>VARIBAD WEST SIDE , RD-6, TURAG CITYSEC-1.</td>\n",
       "    </tr>\n",
       "    <tr>\n",
       "      <th>20653</th>\n",
       "      <td>6NO, ROAD BOSTI , BL-H, SEC-1, MIRPUR.</td>\n",
       "    </tr>\n",
       "    <tr>\n",
       "      <th>20654</th>\n",
       "      <td>HOUSE/FLAT # 22, ROAD # 6/E, BLOCK # H, SECTIO...</td>\n",
       "    </tr>\n",
       "    <tr>\n",
       "      <th>20655</th>\n",
       "      <td>HOUSE/FLAT # 10, ROAD # 02, SECTION # 1SHAH AL...</td>\n",
       "    </tr>\n",
       "    <tr>\n",
       "      <th>20656</th>\n",
       "      <td>HOUSE/FLAT # 1/D, ROAD # 9/1, BLOCK # A, SECTI...</td>\n",
       "    </tr>\n",
       "  </tbody>\n",
       "</table>\n",
       "<p>20657 rows × 1 columns</p>\n",
       "</div>"
      ],
      "text/plain": [
       "                                                 address\n",
       "0                               BLD-129/10 MIRPUR, DHAKA\n",
       "1                                BLD-129/7 MIRPUR, DHAKA\n",
       "2                                BLD-129/3 MIRPUR, DHAKA\n",
       "3                                BLD-129/4 MIRPUR, DHAKA\n",
       "4                                BLD-129/1 MIRPUR, DHAKA\n",
       "5                                BLD-131/5 MIRPUR, DHAKA\n",
       "6                                BLD-131/6 MIRPUR, DHAKA\n",
       "7                              BLD - 131/7 MIRPUR, DHAKA\n",
       "8                          133/6 PAIK PARA MIRPUR, DHAKA\n",
       "9                                BLD-131/8 MIRPUR, DHAKA\n",
       "10                               BLD-131/9 MIRPUR, DHAKA\n",
       "11                               BLD-135/4 MIRPUR, DHAKA\n",
       "12                         133/7 PAIK PARA MIRPUR, DHAKA\n",
       "13                         133/1 PAIK PARA MIRPUR, DHAKA\n",
       "14                               BLD-129/8 MIRPUR, DHAKA\n",
       "15                               BLD-129/9 MIRPUR, DHAKA\n",
       "16                               BLD-129/5 MIRPUR, DHAKA\n",
       "17                         129/2 PAIK PARA MIRPUR, DHAKA\n",
       "18                               BLD-129/6 MIRPUR, DHAKA\n",
       "19                               BLD-132/2 MIRPUR, DHAKA\n",
       "20                               BLD-132/1 MIRPUR, DHAKA\n",
       "21                               BLD-132/7 MIRPUR, DHAKA\n",
       "22                               BLD-132/8 MIRPUR, DHAKA\n",
       "23                               BLD-132/5 MIRPUR, DHAKA\n",
       "24                               BLD-132/9 MIRPUR, DHAKA\n",
       "25                               BLD-132/6 MIRPUR, DHAKA\n",
       "26                              BLD-130/10 MIRPUR, DHAKA\n",
       "27               BLD-130/1, GOVT STAFF QTR MIRPUR, DHAKA\n",
       "28                               BLD-130/8 MIRPUR, DHAKA\n",
       "29                               BLD-130/9 MIRPUR, DHAKA\n",
       "...                                                  ...\n",
       "20627                      85 NO, ZOO ROAD, MIRPUR DHAKA\n",
       "20628                           84 ZOO ROAD SEC-2 MIRPUR\n",
       "20629        PL-84, BL-A, SEC-02, ZOO ROAD MIRPUR, DHAKA\n",
       "20630         PL-1/1, RD-2/1, BL-H, SEC-01 MIRPUR, DHAKA\n",
       "20631                                 54 BOXNAGAR MIRPUR\n",
       "20632         26/1, CHARAKHANA ROAD SEC-1, MIRPUR, DHAKA\n",
       "20633  1 NO BARIBAD BOSTI, NEAR SINNIRTAK LAUNCH GHAT...\n",
       "20634  GORAN CHAT BARI HINDU PARA BARI BAD ROAD SEC-1...\n",
       "20635  PLOT-186/4. BARIBAD NOWBABER BAGH. SEC-01. MIR...\n",
       "20636  NOWBABER BAGH TOLAR GHAT BARIBAD BUS STAND, SE...\n",
       "20637    PLOT-17. ROAD-15. BLOCK-H.SEC-01. MIRPUR.DHAKA.\n",
       "20638                             1-B, KAZIPURI, MIRPUR.\n",
       "20639  PLOT-149, BALUR MATH, NORTH BISIL SEC-1, MIRPU...\n",
       "20640  PLOT-159/160, NORTH BISIL, NEAR TIN SHED MOSQU...\n",
       "20641  HOUSE/FLAT # 20/01, BLOCK # H, SECTION # 01, S...\n",
       "20642  WEST SIDE POULTRY FIRM DHAKA ZOO RD., SEC-01, ...\n",
       "20643       , SECTION # SEC-1, STR. 53 BOX NAGAR, MIRPUR\n",
       "20644  HOUSE/FLAT # PL-100/4, BLOCK # KA, SECTION # 1...\n",
       "20645  HOUSE/FLAT # PL-100/3, BLOCK # KA, SECTION # 1...\n",
       "20646  HOUSE#15, ROAD#6, BLOCK#H, SECTION#1,MIRPUR, D...\n",
       "20647  HOUSE/FLAT # PL-511, BLOCK # H, SECTION # 01, ...\n",
       "20648  HOUSE/FLAT # PL-511, BLOCK # H, SECTION # 01, ...\n",
       "20649  HOUSE/FLAT # PL-4/1, 4/2, BLOCK # BL-H, SECTIO...\n",
       "20650  HOUSE/FLAT # PL-18, BLOCK # H, SECTION # 01, S...\n",
       "20651  HOUSE/FLAT # DAG NO-641, SECTION # 01, STR. GO...\n",
       "20652         VARIBAD WEST SIDE , RD-6, TURAG CITYSEC-1.\n",
       "20653             6NO, ROAD BOSTI , BL-H, SEC-1, MIRPUR.\n",
       "20654  HOUSE/FLAT # 22, ROAD # 6/E, BLOCK # H, SECTIO...\n",
       "20655  HOUSE/FLAT # 10, ROAD # 02, SECTION # 1SHAH AL...\n",
       "20656  HOUSE/FLAT # 1/D, ROAD # 9/1, BLOCK # A, SECTI...\n",
       "\n",
       "[20657 rows x 1 columns]"
      ]
     },
     "execution_count": 24,
     "metadata": {},
     "output_type": "execute_result"
    }
   ],
   "source": [
    "addresses"
   ]
  },
  {
   "cell_type": "code",
   "execution_count": 9,
   "metadata": {
    "collapsed": true
   },
   "outputs": [],
   "source": [
    "import re"
   ]
  },
  {
   "cell_type": "code",
   "execution_count": 15,
   "metadata": {
    "collapsed": false,
    "scrolled": true
   },
   "outputs": [
    {
     "data": {
      "text/html": [
       "<div>\n",
       "<table border=\"1\" class=\"dataframe\">\n",
       "  <thead>\n",
       "    <tr style=\"text-align: right;\">\n",
       "      <th></th>\n",
       "      <th>address</th>\n",
       "    </tr>\n",
       "  </thead>\n",
       "  <tbody>\n",
       "    <tr>\n",
       "      <th>0</th>\n",
       "      <td>BLD-129/10 MIRPUR, DHAKA</td>\n",
       "    </tr>\n",
       "    <tr>\n",
       "      <th>1</th>\n",
       "      <td>BLD-129/7 MIRPUR, DHAKA</td>\n",
       "    </tr>\n",
       "    <tr>\n",
       "      <th>2</th>\n",
       "      <td>BLD-129/3 MIRPUR, DHAKA</td>\n",
       "    </tr>\n",
       "    <tr>\n",
       "      <th>3</th>\n",
       "      <td>BLD-129/4 MIRPUR, DHAKA</td>\n",
       "    </tr>\n",
       "    <tr>\n",
       "      <th>4</th>\n",
       "      <td>BLD-129/1 MIRPUR, DHAKA</td>\n",
       "    </tr>\n",
       "  </tbody>\n",
       "</table>\n",
       "</div>"
      ],
      "text/plain": [
       "                    address\n",
       "0  BLD-129/10 MIRPUR, DHAKA\n",
       "1   BLD-129/7 MIRPUR, DHAKA\n",
       "2   BLD-129/3 MIRPUR, DHAKA\n",
       "3   BLD-129/4 MIRPUR, DHAKA\n",
       "4   BLD-129/1 MIRPUR, DHAKA"
      ]
     },
     "execution_count": 15,
     "metadata": {},
     "output_type": "execute_result"
    }
   ],
   "source": [
    "addresses.address = addresses.address.apply(lambda x: x.upper())\n",
    "addresses.head()"
   ]
  },
  {
   "cell_type": "code",
   "execution_count": 81,
   "metadata": {
    "collapsed": false
   },
   "outputs": [
    {
     "data": {
      "text/plain": [
       "0                                 BLD 129 10 MIRPUR  DHAKA\n",
       "1                                  BLD 129 7 MIRPUR  DHAKA\n",
       "2                                  BLD 129 3 MIRPUR  DHAKA\n",
       "3                                  BLD 129 4 MIRPUR  DHAKA\n",
       "4                                  BLD 129 1 MIRPUR  DHAKA\n",
       "5                                  BLD 131 5 MIRPUR  DHAKA\n",
       "6                                  BLD 131 6 MIRPUR  DHAKA\n",
       "7                                BLD   131 7 MIRPUR  DHAKA\n",
       "8                            133 6 PAIK PARA MIRPUR  DHAKA\n",
       "9                                  BLD 131 8 MIRPUR  DHAKA\n",
       "10                                 BLD 131 9 MIRPUR  DHAKA\n",
       "11                                 BLD 135 4 MIRPUR  DHAKA\n",
       "12                           133 7 PAIK PARA MIRPUR  DHAKA\n",
       "13                           133 1 PAIK PARA MIRPUR  DHAKA\n",
       "14                                 BLD 129 8 MIRPUR  DHAKA\n",
       "15                                 BLD 129 9 MIRPUR  DHAKA\n",
       "16                                 BLD 129 5 MIRPUR  DHAKA\n",
       "17                           129 2 PAIK PARA MIRPUR  DHAKA\n",
       "18                                 BLD 129 6 MIRPUR  DHAKA\n",
       "19                                 BLD 132 2 MIRPUR  DHAKA\n",
       "20                                 BLD 132 1 MIRPUR  DHAKA\n",
       "21                                 BLD 132 7 MIRPUR  DHAKA\n",
       "22                                 BLD 132 8 MIRPUR  DHAKA\n",
       "23                                 BLD 132 5 MIRPUR  DHAKA\n",
       "24                                 BLD 132 9 MIRPUR  DHAKA\n",
       "25                                 BLD 132 6 MIRPUR  DHAKA\n",
       "26                                BLD 130 10 MIRPUR  DHAKA\n",
       "27                 BLD 130 1  GOVT STAFF QTR MIRPUR  DHAKA\n",
       "28                                 BLD 130 8 MIRPUR  DHAKA\n",
       "29                                 BLD 130 9 MIRPUR  DHAKA\n",
       "                               ...                        \n",
       "20627                        85 NO  ZOO ROAD  MIRPUR DHAKA\n",
       "20628                             84 ZOO ROAD SEC 2 MIRPUR\n",
       "20629          PL 84  BL A  SEC 02  ZOO ROAD MIRPUR  DHAKA\n",
       "20630           PL 1 1  RD 2 1  BL H  SEC 01 MIRPUR  DHAKA\n",
       "20631                                   54 BOXNAGAR MIRPUR\n",
       "20632           26 1  CHARAKHANA ROAD SEC 1  MIRPUR  DHAKA\n",
       "20633    1 NO BARIBAD BOSTI  NEAR SINNIRTAK LAUNCH GHAT...\n",
       "20634    GORAN CHAT BARI HINDU PARA BARI BAD ROAD SEC 1...\n",
       "20635    PLOT 186 4  BARIBAD NOWBABER BAGH  SEC 01  MIR...\n",
       "20636    NOWBABER BAGH TOLAR GHAT BARIBAD BUS STAND  SE...\n",
       "20637      PLOT 17  ROAD 15  BLOCK H SEC 01  MIRPUR DHAKA \n",
       "20638                               1 B  KAZIPURI  MIRPUR \n",
       "20639    PLOT 149  BALUR MATH  NORTH BISIL SEC 1  MIRPU...\n",
       "20640    PLOT 159 160  NORTH BISIL  NEAR TIN SHED MOSQU...\n",
       "20641    HOUSE FLAT # 20 01  BLOCK # H  SECTION # 01  S...\n",
       "20642    WEST SIDE POULTRY FIRM DHAKA ZOO RD   SEC 01  ...\n",
       "20643           SECTION # SEC 1  STR  53 BOX NAGAR  MIRPUR\n",
       "20644    HOUSE FLAT # PL 100 4  BLOCK # KA  SECTION # 1...\n",
       "20645    HOUSE FLAT # PL 100 3  BLOCK # KA  SECTION # 1...\n",
       "20646    HOUSE#15  ROAD#6  BLOCK#H  SECTION#1 MIRPUR  D...\n",
       "20647    HOUSE FLAT # PL 511  BLOCK # H  SECTION # 01  ...\n",
       "20648    HOUSE FLAT # PL 511  BLOCK # H  SECTION # 01  ...\n",
       "20649    HOUSE FLAT # PL 4 1  4 2  BLOCK # BL H  SECTIO...\n",
       "20650    HOUSE FLAT # PL 18  BLOCK # H  SECTION # 01  S...\n",
       "20651    HOUSE FLAT # DAG NO 641  SECTION # 01  STR  GO...\n",
       "20652           VARIBAD WEST SIDE   RD 6  TURAG CITYSEC 1 \n",
       "20653               6NO  ROAD BOSTI   BL H  SEC 1  MIRPUR \n",
       "20654    HOUSE FLAT # 22  ROAD # 6 E  BLOCK # H  SECTIO...\n",
       "20655    HOUSE FLAT # 10  ROAD # 02  SECTION # 1SHAH AL...\n",
       "20656    HOUSE FLAT # 1 D  ROAD # 9 1  BLOCK # A  SECTI...\n",
       "Name: address, dtype: object"
      ]
     },
     "execution_count": 81,
     "metadata": {},
     "output_type": "execute_result"
    }
   ],
   "source": [
    "address_data = addresses.address.apply(lambda x : re.sub('[\\s,./-]', ' ', x))\n",
    "address_data"
   ]
  },
  {
   "cell_type": "code",
   "execution_count": 39,
   "metadata": {
    "collapsed": false
   },
   "outputs": [
    {
     "data": {
      "text/plain": [
       "           20293.0\n",
       "A           4639.0\n",
       "AB             3.0\n",
       "ABARI          2.0\n",
       "ABASHIK        3.0\n",
       "dtype: float64"
      ]
     },
     "execution_count": 39,
     "metadata": {},
     "output_type": "execute_result"
    }
   ],
   "source": [
    "data = address_data.apply(lambda x: pd.value_counts(re.split('\\W+',x))).sum(axis=0)\n",
    "data.head()"
   ]
  },
  {
   "cell_type": "code",
   "execution_count": 40,
   "metadata": {
    "collapsed": false
   },
   "outputs": [
    {
     "data": {
      "text/plain": [
       "2158"
      ]
     },
     "execution_count": 40,
     "metadata": {},
     "output_type": "execute_result"
    }
   ],
   "source": [
    "data.count()"
   ]
  },
  {
   "cell_type": "code",
   "execution_count": 41,
   "metadata": {
    "collapsed": false
   },
   "outputs": [
    {
     "data": {
      "text/plain": [
       "                   20293.0\n",
       "A                   4639.0\n",
       "AB                     3.0\n",
       "ABARI                  2.0\n",
       "ABASHIK                3.0\n",
       "ABASHON                1.0\n",
       "ABDI                   2.0\n",
       "ABDUL                  1.0\n",
       "ABGBARI                1.0\n",
       "ABGHDARUS              1.0\n",
       "ABU                    2.0\n",
       "AC                     1.0\n",
       "ADARSSSLAM             1.0\n",
       "ADARUS                53.0\n",
       "ADARUSLAM              3.0\n",
       "ADARUSSALAM           15.0\n",
       "ADORSHO                1.0\n",
       "AE                     1.0\n",
       "AGOIDER                1.0\n",
       "AHAH                   1.0\n",
       "AHMED                  4.0\n",
       "AHSANULLAH             1.0\n",
       "AHURA                  1.0\n",
       "AII                    1.0\n",
       "AKA                    2.0\n",
       "AKKEL                  2.0\n",
       "ALAM                   3.0\n",
       "ALAMA                  1.0\n",
       "ALEN                   1.0\n",
       "ALI                 1763.0\n",
       "                    ...   \n",
       "ZAH                    1.0\n",
       "ZAHANA                 6.0\n",
       "ZAHANABAD              4.0\n",
       "ZAHANARA               2.0\n",
       "ZAHANARABAD            1.0\n",
       "ZAHARA                 1.0\n",
       "ZAHIRABAD              1.0\n",
       "ZAHORA                 1.0\n",
       "ZAHORABAD              1.0\n",
       "ZAHU                   1.0\n",
       "ZAHURA                78.0\n",
       "ZAHURABA               1.0\n",
       "ZAHURABAD             55.0\n",
       "ZAHURABAGABTOLI        1.0\n",
       "ZAMAY                  1.0\n",
       "ZAMIDER                1.0\n",
       "ZAMILA                 1.0\n",
       "ZHORABED               1.0\n",
       "ZIGATALA              51.0\n",
       "ZIKATOLA               1.0\n",
       "ZOHORA                 6.0\n",
       "ZOHORABAD              6.0\n",
       "ZOHURA                 5.0\n",
       "ZOHURABAD             17.0\n",
       "ZOHURABADDARUS         1.0\n",
       "ZOHURABED              2.0\n",
       "ZOO                  321.0\n",
       "ZOOROAD                1.0\n",
       "ZUHURABAD              3.0\n",
       "ZUHURABED              1.0\n",
       "dtype: float64"
      ]
     },
     "execution_count": 41,
     "metadata": {},
     "output_type": "execute_result"
    }
   ],
   "source": [
    "data"
   ]
  },
  {
   "cell_type": "code",
   "execution_count": 44,
   "metadata": {
    "collapsed": false
   },
   "outputs": [
    {
     "data": {
      "text/plain": [
       "ZUHURABED                   1.0\n",
       "NOBOBERBUG                  1.0\n",
       "GAIDARTACKDARUSSLAM         1.0\n",
       "NOBARBAG                    1.0\n",
       "GAIDERTACKDARUSSALAM        1.0\n",
       "GAIDERTE                    1.0\n",
       "NOJAR                       1.0\n",
       "GAITHER                     1.0\n",
       "NOBABERGAG                  1.0\n",
       "GAIDERTEKDARUS              1.0\n",
       "GAIDRTACK                   1.0\n",
       "GAIER                       1.0\n",
       "NOBABERBAKGH                1.0\n",
       "HAZE                        1.0\n",
       "GAIDERTED                   1.0\n",
       "NORTHBISHIDARUS             1.0\n",
       "GAIDERTAK                   1.0\n",
       "NOBABERBAGSHAHALI           1.0\n",
       "GAODARTACKDARUS             1.0\n",
       "NOABERBAGH                  1.0\n",
       "NOBABARBAGH                 1.0\n",
       "GAYDAR                      1.0\n",
       "GAUIDERTEK                  1.0\n",
       "NOBABE                      1.0\n",
       "NOGOR                       1.0\n",
       "NOBABERBAGG                 1.0\n",
       "GAS                         1.0\n",
       "GARMENTS                    1.0\n",
       "GARIBEY                     1.0\n",
       "GARDAN                      1.0\n",
       "                         ...   \n",
       "H                         913.0\n",
       "NEW                       958.0\n",
       "ST                       1004.0\n",
       "SOUTH                    1051.0\n",
       "E                        1211.0\n",
       "SEC                      1296.0\n",
       "PL                       1327.0\n",
       "SHAH                     1448.0\n",
       "D                        1486.0\n",
       "BAGH                     1514.0\n",
       "BARI                     1677.0\n",
       "DARUS                    1734.0\n",
       "ALI                      1763.0\n",
       "SALAM                    2099.0\n",
       "RD                       2493.0\n",
       "PLOT                     2499.0\n",
       "B                        2549.0\n",
       "C                        2825.0\n",
       "COLONY                   2869.0\n",
       "BLOCK                    2887.0\n",
       "ROAD                     3766.0\n",
       "SECTION                  3870.0\n",
       "A                        4639.0\n",
       "CONTACT                  5491.0\n",
       "HOUSE                    6131.0\n",
       "NO                       6431.0\n",
       "FLAT                     6654.0\n",
       "DHAKA                   10561.0\n",
       "MIRPUR                  19929.0\n",
       "                        20293.0\n",
       "dtype: float64"
      ]
     },
     "execution_count": 44,
     "metadata": {},
     "output_type": "execute_result"
    }
   ],
   "source": [
    "sorted_values = data.sort_values()\n",
    "sorted_values"
   ]
  },
  {
   "cell_type": "code",
   "execution_count": 22,
   "metadata": {
    "collapsed": false
   },
   "outputs": [
    {
     "data": {
      "text/plain": [
       "                   20293.0\n",
       "MIRPUR             19929.0\n",
       "DHAKA              10561.0\n",
       "FLAT                6654.0\n",
       "NO                  6431.0\n",
       "HOUSE               6131.0\n",
       "CONTACT             5491.0\n",
       "A                   4639.0\n",
       "SECTION             3870.0\n",
       "ROAD                3766.0\n",
       "BLOCK               2887.0\n",
       "COLONY              2869.0\n",
       "C                   2825.0\n",
       "B                   2549.0\n",
       "PLOT                2499.0\n",
       "RD                  2493.0\n",
       "SALAM               2099.0\n",
       "ALI                 1763.0\n",
       "DARUS               1734.0\n",
       "BARI                1677.0\n",
       "BAGH                1514.0\n",
       "D                   1486.0\n",
       "SHAH                1448.0\n",
       "PL                  1327.0\n",
       "SEC                 1296.0\n",
       "E                   1211.0\n",
       "SOUTH               1051.0\n",
       "ST                  1004.0\n",
       "NEW                  958.0\n",
       "H                    913.0\n",
       "                    ...   \n",
       "TOAR                   1.0\n",
       "ARE                    1.0\n",
       "AR                     1.0\n",
       "TOARBAGH               1.0\n",
       "TOLABAG                1.0\n",
       "TOLI                   1.0\n",
       "APPART                 1.0\n",
       "TOLABAGH               1.0\n",
       "WAL                    1.0\n",
       "APAR                   1.0\n",
       "TOLARBAGHFLAT          1.0\n",
       "ANY                    1.0\n",
       "TOLARBAGHMIRPUR        1.0\n",
       "TOLARBUGH              1.0\n",
       "TOLARNAGH              1.0\n",
       "ANDHARIJHAR            1.0\n",
       "ANANDHA                1.0\n",
       "TSO                    1.0\n",
       "TRUCK                  1.0\n",
       "TPLARBAG               1.0\n",
       "ANANNDA                1.0\n",
       "TOTAR                  1.0\n",
       "ANIPARAGABTALI         1.0\n",
       "ANONDHA                1.0\n",
       "ANNANDA                1.0\n",
       "ANNANDHA               1.0\n",
       "ANNANDHO               1.0\n",
       "TOLOR                  1.0\n",
       "ANNANYA                1.0\n",
       "ZUHURABED              1.0\n",
       "dtype: float64"
      ]
     },
     "execution_count": 22,
     "metadata": {},
     "output_type": "execute_result"
    }
   ],
   "source": [
    "data.sort_values(ascending=False,inplace=True)\n",
    "data"
   ]
  },
  {
   "cell_type": "code",
   "execution_count": 23,
   "metadata": {
    "collapsed": false
   },
   "outputs": [],
   "source": [
    "data.to_csv(\"../unique_words_without_numbers_in_addresses_shah_ali.csv\")"
   ]
  },
  {
   "cell_type": "code",
   "execution_count": 25,
   "metadata": {
    "collapsed": false
   },
   "outputs": [
    {
     "data": {
      "text/plain": [
       "          20293.0\n",
       "MIRPUR    19929.0\n",
       "DHAKA     10561.0\n",
       "FLAT       6654.0\n",
       "NO         6431.0\n",
       "dtype: float64"
      ]
     },
     "execution_count": 25,
     "metadata": {},
     "output_type": "execute_result"
    }
   ],
   "source": [
    "data.sort_index()\n",
    "data.head()"
   ]
  },
  {
   "cell_type": "code",
   "execution_count": 38,
   "metadata": {
    "collapsed": false
   },
   "outputs": [
    {
     "data": {
      "text/plain": [
       "20293.0"
      ]
     },
     "execution_count": 38,
     "metadata": {},
     "output_type": "execute_result"
    }
   ],
   "source": [
    "# data= np.delete(data, (0), axis=0)\n",
    "data[0]"
   ]
  },
  {
   "cell_type": "code",
   "execution_count": 35,
   "metadata": {
    "collapsed": false
   },
   "outputs": [
    {
     "ename": "ValueError",
     "evalue": "Shape of passed values is (1, 2158), indices imply (2, 2158)",
     "output_type": "error",
     "traceback": [
      "\u001b[0;31m---------------------------------------------------------------------------\u001b[0m",
      "\u001b[0;31mValueError\u001b[0m                                Traceback (most recent call last)",
      "\u001b[0;32m/Users/pd/anaconda/lib/python3.5/site-packages/pandas/core/internals.py\u001b[0m in \u001b[0;36mcreate_block_manager_from_blocks\u001b[0;34m(blocks, axes)\u001b[0m\n\u001b[1;32m   3983\u001b[0m                 blocks = [make_block(values=blocks[0],\n\u001b[0;32m-> 3984\u001b[0;31m                                      placement=slice(0, len(axes[0])))]\n\u001b[0m\u001b[1;32m   3985\u001b[0m \u001b[0;34m\u001b[0m\u001b[0m\n",
      "\u001b[0;32m/Users/pd/anaconda/lib/python3.5/site-packages/pandas/core/internals.py\u001b[0m in \u001b[0;36mmake_block\u001b[0;34m(values, placement, klass, ndim, dtype, fastpath)\u001b[0m\n\u001b[1;32m   2517\u001b[0m \u001b[0;34m\u001b[0m\u001b[0m\n\u001b[0;32m-> 2518\u001b[0;31m     \u001b[0;32mreturn\u001b[0m \u001b[0mklass\u001b[0m\u001b[0;34m(\u001b[0m\u001b[0mvalues\u001b[0m\u001b[0;34m,\u001b[0m \u001b[0mndim\u001b[0m\u001b[0;34m=\u001b[0m\u001b[0mndim\u001b[0m\u001b[0;34m,\u001b[0m \u001b[0mfastpath\u001b[0m\u001b[0;34m=\u001b[0m\u001b[0mfastpath\u001b[0m\u001b[0;34m,\u001b[0m \u001b[0mplacement\u001b[0m\u001b[0;34m=\u001b[0m\u001b[0mplacement\u001b[0m\u001b[0;34m)\u001b[0m\u001b[0;34m\u001b[0m\u001b[0m\n\u001b[0m\u001b[1;32m   2519\u001b[0m \u001b[0;34m\u001b[0m\u001b[0m\n",
      "\u001b[0;32m/Users/pd/anaconda/lib/python3.5/site-packages/pandas/core/internals.py\u001b[0m in \u001b[0;36m__init__\u001b[0;34m(self, values, placement, ndim, fastpath)\u001b[0m\n\u001b[1;32m     89\u001b[0m                              'implies %d' % (len(self.values),\n\u001b[0;32m---> 90\u001b[0;31m                                              len(self.mgr_locs)))\n\u001b[0m\u001b[1;32m     91\u001b[0m \u001b[0;34m\u001b[0m\u001b[0m\n",
      "\u001b[0;31mValueError\u001b[0m: Wrong number of items passed 1, placement implies 2",
      "\nDuring handling of the above exception, another exception occurred:\n",
      "\u001b[0;31mValueError\u001b[0m                                Traceback (most recent call last)",
      "\u001b[0;32m<ipython-input-35-94ba6bd2e9dd>\u001b[0m in \u001b[0;36m<module>\u001b[0;34m()\u001b[0m\n\u001b[0;32m----> 1\u001b[0;31m \u001b[0mdata_df\u001b[0m \u001b[0;34m=\u001b[0m \u001b[0mpd\u001b[0m\u001b[0;34m.\u001b[0m\u001b[0mDataFrame\u001b[0m\u001b[0;34m(\u001b[0m\u001b[0mdata\u001b[0m\u001b[0;34m=\u001b[0m\u001b[0mdata\u001b[0m\u001b[0;34m,\u001b[0m\u001b[0mcolumns\u001b[0m\u001b[0;34m=\u001b[0m\u001b[0;34m[\u001b[0m\u001b[0;34m'word'\u001b[0m\u001b[0;34m,\u001b[0m\u001b[0;34m'count'\u001b[0m\u001b[0;34m]\u001b[0m\u001b[0;34m)\u001b[0m\u001b[0;34m\u001b[0m\u001b[0m\n\u001b[0m",
      "\u001b[0;32m/Users/pd/anaconda/lib/python3.5/site-packages/pandas/core/frame.py\u001b[0m in \u001b[0;36m__init__\u001b[0;34m(self, data, index, columns, dtype, copy)\u001b[0m\n\u001b[1;32m    253\u001b[0m             \u001b[0;32melse\u001b[0m\u001b[0;34m:\u001b[0m\u001b[0;34m\u001b[0m\u001b[0m\n\u001b[1;32m    254\u001b[0m                 mgr = self._init_ndarray(data, index, columns, dtype=dtype,\n\u001b[0;32m--> 255\u001b[0;31m                                          copy=copy)\n\u001b[0m\u001b[1;32m    256\u001b[0m         \u001b[0;32melif\u001b[0m \u001b[0misinstance\u001b[0m\u001b[0;34m(\u001b[0m\u001b[0mdata\u001b[0m\u001b[0;34m,\u001b[0m \u001b[0;34m(\u001b[0m\u001b[0mlist\u001b[0m\u001b[0;34m,\u001b[0m \u001b[0mtypes\u001b[0m\u001b[0;34m.\u001b[0m\u001b[0mGeneratorType\u001b[0m\u001b[0;34m)\u001b[0m\u001b[0;34m)\u001b[0m\u001b[0;34m:\u001b[0m\u001b[0;34m\u001b[0m\u001b[0m\n\u001b[1;32m    257\u001b[0m             \u001b[0;32mif\u001b[0m \u001b[0misinstance\u001b[0m\u001b[0;34m(\u001b[0m\u001b[0mdata\u001b[0m\u001b[0;34m,\u001b[0m \u001b[0mtypes\u001b[0m\u001b[0;34m.\u001b[0m\u001b[0mGeneratorType\u001b[0m\u001b[0;34m)\u001b[0m\u001b[0;34m:\u001b[0m\u001b[0;34m\u001b[0m\u001b[0m\n",
      "\u001b[0;32m/Users/pd/anaconda/lib/python3.5/site-packages/pandas/core/frame.py\u001b[0m in \u001b[0;36m_init_ndarray\u001b[0;34m(self, values, index, columns, dtype, copy)\u001b[0m\n\u001b[1;32m    430\u001b[0m             \u001b[0mvalues\u001b[0m \u001b[0;34m=\u001b[0m \u001b[0m_possibly_infer_to_datetimelike\u001b[0m\u001b[0;34m(\u001b[0m\u001b[0mvalues\u001b[0m\u001b[0;34m)\u001b[0m\u001b[0;34m\u001b[0m\u001b[0m\n\u001b[1;32m    431\u001b[0m \u001b[0;34m\u001b[0m\u001b[0m\n\u001b[0;32m--> 432\u001b[0;31m         \u001b[0;32mreturn\u001b[0m \u001b[0mcreate_block_manager_from_blocks\u001b[0m\u001b[0;34m(\u001b[0m\u001b[0;34m[\u001b[0m\u001b[0mvalues\u001b[0m\u001b[0;34m]\u001b[0m\u001b[0;34m,\u001b[0m \u001b[0;34m[\u001b[0m\u001b[0mcolumns\u001b[0m\u001b[0;34m,\u001b[0m \u001b[0mindex\u001b[0m\u001b[0;34m]\u001b[0m\u001b[0;34m)\u001b[0m\u001b[0;34m\u001b[0m\u001b[0m\n\u001b[0m\u001b[1;32m    433\u001b[0m \u001b[0;34m\u001b[0m\u001b[0m\n\u001b[1;32m    434\u001b[0m     \u001b[0;34m@\u001b[0m\u001b[0mproperty\u001b[0m\u001b[0;34m\u001b[0m\u001b[0m\n",
      "\u001b[0;32m/Users/pd/anaconda/lib/python3.5/site-packages/pandas/core/internals.py\u001b[0m in \u001b[0;36mcreate_block_manager_from_blocks\u001b[0;34m(blocks, axes)\u001b[0m\n\u001b[1;32m   3991\u001b[0m         \u001b[0mblocks\u001b[0m \u001b[0;34m=\u001b[0m \u001b[0;34m[\u001b[0m\u001b[0mgetattr\u001b[0m\u001b[0;34m(\u001b[0m\u001b[0mb\u001b[0m\u001b[0;34m,\u001b[0m \u001b[0;34m'values'\u001b[0m\u001b[0;34m,\u001b[0m \u001b[0mb\u001b[0m\u001b[0;34m)\u001b[0m \u001b[0;32mfor\u001b[0m \u001b[0mb\u001b[0m \u001b[0;32min\u001b[0m \u001b[0mblocks\u001b[0m\u001b[0;34m]\u001b[0m\u001b[0;34m\u001b[0m\u001b[0m\n\u001b[1;32m   3992\u001b[0m         \u001b[0mtot_items\u001b[0m \u001b[0;34m=\u001b[0m \u001b[0msum\u001b[0m\u001b[0;34m(\u001b[0m\u001b[0mb\u001b[0m\u001b[0;34m.\u001b[0m\u001b[0mshape\u001b[0m\u001b[0;34m[\u001b[0m\u001b[0;36m0\u001b[0m\u001b[0;34m]\u001b[0m \u001b[0;32mfor\u001b[0m \u001b[0mb\u001b[0m \u001b[0;32min\u001b[0m \u001b[0mblocks\u001b[0m\u001b[0;34m)\u001b[0m\u001b[0;34m\u001b[0m\u001b[0m\n\u001b[0;32m-> 3993\u001b[0;31m         \u001b[0mconstruction_error\u001b[0m\u001b[0;34m(\u001b[0m\u001b[0mtot_items\u001b[0m\u001b[0;34m,\u001b[0m \u001b[0mblocks\u001b[0m\u001b[0;34m[\u001b[0m\u001b[0;36m0\u001b[0m\u001b[0;34m]\u001b[0m\u001b[0;34m.\u001b[0m\u001b[0mshape\u001b[0m\u001b[0;34m[\u001b[0m\u001b[0;36m1\u001b[0m\u001b[0;34m:\u001b[0m\u001b[0;34m]\u001b[0m\u001b[0;34m,\u001b[0m \u001b[0maxes\u001b[0m\u001b[0;34m,\u001b[0m \u001b[0me\u001b[0m\u001b[0;34m)\u001b[0m\u001b[0;34m\u001b[0m\u001b[0m\n\u001b[0m\u001b[1;32m   3994\u001b[0m \u001b[0;34m\u001b[0m\u001b[0m\n\u001b[1;32m   3995\u001b[0m \u001b[0;34m\u001b[0m\u001b[0m\n",
      "\u001b[0;32m/Users/pd/anaconda/lib/python3.5/site-packages/pandas/core/internals.py\u001b[0m in \u001b[0;36mconstruction_error\u001b[0;34m(tot_items, block_shape, axes, e)\u001b[0m\n\u001b[1;32m   3968\u001b[0m         \u001b[0;32mraise\u001b[0m \u001b[0mValueError\u001b[0m\u001b[0;34m(\u001b[0m\u001b[0;34m\"Empty data passed with indices specified.\"\u001b[0m\u001b[0;34m)\u001b[0m\u001b[0;34m\u001b[0m\u001b[0m\n\u001b[1;32m   3969\u001b[0m     raise ValueError(\"Shape of passed values is {0}, indices imply {1}\".format(\n\u001b[0;32m-> 3970\u001b[0;31m         passed, implied))\n\u001b[0m\u001b[1;32m   3971\u001b[0m \u001b[0;34m\u001b[0m\u001b[0m\n\u001b[1;32m   3972\u001b[0m \u001b[0;34m\u001b[0m\u001b[0m\n",
      "\u001b[0;31mValueError\u001b[0m: Shape of passed values is (1, 2158), indices imply (2, 2158)"
     ]
    }
   ],
   "source": [
    "data_df = pd.DataFrame(data=data,columns=['word','count'])"
   ]
  },
  {
   "cell_type": "code",
   "execution_count": 34,
   "metadata": {
    "collapsed": false
   },
   "outputs": [
    {
     "data": {
      "text/html": [
       "<div>\n",
       "<table border=\"1\" class=\"dataframe\">\n",
       "  <thead>\n",
       "    <tr style=\"text-align: right;\">\n",
       "      <th></th>\n",
       "      <th>0</th>\n",
       "    </tr>\n",
       "  </thead>\n",
       "  <tbody>\n",
       "    <tr>\n",
       "      <th>word</th>\n",
       "      <td>NaN</td>\n",
       "    </tr>\n",
       "    <tr>\n",
       "      <th>count</th>\n",
       "      <td>NaN</td>\n",
       "    </tr>\n",
       "  </tbody>\n",
       "</table>\n",
       "</div>"
      ],
      "text/plain": [
       "        0\n",
       "word  NaN\n",
       "count NaN"
      ]
     },
     "execution_count": 34,
     "metadata": {},
     "output_type": "execute_result"
    }
   ],
   "source": [
    "data_df"
   ]
  },
  {
   "cell_type": "code",
   "execution_count": null,
   "metadata": {
    "collapsed": true
   },
   "outputs": [],
   "source": []
  }
 ],
 "metadata": {
  "anaconda-cloud": {},
  "kernelspec": {
   "display_name": "Python [conda root]",
   "language": "python",
   "name": "conda-root-py"
  },
  "language_info": {
   "codemirror_mode": {
    "name": "ipython",
    "version": 3
   },
   "file_extension": ".py",
   "mimetype": "text/x-python",
   "name": "python",
   "nbconvert_exporter": "python",
   "pygments_lexer": "ipython3",
   "version": "3.5.2"
  }
 },
 "nbformat": 4,
 "nbformat_minor": 1
}
