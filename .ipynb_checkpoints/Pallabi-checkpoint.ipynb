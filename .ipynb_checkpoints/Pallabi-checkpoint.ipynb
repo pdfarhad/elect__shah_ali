{
 "cells": [
  {
   "cell_type": "code",
   "execution_count": 1,
   "metadata": {
    "collapsed": false
   },
   "outputs": [
    {
     "name": "stdout",
     "output_type": "stream",
     "text": [
      "3.5.2 |Anaconda 4.2.0 (64-bit)| (default, Jul  5 2016, 11:41:13) [MSC v.1900 64 bit (AMD64)]\n"
     ]
    }
   ],
   "source": [
    "import sys \n",
    "print(sys.version)"
   ]
  },
  {
   "cell_type": "code",
   "execution_count": 3,
   "metadata": {
    "collapsed": true
   },
   "outputs": [],
   "source": [
    "import pandas as pd \n",
    "import numpy as np\n",
    "import gmaps"
   ]
  },
  {
   "cell_type": "code",
   "execution_count": 4,
   "metadata": {
    "collapsed": false
   },
   "outputs": [
    {
     "name": "stderr",
     "output_type": "stream",
     "text": [
      "C:\\Program Files\\Anaconda3\\lib\\site-packages\\IPython\\core\\interactiveshell.py:2717: DtypeWarning: Columns (5) have mixed types. Specify dtype option on import or set low_memory=False.\n",
      "  interactivity=interactivity, compiler=compiler, result=result)\n"
     ]
    },
    {
     "data": {
      "text/html": [
       "<div>\n",
       "<table border=\"1\" class=\"dataframe\">\n",
       "  <thead>\n",
       "    <tr style=\"text-align: right;\">\n",
       "      <th></th>\n",
       "      <th>NAME</th>\n",
       "      <th>ACCOUNT_NO</th>\n",
       "      <th>METER_NO</th>\n",
       "      <th>ADDRESS</th>\n",
       "      <th>ZONE</th>\n",
       "      <th>BLOCK</th>\n",
       "      <th>ROUTE</th>\n",
       "      <th>LOAD</th>\n",
       "      <th>TARIFF</th>\n",
       "      <th>METER_STATUS</th>\n",
       "      <th>MONTH</th>\n",
       "      <th>YEAR</th>\n",
       "      <th>UNIT</th>\n",
       "    </tr>\n",
       "  </thead>\n",
       "  <tbody>\n",
       "    <tr>\n",
       "      <th>0</th>\n",
       "      <td>HEAD MASTER KALSHI HIGH S</td>\n",
       "      <td>11313911</td>\n",
       "      <td>0000830099</td>\n",
       "      <td>11 E/DAG NO 3170 MIRPUR DHAKA</td>\n",
       "      <td>PLAF</td>\n",
       "      <td>110</td>\n",
       "      <td>10.0</td>\n",
       "      <td>2.0</td>\n",
       "      <td>D</td>\n",
       "      <td>Single</td>\n",
       "      <td>5</td>\n",
       "      <td>1999</td>\n",
       "      <td>1755.0</td>\n",
       "    </tr>\n",
       "    <tr>\n",
       "      <th>1</th>\n",
       "      <td>HEAD MASTER KALSHI HIGH S</td>\n",
       "      <td>11313911</td>\n",
       "      <td>0000830099</td>\n",
       "      <td>11 E/DAG NO 3170 MIRPUR DHAKA</td>\n",
       "      <td>PLAF</td>\n",
       "      <td>110</td>\n",
       "      <td>10.0</td>\n",
       "      <td>2.0</td>\n",
       "      <td>D</td>\n",
       "      <td>Single</td>\n",
       "      <td>6</td>\n",
       "      <td>1999</td>\n",
       "      <td>1615.0</td>\n",
       "    </tr>\n",
       "    <tr>\n",
       "      <th>2</th>\n",
       "      <td>HEAD MASTER KALSHI HIGH S</td>\n",
       "      <td>11313911</td>\n",
       "      <td>0000830099</td>\n",
       "      <td>11 E/DAG NO 3170 MIRPUR DHAKA</td>\n",
       "      <td>PLAF</td>\n",
       "      <td>110</td>\n",
       "      <td>10.0</td>\n",
       "      <td>2.0</td>\n",
       "      <td>D</td>\n",
       "      <td>Single</td>\n",
       "      <td>7</td>\n",
       "      <td>1999</td>\n",
       "      <td>375.0</td>\n",
       "    </tr>\n",
       "    <tr>\n",
       "      <th>3</th>\n",
       "      <td>HEAD MASTER KALSHI HIGH S</td>\n",
       "      <td>11313911</td>\n",
       "      <td>0000830099</td>\n",
       "      <td>11 E/DAG NO 3170 MIRPUR DHAKA</td>\n",
       "      <td>PLAF</td>\n",
       "      <td>110</td>\n",
       "      <td>10.0</td>\n",
       "      <td>2.0</td>\n",
       "      <td>D</td>\n",
       "      <td>Single</td>\n",
       "      <td>8</td>\n",
       "      <td>1999</td>\n",
       "      <td>375.0</td>\n",
       "    </tr>\n",
       "    <tr>\n",
       "      <th>4</th>\n",
       "      <td>HEAD MASTER KALSHI HIGH S</td>\n",
       "      <td>11313911</td>\n",
       "      <td>0000830099</td>\n",
       "      <td>11 E/DAG NO 3170 MIRPUR DHAKA</td>\n",
       "      <td>PLAF</td>\n",
       "      <td>110</td>\n",
       "      <td>10.0</td>\n",
       "      <td>2.0</td>\n",
       "      <td>D</td>\n",
       "      <td>Single</td>\n",
       "      <td>9</td>\n",
       "      <td>1999</td>\n",
       "      <td>350.0</td>\n",
       "    </tr>\n",
       "  </tbody>\n",
       "</table>\n",
       "</div>"
      ],
      "text/plain": [
       "                        NAME  ACCOUNT_NO    METER_NO  \\\n",
       "0  HEAD MASTER KALSHI HIGH S    11313911  0000830099   \n",
       "1  HEAD MASTER KALSHI HIGH S    11313911  0000830099   \n",
       "2  HEAD MASTER KALSHI HIGH S    11313911  0000830099   \n",
       "3  HEAD MASTER KALSHI HIGH S    11313911  0000830099   \n",
       "4  HEAD MASTER KALSHI HIGH S    11313911  0000830099   \n",
       "\n",
       "                         ADDRESS  ZONE BLOCK  ROUTE  LOAD TARIFF METER_STATUS  \\\n",
       "0  11 E/DAG NO 3170 MIRPUR DHAKA  PLAF   110   10.0   2.0      D       Single   \n",
       "1  11 E/DAG NO 3170 MIRPUR DHAKA  PLAF   110   10.0   2.0      D       Single   \n",
       "2  11 E/DAG NO 3170 MIRPUR DHAKA  PLAF   110   10.0   2.0      D       Single   \n",
       "3  11 E/DAG NO 3170 MIRPUR DHAKA  PLAF   110   10.0   2.0      D       Single   \n",
       "4  11 E/DAG NO 3170 MIRPUR DHAKA  PLAF   110   10.0   2.0      D       Single   \n",
       "\n",
       "   MONTH  YEAR    UNIT  \n",
       "0      5  1999  1755.0  \n",
       "1      6  1999  1615.0  \n",
       "2      7  1999   375.0  \n",
       "3      8  1999   375.0  \n",
       "4      9  1999   350.0  "
      ]
     },
     "execution_count": 4,
     "metadata": {},
     "output_type": "execute_result"
    }
   ],
   "source": [
    "input_file = pd.read_csv(\"../pallabi.csv\")\n",
    "input_file.head()"
   ]
  },
  {
   "cell_type": "code",
   "execution_count": null,
   "metadata": {
    "collapsed": true
   },
   "outputs": [],
   "source": []
  }
 ],
 "metadata": {
  "anaconda-cloud": {},
  "kernelspec": {
   "display_name": "Python [conda root]",
   "language": "python",
   "name": "conda-root-py"
  },
  "language_info": {
   "codemirror_mode": {
    "name": "ipython",
    "version": 3
   },
   "file_extension": ".py",
   "mimetype": "text/x-python",
   "name": "python",
   "nbconvert_exporter": "python",
   "pygments_lexer": "ipython3",
   "version": "3.5.2"
  }
 },
 "nbformat": 4,
 "nbformat_minor": 1
}
